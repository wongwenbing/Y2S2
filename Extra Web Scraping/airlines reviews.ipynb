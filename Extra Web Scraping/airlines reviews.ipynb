{
 "cells": [
  {
   "cell_type": "code",
   "execution_count": 1,
   "metadata": {},
   "outputs": [],
   "source": [
    "import requests\n",
    "import pandas as pd \n",
    "import time\n",
    "import string\n",
    "\n",
    "from webdriver_manager.chrome import ChromeDriverManager\n",
    "from selenium.webdriver.chrome.service import Service\n",
    "from selenium import webdriver\n",
    "from selenium.webdriver.common.by import By "
   ]
  },
  {
   "cell_type": "code",
   "execution_count": 2,
   "metadata": {},
   "outputs": [],
   "source": [
    "driver=webdriver.Chrome()\n",
    "driver.maximize_window()\n",
    "time.sleep(3)\n",
    "url = \"https://airlinequality.com/airline-reviews/zipair\"\n",
    "driver.get(url)"
   ]
  },
  {
   "cell_type": "code",
   "execution_count": 3,
   "metadata": {},
   "outputs": [],
   "source": [
    "main = driver.find_element(By.CSS_SELECTOR,\"table.review-ratings\")"
   ]
  },
  {
   "cell_type": "code",
   "execution_count": 4,
   "metadata": {},
   "outputs": [],
   "source": [
    "rows = main.find_elements(By.TAG_NAME, 'tr')\n"
   ]
  },
  {
   "cell_type": "code",
   "execution_count": 5,
   "metadata": {},
   "outputs": [],
   "source": [
    "summary=[]"
   ]
  },
  {
   "cell_type": "code",
   "execution_count": 6,
   "metadata": {},
   "outputs": [
    {
     "name": "stdout",
     "output_type": "stream",
     "text": [
      "Food & Beverages\n",
      "Inflight Entertainment\n",
      "Seat Comfort\n",
      "Staff Service\n",
      "Value for Money\n"
     ]
    }
   ],
   "source": [
    "for row in rows: \n",
    "    category=row.find_element(By.CLASS_NAME, 'review-rating-header').text\n",
    "    print(category)\n",
    "    stars=row.find_elements(By.TAG_NAME, 'span')\n",
    "    rating=sum(1 for star in stars if 'fill' in star.get_attribute('class'))\n",
    "    data = {\n",
    "        \"category\": category,\n",
    "        \"rating\": rating\n",
    "    }\n",
    "    summary.append(data)"
   ]
  },
  {
   "cell_type": "code",
   "execution_count": 7,
   "metadata": {},
   "outputs": [
    {
     "data": {
      "text/plain": [
       "[{'category': 'Food & Beverages', 'rating': 2},\n",
       " {'category': 'Inflight Entertainment', 'rating': 2},\n",
       " {'category': 'Seat Comfort', 'rating': 3},\n",
       " {'category': 'Staff Service', 'rating': 3},\n",
       " {'category': 'Value for Money', 'rating': 2}]"
      ]
     },
     "execution_count": 7,
     "metadata": {},
     "output_type": "execute_result"
    }
   ],
   "source": [
    "summary"
   ]
  },
  {
   "cell_type": "code",
   "execution_count": 8,
   "metadata": {},
   "outputs": [],
   "source": [
    "compiled = driver.find_element(By.CSS_SELECTOR, \"article.comp.comp_reviews-airline.querylist\")"
   ]
  },
  {
   "cell_type": "code",
   "execution_count": 9,
   "metadata": {},
   "outputs": [],
   "source": [
    "articles = compiled.find_elements(By.TAG_NAME, \"article\")"
   ]
  },
  {
   "cell_type": "code",
   "execution_count": 10,
   "metadata": {},
   "outputs": [
    {
     "name": "stdout",
     "output_type": "stream",
     "text": [
      "{'title': '\"Just very bad performance\"', 'content': \"✅ Trip Verified | My family of four arrived at the airport to find that our ZIPAIR flight to Tokyo had been delayed by 23 hours. The ZIPAIR counter was deserted, other than a sign stating the delay. We got no email or text notification of the delay. So we had to pay for a car to and from the airport (no small expense), and the hotel room we splurged on in Tokyo is non-refundable. ZIPAIR has an option to cancel your reservation, but it doesn't look like they'll pay these non-refundable hotel and transit expenses. Getting someone on the phone is impossible. Non a classy or responsible approach. We saw there was an extra charge for an enhanced customer service. Does that mean they'll only inform passengers of a delay or cancellation if you pay an extra fee? Very bad! Just very bad performance, to delay by a day and not let us know until we arrive at the airport to a deserted counter.\", 'reviews': [{'category': 'Type Of Traveller', 'content': 'Family Leisure'}, {'category': 'Seat Type', 'content': 'Economy Class'}, {'category': 'Route', 'content': 'Honolulu to Tokyo'}, {'category': 'Date Flown', 'content': 'October 2024'}, {'category': 'Seat Comfort', 'rating': 3}, {'category': 'Cabin Staff Service', 'rating': 3}, {'category': 'Food & Beverages', 'rating': 3}, {'category': 'Inflight Entertainment', 'rating': 3}, {'category': 'Ground Service', 'rating': 1}, {'category': 'Wifi & Connectivity', 'rating': 4}, {'category': 'Value For Money', 'rating': 1}, {'category': 'Recommended', 'content': 'no'}]}\n",
      "{'title': '“trip was pleasant in general”', 'content': '✅ Trip Verified | The booking was easy via Zipair website, reasonable price and good flight time. The trip was pleasant in general, the plane is clean, new, upgraded, the staff were very friendly and polite and flight was on time. But need to be more clear about - the low price comes from not providing anything in return! Like things are granted on other long flights (10 hours +) for example a screen to watch movies, games, tv show - this is unavailable on zipair (there is WiFi to use on your own devices it’s not that strong anyway). Other things are unavailable, blankets, no free non alcohol drinks even water! I don’t need to say food or snacks. That’s all needed to be mentioned clearly, on their website to be prepared ahead. There are a few items available for purchase - honestly the food could not be worse (they bring it, in small carton box + water bottle, that’s it no tray no bread & butter no dessert!) Otherwise..all good, just needed to add these information and details, make a plan to enjoy the trip.', 'reviews': [{'category': 'Type Of Traveller', 'content': 'Family Leisure'}, {'category': 'Seat Type', 'content': 'Economy Class'}, {'category': 'Route', 'content': 'San Jose US to Tokyo Japan'}, {'category': 'Date Flown', 'content': 'July 2024'}, {'category': 'Seat Comfort', 'rating': 3}, {'category': 'Cabin Staff Service', 'rating': 5}, {'category': 'Food & Beverages', 'rating': 1}, {'category': 'Inflight Entertainment', 'rating': 1}, {'category': 'Ground Service', 'rating': 5}, {'category': 'Wifi & Connectivity', 'rating': 3}, {'category': 'Value For Money', 'rating': 4}, {'category': 'Recommended', 'content': 'yes'}]}\n",
      "{'title': '\"unaccommodating staff\"', 'content': '✅ Trip Verified | It was a very rough journey with Zipair. Overall services including 2 hour delays, very strict and unaccommodating staff on board, not so friendly when ask for something. The air raft was so suffocating and unpleasant to breath. It is budget airline but I think you can do better than this. At least have a friendlier and accommodating staff.', 'reviews': [{'category': 'Type Of Traveller', 'content': 'Solo Leisure'}, {'category': 'Seat Type', 'content': 'Economy Class'}, {'category': 'Route', 'content': 'Los Angeles to Tokyo'}, {'category': 'Date Flown', 'content': 'September 2024'}, {'category': 'Seat Comfort', 'rating': 1}, {'category': 'Cabin Staff Service', 'rating': 1}, {'category': 'Food & Beverages', 'rating': 2}, {'category': 'Inflight Entertainment', 'rating': 1}, {'category': 'Ground Service', 'rating': 1}, {'category': 'Wifi & Connectivity', 'rating': 1}, {'category': 'Value For Money', 'rating': 2}, {'category': 'Recommended', 'content': 'no'}]}\n",
      "{'title': '\"you get what you paid for\"', 'content': '✅ Trip Verified |   Is a basic service and you get what you paid for, and the grouns staff service is worst. Be aware that every single move you do would be charged sometimes with no sense. After paid some extra services extra luggage for no reason as you are only limited to 7 kilos hand luggage. I requested a receipt that I was denied on the gate escalating to a bigger issue with the ground staff.', 'reviews': [{'category': 'Aircraft', 'content': 'Boeing 787'}, {'category': 'Type Of Traveller', 'content': 'Business'}, {'category': 'Seat Type', 'content': 'Economy Class'}, {'category': 'Route', 'content': 'Narita to Manila'}, {'category': 'Date Flown', 'content': 'August 2024'}, {'category': 'Seat Comfort', 'rating': 3}, {'category': 'Cabin Staff Service', 'rating': 1}, {'category': 'Ground Service', 'rating': 1}, {'category': 'Value For Money', 'rating': 1}, {'category': 'Recommended', 'content': 'no'}]}\n",
      "{'title': '“Very bad customer service”', 'content': '✅ Trip Verified | I lost $700 because they refused to rebook me on another flight. Very bad customer service and airline. You will end up losing money if you choose to fly with them. This airline closed the door an hour before the flight is scheduled to take off which caused me to miss my flight. There was no one to help at the airport considering it was later in the day. Nobody is willing to help on the phone.', 'reviews': [{'category': 'Type Of Traveller', 'content': 'Solo Leisure'}, {'category': 'Seat Type', 'content': 'Economy Class'}, {'category': 'Route', 'content': 'Tokyo to San Francisco'}, {'category': 'Date Flown', 'content': 'August 2024'}, {'category': 'Seat Comfort', 'rating': 1}, {'category': 'Cabin Staff Service', 'rating': 1}, {'category': 'Food & Beverages', 'rating': 1}, {'category': 'Inflight Entertainment', 'rating': 1}, {'category': 'Ground Service', 'rating': 1}, {'category': 'Wifi & Connectivity', 'rating': 1}, {'category': 'Value For Money', 'rating': 1}, {'category': 'Recommended', 'content': 'no'}]}\n",
      "{'title': '\"I was pleasantly surprised\"', 'content': 'Not Verified |   I was pleasantly surprised with Zipair. The check-in process was smooth but as stated do arrive 3 hours early, because they do check the weight of your bag and your carry-on they are very strict with the weight. Zipair flights were a bit delayed but not by much less than 30 minutes. If you are flying out of LAX, LAX traffic sucks so be prepared, Park in the LAX economy lot and take a shuttle. The only 2 negatives are the entertainment is on your phone and the movie selection and music selection is very limited (The movies are from 2022). So download your own movies to your phone. If you get the standard package, food and baggage does come with your purchase. With buying food (You do this when you buy your tickets online) was very confusing because they stated it was free but when you went on the website there was a yen amount. On our flight from LAX to Narita. We did not even get food even though we thought we got it. Unless you get the standard package, you cannot select your seats. Like other airlines when there is an international flight throughout the flight, you will get snacks/water for free. Not on this airline. You must purchase it so recommend bringing a water bottle or at the airport eating a meal before boarding. The seats had standard legroom.', 'reviews': [{'category': 'Type Of Traveller', 'content': 'Family Leisure'}, {'category': 'Seat Type', 'content': 'Economy Class'}, {'category': 'Route', 'content': 'Tokyo Narita to Los Angeles'}, {'category': 'Date Flown', 'content': 'August 2024'}, {'category': 'Seat Comfort', 'rating': 3}, {'category': 'Cabin Staff Service', 'rating': 3}, {'category': 'Food & Beverages', 'rating': 3}, {'category': 'Inflight Entertainment', 'rating': 2}, {'category': 'Ground Service', 'rating': 4}, {'category': 'Wifi & Connectivity', 'rating': 3}, {'category': 'Value For Money', 'rating': 4}, {'category': 'Recommended', 'content': 'yes'}]}\n",
      "{'title': '\"No response and no action\"', 'content': '✅ Trip Verified |   No response and no action after two days flight cancellation The flight was cancelled by weather condition on Aug 16. There is no phone number avalible to contact, and only an email address. Have sent several emails in following two days, there is no response at all. Only can find Refund botton from my account in website.', 'reviews': [{'category': 'Type Of Traveller', 'content': 'Family Leisure'}, {'category': 'Seat Type', 'content': 'Business Class'}, {'category': 'Route', 'content': 'Tokyo to Vancouer'}, {'category': 'Date Flown', 'content': 'August 2024'}, {'category': 'Value For Money', 'rating': 2}, {'category': 'Recommended', 'content': 'no'}]}\n",
      "{'title': '\"felt totally betrayed by ZIPAIR\"', 'content': '✅ Trip Verified | My husband and me bought First Class ticket and they didnt give us a glass of water for free. You have to pay everything on the plane, even the pillow and hearphones. The wifi connectivity didnt work because the flight was completly full of passengers so we didnt get access to entertainment and they dont have screen tv in the plane, not even in first class seats. No food and no drinks included in the first class ticket, not even if we paid 3 times the price of economy ticket. ZIPAIR IS THE WORST COMPANY OF THE WORLD. Not even a glass of water in First class. They do not inform of this conditions when you buy the first class ticket so we felt totally betrayed by ZIPAIR.', 'reviews': [{'category': 'Type Of Traveller', 'content': 'Couple Leisure'}, {'category': 'Seat Type', 'content': 'Business Class'}, {'category': 'Route', 'content': 'Tokyo to Singapore'}, {'category': 'Date Flown', 'content': 'August 2024'}, {'category': 'Seat Comfort', 'rating': 1}, {'category': 'Cabin Staff Service', 'rating': 1}, {'category': 'Food & Beverages', 'rating': 1}, {'category': 'Inflight Entertainment', 'rating': 1}, {'category': 'Ground Service', 'rating': 1}, {'category': 'Wifi & Connectivity', 'rating': 1}, {'category': 'Value For Money', 'rating': 1}, {'category': 'Recommended', 'content': 'no'}]}\n",
      "{'title': '\"carry-on was exceeding 7kg\"', 'content': '✅ Trip Verified | Terrible service. My carry-on was exceeding 7kg. They forced me to check my bag in for double said price and carry all my electronic loose without a bag (laptop, cameraS, batteries, drone, remotes etc). Even though seats are empty they will force you to sit separate from your partner unless you pay extra.', 'reviews': [{'category': 'Type Of Traveller', 'content': 'Couple Leisure'}, {'category': 'Seat Type', 'content': 'Economy Class'}, {'category': 'Route', 'content': 'Tokyo to Bangkok'}, {'category': 'Date Flown', 'content': 'August 2024'}, {'category': 'Seat Comfort', 'rating': 4}, {'category': 'Cabin Staff Service', 'rating': 4}, {'category': 'Food & Beverages', 'rating': 1}, {'category': 'Inflight Entertainment', 'rating': 1}, {'category': 'Ground Service', 'rating': 1}, {'category': 'Value For Money', 'rating': 2}, {'category': 'Recommended', 'content': 'no'}]}\n",
      "{'title': '\"For the price point there is no better airline\"', 'content': \"✅ Trip Verified | For the price and quality of service there is no better LCC than Zip Air. I went in with the lowest of expectations and safe to say Zip Air exceeded all of them. The cost: It cost us 70% less for a family of 4 (at the time of our booking) to fly Zip Air than the 3 major carriers who fly from Tokyo to Vancouver. The service: Onboard staff were efficient and ready to help when needed; they came around often to collect rubbish and they were always smiling and helpful. 3) When things go wrong: My wife left her air pods on the plane and thought she'd never get them back. I wrote an email to Zip Air customer service and had an answer that day that they had found them. We picked them up on our return journey. The plane and seat: Relatively newish Boeing 787's and seats are brand new. Recline is OK. We were comfortable and thought for an LCC these were great. I’m 5’10 and had plenty of legroom. Food/Drink: We opted to bring our own and made sure to buy plenty of water after we cleared customs so can’t comment here. AV: We all had our own iPad’s/Headphones etc. so can’t comment here. In closing, if you read the terms and conditions of the carrier, understand that there is no food/drink unless you purchase it you really can’t go wrong booking Zip Air. For the price point there is no better airline in my opinion. Other LCC’s should take note.\", 'reviews': [{'category': 'Aircraft', 'content': 'Boeing 787-8'}, {'category': 'Type Of Traveller', 'content': 'Family Leisure'}, {'category': 'Seat Type', 'content': 'Economy Class'}, {'category': 'Route', 'content': 'Tokyo to Vancouver'}, {'category': 'Date Flown', 'content': 'August 2024'}, {'category': 'Seat Comfort', 'rating': 4}, {'category': 'Cabin Staff Service', 'rating': 5}, {'category': 'Ground Service', 'rating': 5}, {'category': 'Value For Money', 'rating': 5}, {'category': 'Recommended', 'content': 'yes'}]}\n"
     ]
    }
   ],
   "source": [
    "custs = []\n",
    "for article in articles: \n",
    "    title = article.find_element(By.CSS_SELECTOR, \"h2.text_header\").text\n",
    "    # print(title)\n",
    "    txt = article.find_element(By.CSS_SELECTOR, \"div.text_content\").text\n",
    "    # print(content)\n",
    "    #ratings\n",
    "    table = article.find_element(By.TAG_NAME, \"table\")\n",
    "    rows = table.find_elements(By.TAG_NAME, 'tr')\n",
    "    review=[]\n",
    "    for row in rows: \n",
    "        try: \n",
    "            category=row.find_element(By.CLASS_NAME, 'review-rating-header').text\n",
    "            # print(category)\n",
    "            content=row.find_element(By.CLASS_NAME, 'review-value').text\n",
    "            # print(content)\n",
    "            rate={\n",
    "                'category': category,\n",
    "                'content':content\n",
    "            }\n",
    "            review.append(rate)\n",
    "        except: \n",
    "            category=row.find_element(By.CLASS_NAME, 'review-rating-header').text\n",
    "            # print(category)\n",
    "            stars=row.find_elements(By.TAG_NAME, 'span')\n",
    "            rating=sum(1 for star in stars if 'fill' in star.get_attribute('class'))\n",
    "            # print(rating)\n",
    "            rate={\n",
    "                'category': category, \n",
    "                'rating': rating\n",
    "            }\n",
    "            review.append(rate)\n",
    "    # print(review)\n",
    "    cust = {\n",
    "        'title': title, \n",
    "        'content': txt, \n",
    "        'reviews':review,\n",
    "    }\n",
    "    print(cust)\n",
    "    custs.append(cust)"
   ]
  },
  {
   "cell_type": "code",
   "execution_count": 11,
   "metadata": {},
   "outputs": [
    {
     "data": {
      "text/plain": [
       "[{'title': '\"Just very bad performance\"',\n",
       "  'content': \"✅ Trip Verified | My family of four arrived at the airport to find that our ZIPAIR flight to Tokyo had been delayed by 23 hours. The ZIPAIR counter was deserted, other than a sign stating the delay. We got no email or text notification of the delay. So we had to pay for a car to and from the airport (no small expense), and the hotel room we splurged on in Tokyo is non-refundable. ZIPAIR has an option to cancel your reservation, but it doesn't look like they'll pay these non-refundable hotel and transit expenses. Getting someone on the phone is impossible. Non a classy or responsible approach. We saw there was an extra charge for an enhanced customer service. Does that mean they'll only inform passengers of a delay or cancellation if you pay an extra fee? Very bad! Just very bad performance, to delay by a day and not let us know until we arrive at the airport to a deserted counter.\",\n",
       "  'reviews': [{'category': 'Type Of Traveller', 'content': 'Family Leisure'},\n",
       "   {'category': 'Seat Type', 'content': 'Economy Class'},\n",
       "   {'category': 'Route', 'content': 'Honolulu to Tokyo'},\n",
       "   {'category': 'Date Flown', 'content': 'October 2024'},\n",
       "   {'category': 'Seat Comfort', 'rating': 3},\n",
       "   {'category': 'Cabin Staff Service', 'rating': 3},\n",
       "   {'category': 'Food & Beverages', 'rating': 3},\n",
       "   {'category': 'Inflight Entertainment', 'rating': 3},\n",
       "   {'category': 'Ground Service', 'rating': 1},\n",
       "   {'category': 'Wifi & Connectivity', 'rating': 4},\n",
       "   {'category': 'Value For Money', 'rating': 1},\n",
       "   {'category': 'Recommended', 'content': 'no'}]},\n",
       " {'title': '“trip was pleasant in general”',\n",
       "  'content': '✅ Trip Verified | The booking was easy via Zipair website, reasonable price and good flight time. The trip was pleasant in general, the plane is clean, new, upgraded, the staff were very friendly and polite and flight was on time. But need to be more clear about - the low price comes from not providing anything in return! Like things are granted on other long flights (10 hours +) for example a screen to watch movies, games, tv show - this is unavailable on zipair (there is WiFi to use on your own devices it’s not that strong anyway). Other things are unavailable, blankets, no free non alcohol drinks even water! I don’t need to say food or snacks. That’s all needed to be mentioned clearly, on their website to be prepared ahead. There are a few items available for purchase - honestly the food could not be worse (they bring it, in small carton box + water bottle, that’s it no tray no bread & butter no dessert!) Otherwise..all good, just needed to add these information and details, make a plan to enjoy the trip.',\n",
       "  'reviews': [{'category': 'Type Of Traveller', 'content': 'Family Leisure'},\n",
       "   {'category': 'Seat Type', 'content': 'Economy Class'},\n",
       "   {'category': 'Route', 'content': 'San Jose US to Tokyo Japan'},\n",
       "   {'category': 'Date Flown', 'content': 'July 2024'},\n",
       "   {'category': 'Seat Comfort', 'rating': 3},\n",
       "   {'category': 'Cabin Staff Service', 'rating': 5},\n",
       "   {'category': 'Food & Beverages', 'rating': 1},\n",
       "   {'category': 'Inflight Entertainment', 'rating': 1},\n",
       "   {'category': 'Ground Service', 'rating': 5},\n",
       "   {'category': 'Wifi & Connectivity', 'rating': 3},\n",
       "   {'category': 'Value For Money', 'rating': 4},\n",
       "   {'category': 'Recommended', 'content': 'yes'}]},\n",
       " {'title': '\"unaccommodating staff\"',\n",
       "  'content': '✅ Trip Verified | It was a very rough journey with Zipair. Overall services including 2 hour delays, very strict and unaccommodating staff on board, not so friendly when ask for something. The air raft was so suffocating and unpleasant to breath. It is budget airline but I think you can do better than this. At least have a friendlier and accommodating staff.',\n",
       "  'reviews': [{'category': 'Type Of Traveller', 'content': 'Solo Leisure'},\n",
       "   {'category': 'Seat Type', 'content': 'Economy Class'},\n",
       "   {'category': 'Route', 'content': 'Los Angeles to Tokyo'},\n",
       "   {'category': 'Date Flown', 'content': 'September 2024'},\n",
       "   {'category': 'Seat Comfort', 'rating': 1},\n",
       "   {'category': 'Cabin Staff Service', 'rating': 1},\n",
       "   {'category': 'Food & Beverages', 'rating': 2},\n",
       "   {'category': 'Inflight Entertainment', 'rating': 1},\n",
       "   {'category': 'Ground Service', 'rating': 1},\n",
       "   {'category': 'Wifi & Connectivity', 'rating': 1},\n",
       "   {'category': 'Value For Money', 'rating': 2},\n",
       "   {'category': 'Recommended', 'content': 'no'}]},\n",
       " {'title': '\"you get what you paid for\"',\n",
       "  'content': '✅ Trip Verified |   Is a basic service and you get what you paid for, and the grouns staff service is worst. Be aware that every single move you do would be charged sometimes with no sense. After paid some extra services extra luggage for no reason as you are only limited to 7 kilos hand luggage. I requested a receipt that I was denied on the gate escalating to a bigger issue with the ground staff.',\n",
       "  'reviews': [{'category': 'Aircraft', 'content': 'Boeing 787'},\n",
       "   {'category': 'Type Of Traveller', 'content': 'Business'},\n",
       "   {'category': 'Seat Type', 'content': 'Economy Class'},\n",
       "   {'category': 'Route', 'content': 'Narita to Manila'},\n",
       "   {'category': 'Date Flown', 'content': 'August 2024'},\n",
       "   {'category': 'Seat Comfort', 'rating': 3},\n",
       "   {'category': 'Cabin Staff Service', 'rating': 1},\n",
       "   {'category': 'Ground Service', 'rating': 1},\n",
       "   {'category': 'Value For Money', 'rating': 1},\n",
       "   {'category': 'Recommended', 'content': 'no'}]},\n",
       " {'title': '“Very bad customer service”',\n",
       "  'content': '✅ Trip Verified | I lost $700 because they refused to rebook me on another flight. Very bad customer service and airline. You will end up losing money if you choose to fly with them. This airline closed the door an hour before the flight is scheduled to take off which caused me to miss my flight. There was no one to help at the airport considering it was later in the day. Nobody is willing to help on the phone.',\n",
       "  'reviews': [{'category': 'Type Of Traveller', 'content': 'Solo Leisure'},\n",
       "   {'category': 'Seat Type', 'content': 'Economy Class'},\n",
       "   {'category': 'Route', 'content': 'Tokyo to San Francisco'},\n",
       "   {'category': 'Date Flown', 'content': 'August 2024'},\n",
       "   {'category': 'Seat Comfort', 'rating': 1},\n",
       "   {'category': 'Cabin Staff Service', 'rating': 1},\n",
       "   {'category': 'Food & Beverages', 'rating': 1},\n",
       "   {'category': 'Inflight Entertainment', 'rating': 1},\n",
       "   {'category': 'Ground Service', 'rating': 1},\n",
       "   {'category': 'Wifi & Connectivity', 'rating': 1},\n",
       "   {'category': 'Value For Money', 'rating': 1},\n",
       "   {'category': 'Recommended', 'content': 'no'}]},\n",
       " {'title': '\"I was pleasantly surprised\"',\n",
       "  'content': 'Not Verified |   I was pleasantly surprised with Zipair. The check-in process was smooth but as stated do arrive 3 hours early, because they do check the weight of your bag and your carry-on they are very strict with the weight. Zipair flights were a bit delayed but not by much less than 30 minutes. If you are flying out of LAX, LAX traffic sucks so be prepared, Park in the LAX economy lot and take a shuttle. The only 2 negatives are the entertainment is on your phone and the movie selection and music selection is very limited (The movies are from 2022). So download your own movies to your phone. If you get the standard package, food and baggage does come with your purchase. With buying food (You do this when you buy your tickets online) was very confusing because they stated it was free but when you went on the website there was a yen amount. On our flight from LAX to Narita. We did not even get food even though we thought we got it. Unless you get the standard package, you cannot select your seats. Like other airlines when there is an international flight throughout the flight, you will get snacks/water for free. Not on this airline. You must purchase it so recommend bringing a water bottle or at the airport eating a meal before boarding. The seats had standard legroom.',\n",
       "  'reviews': [{'category': 'Type Of Traveller', 'content': 'Family Leisure'},\n",
       "   {'category': 'Seat Type', 'content': 'Economy Class'},\n",
       "   {'category': 'Route', 'content': 'Tokyo Narita to Los Angeles'},\n",
       "   {'category': 'Date Flown', 'content': 'August 2024'},\n",
       "   {'category': 'Seat Comfort', 'rating': 3},\n",
       "   {'category': 'Cabin Staff Service', 'rating': 3},\n",
       "   {'category': 'Food & Beverages', 'rating': 3},\n",
       "   {'category': 'Inflight Entertainment', 'rating': 2},\n",
       "   {'category': 'Ground Service', 'rating': 4},\n",
       "   {'category': 'Wifi & Connectivity', 'rating': 3},\n",
       "   {'category': 'Value For Money', 'rating': 4},\n",
       "   {'category': 'Recommended', 'content': 'yes'}]},\n",
       " {'title': '\"No response and no action\"',\n",
       "  'content': '✅ Trip Verified |   No response and no action after two days flight cancellation The flight was cancelled by weather condition on Aug 16. There is no phone number avalible to contact, and only an email address. Have sent several emails in following two days, there is no response at all. Only can find Refund botton from my account in website.',\n",
       "  'reviews': [{'category': 'Type Of Traveller', 'content': 'Family Leisure'},\n",
       "   {'category': 'Seat Type', 'content': 'Business Class'},\n",
       "   {'category': 'Route', 'content': 'Tokyo to Vancouer'},\n",
       "   {'category': 'Date Flown', 'content': 'August 2024'},\n",
       "   {'category': 'Value For Money', 'rating': 2},\n",
       "   {'category': 'Recommended', 'content': 'no'}]},\n",
       " {'title': '\"felt totally betrayed by ZIPAIR\"',\n",
       "  'content': '✅ Trip Verified | My husband and me bought First Class ticket and they didnt give us a glass of water for free. You have to pay everything on the plane, even the pillow and hearphones. The wifi connectivity didnt work because the flight was completly full of passengers so we didnt get access to entertainment and they dont have screen tv in the plane, not even in first class seats. No food and no drinks included in the first class ticket, not even if we paid 3 times the price of economy ticket. ZIPAIR IS THE WORST COMPANY OF THE WORLD. Not even a glass of water in First class. They do not inform of this conditions when you buy the first class ticket so we felt totally betrayed by ZIPAIR.',\n",
       "  'reviews': [{'category': 'Type Of Traveller', 'content': 'Couple Leisure'},\n",
       "   {'category': 'Seat Type', 'content': 'Business Class'},\n",
       "   {'category': 'Route', 'content': 'Tokyo to Singapore'},\n",
       "   {'category': 'Date Flown', 'content': 'August 2024'},\n",
       "   {'category': 'Seat Comfort', 'rating': 1},\n",
       "   {'category': 'Cabin Staff Service', 'rating': 1},\n",
       "   {'category': 'Food & Beverages', 'rating': 1},\n",
       "   {'category': 'Inflight Entertainment', 'rating': 1},\n",
       "   {'category': 'Ground Service', 'rating': 1},\n",
       "   {'category': 'Wifi & Connectivity', 'rating': 1},\n",
       "   {'category': 'Value For Money', 'rating': 1},\n",
       "   {'category': 'Recommended', 'content': 'no'}]},\n",
       " {'title': '\"carry-on was exceeding 7kg\"',\n",
       "  'content': '✅ Trip Verified | Terrible service. My carry-on was exceeding 7kg. They forced me to check my bag in for double said price and carry all my electronic loose without a bag (laptop, cameraS, batteries, drone, remotes etc). Even though seats are empty they will force you to sit separate from your partner unless you pay extra.',\n",
       "  'reviews': [{'category': 'Type Of Traveller', 'content': 'Couple Leisure'},\n",
       "   {'category': 'Seat Type', 'content': 'Economy Class'},\n",
       "   {'category': 'Route', 'content': 'Tokyo to Bangkok'},\n",
       "   {'category': 'Date Flown', 'content': 'August 2024'},\n",
       "   {'category': 'Seat Comfort', 'rating': 4},\n",
       "   {'category': 'Cabin Staff Service', 'rating': 4},\n",
       "   {'category': 'Food & Beverages', 'rating': 1},\n",
       "   {'category': 'Inflight Entertainment', 'rating': 1},\n",
       "   {'category': 'Ground Service', 'rating': 1},\n",
       "   {'category': 'Value For Money', 'rating': 2},\n",
       "   {'category': 'Recommended', 'content': 'no'}]},\n",
       " {'title': '\"For the price point there is no better airline\"',\n",
       "  'content': \"✅ Trip Verified | For the price and quality of service there is no better LCC than Zip Air. I went in with the lowest of expectations and safe to say Zip Air exceeded all of them. The cost: It cost us 70% less for a family of 4 (at the time of our booking) to fly Zip Air than the 3 major carriers who fly from Tokyo to Vancouver. The service: Onboard staff were efficient and ready to help when needed; they came around often to collect rubbish and they were always smiling and helpful. 3) When things go wrong: My wife left her air pods on the plane and thought she'd never get them back. I wrote an email to Zip Air customer service and had an answer that day that they had found them. We picked them up on our return journey. The plane and seat: Relatively newish Boeing 787's and seats are brand new. Recline is OK. We were comfortable and thought for an LCC these were great. I’m 5’10 and had plenty of legroom. Food/Drink: We opted to bring our own and made sure to buy plenty of water after we cleared customs so can’t comment here. AV: We all had our own iPad’s/Headphones etc. so can’t comment here. In closing, if you read the terms and conditions of the carrier, understand that there is no food/drink unless you purchase it you really can’t go wrong booking Zip Air. For the price point there is no better airline in my opinion. Other LCC’s should take note.\",\n",
       "  'reviews': [{'category': 'Aircraft', 'content': 'Boeing 787-8'},\n",
       "   {'category': 'Type Of Traveller', 'content': 'Family Leisure'},\n",
       "   {'category': 'Seat Type', 'content': 'Economy Class'},\n",
       "   {'category': 'Route', 'content': 'Tokyo to Vancouver'},\n",
       "   {'category': 'Date Flown', 'content': 'August 2024'},\n",
       "   {'category': 'Seat Comfort', 'rating': 4},\n",
       "   {'category': 'Cabin Staff Service', 'rating': 5},\n",
       "   {'category': 'Ground Service', 'rating': 5},\n",
       "   {'category': 'Value For Money', 'rating': 5},\n",
       "   {'category': 'Recommended', 'content': 'yes'}]}]"
      ]
     },
     "execution_count": 11,
     "metadata": {},
     "output_type": "execute_result"
    }
   ],
   "source": [
    "custs"
   ]
  },
  {
   "cell_type": "code",
   "execution_count": 12,
   "metadata": {},
   "outputs": [],
   "source": [
    "custs = pd.DataFrame(custs)"
   ]
  },
  {
   "cell_type": "code",
   "execution_count": 13,
   "metadata": {},
   "outputs": [
    {
     "data": {
      "text/html": [
       "<div>\n",
       "<style scoped>\n",
       "    .dataframe tbody tr th:only-of-type {\n",
       "        vertical-align: middle;\n",
       "    }\n",
       "\n",
       "    .dataframe tbody tr th {\n",
       "        vertical-align: top;\n",
       "    }\n",
       "\n",
       "    .dataframe thead th {\n",
       "        text-align: right;\n",
       "    }\n",
       "</style>\n",
       "<table border=\"1\" class=\"dataframe\">\n",
       "  <thead>\n",
       "    <tr style=\"text-align: right;\">\n",
       "      <th></th>\n",
       "      <th>title</th>\n",
       "      <th>content</th>\n",
       "      <th>reviews</th>\n",
       "    </tr>\n",
       "  </thead>\n",
       "  <tbody>\n",
       "    <tr>\n",
       "      <th>0</th>\n",
       "      <td>\"Just very bad performance\"</td>\n",
       "      <td>✅ Trip Verified | My family of four arrived at...</td>\n",
       "      <td>[{'category': 'Type Of Traveller', 'content': ...</td>\n",
       "    </tr>\n",
       "    <tr>\n",
       "      <th>1</th>\n",
       "      <td>“trip was pleasant in general”</td>\n",
       "      <td>✅ Trip Verified | The booking was easy via Zip...</td>\n",
       "      <td>[{'category': 'Type Of Traveller', 'content': ...</td>\n",
       "    </tr>\n",
       "    <tr>\n",
       "      <th>2</th>\n",
       "      <td>\"unaccommodating staff\"</td>\n",
       "      <td>✅ Trip Verified | It was a very rough journey ...</td>\n",
       "      <td>[{'category': 'Type Of Traveller', 'content': ...</td>\n",
       "    </tr>\n",
       "    <tr>\n",
       "      <th>3</th>\n",
       "      <td>\"you get what you paid for\"</td>\n",
       "      <td>✅ Trip Verified |   Is a basic service and you...</td>\n",
       "      <td>[{'category': 'Aircraft', 'content': 'Boeing 7...</td>\n",
       "    </tr>\n",
       "    <tr>\n",
       "      <th>4</th>\n",
       "      <td>“Very bad customer service”</td>\n",
       "      <td>✅ Trip Verified | I lost $700 because they ref...</td>\n",
       "      <td>[{'category': 'Type Of Traveller', 'content': ...</td>\n",
       "    </tr>\n",
       "    <tr>\n",
       "      <th>5</th>\n",
       "      <td>\"I was pleasantly surprised\"</td>\n",
       "      <td>Not Verified |   I was pleasantly surprised wi...</td>\n",
       "      <td>[{'category': 'Type Of Traveller', 'content': ...</td>\n",
       "    </tr>\n",
       "    <tr>\n",
       "      <th>6</th>\n",
       "      <td>\"No response and no action\"</td>\n",
       "      <td>✅ Trip Verified |   No response and no action ...</td>\n",
       "      <td>[{'category': 'Type Of Traveller', 'content': ...</td>\n",
       "    </tr>\n",
       "    <tr>\n",
       "      <th>7</th>\n",
       "      <td>\"felt totally betrayed by ZIPAIR\"</td>\n",
       "      <td>✅ Trip Verified | My husband and me bought Fir...</td>\n",
       "      <td>[{'category': 'Type Of Traveller', 'content': ...</td>\n",
       "    </tr>\n",
       "    <tr>\n",
       "      <th>8</th>\n",
       "      <td>\"carry-on was exceeding 7kg\"</td>\n",
       "      <td>✅ Trip Verified | Terrible service. My carry-o...</td>\n",
       "      <td>[{'category': 'Type Of Traveller', 'content': ...</td>\n",
       "    </tr>\n",
       "    <tr>\n",
       "      <th>9</th>\n",
       "      <td>\"For the price point there is no better airline\"</td>\n",
       "      <td>✅ Trip Verified | For the price and quality of...</td>\n",
       "      <td>[{'category': 'Aircraft', 'content': 'Boeing 7...</td>\n",
       "    </tr>\n",
       "  </tbody>\n",
       "</table>\n",
       "</div>"
      ],
      "text/plain": [
       "                                              title  \\\n",
       "0                       \"Just very bad performance\"   \n",
       "1                    “trip was pleasant in general”   \n",
       "2                           \"unaccommodating staff\"   \n",
       "3                       \"you get what you paid for\"   \n",
       "4                       “Very bad customer service”   \n",
       "5                      \"I was pleasantly surprised\"   \n",
       "6                       \"No response and no action\"   \n",
       "7                 \"felt totally betrayed by ZIPAIR\"   \n",
       "8                      \"carry-on was exceeding 7kg\"   \n",
       "9  \"For the price point there is no better airline\"   \n",
       "\n",
       "                                             content  \\\n",
       "0  ✅ Trip Verified | My family of four arrived at...   \n",
       "1  ✅ Trip Verified | The booking was easy via Zip...   \n",
       "2  ✅ Trip Verified | It was a very rough journey ...   \n",
       "3  ✅ Trip Verified |   Is a basic service and you...   \n",
       "4  ✅ Trip Verified | I lost $700 because they ref...   \n",
       "5  Not Verified |   I was pleasantly surprised wi...   \n",
       "6  ✅ Trip Verified |   No response and no action ...   \n",
       "7  ✅ Trip Verified | My husband and me bought Fir...   \n",
       "8  ✅ Trip Verified | Terrible service. My carry-o...   \n",
       "9  ✅ Trip Verified | For the price and quality of...   \n",
       "\n",
       "                                             reviews  \n",
       "0  [{'category': 'Type Of Traveller', 'content': ...  \n",
       "1  [{'category': 'Type Of Traveller', 'content': ...  \n",
       "2  [{'category': 'Type Of Traveller', 'content': ...  \n",
       "3  [{'category': 'Aircraft', 'content': 'Boeing 7...  \n",
       "4  [{'category': 'Type Of Traveller', 'content': ...  \n",
       "5  [{'category': 'Type Of Traveller', 'content': ...  \n",
       "6  [{'category': 'Type Of Traveller', 'content': ...  \n",
       "7  [{'category': 'Type Of Traveller', 'content': ...  \n",
       "8  [{'category': 'Type Of Traveller', 'content': ...  \n",
       "9  [{'category': 'Aircraft', 'content': 'Boeing 7...  "
      ]
     },
     "execution_count": 13,
     "metadata": {},
     "output_type": "execute_result"
    }
   ],
   "source": [
    "custs"
   ]
  },
  {
   "cell_type": "code",
   "execution_count": 14,
   "metadata": {},
   "outputs": [],
   "source": [
    "custs.to_csv(\"cust.csv\")"
   ]
  }
 ],
 "metadata": {
  "kernelspec": {
   "display_name": "Python 3",
   "language": "python",
   "name": "python3"
  },
  "language_info": {
   "codemirror_mode": {
    "name": "ipython",
    "version": 3
   },
   "file_extension": ".py",
   "mimetype": "text/x-python",
   "name": "python",
   "nbconvert_exporter": "python",
   "pygments_lexer": "ipython3",
   "version": "3.11.0"
  },
  "orig_nbformat": 4
 },
 "nbformat": 4,
 "nbformat_minor": 2
}

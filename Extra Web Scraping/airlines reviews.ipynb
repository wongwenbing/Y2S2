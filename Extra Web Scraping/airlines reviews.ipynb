{
 "cells": [
  {
   "cell_type": "code",
   "execution_count": 1,
   "metadata": {},
   "outputs": [],
   "source": [
    "import requests\n",
    "import pandas as pd \n",
    "import time\n",
    "import string\n",
    "\n",
    "from webdriver_manager.chrome import ChromeDriverManager\n",
    "from selenium.webdriver.chrome.service import Service\n",
    "from selenium import webdriver\n",
    "from selenium.webdriver.common.by import By "
   ]
  },
  {
   "cell_type": "code",
   "execution_count": 2,
   "metadata": {},
   "outputs": [],
   "source": [
    "driver=webdriver.Chrome()\n",
    "driver.maximize_window()\n",
    "time.sleep(3)\n",
    "url = \"https://airlinequality.com/airline-reviews/zipair\"\n",
    "driver.get(url)"
   ]
  },
  {
   "cell_type": "code",
   "execution_count": 3,
   "metadata": {},
   "outputs": [],
   "source": [
    "main = driver.find_element(By.CSS_SELECTOR,\"table.review-ratings\")"
   ]
  },
  {
   "cell_type": "code",
   "execution_count": 4,
   "metadata": {},
   "outputs": [],
   "source": [
    "rows = main.find_elements(By.TAG_NAME, 'tr')\n"
   ]
  },
  {
   "cell_type": "code",
   "execution_count": 5,
   "metadata": {},
   "outputs": [],
   "source": [
    "summary=[]"
   ]
  },
  {
   "cell_type": "code",
   "execution_count": 6,
   "metadata": {},
   "outputs": [
    {
     "name": "stdout",
     "output_type": "stream",
     "text": [
      "Food & Beverages\n",
      "Inflight Entertainment\n",
      "Seat Comfort\n",
      "Staff Service\n",
      "Value for Money\n"
     ]
    }
   ],
   "source": [
    "for row in rows: \n",
    "    category=row.find_element(By.CLASS_NAME, 'review-rating-header').text\n",
    "    print(category)\n",
    "    stars=row.find_elements(By.TAG_NAME, 'span')\n",
    "    rating=sum(1 for star in stars if 'fill' in star.get_attribute('class'))\n",
    "    data = {\n",
    "        \"category\": category,\n",
    "        \"rating\": rating\n",
    "    }\n",
    "    summary.append(data)"
   ]
  },
  {
   "cell_type": "code",
   "execution_count": 7,
   "metadata": {},
   "outputs": [
    {
     "data": {
      "text/plain": [
       "[{'category': 'Food & Beverages', 'rating': 2},\n",
       " {'category': 'Inflight Entertainment', 'rating': 2},\n",
       " {'category': 'Seat Comfort', 'rating': 3},\n",
       " {'category': 'Staff Service', 'rating': 3},\n",
       " {'category': 'Value for Money', 'rating': 2}]"
      ]
     },
     "execution_count": 7,
     "metadata": {},
     "output_type": "execute_result"
    }
   ],
   "source": [
    "summary"
   ]
  },
  {
   "cell_type": "code",
   "execution_count": 8,
   "metadata": {},
   "outputs": [],
   "source": [
    "compiled = driver.find_element(By.CSS_SELECTOR, \"article.comp.comp_reviews-airline.querylist\")"
   ]
  },
  {
   "cell_type": "code",
   "execution_count": 9,
   "metadata": {},
   "outputs": [],
   "source": [
    "articles = compiled.find_elements(By.TAG_NAME, \"article\")"
   ]
  },
  {
   "cell_type": "code",
   "execution_count": 10,
   "metadata": {},
   "outputs": [
    {
     "name": "stdout",
     "output_type": "stream",
     "text": [
      "{'title': '\"Everything costs extra\"', 'content': '✅ Trip Verified | Hands down the worst airline I’ve ever flown with. This is the greyhound of the skies. Everything costs extra and I mean everything. You can’t choose your seat and even if the flight is half empty you won’t be able to move couple of seats over without them wanting to charge you. Do your due diligence and you will find better deals.', 'category': 'Recommended', 'rating': 1}\n",
      "{'title': '\"no food on board served for free\"', 'content': '✅ Trip Verified | The price of the fare was very reasonable and affordable but there was no food on board served for free unless you ordered and paid for it, also there was no entertainment screen to watch movies.', 'category': 'Recommended', 'rating': 3}\n",
      "{'title': '\"offloaded me from the flight\"', 'content': '✅ Trip Verified | Staff are not helpful at all. My flight was at 4.40pm and I have checked in online and arrived at the airport at 3.45pm, my mistake was I should have gone straight to the security check but instead I went to speak with the counter staff and asked if it was still alright to go ahead. They spent 10 minutes discussing and then counter staff asked for my passport and I thought they were helping me out but instead they told me they have offloaded me from the flight. I could have still made it for the flight given boarding was from 410pm, but instead they wasted my time and choose to take me off the flight and then offered no assistance or help on what the next flight is. Very disappointed with their service.', 'category': 'Recommended', 'rating': 3}\n",
      "{'title': '“Flight is more affordable,\"', 'content': \"Not Verified | Horrible customer service by main stewardess. Won’t listen, doesn't speak english clearly. Not helpful. We asked her upon boarding if we were sitting together, she rushed us to sit, rather than explain our seating arrangement. I asked for some warm water to drink some medicine and she said she could not give me hot water because people can burn themselves, however I could order hot tea. This makes no sense. Flight is more affordable, but this lady's attitude ruins it.\", 'category': 'Recommended', 'rating': 3}\n",
      "{'title': '\"Just very bad performance\"', 'content': \"✅ Trip Verified | My family of four arrived at the airport to find that our ZIPAIR flight to Tokyo had been delayed by 23 hours. The ZIPAIR counter was deserted, other than a sign stating the delay. We got no email or text notification of the delay. So we had to pay for a car to and from the airport (no small expense), and the hotel room we splurged on in Tokyo is non-refundable. ZIPAIR has an option to cancel your reservation, but it doesn't look like they'll pay these non-refundable hotel and transit expenses. Getting someone on the phone is impossible. Non a classy or responsible approach. We saw there was an extra charge for an enhanced customer service. Does that mean they'll only inform passengers of a delay or cancellation if you pay an extra fee? Very bad! Just very bad performance, to delay by a day and not let us know until we arrive at the airport to a deserted counter.\", 'category': 'Recommended', 'rating': 1}\n",
      "{'title': '“trip was pleasant in general”', 'content': '✅ Trip Verified | The booking was easy via Zipair website, reasonable price and good flight time. The trip was pleasant in general, the plane is clean, new, upgraded, the staff were very friendly and polite and flight was on time. But need to be more clear about - the low price comes from not providing anything in return! Like things are granted on other long flights (10 hours +) for example a screen to watch movies, games, tv show - this is unavailable on zipair (there is WiFi to use on your own devices it’s not that strong anyway). Other things are unavailable, blankets, no free non alcohol drinks even water! I don’t need to say food or snacks. That’s all needed to be mentioned clearly, on their website to be prepared ahead. There are a few items available for purchase - honestly the food could not be worse (they bring it, in small carton box + water bottle, that’s it no tray no bread & butter no dessert!) Otherwise..all good, just needed to add these information and details, make a plan to enjoy the trip.', 'category': 'Recommended', 'rating': 4}\n",
      "{'title': '\"unaccommodating staff\"', 'content': '✅ Trip Verified | It was a very rough journey with Zipair. Overall services including 2 hour delays, very strict and unaccommodating staff on board, not so friendly when ask for something. The air raft was so suffocating and unpleasant to breath. It is budget airline but I think you can do better than this. At least have a friendlier and accommodating staff.', 'category': 'Recommended', 'rating': 2}\n",
      "{'title': '\"you get what you paid for\"', 'content': '✅ Trip Verified |   Is a basic service and you get what you paid for, and the grouns staff service is worst. Be aware that every single move you do would be charged sometimes with no sense. After paid some extra services extra luggage for no reason as you are only limited to 7 kilos hand luggage. I requested a receipt that I was denied on the gate escalating to a bigger issue with the ground staff.', 'category': 'Recommended', 'rating': 1}\n",
      "{'title': '“Very bad customer service”', 'content': '✅ Trip Verified | I lost $700 because they refused to rebook me on another flight. Very bad customer service and airline. You will end up losing money if you choose to fly with them. This airline closed the door an hour before the flight is scheduled to take off which caused me to miss my flight. There was no one to help at the airport considering it was later in the day. Nobody is willing to help on the phone.', 'category': 'Recommended', 'rating': 1}\n",
      "{'title': '\"I was pleasantly surprised\"', 'content': 'Not Verified |   I was pleasantly surprised with Zipair. The check-in process was smooth but as stated do arrive 3 hours early, because they do check the weight of your bag and your carry-on they are very strict with the weight. Zipair flights were a bit delayed but not by much less than 30 minutes. If you are flying out of LAX, LAX traffic sucks so be prepared, Park in the LAX economy lot and take a shuttle. The only 2 negatives are the entertainment is on your phone and the movie selection and music selection is very limited (The movies are from 2022). So download your own movies to your phone. If you get the standard package, food and baggage does come with your purchase. With buying food (You do this when you buy your tickets online) was very confusing because they stated it was free but when you went on the website there was a yen amount. On our flight from LAX to Narita. We did not even get food even though we thought we got it. Unless you get the standard package, you cannot select your seats. Like other airlines when there is an international flight throughout the flight, you will get snacks/water for free. Not on this airline. You must purchase it so recommend bringing a water bottle or at the airport eating a meal before boarding. The seats had standard legroom.', 'category': 'Recommended', 'rating': 4}\n"
     ]
    }
   ],
   "source": [
    "custs = []\n",
    "for article in articles: \n",
    "    title = article.find_element(By.CSS_SELECTOR, \"h2.text_header\").text\n",
    "    # print(title)\n",
    "    txt = article.find_element(By.CSS_SELECTOR, \"div.text_content\").text\n",
    "    # print(content)\n",
    "    #ratings\n",
    "    table = article.find_element(By.TAG_NAME, \"table\")\n",
    "    rows = table.find_elements(By.TAG_NAME, 'tr')\n",
    "    review=[]\n",
    "    for row in rows: \n",
    "        try: \n",
    "            category=row.find_element(By.CLASS_NAME, 'review-rating-header').text\n",
    "            # print(category)\n",
    "            content=row.find_element(By.CLASS_NAME, 'review-value').text\n",
    "            # print(content)\n",
    "            rate={\n",
    "                'category': category,\n",
    "                'content':content\n",
    "            }\n",
    "            review.append(rate)\n",
    "        except: \n",
    "            category=row.find_element(By.CLASS_NAME, 'review-rating-header').text\n",
    "            # print(category)\n",
    "            stars=row.find_elements(By.TAG_NAME, 'span')\n",
    "            rating=sum(1 for star in stars if 'fill' in star.get_attribute('class'))\n",
    "            # print(rating)\n",
    "            rate={\n",
    "                'category': category, \n",
    "                'rating': rating\n",
    "            }\n",
    "            review.append(rate)\n",
    "    # print(review)\n",
    "    cust = {\n",
    "        'title': title, \n",
    "        'content': txt, \n",
    "        'category':category,\n",
    "        'rating': rating\n",
    "    }\n",
    "    print(cust)\n",
    "    custs.append(cust)"
   ]
  },
  {
   "cell_type": "code",
   "execution_count": 11,
   "metadata": {},
   "outputs": [
    {
     "data": {
      "text/plain": [
       "[{'title': '\"Everything costs extra\"',\n",
       "  'content': '✅ Trip Verified | Hands down the worst airline I’ve ever flown with. This is the greyhound of the skies. Everything costs extra and I mean everything. You can’t choose your seat and even if the flight is half empty you won’t be able to move couple of seats over without them wanting to charge you. Do your due diligence and you will find better deals.',\n",
       "  'category': 'Recommended',\n",
       "  'rating': 1},\n",
       " {'title': '\"no food on board served for free\"',\n",
       "  'content': '✅ Trip Verified | The price of the fare was very reasonable and affordable but there was no food on board served for free unless you ordered and paid for it, also there was no entertainment screen to watch movies.',\n",
       "  'category': 'Recommended',\n",
       "  'rating': 3},\n",
       " {'title': '\"offloaded me from the flight\"',\n",
       "  'content': '✅ Trip Verified | Staff are not helpful at all. My flight was at 4.40pm and I have checked in online and arrived at the airport at 3.45pm, my mistake was I should have gone straight to the security check but instead I went to speak with the counter staff and asked if it was still alright to go ahead. They spent 10 minutes discussing and then counter staff asked for my passport and I thought they were helping me out but instead they told me they have offloaded me from the flight. I could have still made it for the flight given boarding was from 410pm, but instead they wasted my time and choose to take me off the flight and then offered no assistance or help on what the next flight is. Very disappointed with their service.',\n",
       "  'category': 'Recommended',\n",
       "  'rating': 3},\n",
       " {'title': '“Flight is more affordable,\"',\n",
       "  'content': \"Not Verified | Horrible customer service by main stewardess. Won’t listen, doesn't speak english clearly. Not helpful. We asked her upon boarding if we were sitting together, she rushed us to sit, rather than explain our seating arrangement. I asked for some warm water to drink some medicine and she said she could not give me hot water because people can burn themselves, however I could order hot tea. This makes no sense. Flight is more affordable, but this lady's attitude ruins it.\",\n",
       "  'category': 'Recommended',\n",
       "  'rating': 3},\n",
       " {'title': '\"Just very bad performance\"',\n",
       "  'content': \"✅ Trip Verified | My family of four arrived at the airport to find that our ZIPAIR flight to Tokyo had been delayed by 23 hours. The ZIPAIR counter was deserted, other than a sign stating the delay. We got no email or text notification of the delay. So we had to pay for a car to and from the airport (no small expense), and the hotel room we splurged on in Tokyo is non-refundable. ZIPAIR has an option to cancel your reservation, but it doesn't look like they'll pay these non-refundable hotel and transit expenses. Getting someone on the phone is impossible. Non a classy or responsible approach. We saw there was an extra charge for an enhanced customer service. Does that mean they'll only inform passengers of a delay or cancellation if you pay an extra fee? Very bad! Just very bad performance, to delay by a day and not let us know until we arrive at the airport to a deserted counter.\",\n",
       "  'category': 'Recommended',\n",
       "  'rating': 1},\n",
       " {'title': '“trip was pleasant in general”',\n",
       "  'content': '✅ Trip Verified | The booking was easy via Zipair website, reasonable price and good flight time. The trip was pleasant in general, the plane is clean, new, upgraded, the staff were very friendly and polite and flight was on time. But need to be more clear about - the low price comes from not providing anything in return! Like things are granted on other long flights (10 hours +) for example a screen to watch movies, games, tv show - this is unavailable on zipair (there is WiFi to use on your own devices it’s not that strong anyway). Other things are unavailable, blankets, no free non alcohol drinks even water! I don’t need to say food or snacks. That’s all needed to be mentioned clearly, on their website to be prepared ahead. There are a few items available for purchase - honestly the food could not be worse (they bring it, in small carton box + water bottle, that’s it no tray no bread & butter no dessert!) Otherwise..all good, just needed to add these information and details, make a plan to enjoy the trip.',\n",
       "  'category': 'Recommended',\n",
       "  'rating': 4},\n",
       " {'title': '\"unaccommodating staff\"',\n",
       "  'content': '✅ Trip Verified | It was a very rough journey with Zipair. Overall services including 2 hour delays, very strict and unaccommodating staff on board, not so friendly when ask for something. The air raft was so suffocating and unpleasant to breath. It is budget airline but I think you can do better than this. At least have a friendlier and accommodating staff.',\n",
       "  'category': 'Recommended',\n",
       "  'rating': 2},\n",
       " {'title': '\"you get what you paid for\"',\n",
       "  'content': '✅ Trip Verified |   Is a basic service and you get what you paid for, and the grouns staff service is worst. Be aware that every single move you do would be charged sometimes with no sense. After paid some extra services extra luggage for no reason as you are only limited to 7 kilos hand luggage. I requested a receipt that I was denied on the gate escalating to a bigger issue with the ground staff.',\n",
       "  'category': 'Recommended',\n",
       "  'rating': 1},\n",
       " {'title': '“Very bad customer service”',\n",
       "  'content': '✅ Trip Verified | I lost $700 because they refused to rebook me on another flight. Very bad customer service and airline. You will end up losing money if you choose to fly with them. This airline closed the door an hour before the flight is scheduled to take off which caused me to miss my flight. There was no one to help at the airport considering it was later in the day. Nobody is willing to help on the phone.',\n",
       "  'category': 'Recommended',\n",
       "  'rating': 1},\n",
       " {'title': '\"I was pleasantly surprised\"',\n",
       "  'content': 'Not Verified |   I was pleasantly surprised with Zipair. The check-in process was smooth but as stated do arrive 3 hours early, because they do check the weight of your bag and your carry-on they are very strict with the weight. Zipair flights were a bit delayed but not by much less than 30 minutes. If you are flying out of LAX, LAX traffic sucks so be prepared, Park in the LAX economy lot and take a shuttle. The only 2 negatives are the entertainment is on your phone and the movie selection and music selection is very limited (The movies are from 2022). So download your own movies to your phone. If you get the standard package, food and baggage does come with your purchase. With buying food (You do this when you buy your tickets online) was very confusing because they stated it was free but when you went on the website there was a yen amount. On our flight from LAX to Narita. We did not even get food even though we thought we got it. Unless you get the standard package, you cannot select your seats. Like other airlines when there is an international flight throughout the flight, you will get snacks/water for free. Not on this airline. You must purchase it so recommend bringing a water bottle or at the airport eating a meal before boarding. The seats had standard legroom.',\n",
       "  'category': 'Recommended',\n",
       "  'rating': 4}]"
      ]
     },
     "execution_count": 11,
     "metadata": {},
     "output_type": "execute_result"
    }
   ],
   "source": [
    "custs"
   ]
  },
  {
   "cell_type": "code",
   "execution_count": 12,
   "metadata": {},
   "outputs": [],
   "source": [
    "custs = pd.DataFrame(custs)"
   ]
  },
  {
   "cell_type": "code",
   "execution_count": 13,
   "metadata": {},
   "outputs": [
    {
     "data": {
      "text/html": [
       "<div>\n",
       "<style scoped>\n",
       "    .dataframe tbody tr th:only-of-type {\n",
       "        vertical-align: middle;\n",
       "    }\n",
       "\n",
       "    .dataframe tbody tr th {\n",
       "        vertical-align: top;\n",
       "    }\n",
       "\n",
       "    .dataframe thead th {\n",
       "        text-align: right;\n",
       "    }\n",
       "</style>\n",
       "<table border=\"1\" class=\"dataframe\">\n",
       "  <thead>\n",
       "    <tr style=\"text-align: right;\">\n",
       "      <th></th>\n",
       "      <th>title</th>\n",
       "      <th>content</th>\n",
       "      <th>category</th>\n",
       "      <th>rating</th>\n",
       "    </tr>\n",
       "  </thead>\n",
       "  <tbody>\n",
       "    <tr>\n",
       "      <th>0</th>\n",
       "      <td>\"Everything costs extra\"</td>\n",
       "      <td>✅ Trip Verified | Hands down the worst airline...</td>\n",
       "      <td>Recommended</td>\n",
       "      <td>1</td>\n",
       "    </tr>\n",
       "    <tr>\n",
       "      <th>1</th>\n",
       "      <td>\"no food on board served for free\"</td>\n",
       "      <td>✅ Trip Verified | The price of the fare was ve...</td>\n",
       "      <td>Recommended</td>\n",
       "      <td>3</td>\n",
       "    </tr>\n",
       "    <tr>\n",
       "      <th>2</th>\n",
       "      <td>\"offloaded me from the flight\"</td>\n",
       "      <td>✅ Trip Verified | Staff are not helpful at all...</td>\n",
       "      <td>Recommended</td>\n",
       "      <td>3</td>\n",
       "    </tr>\n",
       "    <tr>\n",
       "      <th>3</th>\n",
       "      <td>“Flight is more affordable,\"</td>\n",
       "      <td>Not Verified | Horrible customer service by ma...</td>\n",
       "      <td>Recommended</td>\n",
       "      <td>3</td>\n",
       "    </tr>\n",
       "    <tr>\n",
       "      <th>4</th>\n",
       "      <td>\"Just very bad performance\"</td>\n",
       "      <td>✅ Trip Verified | My family of four arrived at...</td>\n",
       "      <td>Recommended</td>\n",
       "      <td>1</td>\n",
       "    </tr>\n",
       "    <tr>\n",
       "      <th>5</th>\n",
       "      <td>“trip was pleasant in general”</td>\n",
       "      <td>✅ Trip Verified | The booking was easy via Zip...</td>\n",
       "      <td>Recommended</td>\n",
       "      <td>4</td>\n",
       "    </tr>\n",
       "    <tr>\n",
       "      <th>6</th>\n",
       "      <td>\"unaccommodating staff\"</td>\n",
       "      <td>✅ Trip Verified | It was a very rough journey ...</td>\n",
       "      <td>Recommended</td>\n",
       "      <td>2</td>\n",
       "    </tr>\n",
       "    <tr>\n",
       "      <th>7</th>\n",
       "      <td>\"you get what you paid for\"</td>\n",
       "      <td>✅ Trip Verified |   Is a basic service and you...</td>\n",
       "      <td>Recommended</td>\n",
       "      <td>1</td>\n",
       "    </tr>\n",
       "    <tr>\n",
       "      <th>8</th>\n",
       "      <td>“Very bad customer service”</td>\n",
       "      <td>✅ Trip Verified | I lost $700 because they ref...</td>\n",
       "      <td>Recommended</td>\n",
       "      <td>1</td>\n",
       "    </tr>\n",
       "    <tr>\n",
       "      <th>9</th>\n",
       "      <td>\"I was pleasantly surprised\"</td>\n",
       "      <td>Not Verified |   I was pleasantly surprised wi...</td>\n",
       "      <td>Recommended</td>\n",
       "      <td>4</td>\n",
       "    </tr>\n",
       "  </tbody>\n",
       "</table>\n",
       "</div>"
      ],
      "text/plain": [
       "                                title  \\\n",
       "0            \"Everything costs extra\"   \n",
       "1  \"no food on board served for free\"   \n",
       "2      \"offloaded me from the flight\"   \n",
       "3        “Flight is more affordable,\"   \n",
       "4         \"Just very bad performance\"   \n",
       "5      “trip was pleasant in general”   \n",
       "6             \"unaccommodating staff\"   \n",
       "7         \"you get what you paid for\"   \n",
       "8         “Very bad customer service”   \n",
       "9        \"I was pleasantly surprised\"   \n",
       "\n",
       "                                             content     category  rating  \n",
       "0  ✅ Trip Verified | Hands down the worst airline...  Recommended       1  \n",
       "1  ✅ Trip Verified | The price of the fare was ve...  Recommended       3  \n",
       "2  ✅ Trip Verified | Staff are not helpful at all...  Recommended       3  \n",
       "3  Not Verified | Horrible customer service by ma...  Recommended       3  \n",
       "4  ✅ Trip Verified | My family of four arrived at...  Recommended       1  \n",
       "5  ✅ Trip Verified | The booking was easy via Zip...  Recommended       4  \n",
       "6  ✅ Trip Verified | It was a very rough journey ...  Recommended       2  \n",
       "7  ✅ Trip Verified |   Is a basic service and you...  Recommended       1  \n",
       "8  ✅ Trip Verified | I lost $700 because they ref...  Recommended       1  \n",
       "9  Not Verified |   I was pleasantly surprised wi...  Recommended       4  "
      ]
     },
     "execution_count": 13,
     "metadata": {},
     "output_type": "execute_result"
    }
   ],
   "source": [
    "custs"
   ]
  },
  {
   "cell_type": "code",
   "execution_count": 14,
   "metadata": {},
   "outputs": [],
   "source": [
    "custs.to_csv(\"cust.csv\")"
   ]
  }
 ],
 "metadata": {
  "kernelspec": {
   "display_name": "Python 3",
   "language": "python",
   "name": "python3"
  },
  "language_info": {
   "codemirror_mode": {
    "name": "ipython",
    "version": 3
   },
   "file_extension": ".py",
   "mimetype": "text/x-python",
   "name": "python",
   "nbconvert_exporter": "python",
   "pygments_lexer": "ipython3",
   "version": "3.11.0"
  },
  "orig_nbformat": 4
 },
 "nbformat": 4,
 "nbformat_minor": 2
}

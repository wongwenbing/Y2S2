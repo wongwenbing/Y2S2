{
 "cells": [
  {
   "cell_type": "code",
   "execution_count": 1,
   "metadata": {},
   "outputs": [],
   "source": [
    "# !pip install webdriver_manager selenium"
   ]
  },
  {
   "cell_type": "code",
   "execution_count": 1,
   "metadata": {},
   "outputs": [],
   "source": [
    "import requests\n",
    "import pandas as pd \n",
    "import time\n",
    "\n",
    "from webdriver_manager.chrome import ChromeDriverManager\n",
    "from selenium.webdriver.chrome.service import Service\n",
    "from selenium import webdriver\n",
    "from selenium.webdriver.common.by import By"
   ]
  },
  {
   "cell_type": "code",
   "execution_count": 2,
   "metadata": {},
   "outputs": [
    {
     "name": "stdout",
     "output_type": "stream",
     "text": [
      "https://www.foundit.sg/srp/results?query=Data+Analyst&locations=Singapore&experienceRanges=2%7E2&experience=2\n"
     ]
    }
   ],
   "source": [
    "def get_current_url(url,job_title, location):\n",
    "    # adjust your code if you are using Microsoft Edge web browser\n",
    "    driver=webdriver.Chrome(service=Service(ChromeDriverManager().install()))\n",
    "    driver.maximize_window()\n",
    "    time.sleep(3)\n",
    "    driver.get(url)\n",
    "    \n",
    "    time.sleep(3)\n",
    "    driver.find_element(\"xpath\", '//*[@id=\"heroSectionDesktop-skillsAutoComplete--input\"]').send_keys(job_title)\n",
    "    \n",
    "    time.sleep(3)\n",
    "    driver.find_element(\"xpath\", '//*[@id=\"heroSectionDesktop-locationAutoComplete--input\"]').send_keys(location)\n",
    "\n",
    "    time.sleep(3)\n",
    "    driver.find_element(\"xpath\", '//*[@id=\"heroSectionDesktop-expAutoComplete--input\"]').click()\n",
    "    \n",
    "    time.sleep(3)\n",
    "    driver.find_element(\"xpath\",'//*[@id=\"heroSectionDesktop-expAutoComplete\"]/div[5]/ul/li[3]').click()\n",
    "    \n",
    "    time.sleep(3)\n",
    "    driver.find_element(\"xpath\", '//*[@id=\"searchForm\"]/div/button').click()\n",
    "    \n",
    "    current_url = driver.current_url\n",
    "    driver.quit()\n",
    "\n",
    "    return current_url \n",
    "\n",
    "current_url = get_current_url('https://foundit.sg/',\"Data Analyst\",\"Singapore\" )\n",
    "print(current_url)\n"
   ]
  },
  {
   "cell_type": "code",
   "execution_count": 3,
   "metadata": {},
   "outputs": [
    {
     "name": "stdout",
     "output_type": "stream",
     "text": [
      "403\n"
     ]
    }
   ],
   "source": [
    "headers = {\n",
    "    'User-Agent': 'Mozilla/5.0 (Macintosh; Intel Mac OS X 10_11_5) '\n",
    "                  'AppleWebKit/537.36 (KHTML, like Gecko) '\n",
    "                  'Chrome/50.0.2661.102 Safari/537.36'\n",
    "}\n",
    "\n",
    "resp = requests.get(current_url)\n",
    "\n",
    "print(resp.status_code)\n"
   ]
  },
  {
   "cell_type": "code",
   "execution_count": 14,
   "metadata": {},
   "outputs": [
    {
     "data": {
      "text/html": [
       "<div>\n",
       "<style scoped>\n",
       "    .dataframe tbody tr th:only-of-type {\n",
       "        vertical-align: middle;\n",
       "    }\n",
       "\n",
       "    .dataframe tbody tr th {\n",
       "        vertical-align: top;\n",
       "    }\n",
       "\n",
       "    .dataframe thead th {\n",
       "        text-align: right;\n",
       "    }\n",
       "</style>\n",
       "<table border=\"1\" class=\"dataframe\">\n",
       "  <thead>\n",
       "    <tr style=\"text-align: right;\">\n",
       "      <th></th>\n",
       "    </tr>\n",
       "  </thead>\n",
       "  <tbody>\n",
       "  </tbody>\n",
       "</table>\n",
       "</div>"
      ],
      "text/plain": [
       "Empty DataFrame\n",
       "Columns: []\n",
       "Index: []"
      ]
     },
     "execution_count": 14,
     "metadata": {},
     "output_type": "execute_result"
    }
   ],
   "source": [
    "def scrape_job_details(url):\n",
    "    driver=webdriver.Chrome(service=Service(ChromeDriverManager().install()))\n",
    "    driver.get(url)\n",
    "    # main = driver.find(By.CLASS_NAME, 'srpContent')\n",
    "    # for contentt in main: \n",
    "    content = driver.find_elements(By.CLASS_NAME, 'srpResultCardContainer')\n",
    "    ##the current issue is that the srpContent is not showing\n",
    "    jobs_list = []   \n",
    "    for post in content:\n",
    "        try:\n",
    "            data = {\n",
    "                \"job_title\": post.find_element(By.CLASS_NAME, 'jobTitle').text,\n",
    "                \"company\": post.find_element(By.CLASS_NAME, 'companyName').text,\n",
    "                \"salary\": post.find_elements(By.CLASS_NAME, 'details')[3].text,\n",
    "                \"date\": post.find_element(By.CLASS_NAME, 'timeText').text,\n",
    "                \"experience\": post.find_elements(By.CLASS_NAME, 'details')[2].text\n",
    "            }         \n",
    "        except IndexError:\n",
    "            continue          \n",
    "        jobs_list.append(data)\n",
    "    \n",
    "    driver.quit()\n",
    "    \n",
    "    return pd.DataFrame(jobs_list)\n",
    "\n",
    "df_jobs = scrape_job_details(current_url)\n",
    "df_jobs.head()\n",
    "\n"
   ]
  },
  {
   "cell_type": "code",
   "execution_count": 6,
   "metadata": {},
   "outputs": [],
   "source": [
    "# df_jobs.to_csv('data analyst jobs.csv', index=False)"
   ]
  },
  {
   "cell_type": "code",
   "execution_count": 15,
   "metadata": {},
   "outputs": [
    {
     "data": {
      "text/html": [
       "<div>\n",
       "<style scoped>\n",
       "    .dataframe tbody tr th:only-of-type {\n",
       "        vertical-align: middle;\n",
       "    }\n",
       "\n",
       "    .dataframe tbody tr th {\n",
       "        vertical-align: top;\n",
       "    }\n",
       "\n",
       "    .dataframe thead th {\n",
       "        text-align: right;\n",
       "    }\n",
       "</style>\n",
       "<table border=\"1\" class=\"dataframe\">\n",
       "  <thead>\n",
       "    <tr style=\"text-align: right;\">\n",
       "      <th></th>\n",
       "    </tr>\n",
       "  </thead>\n",
       "  <tbody>\n",
       "  </tbody>\n",
       "</table>\n",
       "</div>"
      ],
      "text/plain": [
       "Empty DataFrame\n",
       "Columns: []\n",
       "Index: []"
      ]
     },
     "execution_count": 15,
     "metadata": {},
     "output_type": "execute_result"
    }
   ],
   "source": [
    "df_jobs"
   ]
  },
  {
   "cell_type": "code",
   "execution_count": null,
   "metadata": {},
   "outputs": [],
   "source": []
  },
  {
   "cell_type": "code",
   "execution_count": null,
   "metadata": {},
   "outputs": [],
   "source": []
  }
 ],
 "metadata": {
  "kernelspec": {
   "display_name": "Python 3",
   "language": "python",
   "name": "python3"
  },
  "language_info": {
   "codemirror_mode": {
    "name": "ipython",
    "version": 3
   },
   "file_extension": ".py",
   "mimetype": "text/x-python",
   "name": "python",
   "nbconvert_exporter": "python",
   "pygments_lexer": "ipython3",
   "version": "3.11.4"
  },
  "orig_nbformat": 4
 },
 "nbformat": 4,
 "nbformat_minor": 2
}

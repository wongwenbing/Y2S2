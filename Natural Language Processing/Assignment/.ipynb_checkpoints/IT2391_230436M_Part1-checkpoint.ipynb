{
 "cells": [
  {
   "attachments": {},
   "cell_type": "markdown",
   "metadata": {},
   "source": [
    "```Name: Wong Wen Bing```    \n",
    "```Admin #: 230436M```  \n",
    "```PEM GROUP: AA2303```\n",
    "\n",
    "# About Objective: Classifying Birds\n",
    "This is a series of jupyter notebooks aimed at using Python in conducting text classification in predicting the type of birds. \n",
    "\n",
    "In the dataset provided, there are 2 columns: description and species (4 species). This is hence a supervised learning problem due to the presence of labelled data.\n",
    "\n",
    "\n",
    "# **Part 1: Data Preparation and Understanding (1/3)** \n",
    "This part will comprise of the data understanding, data pre-processing through the cleaning the textual data. "
   ]
  },
  {
   "cell_type": "markdown",
   "metadata": {},
   "source": [
    "Installing Necessary Libraries and Importing them into the dataset"
   ]
  },
  {
   "cell_type": "code",
   "execution_count": 4,
   "metadata": {},
   "outputs": [],
   "source": [
    "# pip install pandas seaborn nltk matplotlib openpyxl"
   ]
  },
  {
   "cell_type": "code",
   "execution_count": 5,
   "metadata": {},
   "outputs": [],
   "source": [
    "# Import \n",
    "import pandas as pd\n",
    "import matplotlib.pyplot as plt\n",
    "import seaborn as sns\n",
    "import nltk\n",
    "import re\n",
    "import numpy as np\n",
    "import pickle\n",
    "from nltk.tokenize import word_tokenize\n",
    "from nltk.tokenize import MWETokenizer \n",
    "from nltk.corpus import stopwords #stopwords\n",
    "from nltk.stem.wordnet import WordNetLemmatizer #lemmatization"
   ]
  },
  {
   "cell_type": "code",
   "execution_count": 6,
   "metadata": {},
   "outputs": [],
   "source": [
    "# nltk.download('all')"
   ]
  },
  {
   "cell_type": "markdown",
   "metadata": {},
   "source": [
    "## **Section A: Reading in data and understanding data**   \n",
    "This section will briefly cover the reading and understanding of the dataset that is given currently"
   ]
  },
  {
   "cell_type": "code",
   "execution_count": 8,
   "metadata": {},
   "outputs": [],
   "source": [
    "data=pd.read_excel('Data.xlsx')"
   ]
  },
  {
   "cell_type": "code",
   "execution_count": 9,
   "metadata": {},
   "outputs": [
    {
     "name": "stdout",
     "output_type": "stream",
     "text": [
      "<class 'pandas.core.frame.DataFrame'>\n",
      "RangeIndex: 742 entries, 0 to 741\n",
      "Data columns (total 2 columns):\n",
      " #   Column       Non-Null Count  Dtype \n",
      "---  ------       --------------  ----- \n",
      " 0   description  718 non-null    object\n",
      " 1   species      742 non-null    object\n",
      "dtypes: object(2)\n",
      "memory usage: 11.7+ KB\n"
     ]
    }
   ],
   "source": [
    "data.info()"
   ]
  },
  {
   "cell_type": "code",
   "execution_count": 10,
   "metadata": {},
   "outputs": [
    {
     "data": {
      "text/html": [
       "<div>\n",
       "<style scoped>\n",
       "    .dataframe tbody tr th:only-of-type {\n",
       "        vertical-align: middle;\n",
       "    }\n",
       "\n",
       "    .dataframe tbody tr th {\n",
       "        vertical-align: top;\n",
       "    }\n",
       "\n",
       "    .dataframe thead th {\n",
       "        text-align: right;\n",
       "    }\n",
       "</style>\n",
       "<table border=\"1\" class=\"dataframe\">\n",
       "  <thead>\n",
       "    <tr style=\"text-align: right;\">\n",
       "      <th></th>\n",
       "      <th>description</th>\n",
       "      <th>species</th>\n",
       "    </tr>\n",
       "  </thead>\n",
       "  <tbody>\n",
       "    <tr>\n",
       "      <th>0</th>\n",
       "      <td>2 Jun 2023 ï¿½ The Javan myna shares some simi...</td>\n",
       "      <td>Javan Myna</td>\n",
       "    </tr>\n",
       "    <tr>\n",
       "      <th>1</th>\n",
       "      <td>Click here for more information about the Red ...</td>\n",
       "      <td>Collared Kingfisher</td>\n",
       "    </tr>\n",
       "    <tr>\n",
       "      <th>2</th>\n",
       "      <td>The black-headed oriole ( Oriolus larvatus) is...</td>\n",
       "      <td>Black-naped Oriole</td>\n",
       "    </tr>\n",
       "    <tr>\n",
       "      <th>3</th>\n",
       "      <td>Search from thousands of royalty-free \"Javan M...</td>\n",
       "      <td>Javan Myna</td>\n",
       "    </tr>\n",
       "    <tr>\n",
       "      <th>4</th>\n",
       "      <td>521 foreground recordings and 156 background ...</td>\n",
       "      <td>Little Egret</td>\n",
       "    </tr>\n",
       "  </tbody>\n",
       "</table>\n",
       "</div>"
      ],
      "text/plain": [
       "                                         description              species\n",
       "0  2 Jun 2023 ï¿½ The Javan myna shares some simi...           Javan Myna\n",
       "1  Click here for more information about the Red ...  Collared Kingfisher\n",
       "2  The black-headed oriole ( Oriolus larvatus) is...   Black-naped Oriole\n",
       "3  Search from thousands of royalty-free \"Javan M...           Javan Myna\n",
       "4   521 foreground recordings and 156 background ...         Little Egret"
      ]
     },
     "execution_count": 10,
     "metadata": {},
     "output_type": "execute_result"
    }
   ],
   "source": [
    "data.head()"
   ]
  },
  {
   "cell_type": "code",
   "execution_count": 11,
   "metadata": {},
   "outputs": [
    {
     "data": {
      "text/plain": [
       "(742, 2)"
      ]
     },
     "execution_count": 11,
     "metadata": {},
     "output_type": "execute_result"
    }
   ],
   "source": [
    "data.shape"
   ]
  },
  {
   "cell_type": "markdown",
   "metadata": {},
   "source": [
    "On initial examination of the dataset, we can observe that there are 2 columns, with a total of 742 rows. <br> \n",
    "<br> \n",
    "The column 'description' has braackets quotations and some special characters which probably needs to be removed. We can also observe that the species is the target variable."
   ]
  },
  {
   "cell_type": "code",
   "execution_count": 13,
   "metadata": {},
   "outputs": [
    {
     "data": {
      "text/plain": [
       "array(['Javan Myna', 'Collared Kingfisher', 'Black-naped Oriole',\n",
       "       'Little Egret'], dtype=object)"
      ]
     },
     "execution_count": 13,
     "metadata": {},
     "output_type": "execute_result"
    }
   ],
   "source": [
    "data['species'].unique()"
   ]
  },
  {
   "cell_type": "markdown",
   "metadata": {},
   "source": [
    "We can now infer that this classification is probably going to be a multi-class classification due to the presence of more than 2 types of species of birds. "
   ]
  },
  {
   "cell_type": "markdown",
   "metadata": {},
   "source": [
    "**Checking for null and duplicates**  \n",
    "- there might be some empty values or duplicate values that we need to check for"
   ]
  },
  {
   "cell_type": "code",
   "execution_count": 16,
   "metadata": {},
   "outputs": [
    {
     "data": {
      "text/plain": [
       "description    24\n",
       "species         0\n",
       "dtype: int64"
      ]
     },
     "execution_count": 16,
     "metadata": {},
     "output_type": "execute_result"
    }
   ],
   "source": [
    "data.isna().sum()"
   ]
  },
  {
   "cell_type": "code",
   "execution_count": 17,
   "metadata": {},
   "outputs": [
    {
     "name": "stdout",
     "output_type": "stream",
     "text": [
      "\n",
      "duplicates: 128\n",
      "\n"
     ]
    }
   ],
   "source": [
    "dup=data.duplicated().value_counts()\n",
    "print(f'''\n",
    "duplicates: {dup[True]}\n",
    "''')"
   ]
  },
  {
   "cell_type": "markdown",
   "metadata": {},
   "source": [
    "From the above output we can infer the below: \n",
    "- there are 24 null values\n",
    "- there are 128 duplicates\n",
    "\n",
    "#### **Removing null and duplicate values** \n",
    "- To ensure data integrity, null and duplicate values are removed first before conducting any further preprocess and understanding of the dataset."
   ]
  },
  {
   "cell_type": "code",
   "execution_count": 19,
   "metadata": {},
   "outputs": [
    {
     "name": "stdout",
     "output_type": "stream",
     "text": [
      "<class 'pandas.core.frame.DataFrame'>\n",
      "Index: 611 entries, 0 to 739\n",
      "Data columns (total 2 columns):\n",
      " #   Column       Non-Null Count  Dtype \n",
      "---  ------       --------------  ----- \n",
      " 0   description  611 non-null    object\n",
      " 1   species      611 non-null    object\n",
      "dtypes: object(2)\n",
      "memory usage: 14.3+ KB\n"
     ]
    }
   ],
   "source": [
    "#drop null and duplicate values\n",
    "data=data.dropna()\n",
    "data=data.drop_duplicates()\n",
    "data.info()"
   ]
  },
  {
   "cell_type": "markdown",
   "metadata": {},
   "source": [
    "## **Section B: Data Understanding** \n",
    "- To understand the distribution of data, I set out to do some visualisations to visualise the distribution of the dataset.\n",
    "\n",
    "Firstly, we did a distribution of the species (the target variable in the dataset.)"
   ]
  },
  {
   "cell_type": "code",
   "execution_count": 21,
   "metadata": {},
   "outputs": [
    {
     "data": {
      "image/png": "[encoded data removed]",
      "text/plain": [
       "<Figure size 1200x600 with 1 Axes>"
      ]
     },
     "metadata": {},
     "output_type": "display_data"
    }
   ],
   "source": [
    "group=data.groupby(['species']).count()\n",
    "plt.figure(figsize=(12, 6))  \n",
    "sns.histplot(data['species'])\n",
    "plt.title('Distribution of Species in the Dataset')\n",
    "plt.show()"
   ]
  },
  {
   "cell_type": "markdown",
   "metadata": {},
   "source": [
    "As we can see from above, we can realise that the Black-napled Oriole has the most records in the dataset. \n",
    "This means that there is an inbalance in the dataset, which needs to be taken note of. "
   ]
  },
  {
   "cell_type": "markdown",
   "metadata": {},
   "source": [
    "Now, we are going to investigate the average length of description in the dataset"
   ]
  },
  {
   "cell_type": "code",
   "execution_count": 24,
   "metadata": {},
   "outputs": [
    {
     "data": {
      "image/png": "[encoded data removed]",
      "text/plain": [
       "<Figure size 1000x500 with 1 Axes>"
      ]
     },
     "metadata": {},
     "output_type": "display_data"
    }
   ],
   "source": [
    "data['text_length'] = data['description'].apply(len)\n",
    "plt.figure(figsize=(10,5))\n",
    "sns.histplot(data['text_length'], bins=50)\n",
    "plt.title('Distribution of Text Lengths')\n",
    "plt.show()"
   ]
  },
  {
   "cell_type": "markdown",
   "metadata": {},
   "source": [
    "## **Section C: Data Pre-Processing** \n",
    "- After examining the data, we now will conduct standard pre-processing of the data. The pre-processing steps include: \n",
    "1. removing of stopwords\n",
    "2. removing special characters in word\n",
    "3. tokenizing the word\n",
    "4. lemmatize the word as well"
   ]
  },
  {
   "cell_type": "code",
   "execution_count": 26,
   "metadata": {},
   "outputs": [],
   "source": [
    "lemma=WordNetLemmatizer() #lemmatization\n",
    "stopwordss=stopwords.words('english') #list of stopwords\n",
    "\n",
    "def preprocess_text(text):\n",
    "    text = text.lower()  # Convert to lowercase\n",
    "    text = re.sub(r'[^a-z\\s]', ' ', text)\n",
    "    text = re.sub(r'\\s\\s+',' ', text)\n",
    "    words=word_tokenize(text)\n",
    "    text=[]\n",
    "    for word in words: \n",
    "        if word not in stopwordss: \n",
    "            normalized = lemma.lemmatize(word)\n",
    "            text.append(normalized)\n",
    "    return ' '.join(text)"
   ]
  },
  {
   "cell_type": "code",
   "execution_count": 27,
   "metadata": {},
   "outputs": [
    {
     "data": {
      "text/html": [
       "<div>\n",
       "<style scoped>\n",
       "    .dataframe tbody tr th:only-of-type {\n",
       "        vertical-align: middle;\n",
       "    }\n",
       "\n",
       "    .dataframe tbody tr th {\n",
       "        vertical-align: top;\n",
       "    }\n",
       "\n",
       "    .dataframe thead th {\n",
       "        text-align: right;\n",
       "    }\n",
       "</style>\n",
       "<table border=\"1\" class=\"dataframe\">\n",
       "  <thead>\n",
       "    <tr style=\"text-align: right;\">\n",
       "      <th></th>\n",
       "      <th>description</th>\n",
       "      <th>species</th>\n",
       "      <th>text_length</th>\n",
       "      <th>cleaned_text</th>\n",
       "    </tr>\n",
       "  </thead>\n",
       "  <tbody>\n",
       "    <tr>\n",
       "      <th>0</th>\n",
       "      <td>2 Jun 2023 ï¿½ The Javan myna shares some simi...</td>\n",
       "      <td>Javan Myna</td>\n",
       "      <td>162</td>\n",
       "      <td>jun javan myna share similarity common myna te...</td>\n",
       "    </tr>\n",
       "    <tr>\n",
       "      <th>1</th>\n",
       "      <td>Click here for more information about the Red ...</td>\n",
       "      <td>Collared Kingfisher</td>\n",
       "      <td>398</td>\n",
       "      <td>click information red list category criterion ...</td>\n",
       "    </tr>\n",
       "    <tr>\n",
       "      <th>2</th>\n",
       "      <td>The black-headed oriole ( Oriolus larvatus) is...</td>\n",
       "      <td>Black-naped Oriole</td>\n",
       "      <td>349</td>\n",
       "      <td>black headed oriole oriolus larvatus specie bi...</td>\n",
       "    </tr>\n",
       "    <tr>\n",
       "      <th>3</th>\n",
       "      <td>Search from thousands of royalty-free \"Javan M...</td>\n",
       "      <td>Javan Myna</td>\n",
       "      <td>177</td>\n",
       "      <td>search thousand royalty free javan myna stock ...</td>\n",
       "    </tr>\n",
       "    <tr>\n",
       "      <th>4</th>\n",
       "      <td>521 foreground recordings and 156 background ...</td>\n",
       "      <td>Little Egret</td>\n",
       "      <td>112</td>\n",
       "      <td>foreground recording background recording egre...</td>\n",
       "    </tr>\n",
       "  </tbody>\n",
       "</table>\n",
       "</div>"
      ],
      "text/plain": [
       "                                         description              species  \\\n",
       "0  2 Jun 2023 ï¿½ The Javan myna shares some simi...           Javan Myna   \n",
       "1  Click here for more information about the Red ...  Collared Kingfisher   \n",
       "2  The black-headed oriole ( Oriolus larvatus) is...   Black-naped Oriole   \n",
       "3  Search from thousands of royalty-free \"Javan M...           Javan Myna   \n",
       "4   521 foreground recordings and 156 background ...         Little Egret   \n",
       "\n",
       "   text_length                                       cleaned_text  \n",
       "0          162  jun javan myna share similarity common myna te...  \n",
       "1          398  click information red list category criterion ...  \n",
       "2          349  black headed oriole oriolus larvatus specie bi...  \n",
       "3          177  search thousand royalty free javan myna stock ...  \n",
       "4          112  foreground recording background recording egre...  "
      ]
     },
     "execution_count": 27,
     "metadata": {},
     "output_type": "execute_result"
    }
   ],
   "source": [
    "# Apply preprocessing\n",
    "data['cleaned_text'] = data['description'].apply(lambda x: preprocess_text(x))\n",
    "data.head()"
   ]
  },
  {
   "cell_type": "markdown",
   "metadata": {},
   "source": [
    "### **Further Pre-Processing: Chunking** \n",
    "Chunking is used to group the words into phrases based on their grammatical structures. This can be done through different ways which will be explored in this section.    \n",
    "This section explores and conducts chunking through the use of the ```MWE Tokenizer```.    \n",
    "\n",
    "#### *Usage of MWE Tokenizer*\n",
    "Firstly, the MWE tokenizer is used to tokenize the words that are known to bee together, such as those words that are related to the labels."
   ]
  },
  {
   "cell_type": "code",
   "execution_count": 29,
   "metadata": {
    "scrolled": true
   },
   "outputs": [],
   "source": [
    "#multi-class\n",
    "mw=[('black','headed'),('black','headed','oriole'), ('black','naped', 'oriole'),('black','oriole'),('javan', 'myna'), ('little', 'egret')]\n",
    "\n",
    "# Create a reference variable for Class MWETokenizer \n",
    "tk = MWETokenizer(mw) \n",
    "\n",
    "def using_mwe(x):\n",
    "    txt=[]\n",
    "    texts = tk.tokenize(x.split(' '))\n",
    "    for text in texts: \n",
    "        txt.append(text)\n",
    "    return ' '.join(txt)\n",
    "\n",
    "# Use tokenize method \n",
    "data['chunked']=data['cleaned_text'].apply(using_mwe)"
   ]
  },
  {
   "cell_type": "code",
   "execution_count": 30,
   "metadata": {},
   "outputs": [
    {
     "data": {
      "text/plain": [
       "0      jun javan_myna share similarity common myna te...\n",
       "1      click information red list category criterion ...\n",
       "2      black_headed_oriole oriolus larvatus specie bi...\n",
       "3      search thousand royalty free javan_myna stock ...\n",
       "4      foreground recording background recording egre...\n",
       "                             ...                        \n",
       "735    black_naped_oriole oriolus chinensis black_nap...\n",
       "736    feb sacred kingfisher todiramphus sanctus leng...\n",
       "737    august historical record show little_egret egr...\n",
       "738    file black_naped_oriole oriolus chinensis chin...\n",
       "739    larger cattle egret black leg yellow slipper b...\n",
       "Name: chunked, Length: 611, dtype: object"
      ]
     },
     "execution_count": 30,
     "metadata": {},
     "output_type": "execute_result"
    }
   ],
   "source": [
    "data['chunked']"
   ]
  },
  {
   "cell_type": "markdown",
   "metadata": {},
   "source": [
    "These words can now be removed from the text, as it may cause biasedness in the dataset"
   ]
  },
  {
   "cell_type": "code",
   "execution_count": 32,
   "metadata": {},
   "outputs": [
    {
     "data": {
      "text/plain": [
       "0    jun share similarity common myna term physical...\n",
       "1    click information red list category criterion ...\n",
       "2    oriolus larvatus specie bird family oriolidae ...\n",
       "3    search thousand royalty free stock image video...\n",
       "4    foreground recording background recording egre...\n",
       "Name: chunked, dtype: object"
      ]
     },
     "execution_count": 32,
     "metadata": {},
     "output_type": "execute_result"
    }
   ],
   "source": [
    "def remove_mwe_tokens(tokens): \n",
    "    txt=[]\n",
    "    texts = tokens.split(' ')\n",
    "    for text in texts: \n",
    "        if '_' not in text:\n",
    "            txt.append(text)\n",
    "    return ' '.join(txt)\n",
    "\n",
    "data['chunked']=data['chunked'].apply(lambda x:remove_mwe_tokens(x))\n",
    "\n",
    "data['chunked'].head()"
   ]
  },
  {
   "cell_type": "markdown",
   "metadata": {},
   "source": [
    "[('oriolus', 'JJ'), ('larvatus', 'NN'), ('specie', 'NN'), ('bird', 'VBD'), ('family', 'NN'), ('oriolidae', 'NN'), ('found', 'VBD'), ('africa', 'RB'), ('striking', 'JJ'), ('appearance', 'NN'), ('bright', 'VBD'), ('yellow', 'JJ'), ('body', 'NN'), ('contrasting', 'VBG'), ('black', 'JJ'), ('head', 'NN'), ('flesh', 'NN'), ('coloured', 'VBD'), ('beak', 'JJ'), ('taxonomy', 'NN'), ('systematics', 'NNS'), ('edit', 'VBP'), ('authority', 'NN'), ('considered', 'VBN'), ('mountain', 'NN'), ('oriole', 'JJ'), ('subspecies', 'NNS')]\n",
    "\n",
    "In one of the POS Tags as per above, to get the bird's physical characteristics 'striking_appearance', 'bright yellow body', are all helpful to the analysis, and can be structured likewise to be chunked together, such that it can be interpreted as the same meaning. "
   ]
  },
  {
   "cell_type": "markdown",
   "metadata": {},
   "source": [
    "### **After Pre-Processing**: Further steps - Examining Text Length\n",
    "- From initial observations of the dataset, there are some rather short sentences after cleaning which can be removed. Th\n",
    "Examining Text Length. As a generalised rule, I want to print out the texts which are less than 25 words."
   ]
  },
  {
   "cell_type": "code",
   "execution_count": 35,
   "metadata": {},
   "outputs": [
    {
     "data": {
      "image/png": "[encoded data removed]",
      "text/plain": [
       "<Figure size 1500x400 with 1 Axes>"
      ]
     },
     "metadata": {},
     "output_type": "display_data"
    }
   ],
   "source": [
    "data['text_length'] = data['chunked'].apply(len)\n",
    "plt.figure(figsize=(15,4))\n",
    "sns.histplot(data['text_length'], bins=50)\n",
    "plt.title('Distribution of Text Lengths')\n",
    "plt.show()"
   ]
  },
  {
   "cell_type": "code",
   "execution_count": null,
   "metadata": {},
   "outputs": [],
   "source": []
  },
  {
   "cell_type": "code",
   "execution_count": 36,
   "metadata": {},
   "outputs": [
    {
     "name": "stdout",
     "output_type": "stream",
     "text": [
      "['published august', 'px captcha', 'published august view k', 'article', 'two four five sound make', '', 'common myna common', 'specie', 'published september view', 'crunchy crunchy', 'article', 'may hunting morning', 'april fool joke', 'taken elmley', 'published august', 'two four five sound make', 'published july view', 'specie bird', 'domain may sale', 'specie bird', 'video sound frequency']\n"
     ]
    }
   ],
   "source": [
    "sentences=[]\n",
    "def txtlen(text): \n",
    "    if len(text) < 25: \n",
    "        sentences.append(text)\n",
    "\n",
    "data['chunked'].apply(lambda x:txtlen(x))\n",
    "print(sentences)"
   ]
  },
  {
   "cell_type": "markdown",
   "metadata": {},
   "source": [
    "As we can see, for those where the text length are less than 50. These are often rather irrelevant data, hence its more pertinent to remove them. And hence they are removed. "
   ]
  },
  {
   "cell_type": "code",
   "execution_count": 38,
   "metadata": {},
   "outputs": [],
   "source": [
    "def removetxt(text): \n",
    "    if len(text) < 25: \n",
    "        return np.NaN\n",
    "    else: \n",
    "        return text\n",
    "data['chunked']=data['chunked'].apply(lambda x:removetxt(x))"
   ]
  },
  {
   "cell_type": "code",
   "execution_count": 39,
   "metadata": {},
   "outputs": [
    {
     "data": {
      "text/plain": [
       "description      0\n",
       "species          0\n",
       "text_length      0\n",
       "cleaned_text     0\n",
       "chunked         21\n",
       "dtype: int64"
      ]
     },
     "execution_count": 39,
     "metadata": {},
     "output_type": "execute_result"
    }
   ],
   "source": [
    "data.isnull().sum()"
   ]
  },
  {
   "cell_type": "code",
   "execution_count": 40,
   "metadata": {},
   "outputs": [],
   "source": [
    "data.dropna(inplace=True)"
   ]
  },
  {
   "cell_type": "markdown",
   "metadata": {},
   "source": [
    "data.info()"
   ]
  },
  {
   "cell_type": "markdown",
   "metadata": {},
   "source": [
    "## **Section D: After Data Cleaning** \n",
    "\n",
    "We can now say that the data cleaning and pre-processing processes are completed. Now, only the column 'chunked' which contains the final cleaned data and 'species' which contain the target variable is extracted. "
   ]
  },
  {
   "cell_type": "code",
   "execution_count": 43,
   "metadata": {},
   "outputs": [
    {
     "name": "stderr",
     "output_type": "stream",
     "text": [
      "/var/folders/53/1_08_22s37n3r4dm51m_8m7c0000gn/T/ipykernel_21995/2080211542.py:2: SettingWithCopyWarning: \n",
      "A value is trying to be set on a copy of a slice from a DataFrame\n",
      "\n",
      "See the caveats in the documentation: https://pandas.pydata.org/pandas-docs/stable/user_guide/indexing.html#returning-a-view-versus-a-copy\n",
      "  cleaned.rename(columns={'chunked':'cleaned'}, inplace=True)\n"
     ]
    }
   ],
   "source": [
    "cleaned = data[['chunked', 'species']]\n",
    "cleaned.rename(columns={'chunked':'cleaned'}, inplace=True)"
   ]
  },
  {
   "cell_type": "code",
   "execution_count": 44,
   "metadata": {},
   "outputs": [
    {
     "data": {
      "text/html": [
       "<div>\n",
       "<style scoped>\n",
       "    .dataframe tbody tr th:only-of-type {\n",
       "        vertical-align: middle;\n",
       "    }\n",
       "\n",
       "    .dataframe tbody tr th {\n",
       "        vertical-align: top;\n",
       "    }\n",
       "\n",
       "    .dataframe thead th {\n",
       "        text-align: right;\n",
       "    }\n",
       "</style>\n",
       "<table border=\"1\" class=\"dataframe\">\n",
       "  <thead>\n",
       "    <tr style=\"text-align: right;\">\n",
       "      <th></th>\n",
       "      <th>cleaned</th>\n",
       "      <th>species</th>\n",
       "    </tr>\n",
       "  </thead>\n",
       "  <tbody>\n",
       "    <tr>\n",
       "      <th>0</th>\n",
       "      <td>jun share similarity common myna term physical...</td>\n",
       "      <td>Javan Myna</td>\n",
       "    </tr>\n",
       "    <tr>\n",
       "      <th>1</th>\n",
       "      <td>click information red list category criterion ...</td>\n",
       "      <td>Collared Kingfisher</td>\n",
       "    </tr>\n",
       "    <tr>\n",
       "      <th>2</th>\n",
       "      <td>oriolus larvatus specie bird family oriolidae ...</td>\n",
       "      <td>Black-naped Oriole</td>\n",
       "    </tr>\n",
       "    <tr>\n",
       "      <th>3</th>\n",
       "      <td>search thousand royalty free stock image video...</td>\n",
       "      <td>Javan Myna</td>\n",
       "    </tr>\n",
       "    <tr>\n",
       "      <th>4</th>\n",
       "      <td>foreground recording background recording egre...</td>\n",
       "      <td>Little Egret</td>\n",
       "    </tr>\n",
       "  </tbody>\n",
       "</table>\n",
       "</div>"
      ],
      "text/plain": [
       "                                             cleaned              species\n",
       "0  jun share similarity common myna term physical...           Javan Myna\n",
       "1  click information red list category criterion ...  Collared Kingfisher\n",
       "2  oriolus larvatus specie bird family oriolidae ...   Black-naped Oriole\n",
       "3  search thousand royalty free stock image video...           Javan Myna\n",
       "4  foreground recording background recording egre...         Little Egret"
      ]
     },
     "execution_count": 44,
     "metadata": {},
     "output_type": "execute_result"
    }
   ],
   "source": [
    "cleaned.head()"
   ]
  },
  {
   "cell_type": "code",
   "execution_count": 45,
   "metadata": {},
   "outputs": [
    {
     "data": {
      "text/html": [
       "<div>\n",
       "<style scoped>\n",
       "    .dataframe tbody tr th:only-of-type {\n",
       "        vertical-align: middle;\n",
       "    }\n",
       "\n",
       "    .dataframe tbody tr th {\n",
       "        vertical-align: top;\n",
       "    }\n",
       "\n",
       "    .dataframe thead th {\n",
       "        text-align: right;\n",
       "    }\n",
       "</style>\n",
       "<table border=\"1\" class=\"dataframe\">\n",
       "  <thead>\n",
       "    <tr style=\"text-align: right;\">\n",
       "      <th></th>\n",
       "      <th>description</th>\n",
       "      <th>species</th>\n",
       "    </tr>\n",
       "  </thead>\n",
       "  <tbody>\n",
       "    <tr>\n",
       "      <th>0</th>\n",
       "      <td>2 Jun 2023 ï¿½ The Javan myna shares some simi...</td>\n",
       "      <td>Javan Myna</td>\n",
       "    </tr>\n",
       "    <tr>\n",
       "      <th>1</th>\n",
       "      <td>Click here for more information about the Red ...</td>\n",
       "      <td>Collared Kingfisher</td>\n",
       "    </tr>\n",
       "    <tr>\n",
       "      <th>2</th>\n",
       "      <td>The black-headed oriole ( Oriolus larvatus) is...</td>\n",
       "      <td>Black-naped Oriole</td>\n",
       "    </tr>\n",
       "    <tr>\n",
       "      <th>3</th>\n",
       "      <td>Search from thousands of royalty-free \"Javan M...</td>\n",
       "      <td>Javan Myna</td>\n",
       "    </tr>\n",
       "    <tr>\n",
       "      <th>4</th>\n",
       "      <td>521 foreground recordings and 156 background ...</td>\n",
       "      <td>Little Egret</td>\n",
       "    </tr>\n",
       "  </tbody>\n",
       "</table>\n",
       "</div>"
      ],
      "text/plain": [
       "                                         description              species\n",
       "0  2 Jun 2023 ï¿½ The Javan myna shares some simi...           Javan Myna\n",
       "1  Click here for more information about the Red ...  Collared Kingfisher\n",
       "2  The black-headed oriole ( Oriolus larvatus) is...   Black-naped Oriole\n",
       "3  Search from thousands of royalty-free \"Javan M...           Javan Myna\n",
       "4   521 foreground recordings and 156 background ...         Little Egret"
      ]
     },
     "execution_count": 45,
     "metadata": {},
     "output_type": "execute_result"
    }
   ],
   "source": [
    "#ORIGINAL DATASET\n",
    "original=pd.read_excel('Data.xlsx').head()\n",
    "original.head()"
   ]
  },
  {
   "cell_type": "markdown",
   "metadata": {},
   "source": [
    "When comparing between the cleaned dataset and the original dataset, there are vast differences between the 'cleaned' column and the 'description' column. We can firstly see that there are no more numbers, and there are some special characters such as 'ï¿½ 'which are removed as a result of pre-processing. This has also made it much easier for modelling purposes in part 2."
   ]
  },
  {
   "cell_type": "code",
   "execution_count": 47,
   "metadata": {},
   "outputs": [
    {
     "data": {
      "image/png": "[encoded data removed]",
      "text/plain": [
       "<Figure size 1200x600 with 1 Axes>"
      ]
     },
     "metadata": {},
     "output_type": "display_data"
    }
   ],
   "source": [
    "group=original.groupby(['species']).count()\n",
    "plt.figure(figsize=(12, 6))  \n",
    "sns.histplot(original['species'])\n",
    "plt.title('Distribution of Species in the Original Dataset')\n",
    "plt.show()"
   ]
  },
  {
   "cell_type": "code",
   "execution_count": 48,
   "metadata": {},
   "outputs": [
    {
     "data": {
      "image/png": "[encoded data removed]",
      "text/plain": [
       "<Figure size 1200x600 with 1 Axes>"
      ]
     },
     "metadata": {},
     "output_type": "display_data"
    }
   ],
   "source": [
    "group=cleaned.groupby(['species']).count()\n",
    "plt.figure(figsize=(12, 6))  \n",
    "sns.histplot(cleaned['species'])\n",
    "plt.title('Distribution of Species in the Cleaned Dataset')\n",
    "plt.show()"
   ]
  },
  {
   "cell_type": "markdown",
   "metadata": {},
   "source": [
    "Ignoring the axis for the distribution in the original dataset, which is rather inaccurate due to the null and duplicates not being removed ye, we can observe, that initially the dataset was just skewed towards the javan myna. Now, after the data cleaning, we can observe that the little egret is rather undersampled. However, it has become more adequately balanced as well, which is a good thing. These minor imbalances can be solved with using models that caters to these imbalances such as Naive Bayes. "
   ]
  },
  {
   "cell_type": "markdown",
   "metadata": {},
   "source": [
    "## **Saving the Data and Tokenizer**"
   ]
  },
  {
   "cell_type": "code",
   "execution_count": 51,
   "metadata": {},
   "outputs": [],
   "source": [
    "cleaned.to_csv('cleaned_data.csv')"
   ]
  },
  {
   "cell_type": "code",
   "execution_count": 52,
   "metadata": {},
   "outputs": [],
   "source": [
    "with open(f'MWE Tokenizer.pkl', 'wb') as f1: \n",
    "    pickle.dump(tk, f1)"
   ]
  }
 ],
 "metadata": {
  "kernelspec": {
   "display_name": "Python 3 (ipykernel)",
   "language": "python",
   "name": "python3"
  },
  "language_info": {
   "codemirror_mode": {
    "name": "ipython",
    "version": 3
   },
   "file_extension": ".py",
   "mimetype": "text/x-python",
   "name": "python",
   "nbconvert_exporter": "python",
   "pygments_lexer": "ipython3",
   "version": "3.11.0"
  }
 },
 "nbformat": 4,
 "nbformat_minor": 4
}

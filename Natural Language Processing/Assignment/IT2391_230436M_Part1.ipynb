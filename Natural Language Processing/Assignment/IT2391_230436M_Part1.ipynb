{
 "cells": [
  {
   "attachments": {},
   "cell_type": "markdown",
   "metadata": {},
   "source": [
    "Done by Wong Wen Bing, 230436M\n",
    "\n",
    "# **Part 1: Data Preparation and Understanding** \n",
    "This section will comprise of the data understanding and data preparation conducted"
   ]
  },
  {
   "cell_type": "code",
   "execution_count": 2,
   "metadata": {},
   "outputs": [],
   "source": [
    "# pip install pandas seaborn nltk matplotlib openpyxl"
   ]
  },
  {
   "cell_type": "code",
   "execution_count": 3,
   "metadata": {},
   "outputs": [],
   "source": [
    "# Import \n",
    "import pandas as pd\n",
    "import matplotlib.pyplot as plt\n",
    "import seaborn as sns\n",
    "import nltk\n",
    "from nltk.tokenize import word_tokenize\n",
    "from nltk.util import ngrams\n",
    "import re\n",
    "from nltk.corpus import stopwords\n",
    "from nltk.stem import WordNetLemmatizer"
   ]
  },
  {
   "cell_type": "code",
   "execution_count": 4,
   "metadata": {},
   "outputs": [],
   "source": [
    "# nltk.download('all')"
   ]
  },
  {
   "cell_type": "markdown",
   "metadata": {},
   "source": [
    "Reading in data and understanding data"
   ]
  },
  {
   "cell_type": "code",
   "execution_count": 6,
   "metadata": {},
   "outputs": [
    {
     "data": {
      "text/html": [
       "<div>\n",
       "<style scoped>\n",
       "    .dataframe tbody tr th:only-of-type {\n",
       "        vertical-align: middle;\n",
       "    }\n",
       "\n",
       "    .dataframe tbody tr th {\n",
       "        vertical-align: top;\n",
       "    }\n",
       "\n",
       "    .dataframe thead th {\n",
       "        text-align: right;\n",
       "    }\n",
       "</style>\n",
       "<table border=\"1\" class=\"dataframe\">\n",
       "  <thead>\n",
       "    <tr style=\"text-align: right;\">\n",
       "      <th></th>\n",
       "      <th>description</th>\n",
       "      <th>species</th>\n",
       "    </tr>\n",
       "  </thead>\n",
       "  <tbody>\n",
       "    <tr>\n",
       "      <th>0</th>\n",
       "      <td>2 Jun 2023 ï¿½ The Javan myna shares some simi...</td>\n",
       "      <td>Javan Myna</td>\n",
       "    </tr>\n",
       "    <tr>\n",
       "      <th>1</th>\n",
       "      <td>Click here for more information about the Red ...</td>\n",
       "      <td>Collared Kingfisher</td>\n",
       "    </tr>\n",
       "    <tr>\n",
       "      <th>2</th>\n",
       "      <td>The black-headed oriole ( Oriolus larvatus) is...</td>\n",
       "      <td>Black-naped Oriole</td>\n",
       "    </tr>\n",
       "    <tr>\n",
       "      <th>3</th>\n",
       "      <td>Search from thousands of royalty-free \"Javan M...</td>\n",
       "      <td>Javan Myna</td>\n",
       "    </tr>\n",
       "    <tr>\n",
       "      <th>4</th>\n",
       "      <td>521 foreground recordings and 156 background ...</td>\n",
       "      <td>Little Egret</td>\n",
       "    </tr>\n",
       "    <tr>\n",
       "      <th>...</th>\n",
       "      <td>...</td>\n",
       "      <td>...</td>\n",
       "    </tr>\n",
       "    <tr>\n",
       "      <th>737</th>\n",
       "      <td>August 13, 2016 - HISTORICAL records show that...</td>\n",
       "      <td>Little Egret</td>\n",
       "    </tr>\n",
       "    <tr>\n",
       "      <th>738</th>\n",
       "      <td>File: Black-naped Oriole (Oriolus chinensis ch...</td>\n",
       "      <td>Black-naped Oriole</td>\n",
       "    </tr>\n",
       "    <tr>\n",
       "      <th>739</th>\n",
       "      <td>Larger than a Cattle Egret and with black leg...</td>\n",
       "      <td>Little Egret</td>\n",
       "    </tr>\n",
       "    <tr>\n",
       "      <th>740</th>\n",
       "      <td>22 Oct 2023 ï¿½ Dragon Snake (Javan Tubercle S...</td>\n",
       "      <td>Javan Myna</td>\n",
       "    </tr>\n",
       "    <tr>\n",
       "      <th>741</th>\n",
       "      <td>Editorial Timun Mas, 1974. Fulton, John. Sign...</td>\n",
       "      <td>Little Egret</td>\n",
       "    </tr>\n",
       "  </tbody>\n",
       "</table>\n",
       "<p>742 rows × 2 columns</p>\n",
       "</div>"
      ],
      "text/plain": [
       "                                           description              species\n",
       "0    2 Jun 2023 ï¿½ The Javan myna shares some simi...           Javan Myna\n",
       "1    Click here for more information about the Red ...  Collared Kingfisher\n",
       "2    The black-headed oriole ( Oriolus larvatus) is...   Black-naped Oriole\n",
       "3    Search from thousands of royalty-free \"Javan M...           Javan Myna\n",
       "4     521 foreground recordings and 156 background ...         Little Egret\n",
       "..                                                 ...                  ...\n",
       "737  August 13, 2016 - HISTORICAL records show that...         Little Egret\n",
       "738  File: Black-naped Oriole (Oriolus chinensis ch...   Black-naped Oriole\n",
       "739   Larger than a Cattle Egret and with black leg...         Little Egret\n",
       "740  22 Oct 2023 ï¿½ Dragon Snake (Javan Tubercle S...           Javan Myna\n",
       "741   Editorial Timun Mas, 1974. Fulton, John. Sign...         Little Egret\n",
       "\n",
       "[742 rows x 2 columns]"
      ]
     },
     "execution_count": 6,
     "metadata": {},
     "output_type": "execute_result"
    }
   ],
   "source": [
    "data=pd.read_excel('Data.xlsx')\n",
    "data"
   ]
  },
  {
   "cell_type": "code",
   "execution_count": 7,
   "metadata": {},
   "outputs": [
    {
     "data": {
      "text/plain": [
       "(742, 2)"
      ]
     },
     "execution_count": 7,
     "metadata": {},
     "output_type": "execute_result"
    }
   ],
   "source": [
    "data.shape"
   ]
  },
  {
   "cell_type": "markdown",
   "metadata": {},
   "source": [
    "From the above, we can infer that there are 2 columns and a total of 742 rows"
   ]
  },
  {
   "cell_type": "markdown",
   "metadata": {},
   "source": [
    "**Checking for null and duplicates**  \n",
    "- there might be some empty values or duplicate values that we need to check for"
   ]
  },
  {
   "cell_type": "code",
   "execution_count": 10,
   "metadata": {},
   "outputs": [
    {
     "data": {
      "text/plain": [
       "description    24\n",
       "species         0\n",
       "dtype: int64"
      ]
     },
     "execution_count": 10,
     "metadata": {},
     "output_type": "execute_result"
    }
   ],
   "source": [
    "data.isna().sum()"
   ]
  },
  {
   "cell_type": "code",
   "execution_count": 11,
   "metadata": {},
   "outputs": [
    {
     "name": "stdout",
     "output_type": "stream",
     "text": [
      "\n",
      "duplicates: 128\n",
      "unique: 614\n",
      "\n"
     ]
    }
   ],
   "source": [
    "dup=data.duplicated().value_counts()\n",
    "print(f'''\n",
    "duplicates: {dup[True]}\n",
    "unique: {dup[False]}\n",
    "''')"
   ]
  },
  {
   "cell_type": "markdown",
   "metadata": {},
   "source": [
    "From the above output we can infer the below: \n",
    "- there are 24 null values\n",
    "- there are 128 duplicates\n",
    "\n",
    "**Removing null and duplicate values** \n",
    "- To ensure data integrity, null and duplicate values are remove"
   ]
  },
  {
   "cell_type": "code",
   "execution_count": 13,
   "metadata": {},
   "outputs": [
    {
     "name": "stdout",
     "output_type": "stream",
     "text": [
      "<class 'pandas.core.frame.DataFrame'>\n",
      "Index: 611 entries, 0 to 739\n",
      "Data columns (total 2 columns):\n",
      " #   Column       Non-Null Count  Dtype \n",
      "---  ------       --------------  ----- \n",
      " 0   description  611 non-null    object\n",
      " 1   species      611 non-null    object\n",
      "dtypes: object(2)\n",
      "memory usage: 14.3+ KB\n"
     ]
    }
   ],
   "source": [
    "#drop null and duplicate values\n",
    "data=data.dropna()\n",
    "data=data.drop_duplicates()\n",
    "data.info()"
   ]
  },
  {
   "cell_type": "markdown",
   "metadata": {},
   "source": [
    "#### **Data Understanding** \n",
    "- To understand the distribution of data, I set out to do some visualisations to visualise the distribution of the dataset.\n",
    "\n",
    "Firstly, we did a distribution of the species (the target variable in the dataset.)"
   ]
  },
  {
   "cell_type": "code",
   "execution_count": 15,
   "metadata": {},
   "outputs": [
    {
     "data": {
      "image/png": "[encoded data removed]",
      "text/plain": [
       "<Figure size 1200x600 with 1 Axes>"
      ]
     },
     "metadata": {},
     "output_type": "display_data"
    }
   ],
   "source": [
    "group=data.groupby(['species']).count()\n",
    "plt.figure(figsize=(12, 6))  \n",
    "sns.histplot(data['species'])\n",
    "plt.title('Distribution of Species in the Dataset')\n",
    "plt.show()"
   ]
  },
  {
   "cell_type": "markdown",
   "metadata": {},
   "source": [
    "As we can see from above, we can realise that the Black-napled Oriole has the most records in the dataset. \n",
    "This means that there is a probability of biasedness in the dataset. "
   ]
  },
  {
   "cell_type": "markdown",
   "metadata": {},
   "source": [
    "Now, we are going to investigate the aaverage length of data in the dataset"
   ]
  },
  {
   "cell_type": "code",
   "execution_count": 18,
   "metadata": {},
   "outputs": [
    {
     "data": {
      "image/png": "[encoded data removed]",
      "text/plain": [
       "<Figure size 1000x600 with 1 Axes>"
      ]
     },
     "metadata": {},
     "output_type": "display_data"
    }
   ],
   "source": [
    "data['text_length'] = data['description'].apply(len)\n",
    "plt.figure(figsize=(10,6))\n",
    "sns.histplot(data['text_length'], bins=50)\n",
    "plt.title('Distribution of Text Lengths')\n",
    "plt.show()"
   ]
  },
  {
   "cell_type": "markdown",
   "metadata": {},
   "source": [
    "## **Data Pre-Processing** \n",
    "- After examining the data, we now will conduct pre-processing of the data. The pre-processing steps include: \n",
    "1. removing of stopwords\n",
    "2. removing special characters in word"
   ]
  },
  {
   "cell_type": "code",
   "execution_count": 20,
   "metadata": {},
   "outputs": [
    {
     "data": {
      "text/html": [
       "<div>\n",
       "<style scoped>\n",
       "    .dataframe tbody tr th:only-of-type {\n",
       "        vertical-align: middle;\n",
       "    }\n",
       "\n",
       "    .dataframe tbody tr th {\n",
       "        vertical-align: top;\n",
       "    }\n",
       "\n",
       "    .dataframe thead th {\n",
       "        text-align: right;\n",
       "    }\n",
       "</style>\n",
       "<table border=\"1\" class=\"dataframe\">\n",
       "  <thead>\n",
       "    <tr style=\"text-align: right;\">\n",
       "      <th></th>\n",
       "      <th>description</th>\n",
       "      <th>species</th>\n",
       "      <th>text_length</th>\n",
       "      <th>cleaned_text</th>\n",
       "    </tr>\n",
       "  </thead>\n",
       "  <tbody>\n",
       "    <tr>\n",
       "      <th>0</th>\n",
       "      <td>2 Jun 2023 ï¿½ The Javan myna shares some simi...</td>\n",
       "      <td>Javan Myna</td>\n",
       "      <td>162</td>\n",
       "      <td></td>\n",
       "    </tr>\n",
       "    <tr>\n",
       "      <th>1</th>\n",
       "      <td>Click here for more information about the Red ...</td>\n",
       "      <td>Collared Kingfisher</td>\n",
       "      <td>398</td>\n",
       "      <td></td>\n",
       "    </tr>\n",
       "    <tr>\n",
       "      <th>2</th>\n",
       "      <td>The black-headed oriole ( Oriolus larvatus) is...</td>\n",
       "      <td>Black-naped Oriole</td>\n",
       "      <td>349</td>\n",
       "      <td></td>\n",
       "    </tr>\n",
       "    <tr>\n",
       "      <th>3</th>\n",
       "      <td>Search from thousands of royalty-free \"Javan M...</td>\n",
       "      <td>Javan Myna</td>\n",
       "      <td>177</td>\n",
       "      <td></td>\n",
       "    </tr>\n",
       "    <tr>\n",
       "      <th>4</th>\n",
       "      <td>521 foreground recordings and 156 background ...</td>\n",
       "      <td>Little Egret</td>\n",
       "      <td>112</td>\n",
       "      <td></td>\n",
       "    </tr>\n",
       "  </tbody>\n",
       "</table>\n",
       "</div>"
      ],
      "text/plain": [
       "                                         description              species  \\\n",
       "0  2 Jun 2023 ï¿½ The Javan myna shares some simi...           Javan Myna   \n",
       "1  Click here for more information about the Red ...  Collared Kingfisher   \n",
       "2  The black-headed oriole ( Oriolus larvatus) is...   Black-naped Oriole   \n",
       "3  Search from thousands of royalty-free \"Javan M...           Javan Myna   \n",
       "4   521 foreground recordings and 156 background ...         Little Egret   \n",
       "\n",
       "   text_length cleaned_text  \n",
       "0          162               \n",
       "1          398               \n",
       "2          349               \n",
       "3          177               \n",
       "4          112               "
      ]
     },
     "execution_count": 20,
     "metadata": {},
     "output_type": "execute_result"
    }
   ],
   "source": [
    "from nltk.corpus import stopwords #stopwords\n",
    "from nltk.stem.wordnet import WordNetLemmatizer #lemmatization\n",
    "\n",
    "lemma=WordNetLemmatizer() #lemmatization\n",
    "stopwordss=stopwords.words('english') #list of stopwords\n",
    "# exclude=set(string.punctuation) #punctuations\n",
    "\n",
    "def preprocess_text(text):\n",
    "    stopwordss=list(stopwords.words('english'))\n",
    "    text = text.lower()  # Convert to lowercase\n",
    "    # text = re.sub(r'\\w*\\d\\w*', '', text)  # Remove words with numbers\n",
    "    # text = re.sub(r'\\W+', ' ', text)  # Remove special characters\n",
    "    text = re.sub(r'[^a-z\\s]', ' ', text)\n",
    "    text = re.sub(r'\\s\\s+',' ', text)\n",
    "    words=word_tokenize(text)\n",
    "    text=[]\n",
    "    for word in words: \n",
    "        if word not in stopwordss: \n",
    "            normalized = lemma.lemmatize(word)\n",
    "            text.append(normalized)\n",
    "    return ' '.join(text)\n",
    "data['cleaned_text']=''\n",
    "data.head()"
   ]
  },
  {
   "cell_type": "code",
   "execution_count": 21,
   "metadata": {},
   "outputs": [
    {
     "data": {
      "text/html": [
       "<div>\n",
       "<style scoped>\n",
       "    .dataframe tbody tr th:only-of-type {\n",
       "        vertical-align: middle;\n",
       "    }\n",
       "\n",
       "    .dataframe tbody tr th {\n",
       "        vertical-align: top;\n",
       "    }\n",
       "\n",
       "    .dataframe thead th {\n",
       "        text-align: right;\n",
       "    }\n",
       "</style>\n",
       "<table border=\"1\" class=\"dataframe\">\n",
       "  <thead>\n",
       "    <tr style=\"text-align: right;\">\n",
       "      <th></th>\n",
       "      <th>description</th>\n",
       "      <th>species</th>\n",
       "      <th>text_length</th>\n",
       "      <th>cleaned_text</th>\n",
       "    </tr>\n",
       "  </thead>\n",
       "  <tbody>\n",
       "    <tr>\n",
       "      <th>0</th>\n",
       "      <td>2 Jun 2023 ï¿½ The Javan myna shares some simi...</td>\n",
       "      <td>Javan Myna</td>\n",
       "      <td>162</td>\n",
       "      <td>jun javan myna share similarity common myna te...</td>\n",
       "    </tr>\n",
       "    <tr>\n",
       "      <th>1</th>\n",
       "      <td>Click here for more information about the Red ...</td>\n",
       "      <td>Collared Kingfisher</td>\n",
       "      <td>398</td>\n",
       "      <td>click information red list category criterion ...</td>\n",
       "    </tr>\n",
       "    <tr>\n",
       "      <th>2</th>\n",
       "      <td>The black-headed oriole ( Oriolus larvatus) is...</td>\n",
       "      <td>Black-naped Oriole</td>\n",
       "      <td>349</td>\n",
       "      <td>black headed oriole oriolus larvatus specie bi...</td>\n",
       "    </tr>\n",
       "    <tr>\n",
       "      <th>3</th>\n",
       "      <td>Search from thousands of royalty-free \"Javan M...</td>\n",
       "      <td>Javan Myna</td>\n",
       "      <td>177</td>\n",
       "      <td>search thousand royalty free javan myna stock ...</td>\n",
       "    </tr>\n",
       "    <tr>\n",
       "      <th>4</th>\n",
       "      <td>521 foreground recordings and 156 background ...</td>\n",
       "      <td>Little Egret</td>\n",
       "      <td>112</td>\n",
       "      <td>foreground recording background recording egre...</td>\n",
       "    </tr>\n",
       "  </tbody>\n",
       "</table>\n",
       "</div>"
      ],
      "text/plain": [
       "                                         description              species  \\\n",
       "0  2 Jun 2023 ï¿½ The Javan myna shares some simi...           Javan Myna   \n",
       "1  Click here for more information about the Red ...  Collared Kingfisher   \n",
       "2  The black-headed oriole ( Oriolus larvatus) is...   Black-naped Oriole   \n",
       "3  Search from thousands of royalty-free \"Javan M...           Javan Myna   \n",
       "4   521 foreground recordings and 156 background ...         Little Egret   \n",
       "\n",
       "   text_length                                       cleaned_text  \n",
       "0          162  jun javan myna share similarity common myna te...  \n",
       "1          398  click information red list category criterion ...  \n",
       "2          349  black headed oriole oriolus larvatus specie bi...  \n",
       "3          177  search thousand royalty free javan myna stock ...  \n",
       "4          112  foreground recording background recording egre...  "
      ]
     },
     "execution_count": 21,
     "metadata": {},
     "output_type": "execute_result"
    }
   ],
   "source": [
    "# Apply preprocessing\n",
    "data['cleaned_text'] = data['description'].apply(lambda x: preprocess_text(x))\n",
    "data.head()"
   ]
  },
  {
   "cell_type": "markdown",
   "metadata": {},
   "source": [
    "Using MWE Tokenizer \n",
    "- this ensures the retention of the meaning"
   ]
  },
  {
   "cell_type": "code",
   "execution_count": 134,
   "metadata": {},
   "outputs": [],
   "source": [
    "# import MWETokenizer() method from nltk \n",
    "from nltk.tokenize import MWETokenizer \n",
    "\n",
    "#multi-class\n",
    "mw=[('black','headed'),('black','headed','oriole'), ('black-naped', 'oriole'),('javan', 'myna'), ('little', 'egret')]\n",
    "\n",
    "# Create a reference variable for Class MWETokenizer \n",
    "tk = MWETokenizer(mw) \n",
    "\n",
    "def using_mwe(x):\n",
    "    txt=[]\n",
    "    texts = tk.tokenize(x.split(' '))\n",
    "    for text in texts: \n",
    "        txt.append(text)\n",
    "    return ' '.join(txt)\n",
    "\n",
    "# Use tokenize method \n",
    "data['chunked']=data['cleaned_text'].apply(using_mwe)"
   ]
  },
  {
   "cell_type": "code",
   "execution_count": 106,
   "metadata": {},
   "outputs": [
    {
     "data": {
      "text/html": [
       "<div>\n",
       "<style scoped>\n",
       "    .dataframe tbody tr th:only-of-type {\n",
       "        vertical-align: middle;\n",
       "    }\n",
       "\n",
       "    .dataframe tbody tr th {\n",
       "        vertical-align: top;\n",
       "    }\n",
       "\n",
       "    .dataframe thead th {\n",
       "        text-align: right;\n",
       "    }\n",
       "</style>\n",
       "<table border=\"1\" class=\"dataframe\">\n",
       "  <thead>\n",
       "    <tr style=\"text-align: right;\">\n",
       "      <th></th>\n",
       "      <th>description</th>\n",
       "      <th>species</th>\n",
       "      <th>text_length</th>\n",
       "      <th>cleaned_text</th>\n",
       "      <th>chunked</th>\n",
       "    </tr>\n",
       "  </thead>\n",
       "  <tbody>\n",
       "    <tr>\n",
       "      <th>0</th>\n",
       "      <td>2 Jun 2023 ï¿½ The Javan myna shares some simi...</td>\n",
       "      <td>Javan Myna</td>\n",
       "      <td>162</td>\n",
       "      <td>jun javan myna share similarity common myna te...</td>\n",
       "      <td>jun javan_myna share similarity common myna te...</td>\n",
       "    </tr>\n",
       "    <tr>\n",
       "      <th>1</th>\n",
       "      <td>Click here for more information about the Red ...</td>\n",
       "      <td>Collared Kingfisher</td>\n",
       "      <td>398</td>\n",
       "      <td>click information red list category criterion ...</td>\n",
       "      <td>click information red list category criterion ...</td>\n",
       "    </tr>\n",
       "    <tr>\n",
       "      <th>2</th>\n",
       "      <td>The black-headed oriole ( Oriolus larvatus) is...</td>\n",
       "      <td>Black-naped Oriole</td>\n",
       "      <td>349</td>\n",
       "      <td>black headed oriole oriolus larvatus specie bi...</td>\n",
       "      <td>black_headed_oriole oriolus larvatus specie bi...</td>\n",
       "    </tr>\n",
       "    <tr>\n",
       "      <th>3</th>\n",
       "      <td>Search from thousands of royalty-free \"Javan M...</td>\n",
       "      <td>Javan Myna</td>\n",
       "      <td>177</td>\n",
       "      <td>search thousand royalty free javan myna stock ...</td>\n",
       "      <td>search thousand royalty free javan_myna stock ...</td>\n",
       "    </tr>\n",
       "    <tr>\n",
       "      <th>4</th>\n",
       "      <td>521 foreground recordings and 156 background ...</td>\n",
       "      <td>Little Egret</td>\n",
       "      <td>112</td>\n",
       "      <td>foreground recording background recording egre...</td>\n",
       "      <td>foreground recording background recording egre...</td>\n",
       "    </tr>\n",
       "  </tbody>\n",
       "</table>\n",
       "</div>"
      ],
      "text/plain": [
       "                                         description              species  \\\n",
       "0  2 Jun 2023 ï¿½ The Javan myna shares some simi...           Javan Myna   \n",
       "1  Click here for more information about the Red ...  Collared Kingfisher   \n",
       "2  The black-headed oriole ( Oriolus larvatus) is...   Black-naped Oriole   \n",
       "3  Search from thousands of royalty-free \"Javan M...           Javan Myna   \n",
       "4   521 foreground recordings and 156 background ...         Little Egret   \n",
       "\n",
       "   text_length                                       cleaned_text  \\\n",
       "0          162  jun javan myna share similarity common myna te...   \n",
       "1          398  click information red list category criterion ...   \n",
       "2          349  black headed oriole oriolus larvatus specie bi...   \n",
       "3          177  search thousand royalty free javan myna stock ...   \n",
       "4          112  foreground recording background recording egre...   \n",
       "\n",
       "                                             chunked  \n",
       "0  jun javan_myna share similarity common myna te...  \n",
       "1  click information red list category criterion ...  \n",
       "2  black_headed_oriole oriolus larvatus specie bi...  \n",
       "3  search thousand royalty free javan_myna stock ...  \n",
       "4  foreground recording background recording egre...  "
      ]
     },
     "execution_count": 106,
     "metadata": {},
     "output_type": "execute_result"
    }
   ],
   "source": [
    "data.head()"
   ]
  },
  {
   "cell_type": "markdown",
   "metadata": {},
   "source": [
    "Saving MWE Tokenizer\n",
    "- for future usage, in pre-processing, this can be done. "
   ]
  },
  {
   "cell_type": "code",
   "execution_count": 132,
   "metadata": {},
   "outputs": [],
   "source": [
    "import pickle\n",
    "with open(f'MWE Tokenizer.pkl', 'wb') as f1: \n",
    "    pickle.dump(tk, f1)"
   ]
  },
  {
   "cell_type": "markdown",
   "metadata": {},
   "source": [
    "Investigating word count"
   ]
  },
  {
   "cell_type": "code",
   "execution_count": 109,
   "metadata": {},
   "outputs": [],
   "source": [
    "# pip install wordcloud"
   ]
  },
  {
   "cell_type": "code",
   "execution_count": 111,
   "metadata": {},
   "outputs": [],
   "source": [
    "from nltk.probability import FreqDist\n",
    "import matplotlib.pyplot as plt\n",
    "from wordcloud import WordCloud\n",
    "txt=data['chunked'].tolist() #convert dataframe columns to list\n",
    "txt=' '.join(txt)\n",
    "# print(txt)"
   ]
  },
  {
   "cell_type": "code",
   "execution_count": 113,
   "metadata": {},
   "outputs": [
    {
     "data": {
      "image/png": "[encoded data removed]",
      "text/plain": [
       "<Figure size 640x480 with 1 Axes>"
      ]
     },
     "metadata": {},
     "output_type": "display_data"
    }
   ],
   "source": [
    "freq_dist=FreqDist(txt.split()) #calculate frequency of words that should be a list\n",
    "cloud=WordCloud().generate_from_frequencies(freq_dist) #generate word cloud\n",
    "plt.imshow(cloud, interpolation='bilinear')\n",
    "plt.axis('off')\n",
    "plt.show()"
   ]
  },
  {
   "cell_type": "code",
   "execution_count": 123,
   "metadata": {},
   "outputs": [
    {
     "name": "stdout",
     "output_type": "stream",
     "text": [
      "[('black', 310), ('oriole', 303), ('kingfisher', 293), ('bird', 267), ('specie', 189), ('naped', 161), ('white', 159), ('collared', 129), ('javan_myna', 123), ('egret', 121), ('myna', 103), ('yellow', 101), ('oriolus', 90), ('little', 87), ('common', 82), ('found', 80), ('singapore', 75), ('range', 73), ('bill', 68), ('also', 66), ('family', 64), ('chinensis', 63), ('eye', 60), ('blue', 56), ('name', 53), ('world', 52), ('acridotheres', 52), ('forest', 51), ('known', 49), ('subspecies', 48), ('asia', 47), ('one', 45), ('habitat', 44), ('male', 44), ('female', 44), ('javanicus', 41), ('wing', 41), ('golden', 40), ('small', 39), ('medium', 39), ('part', 39), ('red', 38), ('size', 38), ('photo', 38), ('call', 38), ('back', 37), ('tail', 37), ('population', 36), ('tree', 35), ('sized', 35), ('chloris', 34), ('many', 34), ('dark', 34), ('around', 32), ('todiramphus', 32), ('mangrove', 31), ('green', 30), ('description', 30), ('bright', 29), ('head', 29), ('wide', 29), ('area', 29), ('like', 29), ('heron', 28), ('similar', 28), ('southern', 28), ('often', 28), ('garzetta', 27), ('may', 27), ('feather', 27), ('juvenile', 27), ('plumage', 26), ('distribution', 26), ('animal', 26), ('stripe', 26), ('large', 25), ('mynah', 25), ('cm', 25), ('content', 25), ('across', 24), ('seen', 24), ('adult', 24), ('egretta', 23), ('breeding', 23), ('first', 23), ('several', 23), ('band', 23), ('native', 23), ('distinctive', 23), ('rufous', 23), ('sound', 23), ('information', 22), ('indian', 22), ('collar', 22), ('nest', 22), ('broad', 22), ('two', 22), ('garden', 22), ('javan', 22), ('africa', 21), ('within', 21), ('look', 21), ('open', 21), ('greenish', 21), ('free', 20), ('image', 20), ('park', 20), ('learn', 20), ('insect', 20), ('old', 20), ('vented', 20), ('starling', 20), ('past', 20), ('slender', 19), ('neck', 19), ('different', 19), ('nape', 19), ('along', 19), ('philippine', 19), ('including', 19), ('great', 19), ('orange', 19), ('feed', 19), ('spot', 19), ('trail', 19), ('year', 18), ('see', 18), ('java', 18), ('overall', 18), ('member', 18), ('island', 18), ('bali', 18), ('near', 18), ('water', 18), ('taxonomy', 17), ('considered', 17), ('g', 17), ('patch', 17), ('leg', 17), ('color', 17), ('note', 17), ('underpart', 17), ('day', 16), ('resident', 16), ('long', 16), ('introduced', 16), ('lowland', 16), ('sometimes', 16), ('explore', 15), ('local', 15), ('find', 15), ('variety', 15), ('india', 15), ('much', 15), ('well', 15), ('tropical', 15), ('billed', 15), ('number', 14), ('stock', 14), ('feb', 14), ('group', 14), ('identification', 14), ('pale', 14), ('show', 14), ('conservation', 14), ('included', 14), ('indonesia', 14), ('endemic', 14), ('passerine', 14), ('beak', 13), ('half', 13), ('rare', 13), ('pair', 13), ('scientific', 13), ('high', 13), ('narrow', 13), ('extending', 13), ('snowy', 13), ('fish', 13), ('kilyawan', 13), ('gray', 13), ('flight', 13), ('crest', 13), ('food', 13), ('list', 12), ('oriolidae', 12), ('video', 12), ('australia', 12), ('record', 12), ('beautiful', 12), ('plume', 12), ('underside', 12), ('wildlife', 12), ('asian', 12), ('country', 12), ('foot', 12), ('song', 12), ('east', 12), ('south', 12), ('coastal', 12), ('new', 12), ('map', 12), ('yellowish', 12), ('related', 12), ('although', 12), ('international', 12), ('recording', 11), ('sighting', 11), ('c', 11), ('wetland', 11), ('region', 11), ('chest', 11), ('moist', 11), ('coast', 11), ('subfamily', 11), ('alcedinidae', 11), ('subtropical', 11), ('mask', 11), ('crown', 11), ('north', 11), ('length', 11), ('colored', 11), ('page', 11), ('natural', 11), ('would', 11), ('source', 11), ('short', 11), ('taiwan', 11), ('data', 11), ('ebird', 11), ('olive', 11), ('streaked', 11), ('feature', 11), ('come', 11), ('fruit', 11), ('malaysia', 11), ('upperparts', 11), ('however', 10), ('total', 10), ('belonging', 10), ('home', 10), ('include', 10), ('wooded', 10), ('visitor', 10), ('spotted', 10), ('close', 10), ('nature', 10), ('throated', 10), ('grey', 10), ('august', 10), ('birding', 10), ('file', 10), ('giant', 10), ('halcyoninae', 10), ('sea', 10), ('noisy', 10), ('tip', 10), ('prey', 10), ('commonly', 10), ('threatened', 10), ('includes', 10), ('invasive', 10), ('face', 10), ('eurasian', 10), ('observation', 10), ('human', 10), ('non', 10), ('search', 9), ('january', 9), ('brown', 9), ('national', 9), ('mainly', 9), ('everywhere', 9), ('diet', 9), ('another', 9), ('chinese', 9), ('widespread', 9), ('available', 9), ('fact', 9), ('amazing', 9), ('southeast', 9), ('every', 9), ('even', 9), ('unlike', 9), ('least', 9), ('last', 9), ('december', 9), ('mantle', 9), ('kalba', 9), ('view', 9), ('buff', 9), ('perch', 9), ('uk', 9), ('article', 9), ('jan', 9), ('feeding', 9), ('immature', 9), ('order', 9), ('tenuirostris', 9), ('time', 9), ('endangered', 9), ('hooded', 9), ('mar', 9), ('birder', 9), ('except', 9), ('colour', 9), ('wild', 8), ('version', 8), ('b', 8), ('elegant', 8), ('difference', 8), ('second', 8), ('pink', 8), ('use', 8), ('nov', 8), ('halcyon', 8), ('raw', 8), ('base', 8), ('probably', 8), ('almost', 8), ('ireland', 8), ('branch', 8), ('million', 8), ('know', 8), ('looking', 8), ('slightly', 8), ('duller', 8), ('help', 8), ('northern', 8), ('using', 8), ('present', 8), ('called', 8), ('crested', 8), ('jungle', 8), ('recorded', 8), ('behavior', 8), ('status', 8), ('larger', 8), ('study', 8), ('since', 8), ('sale', 8), ('plantation', 8), ('eastern', 8), ('river', 8), ('china', 8), ('entirely', 8), ('pinkish', 8), ('collected', 8), ('generally', 8), ('far', 8), ('throat', 8), ('mobile', 8), ('wilderness', 8), ('level', 8), ('jun', 7), ('body', 7), ('download', 7), ('p', 7), ('photograph', 7), ('art', 7), ('e', 7), ('post', 7), ('march', 7), ('though', 7), ('type', 7), ('right', 7), ('tristis', 7), ('covert', 7), ('visible', 7), ('published', 7), ('montane', 7), ('need', 7), ('made', 7), ('site', 7), ('central', 7), ('introduction', 7), ('dec', 7), ('trade', 7), ('main', 7), ('polynesia', 7), ('concern', 7), ('british', 7), ('july', 7), ('brighter', 7), ('social', 7), ('america', 7), ('three', 7), ('jul', 7), ('especially', 7), ('quite', 7), ('take', 7), ('urban', 7), ('restricted', 7), ('actenoides', 7), ('april', 7), ('cattle', 7), ('iucn', 7), ('plant', 7), ('com', 7), ('based', 7), ('environment', 7), ('edge', 7), ('chick', 7), ('make', 7), ('genus', 7), ('road', 7), ('u', 7), ('four', 7), ('usually', 7), ('kepodang', 7), ('calling', 7), ('sacred', 7), ('strong', 7), ('birdlife', 7), ('indonesian', 7), ('darker', 7), ('x', 7), ('lore', 7), ('roost', 7), ('migratory', 7), ('de', 7), ('share', 6), ('appearance', 6), ('criterion', 6), ('europe', 6), ('n', 6), ('k', 6), ('editor', 6), ('th', 6), ('worldwide', 6), ('various', 6), ('season', 6), ('eats', 6), ('fauna', 6), ('siew', 6), ('global', 6), ('al', 6), ('locally', 6), ('today', 6), ('full', 6), ('oriental', 6), ('synonym', 6), ('winter', 6), ('way', 6), ('get', 6), ('discover', 6), ('turquoise', 6), ('loud', 6), ('kalbaensis', 6), ('rich', 6), ('behind', 6), ('genomic', 6), ('original', 6), ('mostly', 6), ('masked', 6), ('june', 6), ('sep', 6), ('life', 6), ('story', 6), ('inch', 6), ('breast', 6), ('l', 6), ('skip', 6), ('college', 6), ('latest', 6), ('return', 6), ('throughout', 6), ('wikipedia', 6), ('single', 6), ('variable', 6), ('http', 6), ('belly', 6), ('vagrant', 6), ('western', 6), ('eating', 6), ('biome', 6), ('biodiversity', 6), ('buffalo', 6), ('flying', 6), ('thailand', 6), ('hong', 6), ('tipped', 6), ('lake', 6), ('typical', 6), ('apart', 6), ('woodland', 6), ('spring', 6), ('hanging', 6), ('belongs', 6), ('others', 6), ('print', 6), ('behaviour', 6), ('concretus', 6), ('nearly', 6), ('city', 6), ('play', 6), ('classified', 6), ('news', 6), ('wee', 6), ('route', 6), ('term', 5), ('category', 5), ('extremely', 5), ('occurrence', 5), ('km', 5), ('quality', 5), ('thousand', 5), ('royalty', 5), ('project', 5), ('subcontinent', 5), ('increase', 5), ('living', 5), ('business', 5), ('id', 5), ('built', 5), ('apr', 5), ('actually', 5), ('field', 5), ('thin', 5), ('regularly', 5), ('research', 5), ('government', 5), ('agency', 5), ('malay', 5), ('undertail', 5), ('primary', 5), ('abundant', 5), ('kuala', 5), ('result', 5), ('recent', 5), ('collection', 5), ('picture', 5), ('november', 5), ('license', 5), ('fun', 5), ('uncommon', 5), ('borneo', 5), ('additional', 5), ('guide', 5), ('offer', 5), ('used', 5), ('britain', 5), ('arabian', 5), ('inhabits', 5), ('aug', 5), ('orchard', 5), ('habit', 5), ('rock', 5), ('form', 5), ('smaller', 5), ('giving', 5), ('kip', 5), ('due', 5), ('blacknapedoriole', 5), ('menu', 5), ('sept', 5), ('dull', 5), ('race', 5), ('formerly', 5), ('pest', 5), ('glossy', 5), ('preference', 5), ('bellied', 5), ('unique', 5), ('primarily', 5), ('forage', 5), ('quietly', 5), ('canopy', 5), ('broadening', 5), ('joining', 5), ('light', 5), ('account', 5), ('september', 5), ('according', 5), ('brightly', 5), ('etc', 5), ('thick', 5), ('stream', 5), ('plunge', 5), ('yet', 5), ('lack', 5), ('week', 5), ('noise', 5), ('online', 5), ('go', 5), ('baltimore', 5), ('interesting', 5), ('bred', 5), ('h', 5), ('yang', 5), ('young', 5), ('individual', 5), ('lateral', 5), ('broadly', 5), ('location', 5), ('flock', 5), ('kong', 5), ('aquatic', 5), ('occurs', 5), ('taken', 5), ('fig', 5), ('fluty', 5), ('difficult', 5), ('policy', 5), ('weight', 5), ('oz', 5), ('six', 5), ('likely', 5), ('bold', 5), ('foraging', 5), ('general', 5), ('stouter', 5), ('hike', 5), ('contains', 5), ('among', 5), ('tu', 5), ('distinguished', 4), ('click', 4), ('justification', 4), ('approach', 4), ('extent', 4), ('coloured', 4), ('vector', 4), ('ardeidae', 4), ('work', 4), ('ever', 4), ('detail', 4), ('j', 4), ('ornithology', 4), ('usa', 4), ('recently', 4), ('wall', 4), ('phone', 4), ('greeting', 4), ('exposed', 4), ('wingspan', 4), ('tour', 4), ('key', 4), ('shore', 4), ('coastline', 4), ('set', 4), ('pigeon', 4), ('tool', 4), ('website', 4), ('flora', 4), ('ang', 4), ('hill', 4), ('iris', 4), ('development', 4), ('lumpur', 4), ('count', 4), ('census', 4), ('illustration', 4), ('jpg', 4), ('largest', 4), ('established', 4), ('avibase', 4), ('extensive', 4), ('language', 4), ('give', 4), ('morning', 4), ('cc', 4), ('upload', 4), ('baby', 4), ('top', 4), ('tiny', 4), ('mammal', 4), ('line', 4), ('longer', 4), ('thinner', 4), ('frequents', 4), ('middle', 4), ('february', 4), ('confused', 4), ('brought', 4), ('pet', 4), ('oct', 4), ('item', 4), ('protection', 4), ('trip', 4), ('conspicuous', 4), ('updated', 4), ('ioc', 4), ('analysis', 4), ('gleaming', 4), ('beach', 4), ('distinguish', 4), ('rapid', 4), ('tall', 4), ('reach', 4), ('suggests', 4), ('allelic', 4), ('introgression', 4), ('subscribe', 4), ('gregarious', 4), ('diversity', 4), ('educational', 4), ('resource', 4), ('written', 4), ('snake', 4), ('canvas', 4), ('drawing', 4), ('ng', 4), ('fairly', 4), ('sighted', 4), ('catch', 4), ('place', 4), ('challenge', 4), ('credit', 4), ('maximum', 4), ('pied', 4), ('state', 4), ('factsheet', 4), ('sex', 4), ('vent', 4), ('lion', 4), ('latin', 4), ('migrant', 4), ('edited', 4), ('society', 4), ('run', 4), ('parakeet', 4), ('library', 4), ('visual', 4), ('closely', 4), ('avian', 4), ('diverse', 4), ('given', 4), ('gene', 4), ('low', 4), ('pattern', 4), ('program', 4), ('provides', 4), ('xanthornus', 4), ('camera', 4), ('photographer', 4), ('nesting', 4), ('movement', 4), ('fly', 4), ('add', 4), ('frequent', 4), ('measuring', 4), ('varies', 4), ('ornithologist', 4), ('escapee', 4), ('released', 4), ('comment', 4), ('burung', 4), ('potential', 4), ('documented', 4), ('passeriformes', 4), ('uae', 4), ('residential', 4), ('early', 4), ('followed', 4), ('making', 4), ('originally', 4), ('upper', 4), ('restaurant', 4), ('gloom', 4), ('perched', 4), ('address', 4), ('sanctuary', 4), ('barbet', 4), ('cavite', 4), ('erect', 4), ('relatively', 4), ('nasal', 4), ('bathing', 4), ('egg', 4), ('latter', 4), ('app', 4), ('kek', 4), ('identified', 4), ('loriot', 4), ('risk', 4), ('frontal', 3), ('hence', 3), ('vulnerable', 3), ('declining', 3), ('striking', 3), ('authority', 3), ('next', 3), ('background', 3), ('distributed', 3), ('slight', 3), ('illustrate', 3), ('del', 3), ('hoyo', 3), ('billerman', 3), ('keeney', 3), ('rodewald', 3), ('schulenberg', 3), ('cornell', 3), ('lab', 3), ('ithaca', 3), ('ny', 3), ('uploaded', 3), ('product', 3), ('produced', 3), ('demand', 3), ('null', 3), ('board', 3), ('following', 3), ('birdwatching', 3), ('shape', 3), ('england', 3), ('wale', 3), ('herald', 3), ('attached', 3), ('necked', 3), ('web', 3), ('courtship', 3), ('smyrnensis', 3), ('stretch', 3), ('prominent', 3), ('et', 3), ('suspected', 3), ('perfect', 3), ('rf', 3), ('browse', 3), ('getty', 3), ('premium', 3), ('vet', 3), ('calapan', 3), ('mindoro', 3), ('database', 3), ('system', 3), ('containing', 3), ('beauty', 3), ('good', 3), ('street', 3), ('sa', 3), ('leaf', 3), ('car', 3), ('tend', 3), ('broader', 3), ('cooky', 3), ('tends', 3), ('stand', 3), ('phrase', 3), ('polytypic', 3), ('via', 3), ('brownish', 3), ('browner', 3), ('effective', 3), ('scale', 3), ('required', 3), ('manufactured', 3), ('space', 3), ('andaman', 3), ('nicobar', 3), ('saw', 3), ('big', 3), ('altamira', 3), ('audubon', 3), ('robert', 3), ('lesser', 3), ('increased', 3), ('iran', 3), ('fall', 3), ('courtesy', 3), ('nutrition', 3), ('singly', 3), ('ringed', 3), ('rust', 3), ('become', 3), ('varying', 3), ('photographed', 3), ('mm', 3), ('f', 3), ('thanks', 3), ('po', 3), ('channel', 3), ('highly', 3), ('evelyn', 3), ('follow', 3), ('shop', 3), ('katsushika', 3), ('hokusai', 3), ('option', 3), ('shipping', 3), ('heard', 3), ('torresian', 3), ('property', 3), ('sub', 3), ('continent', 3), ('compared', 3), ('alcedo', 3), ('tagalog', 3), ('american', 3), ('sarawak', 3), ('still', 3), ('rarer', 3), ('true', 3), ('lining', 3), ('papaya', 3), ('important', 3), ('chestnut', 3), ('wood', 3), ('concreta', 3), ('intermediate', 3), ('spread', 3), ('significant', 3), ('raucous', 3), ('unit', 3), ('tailed', 3), ('broadbill', 3), ('keep', 3), ('away', 3), ('macaulay', 3), ('serf', 3), ('repository', 3), ('contributed', 3), ('institution', 3), ('ngo', 3), ('facility', 3), ('function', 3), ('engine', 3), ('analytic', 3), ('foothill', 3), ('differ', 3), ('associated', 3), ('convergent', 3), ('genome', 3), ('signature', 3), ('diving', 3), ('seed', 3), ('parrot', 3), ('critically', 3), ('winged', 3), ('ex', 3), ('occur', 3), ('geographic', 3), ('establishment', 3), ('front', 3), ('predominantly', 3), ('ring', 3), ('grow', 3), ('later', 3), ('digital', 3), ('zealand', 3), ('pm', 3), ('major', 3), ('picked', 3), ('brunei', 3), ('myanmar', 3), ('dove', 3), ('japan', 3), ('crow', 3), ('permanent', 3), ('inhabitant', 3), ('tell', 3), ('deep', 3), ('european', 3), ('diagnostic', 3), ('flank', 3), ('typically', 3), ('korea', 3), ('vietnam', 3), ('union', 3), ('involving', 3), ('fight', 3), ('provisional', 3), ('exotic', 3), ('escaped', 3), ('official', 3), ('adalah', 3), ('berkicau', 3), ('swamp', 3), ('inland', 3), ('australian', 3), ('added', 3), ('kiah', 3), ('pufferfish', 3), ('byram', 3), ('penang', 3), ('droppings', 3), ('start', 3), ('naked', 3), ('house', 3), ('waterway', 3), ('rescue', 3), ('nd', 3), ('split', 3), ('french', 3), ('italian', 3), ('checklist', 3), ('kaeeu', 3), ('org', 3), ('john', 3), ('fulton', 3), ('ago', 3), ('named', 3), ('forested', 3), ('marsh', 3), ('solitary', 3), ('pitched', 3), ('malachite', 3), ('khor', 3), ('popular', 3), ('could', 3), ('review', 3), ('towards', 3), ('october', 3), ('studied', 3), ('cream', 3), ('pleasantly', 3), ('info', 3), ('le', 3), ('registered', 3), ('mid', 3), ('described', 3), ('hindneck', 3), ('end', 3), ('singing', 3), ('shallow', 3), ('located', 3), ('said', 3), ('quick', 3), ('waterfall', 3), ('spiffy', 3), ('farm', 3), ('follows', 3), ('easily', 3), ('forehead', 3), ('class', 3), ('appeared', 3), ('julian', 3), ('teh', 3), ('lower', 3), ('distance', 3), ('taxon', 3), ('store', 3), ('secondary', 3), ('easy', 3), ('expansion', 3), ('rump', 3), ('usual', 3), ('niee', 3), ('myaa', 3), ('iwee', 3), ('leeow', 3), ('witnessed', 3), ('fresh', 3), ('outside', 3), ('ground', 3), ('streak', 3), ('locality', 3), ('observed', 3), ('mudflats', 3), ('less', 3), ('author', 3), ('historical', 3), ('apk', 3), ('nectar', 3), ('live', 3), ('thought', 3), ('colony', 3), ('captured', 3), ('lored', 3), ('hornbill', 3), ('greater', 3), ('challenging', 3), ('il', 3), ('la', 3), ('bridge', 3), ('extinction', 3), ('weighs', 3), ('specific', 3), ('market', 3), ('diagnosis', 3), ('cr', 3), ('center', 3), ('physical', 2), ('threshold', 2), ('combined', 2), ('fluctuating', 2), ('black_headed_oriole', 2), ('contrasting', 2), ('mountain', 2), ('hd', 2), ('foreground', 2), ('duration', 2), ('survey', 2), ('alive', 2), ('mart', 2), ('nez', 2), ('vilalta', 2), ('motis', 2), ('kirwan', 2), ('christie', 2), ('travelling', 2), ('fatman', 2), ('purchased', 2), ('decor', 2), ('apparel', 2), ('case', 2), ('card', 2), ('shipped', 2), ('exception', 2), ('chennai', 2), ('false', 2), ('leaved', 2), ('mahogany', 2), ('swietenia', 2), ('macrophylla', 2), ('shed', 2), ('put', 2), ('facebook', 2), ('age', 2), ('seemed', 2), ('technology', 2), ('scientist', 2), ('omnivorous', 2), ('reserved', 2), ('watch', 2), ('lone', 2), ('gembala', 2), ('kerbau', 2), ('monotypic', 2), ('whitish', 2), ('trend', 2), ('destruction', 2), ('rainforest', 2), ('missing', 2), ('commonest', 2), ('rm', 2), ('licensing', 2), ('authentic', 2), ('format', 2), ('fractured', 2), ('bone', 2), ('problem', 2), ('welcome', 2), ('independent', 2), ('network', 2), ('countryside', 2), ('experience', 2), ('sight', 2), ('specified', 2), ('fallen', 2), ('drive', 2), ('chase', 2), ('tinge', 2), ('lipstick', 2), ('coniferous', 2), ('brief', 2), ('whistled', 2), ('woodpecker', 2), ('humii', 2), ('armstrongi', 2), ('collaris', 2), ('successful', 2), ('peninsula', 2), ('sumatra', 2), ('austen', 2), ('newly', 2), ('attribution', 2), ('figurine', 2), ('traditional', 2), ('eared', 2), ('kingfishertodiramphus', 2), ('kennedy', 2), ('guided', 2), ('led', 2), ('club', 2), ('seeing', 2), ('realized', 2), ('neighborhood', 2), ('left', 2), ('model', 2), ('height', 2), ('text', 2), ('rarity', 2), ('starting', 2), ('craig', 2), ('dna', 2), ('counterpart', 2), ('protected', 2), ('sharjah', 2), ('oman', 2), ('paler', 2), ('develop', 2), ('basic', 2), ('lifestyle', 2), ('rocky', 2), ('shoreline', 2), ('bordering', 2), ('clean', 2), ('strip', 2), ('vocal', 2), ('harsh', 2), ('choo', 2), ('chew', 2), ('considerably', 2), ('decade', 2), ('bay', 2), ('silver', 2), ('please', 2), ('visit', 2), ('child', 2), ('publication', 2), ('organism', 2), ('curren', 2), ('developed', 2), ('vision', 2), ('capable', 2), ('move', 2), ('rather', 2), ('framed', 2), ('draw', 2), ('ngg', 2), ('ste', 2), ('steerii', 2), ('cebu', 2), ('assimilis', 2), ('uncovered', 2), ('melanistic', 2), ('tertius', 2), ('congeneric', 2), ('lemon', 2), ('guinea', 2), ('persistent', 2), ('australasia', 2), ('comparison', 2), ('african', 2), ('example', 2), ('ceryle', 2), ('semitorquata', 2), ('tuliyao', 2), ('kukyaw', 2), ('kiyaw', 2), ('provided', 2), ('cite', 2), ('soib', 2), ('kundoo', 2), ('submontane', 2), ('northwestern', 2), ('paya', 2), ('maga', 2), ('highland', 2), ('inky', 2), ('gloss', 2), ('alone', 2), ('started', 2), ('symbol', 2), ('mention', 2), ('ripe', 2), ('neighbourhood', 2), ('magnet', 2), ('maculatus', 2), ('self', 2), ('mark', 2), ('solar', 2), ('dacelo', 2), ('ardea', 2), ('intermedia', 2), ('melanorhynchos', 2), ('classification', 2), ('particularly', 2), ('creative', 2), ('evaluated', 2), ('culture', 2), ('school', 2), ('environmental', 2), ('impact', 2), ('urbanisation', 2), ('koh', 2), ('coraciiformes', 2), ('relationship', 2), ('attempt', 2), ('ideal', 2), ('jakarta', 2), ('yes', 2), ('price', 2), ('paper', 2), ('hinge', 2), ('crimson', 2), ('sunbird', 2), ('port', 2), ('fl', 2), ('must', 2), ('tray', 2), ('netizen', 2), ('square', 2), ('complaint', 2), ('blacknaped', 2), ('slenderbilled', 2), ('un', 2), ('current', 2), ('matter', 2), ('proportioned', 2), ('shaggy', 2), ('exclusively', 2), ('heavily', 2), ('sulu', 2), ('streaking', 2), ('understanding', 2), ('genetic', 2), ('convergence', 2), ('aves', 2), ('radiation', 2), ('opportunity', 2), ('evolution', 2), ('phenotype', 2), ('direct', 2), ('lineage', 2), ('whole', 2), ('identify', 2), ('finding', 2), ('birda', 2), ('poorly', 2), ('conservationist', 2), ('terminally', 2), ('evidence', 2), ('recommendation', 2), ('bwm', 2), ('melanopterus', 2), ('hundred', 2), ('depending', 2), ('situ', 2), ('melanism', 2), ('integrative', 2), ('separate', 2), ('adaptation', 2), ('importance', 2), ('word', 2), ('gold', 2), ('greek', 2), ('toe', 2), ('journey', 2), ('coop', 2), ('r', 2), ('jalak', 2), ('kebo', 2), ('apple', 2), ('palearctic', 2), ('downloaded', 2), ('internet', 2), ('successfully', 2), ('discussion', 2), ('descend', 2), ('onto', 2), ('shopping', 2), ('tourist', 2), ('district', 2), ('injured', 2), ('persuaded', 2), ('able', 2), ('tried', 2), ('loss', 2), ('raintrees', 2), ('methodist', 2), ('compound', 2), ('ranging', 2), ('five', 2), ('marine', 2), ('sci', 2), ('melodic', 2), ('land', 2), ('beyond', 2), ('equipment', 2), ('weighing', 2), ('gram', 2), ('azure', 2), ('underneath', 2), ('beside', 2), ('degraded', 2), ('tom', 2), ('shaped', 2), ('fiber', 2), ('whitevented', 2), ('grandis', 2), ('fuscus', 2), ('recommends', 2), ('quarrelsome', 2), ('fulfill', 2), ('exotics', 2), ('jurong', 2), ('ghinoarsalan', 2), ('mempun', 2), ('extends', 2), ('jiangsu', 2), ('fujian', 2), ('bluish', 2), ('hunt', 2), ('sitting', 2), ('keeping', 2), ('lookout', 2), ('surrounding', 2), ('goh', 2), ('juan', 2), ('hui', 2), ('ability', 2), ('todirhamphus', 2), ('grassland', 2), ('finder', 2), ('filmed', 2), ('kitchen', 2), ('pasir', 2), ('ri', 2), ('clea', 2), ('purple', 2), ('fern', 2), ('distinct', 2), ('co', 2), ('echoing', 2), ('minute', 2), ('try', 2), ('oriolid', 2), ('indicated', 2), ('reptile', 2), ('crustacean', 2), ('title', 2), ('aka', 2), ('merryn', 2), ('rd', 2), ('act', 2), ('backed', 2), ('occurring', 2), ('display', 2), ('ai', 2), ('rarest', 2), ('warm', 2), ('midday', 2), ('beginning', 2), ('sprawled', 2), ('beneath', 2), ('lived', 2), ('initially', 2), ('alan', 2), ('owyong', 2), ('journal', 2), ('proven', 2), ('aigrette', 2), ('diminutive', 2), ('aigron', 2), ('epithet', 2), ('sgarzetta', 2), ('perhaps', 2), ('chance', 2), ('figure', 2), ('coming', 2), ('previously', 2), ('christine', 2), ('chua', 2), ('hardcover', 2), ('w', 2), ('rspb', 2), ('report', 2), ('freshwater', 2), ('lagoon', 2), ('secretive', 2), ('seet', 2), ('without', 2), ('autumn', 2), ('favorite', 2), ('reading', 2), ('minimum', 2), ('eight', 2), ('aquamarine', 2), ('crab', 2), ('clearly', 2), ('floor', 2), ('literature', 2), ('role', 2), ('fiction', 2), ('dream', 2), ('fruiting', 2), ('grove', 2), ('mellow', 2), ('dr', 2), ('raptor', 2), ('brilliantly', 2), ('elusive', 2), ('cap', 2), ('replaces', 2), ('whistle', 2), ('persistently', 2), ('bukit', 2), ('growth', 2), ('scrub', 2), ('trust', 2), ('county', 2), ('extinct', 2), ('talking', 2), ('seabird', 2), ('running', 2), ('crunchy', 2), ('recommended', 2), ('citation', 2), ('friend', 2), ('kept', 2), ('castle', 2), ('espie', 2), ('consuming', 2), ('creature', 2), ('wildsounds', 2), ('desktop', 2), ('track', 2), ('soundcloud', 2), ('signed', 2), ('illustrator', 2), ('pointed', 2), ('adoption', 2), ('ad', 2), ('hiking', 2), ('overlap', 2), ('compare', 2), ('habitation', 2), ('lovely', 2), ('reputation', 2), ('domain', 2), ('kingdom', 2), ('boarded', 2), ('plane', 2), ('london', 2), ('conducted', 2), ('greeted', 2), ('excitement', 2), ('png', 2), ('turn', 2), ('seem', 2), ('paradise', 2), ('linnaeus', 2), ('english', 2), ('date', 2), ('navigation', 2), ('highest', 2), ('abundance', 2), ('andamanens', 2), ('attractive', 2), ('dorset', 2), ('naturally', 2), ('skin', 2), ('koel', 2), ('marked', 2), ('particular', 2), ('done', 2), ('lunch', 2), ('bathe', 2), ('episode', 2), ('occurred', 2), ('window', 2), ('captivity', 2), ('icanvas', 2), ('rose', 2), ('everything', 2), ('gallery', 2), ('sharp', 2), ('instagram', 2), ('zhao', 2), ('breeder', 2), ('sri', 2), ('lanka', 2), ('cultivation', 2), ('seasonal', 2), ('taman', 2), ('negara', 2), ('pahang', 2), ('walmart', 2), ('join', 2), ('birdfacts', 2), ('bto', 2), ('accessed', 2), ('dead', 2), ('widely', 2), ('consists', 2), ('africanlovebirds', 2), ('birdslover', 2), ('hagoromo', 2), ('buhayprobinsya', 2), ('palefallow', 2), ('lovebird', 2), ('petlover', 2), ('birdsprice', 2), ('coat', 2), ('breed', 2), ('greener', 2), ('wildwood', 2), ('ancient', 2), ('rest', 2), ('cinnamon', 2), ('managed', 2), ('identifying', 2), ('competition', 2), ('century', 2), ('derived', 2), ('conspecific', 2), ('sunda', 2), ('rate', 2), ('thru', 2), ('sparrow', 2), ('hunting', 2), ('refers', 2), ('senegaloides', 2), ('zestimate', 2), ('decreased', 2), ('famous', 2), ('reddish', 2), ('blnori', 2), ('faced', 2), ('massive', 2), ('russia', 2), ('howtofeedblacknapedorioleblack', 2), ('hungry', 2), ('girl', 2), ('philippinespihilippin', 2), ('v', 2), ('clements', 2), ('ed', 2), ('ibis', 2), ('meet', 2), ('nearby', 2), ('widening', 2), ('hind', 2), ('subadult', 2), ('blacknapedoriolebirdcall', 2), ('blacknapedoriolefood', 2), ('soft', 2), ('apps', 2), ('android', 2), ('diurnal', 2), ('care', 2), ('curved', 2), ('brilliant', 2), ('fond', 2), ('montanes', 2), ('confusion', 2), ('puerto', 2), ('rico', 2), ('building', 2), ('waste', 2), ('vocalization', 2), ('voice', 2), ('gracula', 2), ('supercilium', 2), ('creek', 2), ('per', 2), ('learning', 2), ('winchelli', 2), ('drongo', 2), ('eagle', 2), ('steep', 2), ('climb', 2), ('ebb', 2), ('flow', 2), ('section', 2), ('exist', 2), ('blackish', 2), ('require', 2), ('people', 2), ('ready', 2), ('bar', 2), ('nestling', 2), ('gain', 2), ('cape', 2), ('moderately', 2), ('average', 2), ('min', 2), ('scanner', 2), ('boardwalk', 2), ('se', 2), ('bec', 2), ('du', 2), ('ou', 2), ('dodder', 2), ('receive', 2), ('rit', 2), ('zebra', 2), ('finch', 2), ('variation', 2), ('seven', 2), ('public', 2), ('history', 2), ('chine', 2), ('ecosystem', 2), ('facing', 2), ('therefore', 2), ('lombok', 2), ('greatly', 2), ('uppercase', 2), ('generic', 2), ('puffer', 2), ('dpi', 2), ('aspect', 2), ('exciting', 2), ('exploring', 2), ('rer', 2), ('attention', 2), ('differentiated', 2), ('danger', 2), ('always', 2), ('linn', 2), ('metadata', 2), ('turtle', 2), ('simply', 2), ('sanctus', 2), ('gps', 2), ('logging', 2), ('device', 2), ('counted', 2), ('grouping', 2), ('spend', 2), ('winchell', 2), ('kml', 2), ('similarity', 1), ('larvatus', 1), ('flesh', 1), ('systematics', 1), ('edit', 1), ('black_headed', 1), ('footage', 1), ('adobe', 1), ('handbook', 1), ('series', 1), ('deal', 1), ('viewed', 1), ('patchy', 1), ('plain', 1), ('tamil', 1), ('nadu', 1), ('surely', 1), ('tempid', 1), ('draftid', 1), ('revisionid', 1), ('isprovisionaldraft', 1), ('uid', 1), ('dab', 1), ('aa', 1), ('sitesettingsid', 1), ('pigmented', 1), ('pigment', 1), ('nparks', 1), ('biometrics', 1), ('wind', 1), ('cemetery', 1), ('noah', 1), ('lover', 1), ('document', 1), ('platform', 1), ('harness', 1), ('power', 1), ('citizen', 1), ('grouped', 1), ('eat', 1), ('indulging', 1), ('ritual', 1), ('apparently', 1), ('couple', 1), ('canal', 1), ('mina', 1), ('maina', 1), ('sawah', 1), ('jawa', 1), ('quantified', 1), ('reported', 1), ('owing', 1), ('ongoing', 1), ('organise', 1), ('depart', 1), ('familiar', 1), ('topped', 1), ('fit', 1), ('tibiotarsus', 1), ('team', 1), ('rescued', 1), ('recovery', 1), ('birdwatch', 1), ('organisation', 1), ('currently', 1), ('supporter', 1), ('nationwide', 1), ('storm', 1), ('glistening', 1), ('stillness', 1), ('frost', 1), ('encrusted', 1), ('landscape', 1), ('stuff', 1), ('wonder', 1), ('utmost', 1), ('jim', 1), ('crumley', 1), ('venture', 1), ('firsthand', 1), ('chaos', 1), ('boast', 1), ('reviewed', 1), ('utc', 1), ('flickreviewr', 1), ('licensed', 1), ('compatible', 1), ('unknown', 1), ('whether', 1), ('valid', 1), ('directed', 1), ('sacha', 1), ('goedegebure', 1), ('hillary', 1), ('blazer', 1), ('doyle', 1), ('su', 1), ('ping', 1), ('chio', 1), ('marlon', 1), ('dance', 1), ('hooi', 1), ('nadia', 1), ('ramlee', 1), ('zari', 1), ('accidentally', 1), ('prompting', 1), ('ranger', 1), ('launch', 1), ('speed', 1), ('spelled', 1), ('bordered', 1), ('us', 1), ('improve', 1), ('jabbering', 1), ('confusingly', 1), ('pekaka', 1), ('bakau', 1), ('biasa', 1), ('northeast', 1), ('abyssinicus', 1), ('vidali', 1), ('davisoni', 1), ('occipitalis', 1), ('laubmannianus', 1), ('chloropterus', 1), ('azelus', 1), ('palmeri', 1), ('teraokai', 1), ('lesson', 1), ('alien', 1), ('rumah', 1), ('thai', 1), ('melanosternus', 1), ('etching', 1), ('winifred', 1), ('fluctuates', 1), ('dataset', 1), ('annotated', 1), ('keyword', 1), ('freely', 1), ('commercial', 1), ('crystal', 1), ('glassmaking', 1), ('gift', 1), ('woman', 1), ('men', 1), ('symbolicof', 1), ('purifier', 1), ('filth', 1), ('happen', 1), ('regionally', 1), ('mcquade', 1), ('stump', 1), ('texas', 1), ('nonmigratory', 1), ('stick', 1), ('climate', 1), ('px', 1), ('captcha', 1), ('carry', 1), ('dress', 1), ('wear', 1), ('polyester', 1), ('lycra', 1), ('lc', 1), ('bruno', 1), ('walther', 1), ('peter', 1), ('jones', 1), ('demonstration', 1), ('mobility', 1), ('adaptability', 1), ('committee', 1), ('changed', 1), ('influx', 1), ('amounting', 1), ('feare', 1), ('alqurm', 1), ('handful', 1), ('horn', 1), ('hormozgan', 1), ('say', 1), ('loading', 1), ('advertisement', 1), ('expand', 1), ('read', 1), ('sporting', 1), ('sometime', 1), ('attract', 1), ('backyard', 1), ('kelly', 1), ('schmitz', 1), ('month', 1), ('molt', 1), ('lifespan', 1), ('mating', 1), ('descending', 1), ('agitated', 1), ('exceptionally', 1), ('confirmed', 1), ('morphological', 1), ('degree', 1), ('california', 1), ('correct', 1), ('san', 1), ('diego', 1), ('strand', 1), ('coronado', 1), ('ca', 1), ('canon', 1), ('confirm', 1), ('let', 1), ('wrong', 1), ('shot', 1), ('beautifulsoundang', 1), ('bagong', 1), ('alaga', 1), ('ni', 1), ('kurtplease', 1), ('kayo', 1), ('nminfollow', 1), ('nyo', 1), ('din', 1), ('fb', 1), ('namin', 1), ('shiekurt', 1), ('vlogthank', 1), ('osang', 1), ('gwon', 1), ('virtual', 1), ('textstoggle', 1), ('essay', 1), ('interview', 1), ('captive', 1), ('disclaimer', 1), ('largely', 1), ('student', 1), ('adw', 1), ('cover', 1), ('describe', 1), ('save', 1), ('inner', 1), ('outer', 1), ('fleshy', 1), ('dirty', 1), ('completely', 1), ('upon', 1), ('scorpion', 1), ('distinctly', 1), ('binocular', 1), ('socket', 1), ('rotate', 1), ('entire', 1), ('ch', 1), ('vertebrate', 1), ('alcedine', 1), ('ashy', 1), ('subscriber', 1), ('whatsthisbird', 1), ('community', 1), ('abstract', 1), ('menace', 1), ('tok', 1), ('yin', 1), ('xin', 1), ('venturing', 1), ('regular', 1), ('writer', 1), ('concerned', 1), ('influence', 1), ('presence', 1), ('monadjem', 1), ('rudis', 1), ('youtube', 1), ('universal', 1), ('music', 1), ('groupdirty', 1), ('secret', 1), ('rejectsmove', 1), ('interscope', 1), ('release', 1), ('umg', 1), ('erpornis', 1), ('sang', 1), ('nila', 1), ('utama', 1), ('coal', 1), ('signifies', 1), ('joy', 1), ('energy', 1), ('embrace', 1), ('mystery', 1), ('magic', 1), ('silence', 1), ('message', 1), ('meeting', 1), ('spirit', 1), ('nt', 1), ('mesophoyx', 1), ('alba', 1), ('casmerodius', 1), ('albus', 1), ('ghat', 1), ('structured', 1), ('namespace', 1), ('unstructured', 1), ('sharealike', 1), ('apply', 1), ('evolved', 1), ('comprehensive', 1), ('fungi', 1), ('sue', 1), ('wong', 1), ('love', 1), ('bringing', 1), ('performed', 1), ('multilingual', 1), ('storytelling', 1), ('workshop', 1), ('actively', 1), ('involved', 1), ('festival', 1), ('rapidly', 1), ('resulting', 1), ('economic', 1), ('defor', 1), ('dennis', 1), ('vimeo', 1), ('everyone', 1), ('hate', 1), ('fantastical', 1), ('multimedia', 1), ('copyrighted', 1), ('contributor', 1), ('cost', 1), ('sgd', 1), ('excl', 1), ('gst', 1), ('attach', 1), ('mounting', 1), ('equivalent', 1), ('stamp', 1), ('sculpture', 1), ('fronted', 1), ('dwarf', 1), ('valuation', 1), ('tax', 1), ('assessment', 1), ('diner', 1), ('finish', 1), ('stall', 1), ('owner', 1), ('remind', 1), ('cleaner', 1), ('clear', 1), ('audio', 1), ('powered', 1), ('collect', 1), ('archive', 1), ('distributes', 1), ('education', 1), ('sordidus', 1), ('joshua', 1), ('chen', 1), ('ranted', 1), ('flocked', 1), ('feasted', 1), ('leftover', 1), ('table', 1), ('sengkang', 1), ('kopitiam', 1), ('aim', 1), ('facilitate', 1), ('operation', 1), ('researcher', 1), ('consultant', 1), ('relating', 1), ('characteristic', 1), ('harahaka', 1), ('treated', 1), ('generously', 1), ('swainson', 1), ('wj', 1), ('alcedininae', 1), ('basis', 1), ('phylogenetic', 1), ('remains', 1), ('biology', 1), ('cosmopolitan', 1), ('archetypal', 1), ('dive', 1), ('sensory', 1), ('locomotor', 1), ('air', 1), ('transition', 1), ('powerful', 1), ('effect', 1), ('continental', 1), ('sequencing', 1), ('experienced', 1), ('stronger', 1), ('demographic', 1), ('fluctuation', 1), ('influenced', 1), ('dynamic', 1), ('molecular', 1), ('comparative', 1), ('reveal', 1), ('positive', 1), ('selection', 1), ('brain', 1), ('dietary', 1), ('diver', 1), ('enhance', 1), ('connection', 1), ('genotype', 1), ('identifies', 1), ('eater', 1), ('bite', 1), ('piece', 1), ('incomplete', 1), ('developing', 1), ('crisis', 1), ('increasingly', 1), ('confronted', 1), ('whose', 1), ('surviving', 1), ('affected', 1), ('worrying', 1), ('solution', 1), ('emerging', 1), ('analyzed', 1), ('marker', 1), ('variability', 1), ('insular', 1), ('songbird', 1), ('illegal', 1), ('numbering', 1), ('continued', 1), ('survival', 1), ('urgently', 1), ('gradient', 1), ('variably', 1), ('interpreted', 1), ('revealed', 1), ('reflects', 1), ('limited', 1), ('differentiation', 1), ('recommend', 1), ('maintain', 1), ('subspecific', 1), ('trait', 1), ('confer', 1), ('occasional', 1), ('cross', 1), ('insurance', 1), ('boost', 1), ('viability', 1), ('prospect', 1), ('underscore', 1), ('determining', 1), ('appropriate', 1), ('blueprint', 1), ('dealing', 1), ('phenotypically', 1), ('safari', 1), ('meaning', 1), ('perching', 1), ('penetrated', 1), ('neighbouring', 1), ('cooler', 1), ('provide', 1), ('agris', 1), ('celmins', 1), ('bang', 1), ('kachao', 1), ('samut', 1), ('prakan', 1), ('briefly', 1), ('bangau', 1), ('kecil', 1), ('northerly', 1), ('sun', 1), ('chong', 1), ('forward', 1), ('meticulously', 1), ('audacity', 1), ('removed', 1), ('unwanted', 1), ('clip', 1), ('shahrul', 1), ('kamal', 1), ('bishan', 1), ('forum', 1), ('prefer', 1), ('thicker', 1), ('tract', 1), ('never', 1), ('searching', 1), ('owl', 1), ('frankfurt', 1), ('germany', 1), ('japanese', 1), ('cormorant', 1), ('kyoto', 1), ('carrion', 1), ('distinction', 1), ('tonga', 1), ('samoa', 1), ('swan', 1), ('preening', 1), ('southport', 1), ('tenggara', 1), ('broderipi', 1), ('boneratensis', 1), ('med', 1), ('onomatopoeia', 1), ('echo', 1), ('think', 1), ('better', 1), ('approached', 1), ('siberia', 1), ('ussuriland', 1), ('northeastern', 1), ('headed', 1), ('chlorocephalus', 1), ('crassirostris', 1), ('brachyrynchus', 1), ('ethiopian', 1), ('monacha', 1), ('cup', 1), ('pendulum', 1), ('structure', 1), ('grass', 1), ('string', 1), ('lined', 1), ('softer', 1), ('material', 1), ('hair', 1), ('suspended', 1), ('dropping', 1), ('shrub', 1), ('baseball', 1), ('pouch', 1), ('sock', 1), ('anna', 1), ('irvine', 1), ('glad', 1), ('happy', 1), ('aneeta', 1), ('mohanty', 1), ('brelsford', 1), ('eyestripe', 1), ('swoop', 1), ('seizes', 1), ('alternatively', 1), ('snatch', 1), ('hover', 1), ('opening', 1), ('diameter', 1), ('vertical', 1), ('monsoon', 1), ('drain', 1), ('margin', 1), ('scientifically', 1), ('fascinating', 1), ('gained', 1), ('popularity', 1), ('farmland', 1), ('allows', 1), ('filter', 1), ('flag', 1), ('suitor', 1), ('sky', 1), ('pee', 1), ('yaaaaooww', 1), ('ilyawan', 1), ('kulyawan', 1), ('ntulihao', 1), ('tulihao', 1), ('isayan', 1), ('fore', 1), ('edg', 1), ('ndergro', 1), ('bane', 1), ('retailer', 1), ('shopper', 1), ('dirtying', 1), ('pavement', 1), ('emitting', 1), ('ferocious', 1), ('collective', 1), ('squawking', 1), ('likened', 1), ('woo', 1), ('wich', 1), ('ew', 1), ('reload', 1), ('agree', 1), ('personalize', 1), ('oiseaux', 1), ('net', 1), ('domestic', 1), ('licence', 1), ('dragon', 1), ('tubercle', 1), ('mudsnake', 1), ('dragonfish', 1), ('nabarlek', 1), ('naegleria', 1), ('mole', 1), ('rat', 1), ('index', 1), ('flash', 1), ('underbelly', 1), ('ear', 1), ('supplied', 1), ('nuisance', 1), ('exempt', 1), ('safeguard', 1), ('namely', 1), ('feral', 1), ('q', 1), ('twitter', 1), ('berry', 1), ('trema', 1), ('orientalis', 1), ('ficus', 1), ('genuinely', 1), ('campus', 1), ('indeed', 1), ('cumulative', 1), ('peninsular', 1), ('majority', 1), ('mature', 1), ('suppress', 1), ('send', 1), ('javamynamynahmynahbirdjavanmynahmynah', 1), ('birdindonesian', 1), ('birdbirdindonesian', 1), ('lucky', 1), ('enough', 1), ('showed', 1), ('sign', 1), ('earlier', 1), ('ding', 1), ('li', 1), ('yong', 1), ('employ', 1), ('method', 1), ('disturbing', 1), ('shuffling', 1), ('wait', 1), ('ambush', 1), ('strategy', 1), ('talaud', 1), ('monthly', 1), ('keen', 1), ('birdwatchers', 1), ('founded', 1), ('botswana', 1), ('namibia', 1), ('zimbabwe', 1), ('zambia', 1), ('allow', 1), ('freak', 1), ('chose', 1), ('incessant', 1), ('ornithological', 1), ('congress', 1), ('suit', 1), ('reference', 1), ('question', 1), ('en', 1), ('wiki', 1), ('edition', 1), ('collins', 1), ('foxed', 1), ('internally', 1), ('else', 1), ('vg', 1), ('folio', 1), ('pp', 1), ('illustrated', 1), ('toro', 1), ('fear', 1), ('fate', 1), ('helped', 1), ('comeback', 1), ('jack', 1), ('watkins', 1), ('webpage', 1), ('wildtracks', 1), ('bring', 1), ('oriliolidae', 1), ('ten', 1), ('akamas', 1), ('straight', 1), ('growing', 1), ('jane', 1), ('novel', 1), ('box', 1), ('indicate', 1), ('besides', 1), ('worm', 1), ('portsdown', 1), ('normally', 1), ('concealed', 1), ('constructed', 1), ('apartment', 1), ('shortly', 1), ('shaken', 1), ('violent', 1), ('rainstorm', 1), ('theme', 1), ('harbinger', 1), ('inspired', 1), ('character', 1), ('ying', 1), ('er', 1), ('romantic', 1), ('chamber', 1), ('greatest', 1), ('classical', 1), ('unbiased', 1), ('rated', 1), ('tripadvisor', 1), ('ranked', 1), ('webinar', 1), ('steve', 1), ('debus', 1), ('expert', 1), ('discus', 1), ('falcon', 1), ('pure', 1), ('morphs', 1), ('daniel', 1), ('tinggi', 1), ('histogram', 1), ('yorkshire', 1), ('charity', 1), ('office', 1), ('st', 1), ('george', 1), ('york', 1), ('yo', 1), ('gn', 1), ('accessibility', 1), ('privacy', 1), ('compliment', 1), ('safeguarding', 1), ('hyperactive', 1), ('staying', 1), ('consecutive', 1), ('incredible', 1), ('alternating', 1), ('side', 1), ('creamy', 1), ('shining', 1), ('cobalt', 1), ('perform', 1), ('lookup', 1), ('fastpeoplesearch', 1), ('contact', 1), ('relative', 1), ('cacophony', 1), ('crowding', 1), ('notwithstanding', 1), ('underbody', 1), ('datazone', 1), ('factsheets', 1), ('discovered', 1), ('condo', 1), ('locate', 1), ('landed', 1), ('strangford', 1), ('lough', 1), ('real', 1), ('gong', 1), ('jiao', 1), ('wei', 1), ('joanna', 1), ('lee', 1), ('sgag', 1), ('iphones', 1), ('accidental', 1), ('bushy', 1), ('washed', 1), ('mistaken', 1), ('ho', 1), ('chi', 1), ('minh', 1), ('calendar', 1), ('design', 1), ('remover', 1), ('collage', 1), ('maker', 1), ('guy', 1), ('jumpy', 1), ('cousin', 1), ('editorial', 1), ('timun', 1), ('ma', 1), ('unmarked', 1), ('crisply', 1), ('corner', 1), ('binding', 1), ('tight', 1), ('secure', 1), ('telephone', 1), ('rating', 1), ('kerry', 1), ('hung', 1), ('lam', 1), ('tai', 1), ('dish', 1), ('confirms', 1), ('nartreb', 1), ('shared', 1), ('ununsual', 1), ('decent', 1), ('match', 1), ('adpost', 1), ('chatbots', 1), ('dakota', 1), ('kilometer', 1), ('skill', 1), ('shady', 1), ('walk', 1), ('knysna', 1), ('loerie', 1), ('jungly', 1), ('picnic', 1), ('swimming', 1), ('shanghai', 1), ('earth', 1), ('chiayi', 1), ('strictly', 1), ('speaking', 1), ('recognized', 1), ('tuft', 1), ('ecology', 1), ('eukaryota', 1), ('cabin', 1), ('fullsize', 1), ('unless', 1), ('otherwise', 1), ('attributed', 1), ('obtained', 1), ('observing', 1), ('activity', 1), ('sampling', 1), ('multi', 1), ('storey', 1), ('albino', 1), ('fast', 1), ('discussed', 1), ('firm', 1), ('lacy', 1), ('crane', 1), ('technic', 1), ('atthis', 1), ('together', 1), ('wrote', 1), ('bob', 1), ('bookshop', 1), ('miss', 1), ('alarm', 1), ('desmares', 1), ('pierre', 1), ('auguste', 1), ('joseph', 1), ('consisting', 1), ('numerous', 1), ('huge', 1), ('divided', 1), ('rise', 1), ('colouration', 1), ('cackling', 1), ('uniform', 1), ('phylum', 1), ('animalia', 1), ('chordata', 1), ('earliest', 1), ('skibbereen', 1), ('cork', 1), ('sixteen', 1), ('blast', 1), ('blastn', 1), ('suite', 1), ('saved', 1), ('acrobeloides', 1), ('nanus', 1), ('acromyrmex', 1), ('echinatior', 1), ('panamanian', 1), ('leafcutter', 1), ('ant', 1), ('sorry', 1), ('hiked', 1), ('lichen', 1), ('moss', 1), ('majestic', 1), ('plectranthus', 1), ('asparagus', 1), ('prehistoric', 1), ('vibe', 1), ('lush', 1), ('viewpoint', 1), ('bit', 1), ('sparse', 1), ('eurasia', 1), ('wading', 1), ('estuary', 1), ('anywhere', 1), ('loose', 1), ('communally', 1), ('stockier', 1), ('kc', 1), ('arp', 1), ('photography', 1), ('costa', 1), ('bottom', 1), ('beaked', 1), ('victim', 1), ('fluffy', 1), ('silent', 1), ('colonisation', 1), ('specialist', 1), ('heronconservation', 1), ('biologist', 1), ('engaged', 1), ('ku', 1), ('oo', 1), ('warn', 1), ('plesant', 1), ('prepared', 1), ('fitness', 1), ('special', 1), ('outdoor', 1), ('planning', 1), ('chin', 1), ('fernandez', 1), ('amusing', 1), ('wbcp', 1), ('alice', 1), ('lay', 1), ('clutch', 1), ('incubate', 1), ('probable', 1), ('bed', 1), ('bath', 1), ('dimension', 1), ('lengthy', 1), ('payment', 1), ('stubby', 1), ('frog', 1), ('bug', 1), ('identity', 1), ('follower', 1), ('renhui', 1), ('guardian', 1), ('loop', 1), ('terenggan', 1), ('increasing', 1), ('volume', 1), ('unlimited', 1), ('delivery', 1), ('trial', 1), ('cited', 1), ('robinson', 1), ('profile', 1), ('thetford', 1), ('www', 1), ('diseased', 1), ('shade', 1), ('carpal', 1), ('tertiary', 1), ('ghino', 1), ('arsalan', 1), ('mempunyai', 1), ('bulu', 1), ('indah', 1), ('dan', 1), ('juga', 1), ('terkenal', 1), ('sebagai', 1), ('pesolek', 1), ('residence', 1), ('congregating', 1), ('scaly', 1), ('canterbury', 1), ('acre', 1), ('hold', 1), ('stunning', 1), ('enclosure', 1), ('rupat', 1), ('bengkalis', 1), ('regency', 1), ('resolution', 1), ('university', 1), ('hr', 1), ('tembusu', 1), ('dining', 1), ('hall', 1), ('frugivore', 1), ('bulbul', 1), ('pycnonotus', 1), ('goiavier', 1), ('eaten', 1), ('swallowed', 1), ('weather', 1), ('matching', 1), ('differs', 1), ('strongly', 1), ('brackish', 1), ('salt', 1), ('rice', 1), ('flooded', 1), ('sandy', 1), ('drier', 1), ('hemisphere', 1), ('temperate', 1), ('accepted', 1), ('invisus', 1), ('placed', 1), ('deserve', 1), ('deeply', 1), ('genetically', 1), ('divergent', 1), ('xeno', 1), ('canto', 1), ('external', 1), ('explorer', 1), ('cyanoventris', 1), ('suited', 1), ('sample', 1), ('khz', 1), ('bitrate', 1), ('kbps', 1), ('converted', 1), ('mp', 1), ('zamzar', 1), ('santol', 1), ('sandoricum', 1), ('koetjape', 1), ('occasionally', 1), ('islet', 1), ('pacific', 1), ('mariana', 1), ('melanesian', 1), ('sq', 1), ('ft', 1), ('bedroom', 1), ('bathroom', 1), ('rent', 1), ('nobody', 1), ('sure', 1), ('photobooth', 1), ('photoes', 1), ('stateofindiasbirds', 1), ('west', 1), ('decline', 1), ('loved', 1), ('boldly', 1), ('patterned', 1), ('dominated', 1), ('pointy', 1), ('weapon', 1), ('catching', 1), ('dendang', 1), ('selayang', 1), ('asyraf', 1), ('korean', 1), ('hot', 1), ('southwest', 1), ('slim', 1), ('suburb', 1), ('palm', 1), ('frequently', 1), ('attaching', 1), ('update', 1), ('integrated', 1), ('useful', 1), ('protonym', 1), ('syst', 1), ('nat', 1), ('code', 1), ('error', 1), ('manila', 1), ('meinertzhagen', 1), ('stresemann', 1), ('publish', 1), ('definition', 1), ('salep', 1), ('txt', 1), ('ups', 1), ('pasay', 1), ('angle', 1), ('bend', 1), ('posture', 1), ('skulking', 1), ('horizontal', 1), ('twice', 1), ('beat', 1), ('slower', 1), ('impression', 1), ('upfront', 1), ('fool', 1), ('joke', 1), ('success', 1), ('physician', 1), ('novelist', 1), ('mr', 1), ('darcy', 1), ('sister', 1), ('rdr', 1), ('showing', 1), ('redemption', 1), ('duchess', 1), ('blackness', 1), ('spectacular', 1), ('wooden', 1), ('walkway', 1), ('best', 1), ('indo', 1), ('malayan', 1), ('realm', 1), ('parental', 1), ('rely', 1), ('specimen', 1), ('hood', 1), ('shoulder', 1), ('barred', 1), ('robin', 1), ('dry', 1), ('dipterocarp', 1), ('evergreen', 1), ('sexual', 1), ('dimorphism', 1), ('whistling', 1), ('treetop', 1), ('sweet', 1), ('singer', 1), ('blaze', 1), ('torch', 1), ('might', 1), ('weaving', 1), ('remarkable', 1), ('kung', 1), ('fu', 1), ('kick', 1), ('choking', 1), ('blow', 1), ('gouging', 1), ('strike', 1), ('polar', 1), ('omnivore', 1), ('nocturnal', 1), ('hook', 1), ('junior', 1), ('mountainous', 1), ('heavy', 1), ('rainfall', 1), ('avoid', 1), ('raise', 1), ('dramatic', 1), ('flecking', 1), ('sundas', 1), ('cultivated', 1), ('accomplished', 1), ('padi', 1), ('disturbed', 1), ('riding', 1), ('oxpecker', 1), ('deposit', 1), ('unsuspecting', 1), ('being', 1), ('contaminates', 1), ('pollution', 1), ('spreading', 1), ('zoonosis', 1), ('ban', 1), ('came', 1), ('build', 1), ('hole', 1), ('glaucous', 1), ('afraid', 1), ('liquid', 1), ('incorporates', 1), ('imitation', 1), ('repertoire', 1), ('imitate', 1), ('religiosa', 1), ('beautyofbirds', 1), ('toned', 1), ('loral', 1), ('buffier', 1), ('carious', 1), ('tidal', 1), ('coconut', 1), ('lighter', 1), ('pick', 1), ('gruesomely', 1), ('getting', 1), ('excited', 1), ('wandering', 1), ('breaking', 1), ('sport', 1), ('rugby', 1), ('politics', 1), ('entertainment', 1), ('travel', 1), ('passing', 1), ('dot', 1), ('tapered', 1), ('downward', 1), ('concluded', 1), ('ava', 1), ('removal', 1), ('curb', 1), ('determinant', 1), ('adapted', 1), ('enclosed', 1), ('unusual', 1), ('vivid', 1), ('shrill', 1), ('really', 1), ('crowd', 1), ('barely', 1), ('moving', 1), ('machine', 1), ('donate', 1), ('arrival', 1), ('france', 1), ('previous', 1), ('told', 1), ('audience', 1), ('expect', 1), ('thighed', 1), ('folconet', 1), ('forktail', 1), ('crowned', 1), ('riufous', 1), ('racketail', 1), ('dollarbird', 1), ('created', 1), ('serpent', 1), ('balck', 1), ('braodbill', 1), ('banded', 1), ('whiskered', 1), ('collard', 1), ('camp', 1), ('raspy', 1), ('croak', 1), ('bullock', 1), ('jamaican', 1), ('refer', 1), ('snow', 1), ('immaculate', 1), ('stirring', 1), ('herding', 1), ('filmy', 1), ('curving', 1), ('birdy', 1), ('knowledge', 1), ('constantly', 1), ('evolving', 1), ('heightened', 1), ('awareness', 1), ('proper', 1), ('balance', 1), ('carbohydrate', 1), ('protein', 1), ('fat', 1), ('vitamin', 1), ('mineral', 1), ('ask', 1), ('waterbird', 1), ('arrives', 1), ('hang', 1), ('accessory', 1), ('framing', 1), ('hand', 1), ('crafted', 1), ('expertly', 1), ('stretched', 1), ('pine', 1), ('stretcher', 1), ('moderate', 1), ('direction', 1), ('pdf', 1), ('mielevation', 1), ('ftroute', 1), ('mile', 1), ('ribbon', 1), ('sunday', 1), ('strangest', 1), ('incident', 1), ('exhibit', 1), ('sacnned', 1), ('artec', 1), ('spider', 1), ('textured', 1), ('printing', 1), ('tern', 1), ('stork', 1), ('chermin', 1), ('pass', 1), ('colonial', 1), ('point', 1), ('berlayer', 1), ('glimpse', 1), ('colonised', 1), ('existing', 1), ('alongside', 1), ('recognised', 1), ('rarely', 1), ('descends', 1), ('encountered', 1), ('instead', 1), ('kariega', 1), ('opposite', 1), ('closer', 1), ('realise', 1), ('distingue', 1), ('facilement', 1), ('pour', 1), ('deux', 1), ('bandes', 1), ('noires', 1), ('sur', 1), ('yeux', 1), ('qui', 1), ('joignent', 1), ('nuque', 1), ('galement', 1), ('fort', 1), ('femelle', 1), ('couleur', 1), ('pelage', 1), ('plus', 1), ('verd', 1), ('tre', 1), ('olivaceo', 1), ('noted', 1), ('ringsend', 1), ('shelbourne', 1), ('stadium', 1), ('liffey', 1), ('passerby', 1), ('curiosity', 1), ('seagull', 1), ('perplexed', 1), ('ne', 1), ('bhutan', 1), ('yunnan', 1), ('guangxi', 1), ('grew', 1), ('thus', 1), ('decreasing', 1), ('continual', 1), ('lens', 1), ('parent', 1), ('inserting', 1), ('mouth', 1), ('regurgitated', 1), ('covered', 1), ('jostle', 1), ('fed', 1), ('avoiding', 1), ('dense', 1), ('tone', 1), ('strident', 1), ('encompass', 1), ('orthogroups', 1), ('cafe', 1), ('orthogroup', 1), ('hummingbird', 1), ('contraction', 1), ('elmley', 1), ('sturdy', 1), ('upperpart', 1), ('posted', 1), ('terra', 1), ('johnsd', 1), ('mike', 1), ('smith', 1), ('squared', 1), ('fro', 1), ('ua', 1), ('redshank', 1), ('reflection', 1), ('mentioned', 1), ('gloria', 1), ('seow', 1), ('object', 1), ('shutterstock', 1), ('driving', 1), ('stopped', 1), ('adore', 1), ('fan', 1), ('nine', 1), ('luckier', 1), ('nuwber', 1), ('access', 1), ('uncover', 1), ('email', 1), ('link', 1), ('lancashire', 1), ('referring', 1), ('job', 1), ('campbell', 1), ('fine', 1), ('esperanto', 1), ('nigranuka', 1), ('oriolo', 1), ('spanish', 1), ('orop', 1), ('ndola', 1), ('nuca', 1), ('negra', 1), ('estonian', 1), ('maskpeoleo', 1), ('finnish', 1), ('naamiokuhankeitt', 1), ('effil', 1), ('hungarian', 1), ('amuri', 1), ('rgarig', 1), ('kepudang', 1), ('kuduk', 1), ('hitam', 1), ('rigogolo', 1), ('giallo', 1), ('orientale', 1), ('brings', 1), ('exceptional', 1), ('award', 1), ('winning', 1), ('surprised', 1), ('facilitated', 1), ('compete', 1), ('alter', 1), ('spp', 1), ('impossible', 1), ('eradicate', 1), ('negative', 1), ('preventing', 1), ('essential', 1), ('continue', 1), ('traded', 1), ('openly', 1), ('remainder', 1), ('offered', 1), ('prevalence', 1), ('positively', 1), ('signatory', 1), ('agreement', 1), ('cbd', 1), ('asean', 1), ('guideline', 1), ('prevent', 1), ('compliancy', 1), ('weak', 1), ('annually', 1), ('possibly', 1), ('management', 1), ('regulation', 1), ('inadvertently', 1), ('aid', 1), ('letter', 1), ('homonym', 1), ('lowercase', 1), ('variant', 1), ('misspelling', 1), ('gr', 1), ('syn', 1), ('modern', 1), ('tl', 1), ('od', 1), ('subject', 1), ('measure', 1), ('threat', 1), ('existence', 1), ('caged', 1), ('carl', 1), ('alexander', 1), ('gibson', 1), ('khao', 1), ('sok', 1), ('vary', 1), ('rusty', 1), ('writes', 1), ('ate', 1), ('poisonous', 1), ('ok', 1), ('prefers', 1), ('cage', 1), ('mimic', 1), ('speech', 1), ('isabela', 1), ('luzon', 1), ('cycle', 1), ('pixel', 1), ('mb', 1), ('disk', 1), ('village', 1), ('plenty', 1), ('discovery', 1), ('timing', 1), ('admiring', 1), ('focus', 1), ('eulophotes', 1), ('globally', 1), ('estimated', 1), ('fewer', 1), ('differentiating', 1), ('restorasi', 1), ('ekosistem', 1), ('riau', 1), ('edging', 1), ('filled', 1), ('gull', 1), ('empidonax', 1), ('flycatcher', 1), ('cisticolas', 1), ('tiniest', 1), ('assign', 1), ('god', 1), ('bored', 1), ('tormenting', 1), ('identical', 1), ('leucopsar', 1), ('rothschildi', 1), ('nias', 1), ('robusta', 1), ('magpie', 1), ('cissa', 1), ('thalassina', 1), ('sumatran', 1), ('laughinghthrush', 1), ('garrulax', 1), ('continuing', 1), ('former', 1), ('addition', 1), ('bare', 1), ('aside', 1), ('atlas', 1), ('destroyed', 1), ('appears', 1), ('either', 1), ('extend', 1), ('adjacent', 1), ('shelf', 1), ('ostrich', 1), ('freedom', 1), ('odd', 1), ('situation', 1), ('yishun', 1), ('newcomer', 1), ('triumphant', 1), ('nucanera', 1), ('est', 1), ('oiseau', 1), ('famille', 1), ('oriolidi', 1), ('asie', 1), ('sud', 1), ('cheong', 1), ('wen', 1), ('chun', 1), ('mango', 1), ('mangifera', 1), ('indica', 1), ('megaceryle', 1), ('laughing', 1), ('kookaburra', 1), ('novaeguineae', 1), ('heaviest', 1), ('reaching', 1), ('voter', 1), ('frequency', 1), ('reserve', 1), ('epaa', 1), ('invaded', 1), ('redirect', 1), ('exif', 1), ('software', 1), ('create', 1), ('digitize', 1), ('ahmed', 1), ('ali', 1), ('oryx', 1), ('dugong', 1), ('strait', 1), ('dire', 1), ('watching', 1), ('hkbws', 1), ('initiated', 1), ('tracking', 1), ('mounted', 1), ('shaded', 1), ('vocalisation', 1), ('bangladesh', 1), ('partially', 1), ('robustness', 1), ('adapting', 1), ('ensured', 1), ('planet', 1), ('antarctica', 1), ('association', 1), ('complete', 1), ('walking', 1), ('encounter', 1), ('subic', 1), ('freeport', 1), ('triple', 1), ('rain', 1), ('suggestion', 1), ('cluster', 1), ('comprised', 1), ('bank', 1), ('hcm', 1), ('afternoon', 1), ('observe', 1), ('breasted', 1), ('laughingthrush', 1), ('coppersmith', 1), ('browed', 1), ('reed', 1), ('warbler', 1), ('royalblue', 1), ('eyestrip', 1), ('opened', 1), ('protect', 1), ('rehabilitate', 1), ('nurture', 1), ('span', 1), ('deforestation', 1), ('sharpe', 1), ('hosii', 1), ('maroon', 1), ('clade', 1), ('hail', 1), ('downloading', 1), ('gpx', 1), ('bookmark', 1), ('restcamp', 1), ('peculiar', 1), ('kent', 1), ('heronry', 1), ('gone', 1), ('grasshopper', 1), ('lizard', 1), ('salaksak', 1), ('kasaykasay', 1), ('watcher', 1), ('an', 1), ('voted', 1), ('commented', 1), ('active', 1), ('contender', 1), ('vote', 1), ('racket', 1), ('separated', 1), ('andamans', 1), ('andamanensis', 1), ('macrourus', 1), ('nicobars', 1), ('modulated', 1), ('reduction', 1), ('brightness', 1), ('diffusus', 1), ('dipping', 1), ('golf', 1), ('course', 1), ('pond', 1), ('pillaging', 1), ('goldfish', 1), ('slipper', 1), ('opposed', 1)]\n"
     ]
    }
   ],
   "source": [
    "print(freq_dist.most_common())"
   ]
  },
  {
   "cell_type": "code",
   "execution_count": null,
   "metadata": {},
   "outputs": [],
   "source": [
    "def remove_words(text): \n",
    "    words=['javan_myna']"
   ]
  },
  {
   "cell_type": "code",
   "execution_count": 125,
   "metadata": {},
   "outputs": [],
   "source": [
    "def tagPOS(text):\n",
    "    tags=[]\n",
    "    wordsList = nltk.word_tokenize(text)  # Word tokenizers is used to find the words \n",
    "    tagged = nltk.pos_tag(wordsList)      #  Using a Tagger. Which is part-of-speech tagger or POS-tagger.  \n",
    "    tags.append(tagged)\n",
    "    return tags\n",
    "\n",
    "data['POS Tag']=data['chunked'].apply(lambda txt: tagPOS(txt))"
   ]
  },
  {
   "cell_type": "code",
   "execution_count": null,
   "metadata": {},
   "outputs": [],
   "source": []
  },
  {
   "cell_type": "code",
   "execution_count": null,
   "metadata": {},
   "outputs": [],
   "source": []
  },
  {
   "cell_type": "code",
   "execution_count": 102,
   "metadata": {},
   "outputs": [],
   "source": [
    "data.to_csv('230436M_cleaned_data.csv')"
   ]
  },
  {
   "cell_type": "code",
   "execution_count": 129,
   "metadata": {},
   "outputs": [
    {
     "data": {
      "text/html": [
       "<div>\n",
       "<style scoped>\n",
       "    .dataframe tbody tr th:only-of-type {\n",
       "        vertical-align: middle;\n",
       "    }\n",
       "\n",
       "    .dataframe tbody tr th {\n",
       "        vertical-align: top;\n",
       "    }\n",
       "\n",
       "    .dataframe thead th {\n",
       "        text-align: right;\n",
       "    }\n",
       "</style>\n",
       "<table border=\"1\" class=\"dataframe\">\n",
       "  <thead>\n",
       "    <tr style=\"text-align: right;\">\n",
       "      <th></th>\n",
       "      <th>description</th>\n",
       "      <th>species</th>\n",
       "      <th>text_length</th>\n",
       "      <th>cleaned_text</th>\n",
       "      <th>chunked</th>\n",
       "      <th>POS Tag</th>\n",
       "    </tr>\n",
       "  </thead>\n",
       "  <tbody>\n",
       "    <tr>\n",
       "      <th>0</th>\n",
       "      <td>2 Jun 2023 ï¿½ The Javan myna shares some simi...</td>\n",
       "      <td>Javan Myna</td>\n",
       "      <td>162</td>\n",
       "      <td>jun javan myna share similarity common myna te...</td>\n",
       "      <td>jun javan_myna share similarity common myna te...</td>\n",
       "      <td>[[(jun, NN), (javan_myna, NN), (share, NN), (s...</td>\n",
       "    </tr>\n",
       "    <tr>\n",
       "      <th>1</th>\n",
       "      <td>Click here for more information about the Red ...</td>\n",
       "      <td>Collared Kingfisher</td>\n",
       "      <td>398</td>\n",
       "      <td>click information red list category criterion ...</td>\n",
       "      <td>click information red list category criterion ...</td>\n",
       "      <td>[[(click, JJ), (information, NN), (red, JJ), (...</td>\n",
       "    </tr>\n",
       "    <tr>\n",
       "      <th>2</th>\n",
       "      <td>The black-headed oriole ( Oriolus larvatus) is...</td>\n",
       "      <td>Black-naped Oriole</td>\n",
       "      <td>349</td>\n",
       "      <td>black headed oriole oriolus larvatus specie bi...</td>\n",
       "      <td>black_headed_oriole oriolus larvatus specie bi...</td>\n",
       "      <td>[[(black_headed_oriole, JJ), (oriolus, NN), (l...</td>\n",
       "    </tr>\n",
       "    <tr>\n",
       "      <th>3</th>\n",
       "      <td>Search from thousands of royalty-free \"Javan M...</td>\n",
       "      <td>Javan Myna</td>\n",
       "      <td>177</td>\n",
       "      <td>search thousand royalty free javan myna stock ...</td>\n",
       "      <td>search thousand royalty free javan_myna stock ...</td>\n",
       "      <td>[[(search, NN), (thousand, CD), (royalty, NN),...</td>\n",
       "    </tr>\n",
       "    <tr>\n",
       "      <th>4</th>\n",
       "      <td>521 foreground recordings and 156 background ...</td>\n",
       "      <td>Little Egret</td>\n",
       "      <td>112</td>\n",
       "      <td>foreground recording background recording egre...</td>\n",
       "      <td>foreground recording background recording egre...</td>\n",
       "      <td>[[(foreground, NN), (recording, VBG), (backgro...</td>\n",
       "    </tr>\n",
       "    <tr>\n",
       "      <th>5</th>\n",
       "      <td>The little egret (Egretta garzetta) is a smal...</td>\n",
       "      <td>Little Egret</td>\n",
       "      <td>185</td>\n",
       "      <td>little egret egretta garzetta small white hero...</td>\n",
       "      <td>little egret egretta garzetta small white hero...</td>\n",
       "      <td>[[(little, JJ), (egret, JJ), (egretta, NN), (g...</td>\n",
       "    </tr>\n",
       "    <tr>\n",
       "      <th>6</th>\n",
       "      <td>Survey records slight increase in species bree...</td>\n",
       "      <td>Collared Kingfisher</td>\n",
       "      <td>62</td>\n",
       "      <td>survey record slight increase specie breeding ...</td>\n",
       "      <td>survey record slight increase specie breeding ...</td>\n",
       "      <td>[[(survey, NN), (record, NN), (slight, VBD), (...</td>\n",
       "    </tr>\n",
       "    <tr>\n",
       "      <th>7</th>\n",
       "      <td>Handbook of the Birds of the World Alive seri...</td>\n",
       "      <td>Little Egret</td>\n",
       "      <td>142</td>\n",
       "      <td>handbook bird world alive series first work ev...</td>\n",
       "      <td>handbook bird world alive series first work ev...</td>\n",
       "      <td>[[(handbook, NN), (bird, NN), (world, NN), (al...</td>\n",
       "    </tr>\n",
       "    <tr>\n",
       "      <th>8</th>\n",
       "      <td>del Hoyo, J., A. MartÃ­nez-Vilalta, A. Motis,...</td>\n",
       "      <td>Little Egret</td>\n",
       "      <td>297</td>\n",
       "      <td>del hoyo j mart nez vilalta motis n collar g k...</td>\n",
       "      <td>del hoyo j mart nez vilalta motis n collar g k...</td>\n",
       "      <td>[[(del, NN), (hoyo, NN), (j, NN), (mart, NN), ...</td>\n",
       "    </tr>\n",
       "    <tr>\n",
       "      <th>9</th>\n",
       "      <td>Recently Viewed. Black-naped Oriole is a photo...</td>\n",
       "      <td>Black-naped Oriole</td>\n",
       "      <td>306</td>\n",
       "      <td>recently viewed black naped oriole photograph ...</td>\n",
       "      <td>recently viewed black naped oriole photograph ...</td>\n",
       "      <td>[[(recently, RB), (viewed, VBN), (black, JJ), ...</td>\n",
       "    </tr>\n",
       "    <tr>\n",
       "      <th>10</th>\n",
       "      <td>Sightings of the Black-naped Oriole may be pat...</td>\n",
       "      <td>Black-naped Oriole</td>\n",
       "      <td>155</td>\n",
       "      <td>sighting black naped oriole may patchy across ...</td>\n",
       "      <td>sighting black naped oriole may patchy across ...</td>\n",
       "      <td>[[(sighting, VBG), (black, JJ), (naped, JJ), (...</td>\n",
       "    </tr>\n",
       "    <tr>\n",
       "      <th>11</th>\n",
       "      <td>[(\"id\":1149613,\"tempId\":null,\"draftId\":null,\"r...</td>\n",
       "      <td>Black-naped Oriole</td>\n",
       "      <td>157</td>\n",
       "      <td>id tempid null draftid null revisionid null is...</td>\n",
       "      <td>id tempid null draftid null revisionid null is...</td>\n",
       "      <td>[[(id, NN), (tempid, JJ), (null, JJ), (draftid...</td>\n",
       "    </tr>\n",
       "    <tr>\n",
       "      <th>12</th>\n",
       "      <td>â€œA Black-naped Oriole (Oriolus chinensis) ne...</td>\n",
       "      <td>Black-naped Oriole</td>\n",
       "      <td>159</td>\n",
       "      <td>black naped oriole oriolus chinensis nest expo...</td>\n",
       "      <td>black naped oriole oriolus chinensis nest expo...</td>\n",
       "      <td>[[(black, JJ), (naped, VBD), (oriole, JJ), (or...</td>\n",
       "    </tr>\n",
       "    <tr>\n",
       "      <th>13</th>\n",
       "      <td>Apr 1, 2022 Â·  The Collared Kingfisher, a com...</td>\n",
       "      <td>Collared Kingfisher</td>\n",
       "      <td>217</td>\n",
       "      <td>apr collared kingfisher common resident singap...</td>\n",
       "      <td>apr collared kingfisher common resident singap...</td>\n",
       "      <td>[[(apr, RB), (collared, VBN), (kingfisher, NN)...</td>\n",
       "    </tr>\n",
       "    <tr>\n",
       "      <th>14</th>\n",
       "      <td>January 17, 2018 - Egretta garzetta Biometrics...</td>\n",
       "      <td>Little Egret</td>\n",
       "      <td>289</td>\n",
       "      <td>january egretta garzetta biometrics wingspan m...</td>\n",
       "      <td>january egretta garzetta biometrics wingspan m...</td>\n",
       "      <td>[[(january, JJ), (egretta, NN), (garzetta, NN)...</td>\n",
       "    </tr>\n",
       "    <tr>\n",
       "      <th>15</th>\n",
       "      <td>The elegant little egret was once a rare visit...</td>\n",
       "      <td>Little Egret</td>\n",
       "      <td>211</td>\n",
       "      <td>elegant little egret rare visitor shore regula...</td>\n",
       "      <td>elegant little egret rare visitor shore regula...</td>\n",
       "      <td>[[(elegant, JJ), (little, JJ), (egret, JJ), (r...</td>\n",
       "    </tr>\n",
       "    <tr>\n",
       "      <th>16</th>\n",
       "      <td>Black-naped Oriole: Juvenile and adult. â€œAtt...</td>\n",
       "      <td>Black-naped Oriole</td>\n",
       "      <td>348</td>\n",
       "      <td>black naped oriole juvenile adult attached set...</td>\n",
       "      <td>black naped oriole juvenile adult attached set...</td>\n",
       "      <td>[[(black, JJ), (naped, VBD), (oriole, JJ), (ju...</td>\n",
       "    </tr>\n",
       "    <tr>\n",
       "      <th>17</th>\n",
       "      <td>26 Feb 2010 ï¿½ The Javan Mynas are everywhere...</td>\n",
       "      <td>Javan Myna</td>\n",
       "      <td>164</td>\n",
       "      <td>feb javan myna everywhere singapore cemetery e...</td>\n",
       "      <td>feb javan_myna everywhere singapore cemetery e...</td>\n",
       "      <td>[[(feb, NN), (javan_myna, NN), (everywhere, RB...</td>\n",
       "    </tr>\n",
       "    <tr>\n",
       "      <th>18</th>\n",
       "      <td>Project Noah is a tool that nature lovers can ...</td>\n",
       "      <td>Black-naped Oriole</td>\n",
       "      <td>205</td>\n",
       "      <td>project noah tool nature lover use explore doc...</td>\n",
       "      <td>project noah tool nature lover use explore doc...</td>\n",
       "      <td>[[(project, NN), (noah, JJ), (tool, JJ), (natu...</td>\n",
       "    </tr>\n",
       "    <tr>\n",
       "      <th>19</th>\n",
       "      <td>Orioles are omnivorous birds grouped in 2 diff...</td>\n",
       "      <td>Black-naped Oriole</td>\n",
       "      <td>141</td>\n",
       "      <td>oriole omnivorous bird grouped different famil...</td>\n",
       "      <td>oriole omnivorous bird grouped different famil...</td>\n",
       "      <td>[[(oriole, RB), (omnivorous, JJ), (bird, NN), ...</td>\n",
       "    </tr>\n",
       "  </tbody>\n",
       "</table>\n",
       "</div>"
      ],
      "text/plain": [
       "                                          description              species  \\\n",
       "0   2 Jun 2023 ï¿½ The Javan myna shares some simi...           Javan Myna   \n",
       "1   Click here for more information about the Red ...  Collared Kingfisher   \n",
       "2   The black-headed oriole ( Oriolus larvatus) is...   Black-naped Oriole   \n",
       "3   Search from thousands of royalty-free \"Javan M...           Javan Myna   \n",
       "4    521 foreground recordings and 156 background ...         Little Egret   \n",
       "5    The little egret (Egretta garzetta) is a smal...         Little Egret   \n",
       "6   Survey records slight increase in species bree...  Collared Kingfisher   \n",
       "7    Handbook of the Birds of the World Alive seri...         Little Egret   \n",
       "8    del Hoyo, J., A. MartÃ­nez-Vilalta, A. Motis,...         Little Egret   \n",
       "9   Recently Viewed. Black-naped Oriole is a photo...   Black-naped Oriole   \n",
       "10  Sightings of the Black-naped Oriole may be pat...   Black-naped Oriole   \n",
       "11  [(\"id\":1149613,\"tempId\":null,\"draftId\":null,\"r...   Black-naped Oriole   \n",
       "12  â€œA Black-naped Oriole (Oriolus chinensis) ne...   Black-naped Oriole   \n",
       "13  Apr 1, 2022 Â·  The Collared Kingfisher, a com...  Collared Kingfisher   \n",
       "14  January 17, 2018 - Egretta garzetta Biometrics...         Little Egret   \n",
       "15  The elegant little egret was once a rare visit...         Little Egret   \n",
       "16  Black-naped Oriole: Juvenile and adult. â€œAtt...   Black-naped Oriole   \n",
       "17  26 Feb 2010 ï¿½ The Javan Mynas are everywhere...           Javan Myna   \n",
       "18  Project Noah is a tool that nature lovers can ...   Black-naped Oriole   \n",
       "19  Orioles are omnivorous birds grouped in 2 diff...   Black-naped Oriole   \n",
       "\n",
       "    text_length                                       cleaned_text  \\\n",
       "0           162  jun javan myna share similarity common myna te...   \n",
       "1           398  click information red list category criterion ...   \n",
       "2           349  black headed oriole oriolus larvatus specie bi...   \n",
       "3           177  search thousand royalty free javan myna stock ...   \n",
       "4           112  foreground recording background recording egre...   \n",
       "5           185  little egret egretta garzetta small white hero...   \n",
       "6            62  survey record slight increase specie breeding ...   \n",
       "7           142  handbook bird world alive series first work ev...   \n",
       "8           297  del hoyo j mart nez vilalta motis n collar g k...   \n",
       "9           306  recently viewed black naped oriole photograph ...   \n",
       "10          155  sighting black naped oriole may patchy across ...   \n",
       "11          157  id tempid null draftid null revisionid null is...   \n",
       "12          159  black naped oriole oriolus chinensis nest expo...   \n",
       "13          217  apr collared kingfisher common resident singap...   \n",
       "14          289  january egretta garzetta biometrics wingspan m...   \n",
       "15          211  elegant little egret rare visitor shore regula...   \n",
       "16          348  black naped oriole juvenile adult attached set...   \n",
       "17          164  feb javan myna everywhere singapore cemetery e...   \n",
       "18          205  project noah tool nature lover use explore doc...   \n",
       "19          141  oriole omnivorous bird grouped different famil...   \n",
       "\n",
       "                                              chunked  \\\n",
       "0   jun javan_myna share similarity common myna te...   \n",
       "1   click information red list category criterion ...   \n",
       "2   black_headed_oriole oriolus larvatus specie bi...   \n",
       "3   search thousand royalty free javan_myna stock ...   \n",
       "4   foreground recording background recording egre...   \n",
       "5   little egret egretta garzetta small white hero...   \n",
       "6   survey record slight increase specie breeding ...   \n",
       "7   handbook bird world alive series first work ev...   \n",
       "8   del hoyo j mart nez vilalta motis n collar g k...   \n",
       "9   recently viewed black naped oriole photograph ...   \n",
       "10  sighting black naped oriole may patchy across ...   \n",
       "11  id tempid null draftid null revisionid null is...   \n",
       "12  black naped oriole oriolus chinensis nest expo...   \n",
       "13  apr collared kingfisher common resident singap...   \n",
       "14  january egretta garzetta biometrics wingspan m...   \n",
       "15  elegant little egret rare visitor shore regula...   \n",
       "16  black naped oriole juvenile adult attached set...   \n",
       "17  feb javan_myna everywhere singapore cemetery e...   \n",
       "18  project noah tool nature lover use explore doc...   \n",
       "19  oriole omnivorous bird grouped different famil...   \n",
       "\n",
       "                                              POS Tag  \n",
       "0   [[(jun, NN), (javan_myna, NN), (share, NN), (s...  \n",
       "1   [[(click, JJ), (information, NN), (red, JJ), (...  \n",
       "2   [[(black_headed_oriole, JJ), (oriolus, NN), (l...  \n",
       "3   [[(search, NN), (thousand, CD), (royalty, NN),...  \n",
       "4   [[(foreground, NN), (recording, VBG), (backgro...  \n",
       "5   [[(little, JJ), (egret, JJ), (egretta, NN), (g...  \n",
       "6   [[(survey, NN), (record, NN), (slight, VBD), (...  \n",
       "7   [[(handbook, NN), (bird, NN), (world, NN), (al...  \n",
       "8   [[(del, NN), (hoyo, NN), (j, NN), (mart, NN), ...  \n",
       "9   [[(recently, RB), (viewed, VBN), (black, JJ), ...  \n",
       "10  [[(sighting, VBG), (black, JJ), (naped, JJ), (...  \n",
       "11  [[(id, NN), (tempid, JJ), (null, JJ), (draftid...  \n",
       "12  [[(black, JJ), (naped, VBD), (oriole, JJ), (or...  \n",
       "13  [[(apr, RB), (collared, VBN), (kingfisher, NN)...  \n",
       "14  [[(january, JJ), (egretta, NN), (garzetta, NN)...  \n",
       "15  [[(elegant, JJ), (little, JJ), (egret, JJ), (r...  \n",
       "16  [[(black, JJ), (naped, VBD), (oriole, JJ), (ju...  \n",
       "17  [[(feb, NN), (javan_myna, NN), (everywhere, RB...  \n",
       "18  [[(project, NN), (noah, JJ), (tool, JJ), (natu...  \n",
       "19  [[(oriole, RB), (omnivorous, JJ), (bird, NN), ...  "
      ]
     },
     "execution_count": 129,
     "metadata": {},
     "output_type": "execute_result"
    }
   ],
   "source": [
    "data.head(20)"
   ]
  },
  {
   "cell_type": "code",
   "execution_count": 31,
   "metadata": {},
   "outputs": [
    {
     "data": {
      "text/plain": [
       "array(['Javan Myna', 'Collared Kingfisher', 'Black-naped Oriole',\n",
       "       'Little Egret'], dtype=object)"
      ]
     },
     "execution_count": 31,
     "metadata": {},
     "output_type": "execute_result"
    }
   ],
   "source": [
    "data['species'].unique()"
   ]
  },
  {
   "attachments": {},
   "cell_type": "markdown",
   "metadata": {},
   "source": [
    "Feature Engineering"
   ]
  },
  {
   "cell_type": "code",
   "execution_count": 33,
   "metadata": {},
   "outputs": [],
   "source": [
    "X = data['cleaned_text']\n",
    "Y= data['species']"
   ]
  },
  {
   "cell_type": "code",
   "execution_count": 34,
   "metadata": {},
   "outputs": [
    {
     "data": {
      "text/plain": [
       "508    jul rufous collared kingfisher rufous collared...\n",
       "152    understanding genetic basis convergence broad ...\n",
       "688    hong kong bird watching society hkbws initiate...\n",
       "220    apr collared kingfisher todirhamphus chloris c...\n",
       "184    content introduction little owl frankfurt germ...\n",
       "                             ...                        \n",
       "79     large coastal kingfisher gleaming white head t...\n",
       "352    giant kingfisher trail follows jungly river re...\n",
       "241    collared kingfisher feed mainly insect small r...\n",
       "61     altamira oriole audubon oriole robert mcquade ...\n",
       "682    khor kalba conservation reserve managed enviro...\n",
       "Name: cleaned_text, Length: 427, dtype: object"
      ]
     },
     "execution_count": 34,
     "metadata": {},
     "output_type": "execute_result"
    }
   ],
   "source": [
    "from sklearn.model_selection import train_test_split\n",
    "\n",
    "X_train, X_test, y_train, y_test=train_test_split(X, Y, test_size=0.3, random_state=42, stratify=Y)\n",
    "X_train"
   ]
  },
  {
   "cell_type": "code",
   "execution_count": 35,
   "metadata": {},
   "outputs": [
    {
     "name": "stdout",
     "output_type": "stream",
     "text": [
      "\n",
      "training: (427, 15748)\n",
      "test: (184, 15748)\n",
      "\n",
      "features: ['aa' 'aa sitesettingsid' 'ability' ... 'zoonosis' 'zoonosis singapore'\n",
      " 'zoonosis singapore ban']\n",
      "      \n"
     ]
    }
   ],
   "source": [
    "from sklearn.feature_extraction.text import TfidfVectorizer\n",
    "cv=TfidfVectorizer(stop_words='english', ngram_range=(1,3))\n",
    "X_train_cv=cv.fit_transform(X_train)\n",
    "X_test_cv=cv.transform(X_test) #make sure X_test is TRANSFORM and not fit_transform\n",
    "\n",
    "#print dimensions and features \n",
    "print(f\"\"\"\n",
    "training: {X_train_cv.toarray().shape}\n",
    "test: {X_test_cv.toarray().shape}\n",
    "\n",
    "features: {cv.get_feature_names_out()}\n",
    "      \"\"\")"
   ]
  },
  {
   "cell_type": "code",
   "execution_count": 36,
   "metadata": {},
   "outputs": [
    {
     "data": {
      "text/plain": [
       "array(['Javan Myna', 'Javan Myna', 'Collared Kingfisher',\n",
       "       'Collared Kingfisher', 'Collared Kingfisher', 'Black-naped Oriole',\n",
       "       'Javan Myna', 'Collared Kingfisher', 'Javan Myna', 'Javan Myna',\n",
       "       'Black-naped Oriole', 'Black-naped Oriole', 'Black-naped Oriole',\n",
       "       'Little Egret', 'Black-naped Oriole', 'Little Egret',\n",
       "       'Collared Kingfisher', 'Black-naped Oriole', 'Black-naped Oriole',\n",
       "       'Collared Kingfisher', 'Little Egret', 'Black-naped Oriole',\n",
       "       'Black-naped Oriole', 'Black-naped Oriole', 'Javan Myna',\n",
       "       'Collared Kingfisher', 'Black-naped Oriole', 'Collared Kingfisher',\n",
       "       'Javan Myna', 'Little Egret', 'Collared Kingfisher',\n",
       "       'Black-naped Oriole', 'Collared Kingfisher', 'Collared Kingfisher',\n",
       "       'Javan Myna', 'Javan Myna', 'Javan Myna', 'Collared Kingfisher',\n",
       "       'Black-naped Oriole', 'Collared Kingfisher', 'Black-naped Oriole',\n",
       "       'Javan Myna', 'Javan Myna', 'Black-naped Oriole', 'Javan Myna',\n",
       "       'Black-naped Oriole', 'Collared Kingfisher', 'Black-naped Oriole',\n",
       "       'Black-naped Oriole', 'Collared Kingfisher', 'Black-naped Oriole',\n",
       "       'Collared Kingfisher', 'Black-naped Oriole', 'Javan Myna',\n",
       "       'Black-naped Oriole', 'Black-naped Oriole', 'Black-naped Oriole',\n",
       "       'Javan Myna', 'Collared Kingfisher', 'Collared Kingfisher',\n",
       "       'Black-naped Oriole', 'Little Egret', 'Black-naped Oriole',\n",
       "       'Little Egret', 'Javan Myna', 'Collared Kingfisher',\n",
       "       'Black-naped Oriole', 'Javan Myna', 'Little Egret', 'Javan Myna',\n",
       "       'Collared Kingfisher', 'Little Egret', 'Collared Kingfisher',\n",
       "       'Black-naped Oriole', 'Collared Kingfisher', 'Black-naped Oriole',\n",
       "       'Little Egret', 'Black-naped Oriole', 'Black-naped Oriole',\n",
       "       'Javan Myna', 'Black-naped Oriole', 'Javan Myna',\n",
       "       'Black-naped Oriole', 'Javan Myna', 'Javan Myna',\n",
       "       'Black-naped Oriole', 'Little Egret', 'Little Egret',\n",
       "       'Black-naped Oriole', 'Black-naped Oriole', 'Black-naped Oriole',\n",
       "       'Black-naped Oriole', 'Collared Kingfisher', 'Javan Myna',\n",
       "       'Black-naped Oriole', 'Little Egret', 'Little Egret', 'Javan Myna',\n",
       "       'Javan Myna', 'Collared Kingfisher', 'Javan Myna', 'Little Egret',\n",
       "       'Collared Kingfisher', 'Little Egret', 'Javan Myna',\n",
       "       'Collared Kingfisher', 'Black-naped Oriole', 'Black-naped Oriole',\n",
       "       'Javan Myna', 'Black-naped Oriole', 'Collared Kingfisher',\n",
       "       'Javan Myna', 'Black-naped Oriole', 'Little Egret',\n",
       "       'Black-naped Oriole', 'Javan Myna', 'Little Egret', 'Javan Myna',\n",
       "       'Black-naped Oriole', 'Black-naped Oriole', 'Collared Kingfisher',\n",
       "       'Black-naped Oriole', 'Black-naped Oriole', 'Black-naped Oriole',\n",
       "       'Javan Myna', 'Black-naped Oriole', 'Javan Myna', 'Javan Myna',\n",
       "       'Collared Kingfisher', 'Javan Myna', 'Collared Kingfisher',\n",
       "       'Collared Kingfisher', 'Javan Myna', 'Little Egret',\n",
       "       'Black-naped Oriole', 'Javan Myna', 'Black-naped Oriole',\n",
       "       'Little Egret', 'Javan Myna', 'Javan Myna', 'Collared Kingfisher',\n",
       "       'Javan Myna', 'Black-naped Oriole', 'Black-naped Oriole',\n",
       "       'Collared Kingfisher', 'Collared Kingfisher', 'Little Egret',\n",
       "       'Little Egret', 'Black-naped Oriole', 'Black-naped Oriole',\n",
       "       'Javan Myna', 'Black-naped Oriole', 'Little Egret', 'Javan Myna',\n",
       "       'Collared Kingfisher', 'Javan Myna', 'Little Egret',\n",
       "       'Black-naped Oriole', 'Little Egret', 'Black-naped Oriole',\n",
       "       'Javan Myna', 'Black-naped Oriole', 'Javan Myna',\n",
       "       'Collared Kingfisher', 'Black-naped Oriole', 'Collared Kingfisher',\n",
       "       'Little Egret', 'Javan Myna', 'Black-naped Oriole',\n",
       "       'Black-naped Oriole', 'Javan Myna', 'Black-naped Oriole',\n",
       "       'Collared Kingfisher', 'Black-naped Oriole', 'Black-naped Oriole',\n",
       "       'Little Egret', 'Black-naped Oriole', 'Collared Kingfisher',\n",
       "       'Javan Myna', 'Collared Kingfisher', 'Little Egret',\n",
       "       'Collared Kingfisher', 'Javan Myna', 'Collared Kingfisher'],\n",
       "      dtype=object)"
      ]
     },
     "execution_count": 36,
     "metadata": {},
     "output_type": "execute_result"
    }
   ],
   "source": [
    "from sklearn.linear_model import LogisticRegression\n",
    "lr=LogisticRegression(solver='lbfgs')\n",
    "\n",
    "#train\n",
    "lr.fit(X_train_cv, y_train)\n",
    "\n",
    "#apply to test\n",
    "y_pred_cv=lr.predict(X_test_cv)\n",
    "y_pred_cv"
   ]
  },
  {
   "cell_type": "code",
   "execution_count": 37,
   "metadata": {},
   "outputs": [
    {
     "data": {
      "text/plain": [
       "array([[56,  1,  1,  0],\n",
       "       [ 1, 41,  1,  0],\n",
       "       [ 2,  0, 45,  0],\n",
       "       [ 7,  0,  2, 27]])"
      ]
     },
     "execution_count": 37,
     "metadata": {},
     "output_type": "execute_result"
    }
   ],
   "source": [
    "from sklearn.metrics import confusion_matrix\n",
    "cm=confusion_matrix(y_test, y_pred_cv)\n",
    "cm"
   ]
  },
  {
   "cell_type": "code",
   "execution_count": 38,
   "metadata": {},
   "outputs": [
    {
     "name": "stdout",
     "output_type": "stream",
     "text": [
      "                     precision    recall  f1-score   support\n",
      "\n",
      " Black-naped Oriole       0.85      0.97      0.90        58\n",
      "Collared Kingfisher       0.98      0.95      0.96        43\n",
      "         Javan Myna       0.92      0.96      0.94        47\n",
      "       Little Egret       1.00      0.75      0.86        36\n",
      "\n",
      "           accuracy                           0.92       184\n",
      "          macro avg       0.94      0.91      0.92       184\n",
      "       weighted avg       0.93      0.92      0.92       184\n",
      "\n"
     ]
    }
   ],
   "source": [
    "from sklearn.metrics import classification_report\n",
    "print(classification_report(y_test, y_pred_cv, target_names=['Black-naped Oriole','Collared Kingfisher','Javan Myna','Little Egret']))"
   ]
  },
  {
   "cell_type": "code",
   "execution_count": 39,
   "metadata": {},
   "outputs": [],
   "source": [
    "#MAIN DIFFERENCE IN CODE\n",
    "from sklearn.naive_bayes import MultinomialNB\n",
    "\n",
    "nb=MultinomialNB()\n",
    "\n",
    "#train\n",
    "nb.fit(X_train_cv, y_train)\n",
    "\n",
    "#move to X_test\n",
    "y_pred_cv=nb.predict(X_test_cv)\n",
    "# y_pred_cv"
   ]
  },
  {
   "cell_type": "code",
   "execution_count": 40,
   "metadata": {},
   "outputs": [
    {
     "data": {
      "text/plain": [
       "array([[57,  0,  1,  0],\n",
       "       [ 4, 39,  0,  0],\n",
       "       [ 3,  0, 44,  0],\n",
       "       [ 9,  0,  2, 25]])"
      ]
     },
     "execution_count": 40,
     "metadata": {},
     "output_type": "execute_result"
    }
   ],
   "source": [
    "from sklearn.metrics import confusion_matrix\n",
    "cm=confusion_matrix(y_test, y_pred_cv)\n",
    "cm"
   ]
  },
  {
   "cell_type": "code",
   "execution_count": 41,
   "metadata": {},
   "outputs": [
    {
     "name": "stdout",
     "output_type": "stream",
     "text": [
      "                     precision    recall  f1-score   support\n",
      "\n",
      " Black-naped Oriole       0.78      0.98      0.87        58\n",
      "Collared Kingfisher       1.00      0.91      0.95        43\n",
      "         Javan Myna       0.94      0.94      0.94        47\n",
      "       Little Egret       1.00      0.69      0.82        36\n",
      "\n",
      "           accuracy                           0.90       184\n",
      "          macro avg       0.93      0.88      0.89       184\n",
      "       weighted avg       0.91      0.90      0.90       184\n",
      "\n"
     ]
    }
   ],
   "source": [
    "from sklearn.metrics import classification_report\n",
    "print(classification_report(y_test, y_pred_cv, target_names=['Black-naped Oriole','Collared Kingfisher','Javan Myna','Little Egret']))"
   ]
  },
  {
   "cell_type": "code",
   "execution_count": null,
   "metadata": {},
   "outputs": [],
   "source": []
  },
  {
   "cell_type": "code",
   "execution_count": 42,
   "metadata": {},
   "outputs": [],
   "source": [
    "#MAIN DIFFERENCE IN CODE\n",
    "from sklearn import svm\n",
    "\n",
    "supportvector=svm.LinearSVC()\n",
    "#train\n",
    "supportvector.fit(X_train_cv, y_train)\n",
    "\n",
    "#move to X_test\n",
    "y_pred_cv=supportvector.predict(X_test_cv)\n",
    "# y_pred_cv"
   ]
  },
  {
   "cell_type": "code",
   "execution_count": 43,
   "metadata": {},
   "outputs": [
    {
     "data": {
      "text/plain": [
       "array([[56,  1,  1,  0],\n",
       "       [ 1, 41,  1,  0],\n",
       "       [ 0,  1, 46,  0],\n",
       "       [ 5,  1,  2, 28]])"
      ]
     },
     "execution_count": 43,
     "metadata": {},
     "output_type": "execute_result"
    }
   ],
   "source": [
    "from sklearn.metrics import confusion_matrix\n",
    "cm=confusion_matrix(y_test, y_pred_cv)\n",
    "cm"
   ]
  },
  {
   "cell_type": "code",
   "execution_count": 44,
   "metadata": {},
   "outputs": [
    {
     "name": "stdout",
     "output_type": "stream",
     "text": [
      "                     precision    recall  f1-score   support\n",
      "\n",
      " Black-naped Oriole       0.90      0.97      0.93        58\n",
      "Collared Kingfisher       0.93      0.95      0.94        43\n",
      "         Javan Myna       0.92      0.98      0.95        47\n",
      "       Little Egret       1.00      0.78      0.88        36\n",
      "\n",
      "           accuracy                           0.93       184\n",
      "          macro avg       0.94      0.92      0.92       184\n",
      "       weighted avg       0.93      0.93      0.93       184\n",
      "\n"
     ]
    }
   ],
   "source": [
    "from sklearn.metrics import classification_report\n",
    "print(classification_report(y_test, y_pred_cv, target_names=['Black-naped Oriole','Collared Kingfisher','Javan Myna','Little Egret']))"
   ]
  },
  {
   "cell_type": "code",
   "execution_count": null,
   "metadata": {},
   "outputs": [],
   "source": []
  },
  {
   "cell_type": "code",
   "execution_count": 45,
   "metadata": {},
   "outputs": [
    {
     "data": {
      "text/html": [
       "<div>\n",
       "<style scoped>\n",
       "    .dataframe tbody tr th:only-of-type {\n",
       "        vertical-align: middle;\n",
       "    }\n",
       "\n",
       "    .dataframe tbody tr th {\n",
       "        vertical-align: top;\n",
       "    }\n",
       "\n",
       "    .dataframe thead th {\n",
       "        text-align: right;\n",
       "    }\n",
       "</style>\n",
       "<table border=\"1\" class=\"dataframe\">\n",
       "  <thead>\n",
       "    <tr style=\"text-align: right;\">\n",
       "      <th></th>\n",
       "      <th>description</th>\n",
       "      <th>species</th>\n",
       "    </tr>\n",
       "  </thead>\n",
       "  <tbody>\n",
       "    <tr>\n",
       "      <th>0</th>\n",
       "      <td>Looking for fun and interesting facts about a ...</td>\n",
       "      <td>Black-naped Oriole</td>\n",
       "    </tr>\n",
       "    <tr>\n",
       "      <th>1</th>\n",
       "      <td>Giant Panda. Grey Wolf. Canis lupus. Proboscis...</td>\n",
       "      <td>Black-naped Oriole</td>\n",
       "    </tr>\n",
       "    <tr>\n",
       "      <th>2</th>\n",
       "      <td>javanicus displayed during feeding such as wal...</td>\n",
       "      <td>Javan Myna</td>\n",
       "    </tr>\n",
       "    <tr>\n",
       "      <th>3</th>\n",
       "      <td>Black-naped Oriole: Explore more topics. Name;...</td>\n",
       "      <td>Black-naped Oriole</td>\n",
       "    </tr>\n",
       "    <tr>\n",
       "      <th>4</th>\n",
       "      <td>NaN</td>\n",
       "      <td>Javan Myna</td>\n",
       "    </tr>\n",
       "  </tbody>\n",
       "</table>\n",
       "</div>"
      ],
      "text/plain": [
       "                                         description             species\n",
       "0  Looking for fun and interesting facts about a ...  Black-naped Oriole\n",
       "1  Giant Panda. Grey Wolf. Canis lupus. Proboscis...  Black-naped Oriole\n",
       "2  javanicus displayed during feeding such as wal...          Javan Myna\n",
       "3  Black-naped Oriole: Explore more topics. Name;...  Black-naped Oriole\n",
       "4                                                NaN          Javan Myna"
      ]
     },
     "execution_count": 45,
     "metadata": {},
     "output_type": "execute_result"
    }
   ],
   "source": [
    "testset=pd.read_excel('Data_test.xlsx')\n",
    "testset.head()"
   ]
  },
  {
   "cell_type": "code",
   "execution_count": 46,
   "metadata": {},
   "outputs": [
    {
     "data": {
      "text/html": [
       "<div>\n",
       "<style scoped>\n",
       "    .dataframe tbody tr th:only-of-type {\n",
       "        vertical-align: middle;\n",
       "    }\n",
       "\n",
       "    .dataframe tbody tr th {\n",
       "        vertical-align: top;\n",
       "    }\n",
       "\n",
       "    .dataframe thead th {\n",
       "        text-align: right;\n",
       "    }\n",
       "</style>\n",
       "<table border=\"1\" class=\"dataframe\">\n",
       "  <thead>\n",
       "    <tr style=\"text-align: right;\">\n",
       "      <th></th>\n",
       "      <th>description</th>\n",
       "      <th>species</th>\n",
       "      <th>cleaned_text</th>\n",
       "    </tr>\n",
       "  </thead>\n",
       "  <tbody>\n",
       "    <tr>\n",
       "      <th>0</th>\n",
       "      <td>Looking for fun and interesting facts about a ...</td>\n",
       "      <td>Black-naped Oriole</td>\n",
       "      <td>looking fun interesting fact black naped oriol...</td>\n",
       "    </tr>\n",
       "    <tr>\n",
       "      <th>1</th>\n",
       "      <td>Giant Panda. Grey Wolf. Canis lupus. Proboscis...</td>\n",
       "      <td>Black-naped Oriole</td>\n",
       "      <td>giant panda grey wolf canis lupus proboscis mo...</td>\n",
       "    </tr>\n",
       "    <tr>\n",
       "      <th>2</th>\n",
       "      <td>javanicus displayed during feeding such as wal...</td>\n",
       "      <td>Javan Myna</td>\n",
       "      <td>javanicus displayed feeding walking jumping ho...</td>\n",
       "    </tr>\n",
       "    <tr>\n",
       "      <th>3</th>\n",
       "      <td>Black-naped Oriole: Explore more topics. Name;...</td>\n",
       "      <td>Black-naped Oriole</td>\n",
       "      <td>black naped oriole explore topic name descript...</td>\n",
       "    </tr>\n",
       "    <tr>\n",
       "      <th>5</th>\n",
       "      <td>The Javan myna, also known as the white-vented...</td>\n",
       "      <td>Javan Myna</td>\n",
       "      <td>javan myna also known white vented myna specie...</td>\n",
       "    </tr>\n",
       "  </tbody>\n",
       "</table>\n",
       "</div>"
      ],
      "text/plain": [
       "                                         description             species  \\\n",
       "0  Looking for fun and interesting facts about a ...  Black-naped Oriole   \n",
       "1  Giant Panda. Grey Wolf. Canis lupus. Proboscis...  Black-naped Oriole   \n",
       "2  javanicus displayed during feeding such as wal...          Javan Myna   \n",
       "3  Black-naped Oriole: Explore more topics. Name;...  Black-naped Oriole   \n",
       "5  The Javan myna, also known as the white-vented...          Javan Myna   \n",
       "\n",
       "                                        cleaned_text  \n",
       "0  looking fun interesting fact black naped oriol...  \n",
       "1  giant panda grey wolf canis lupus proboscis mo...  \n",
       "2  javanicus displayed feeding walking jumping ho...  \n",
       "3  black naped oriole explore topic name descript...  \n",
       "5  javan myna also known white vented myna specie...  "
      ]
     },
     "execution_count": 46,
     "metadata": {},
     "output_type": "execute_result"
    }
   ],
   "source": [
    "testset.drop_duplicates(inplace=True)\n",
    "testset.dropna(inplace=True)\n",
    "testset['cleaned_text'] = testset['description'].apply(preprocess_text)\n",
    "testset.head()"
   ]
  },
  {
   "cell_type": "code",
   "execution_count": 47,
   "metadata": {},
   "outputs": [
    {
     "name": "stdout",
     "output_type": "stream",
     "text": [
      "['looking fun interesting fact black naped oriole learn amazing bird discover animal tiny insect giant mammal', 'giant panda grey wolf canis lupus proboscis monkey western gorilla gorilla gorilla scarlet macaw ara macao basic fact black hooded oriole lifespan distribution habitat map lifestyle social behavior mating habit diet nutrition population size status', 'javanicus displayed feeding walking jumping hopping gleaning running short flying voicing looking around feather fluffing', 'black naped oriole explore topic name description description male overall bright yellow plumage nape wing tip black female like male', 'javan myna also known white vented myna specie myna member starling family native bali java introduced asian country far away puerto rico', 'worry typo error true common myna common sight anymore sadly common myna native asia might wonder happened go soon let introduce common myna acridotheres tristis smarko', 'black naped oriole oriolus chinensis passerine bird oriole family found many part asia several distinctive population within wide distribution range specie past slender billed oriole oriolus tenuirostris included subspecies unlike indian golden oriole', 'oriolus chinensis relatively medium size tip tail beak cm bird black yellow black stripe passing eye nape mostly black flying feather lower body whitish black dot red iris shape beak tapered slightly curved downward length beak approximately cm leg black', 'little egret common waterbird hong kong since little egret resident hong kong occur throughout year various type wetland including freshwater marsh intertidal mudflat visitor may find little egret preying resting shallow water', 'little egret egretta garzetta ardeidae family migrant common length mm wingspan mm bird april smallest egret found philippine common found easy identify due yellow foot bill long slender', 'px captcha', 'provide description page right', 'black naped oriole distribution soib state india bird factsheet black naped oriole oriolus chinensis http www stateofindiasbirds specie blnori', 'spotted individual kl wit end trying identify tell javan jungle colorblind picture', 'description black naped oriole medium sized overall golden strong pinkish bill broad black mask nape adult male central tail feather tipped yellow lateral one broadly yellow female mantle colour greenish olive juvenile streaked underside', 'male bright yellow overall save black wing inner tail feather note yellow patch wing yellow outer tail feather black stripe eye give masked appearance fleshy pink bill female dull greenish yellow overall dirty brown green wing completely yellowish tail male female red iris often found feeding tree canopy either singly pair generally give harsh krrrrrrrrrrrr call feeding flight note characteristic dipping flight style', 'ebird taxonomy update complete update happen year take account split lump name change change sequence specie list', 'forest kingfisher also known macleay blue bush kingfisher similar specie two specie related forest kingfisher may similar however collared kingfisher chloris larger greener white wing patch sacred kingfisher sanctus little larger buff brown underpart wing patch', 'top page skip main content home background award exhibition medium cover client landscape leaf small world cityscape', 'jun collared kingfisher white collared kingfisher get name white collar patch neck blue white bird mainly found forest grassland occupy range habitat like lowland forest subtropical dry grassland mangrove marshland shrublands', 'published september view', 'published september view', 'large kingfisher variable plumage always appears much greener browner bird either forest sacred kingfisher note pale spot front eye extend back eye occur exclusively among mangrove adjacent mudflats rock shelf', 'introduction recent article red billed quelea punggol generated much debate local conservation circle medium invasive bird impact native biodiversity sitting crossroad trade asia singapore inevitably also hub pet industry set stage sale many', 'search little egret stock photo picture royalty free image istock find high quality stock photo find anywhere else', 'posted may pm black naped oriole oriolus chinensis spotted flying around village quezon city thursday black naped oriole locally called kilyawan tagalog tulihaw visayan fairly common bird philippine known omnivore eating mostly fruit insect', 'order passeriformes family sturnidae conservation status least concern synonym white vented myna buffalo myna javan myna often confused myna specie mostly due inconsistent usage common name associated acridotheres genus crested myna javan myna great myna acridotheres grandis crested myna acridotheres cristatellius', 'blacknapedoriole beautifulsoundang bagong alaga ni kurtplease subscribe po kayo sa channel nminfollow nyo din po ang fb page namin shiekurt vlogthank', 'nov collared kingfisher image julie edgley via flickr cc sa scientific name todiramphus chloris collared kingfisher medium sized tree kingfisher live mediterranean way polynesia bright blue white feather stand green brown foliage swamp live', 'november coby michael dahlem bird australia little egret ardea egretta garzetta', 'provisional either member exotic population breeding wild self propagating persisted multiple year yet naturalized rarity uncertain provenance natural vagrancy captive provenance considered plausible applicable ebird generally defers bird record committee', 'apr collared kingfisher scientific name todiramphus chloris medium sized kingfisher belonging subfamily halcyoninae tree kingfisher article going provide overview collared kingfisher sound food fact diet etc usually referred white collared kingfisher mangrove kingfisher', 'actenoides concretus temminck cj rufous collared kingfisher specie bird family alcedinidae found brunei indonesia malaysia myanmar thailand natural habitat subtropical tropical moist lowland forest subtropical tropical moist montane forest', 'everyone know singapore national flower orchid know singapore national bird crimson sunbird', 'singapore photographer ana l pez first encountered javan mynah small black bird yellow leg prominent crest loud', 'ying er chinese ng er open world npc liyue harbor dialogue change slightly completing act ii chapter ying er shop assistant scent spring chihu rock shop fine vas also make perfume side job event farewell', 'yellow oriole flavocinctus olive backed oriole sagittatus greenish yellow australian specie black crimson oriole cruentus malaya borneo sumatra bali mostly black colored dark crimson patch breast wing yellow figbird bananabird sphecotheres viridis', 'black naped oriole recorded feed range berry including trema orientalis ficus others apart insect india', 'nov javan myna amazingly liquid voice allows imitate range call repertoire emanating']\n"
     ]
    }
   ],
   "source": [
    "test=testset['cleaned_text'].to_list()\n",
    "print(test)\n",
    "vector=cv.transform(test)\n",
    "testset['log_reg_pred']=(lr.predict(vector))[0]"
   ]
  },
  {
   "cell_type": "code",
   "execution_count": 48,
   "metadata": {},
   "outputs": [
    {
     "data": {
      "text/html": [
       "<div>\n",
       "<style scoped>\n",
       "    .dataframe tbody tr th:only-of-type {\n",
       "        vertical-align: middle;\n",
       "    }\n",
       "\n",
       "    .dataframe tbody tr th {\n",
       "        vertical-align: top;\n",
       "    }\n",
       "\n",
       "    .dataframe thead th {\n",
       "        text-align: right;\n",
       "    }\n",
       "</style>\n",
       "<table border=\"1\" class=\"dataframe\">\n",
       "  <thead>\n",
       "    <tr style=\"text-align: right;\">\n",
       "      <th></th>\n",
       "      <th>description</th>\n",
       "      <th>species</th>\n",
       "      <th>cleaned_text</th>\n",
       "      <th>log_reg_pred</th>\n",
       "    </tr>\n",
       "  </thead>\n",
       "  <tbody>\n",
       "    <tr>\n",
       "      <th>0</th>\n",
       "      <td>Looking for fun and interesting facts about a ...</td>\n",
       "      <td>Black-naped Oriole</td>\n",
       "      <td>looking fun interesting fact black naped oriol...</td>\n",
       "      <td>Black-naped Oriole</td>\n",
       "    </tr>\n",
       "    <tr>\n",
       "      <th>1</th>\n",
       "      <td>Giant Panda. Grey Wolf. Canis lupus. Proboscis...</td>\n",
       "      <td>Black-naped Oriole</td>\n",
       "      <td>giant panda grey wolf canis lupus proboscis mo...</td>\n",
       "      <td>Black-naped Oriole</td>\n",
       "    </tr>\n",
       "    <tr>\n",
       "      <th>2</th>\n",
       "      <td>javanicus displayed during feeding such as wal...</td>\n",
       "      <td>Javan Myna</td>\n",
       "      <td>javanicus displayed feeding walking jumping ho...</td>\n",
       "      <td>Black-naped Oriole</td>\n",
       "    </tr>\n",
       "    <tr>\n",
       "      <th>3</th>\n",
       "      <td>Black-naped Oriole: Explore more topics. Name;...</td>\n",
       "      <td>Black-naped Oriole</td>\n",
       "      <td>black naped oriole explore topic name descript...</td>\n",
       "      <td>Black-naped Oriole</td>\n",
       "    </tr>\n",
       "    <tr>\n",
       "      <th>5</th>\n",
       "      <td>The Javan myna, also known as the white-vented...</td>\n",
       "      <td>Javan Myna</td>\n",
       "      <td>javan myna also known white vented myna specie...</td>\n",
       "      <td>Black-naped Oriole</td>\n",
       "    </tr>\n",
       "  </tbody>\n",
       "</table>\n",
       "</div>"
      ],
      "text/plain": [
       "                                         description             species  \\\n",
       "0  Looking for fun and interesting facts about a ...  Black-naped Oriole   \n",
       "1  Giant Panda. Grey Wolf. Canis lupus. Proboscis...  Black-naped Oriole   \n",
       "2  javanicus displayed during feeding such as wal...          Javan Myna   \n",
       "3  Black-naped Oriole: Explore more topics. Name;...  Black-naped Oriole   \n",
       "5  The Javan myna, also known as the white-vented...          Javan Myna   \n",
       "\n",
       "                                        cleaned_text        log_reg_pred  \n",
       "0  looking fun interesting fact black naped oriol...  Black-naped Oriole  \n",
       "1  giant panda grey wolf canis lupus proboscis mo...  Black-naped Oriole  \n",
       "2  javanicus displayed feeding walking jumping ho...  Black-naped Oriole  \n",
       "3  black naped oriole explore topic name descript...  Black-naped Oriole  \n",
       "5  javan myna also known white vented myna specie...  Black-naped Oriole  "
      ]
     },
     "execution_count": 48,
     "metadata": {},
     "output_type": "execute_result"
    }
   ],
   "source": [
    "testset.head()"
   ]
  },
  {
   "cell_type": "markdown",
   "metadata": {},
   "source": []
  },
  {
   "cell_type": "code",
   "execution_count": 50,
   "metadata": {},
   "outputs": [],
   "source": [
    "testset['naive_bayes_pred']=(nb.predict(vector))[0]"
   ]
  },
  {
   "cell_type": "code",
   "execution_count": 51,
   "metadata": {},
   "outputs": [],
   "source": [
    "testset.to_excel('Tested_set.xlsx')"
   ]
  },
  {
   "cell_type": "code",
   "execution_count": 52,
   "metadata": {},
   "outputs": [
    {
     "data": {
      "text/plain": [
       "0.41025641025641024"
      ]
     },
     "execution_count": 52,
     "metadata": {},
     "output_type": "execute_result"
    }
   ],
   "source": [
    "def accuracy(df): \n",
    "    # Calculate True Positives (TP): cases where prediction matches the actual species\n",
    "    correct_predictions = df['species'] == df['naive_bayes_pred']\n",
    "    tp = correct_predictions.sum()\n",
    "    \n",
    "    # Calculate total records\n",
    "    total_records = len(df)\n",
    "    \n",
    "    # Calculate accuracy\n",
    "    accuracy = tp / total_records if total_records > 0 else 0\n",
    "    \n",
    "    # Calculate False Positives (FP): cases where the prediction is wrong\n",
    "    false_positives = (~correct_predictions).sum()\n",
    "    \n",
    "    return accuracy\n",
    "    \n",
    "accuracy(testset)"
   ]
  },
  {
   "cell_type": "code",
   "execution_count": null,
   "metadata": {},
   "outputs": [],
   "source": []
  }
 ],
 "metadata": {
  "kernelspec": {
   "display_name": "Python 3 (ipykernel)",
   "language": "python",
   "name": "python3"
  },
  "language_info": {
   "codemirror_mode": {
    "name": "ipython",
    "version": 3
   },
   "file_extension": ".py",
   "mimetype": "text/x-python",
   "name": "python",
   "nbconvert_exporter": "python",
   "pygments_lexer": "ipython3",
   "version": "3.11.0"
  }
 },
 "nbformat": 4,
 "nbformat_minor": 4
}

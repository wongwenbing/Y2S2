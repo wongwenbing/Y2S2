{
 "cells": [
  {
   "cell_type": "markdown",
   "id": "0cf86330-1d0e-4d43-8188-187610316e14",
   "metadata": {},
   "source": [
    "## **Text Feature Engineering and Modelling**\n",
    "Done by Wong Wen Bing 230436M"
   ]
  },
  {
   "cell_type": "code",
   "execution_count": 3,
   "id": "b4a4a8b6-5f8f-4738-8635-a1a3c0c20d81",
   "metadata": {},
   "outputs": [
    {
     "name": "stdout",
     "output_type": "stream",
     "text": [
      "Requirement already satisfied: scikit-learn in c:\\users\\wongw\\anaconda3\\lib\\site-packages (1.3.0)\n",
      "Collecting seaborn\n",
      "  Using cached seaborn-0.13.2-py3-none-any.whl.metadata (5.4 kB)\n",
      "Requirement already satisfied: numpy>=1.17.3 in c:\\users\\wongw\\anaconda3\\lib\\site-packages (from scikit-learn) (1.24.3)\n",
      "Requirement already satisfied: scipy>=1.5.0 in c:\\users\\wongw\\anaconda3\\lib\\site-packages (from scikit-learn) (1.10.1)\n",
      "Requirement already satisfied: joblib>=1.1.1 in c:\\users\\wongw\\anaconda3\\lib\\site-packages (from scikit-learn) (1.4.2)\n",
      "Requirement already satisfied: threadpoolctl>=2.0.0 in c:\\users\\wongw\\anaconda3\\lib\\site-packages (from scikit-learn) (3.5.0)\n",
      "Requirement already satisfied: pandas>=1.2 in c:\\users\\wongw\\anaconda3\\lib\\site-packages (from seaborn) (2.0.3)\n",
      "Requirement already satisfied: matplotlib!=3.6.1,>=3.4 in c:\\users\\wongw\\anaconda3\\lib\\site-packages (from seaborn) (3.7.2)\n",
      "Requirement already satisfied: contourpy>=1.0.1 in c:\\users\\wongw\\anaconda3\\lib\\site-packages (from matplotlib!=3.6.1,>=3.4->seaborn) (1.0.5)\n",
      "Requirement already satisfied: cycler>=0.10 in c:\\users\\wongw\\anaconda3\\lib\\site-packages (from matplotlib!=3.6.1,>=3.4->seaborn) (0.11.0)\n",
      "Requirement already satisfied: fonttools>=4.22.0 in c:\\users\\wongw\\anaconda3\\lib\\site-packages (from matplotlib!=3.6.1,>=3.4->seaborn) (4.51.0)\n",
      "Requirement already satisfied: kiwisolver>=1.0.1 in c:\\users\\wongw\\anaconda3\\lib\\site-packages (from matplotlib!=3.6.1,>=3.4->seaborn) (1.4.4)\n",
      "Requirement already satisfied: packaging>=20.0 in c:\\users\\wongw\\anaconda3\\lib\\site-packages (from matplotlib!=3.6.1,>=3.4->seaborn) (24.1)\n",
      "Requirement already satisfied: pillow>=6.2.0 in c:\\users\\wongw\\anaconda3\\lib\\site-packages (from matplotlib!=3.6.1,>=3.4->seaborn) (10.4.0)\n",
      "Requirement already satisfied: pyparsing<3.1,>=2.3.1 in c:\\users\\wongw\\anaconda3\\lib\\site-packages (from matplotlib!=3.6.1,>=3.4->seaborn) (3.0.9)\n",
      "Requirement already satisfied: python-dateutil>=2.7 in c:\\users\\wongw\\anaconda3\\lib\\site-packages (from matplotlib!=3.6.1,>=3.4->seaborn) (2.9.0.post0)\n",
      "Requirement already satisfied: importlib-resources>=3.2.0 in c:\\users\\wongw\\anaconda3\\lib\\site-packages (from matplotlib!=3.6.1,>=3.4->seaborn) (6.4.0)\n",
      "Requirement already satisfied: pytz>=2020.1 in c:\\users\\wongw\\anaconda3\\lib\\site-packages (from pandas>=1.2->seaborn) (2024.1)\n",
      "Requirement already satisfied: tzdata>=2022.1 in c:\\users\\wongw\\anaconda3\\lib\\site-packages (from pandas>=1.2->seaborn) (2023.3)\n",
      "Requirement already satisfied: zipp>=3.1.0 in c:\\users\\wongw\\anaconda3\\lib\\site-packages (from importlib-resources>=3.2.0->matplotlib!=3.6.1,>=3.4->seaborn) (3.20.2)\n",
      "Requirement already satisfied: six>=1.5 in c:\\users\\wongw\\anaconda3\\lib\\site-packages (from python-dateutil>=2.7->matplotlib!=3.6.1,>=3.4->seaborn) (1.16.0)\n",
      "Using cached seaborn-0.13.2-py3-none-any.whl (294 kB)\n",
      "Installing collected packages: seaborn\n",
      "Successfully installed seaborn-0.13.2\n",
      "Note: you may need to restart the kernel to use updated packages.\n"
     ]
    }
   ],
   "source": [
    "# pip install scikit-learn seaborn "
   ]
  },
  {
   "cell_type": "code",
   "execution_count": 2,
   "id": "b66650e8-efd8-474d-9ff0-1e2b03d0b7c0",
   "metadata": {},
   "outputs": [],
   "source": [
    "import nltk\n",
    "import pandas as pd \n",
    "import numpy as np\n",
    "import matplotlib.pyplot as plt\n",
    "import seaborn as sns\n",
    "from sklearn.model_selection import train_test_split, RandomizedSearchCV\n",
    "from sklearn.ensemble import RandomForestClassifier\n",
    "from sklearn.metrics import accuracy_score, confusion_matrix"
   ]
  },
  {
   "cell_type": "code",
   "execution_count": null,
   "id": "9a740b91-33c0-4afd-b889-860b2bc174a4",
   "metadata": {},
   "outputs": [],
   "source": []
  },
  {
   "cell_type": "code",
   "execution_count": 3,
   "id": "423b828b-21ec-487c-955f-bc16282d2fa1",
   "metadata": {},
   "outputs": [
    {
     "data": {
      "text/html": [
       "<div>\n",
       "<style scoped>\n",
       "    .dataframe tbody tr th:only-of-type {\n",
       "        vertical-align: middle;\n",
       "    }\n",
       "\n",
       "    .dataframe tbody tr th {\n",
       "        vertical-align: top;\n",
       "    }\n",
       "\n",
       "    .dataframe thead th {\n",
       "        text-align: right;\n",
       "    }\n",
       "</style>\n",
       "<table border=\"1\" class=\"dataframe\">\n",
       "  <thead>\n",
       "    <tr style=\"text-align: right;\">\n",
       "      <th></th>\n",
       "      <th>Unnamed: 0</th>\n",
       "      <th>description</th>\n",
       "      <th>species</th>\n",
       "      <th>text_length</th>\n",
       "      <th>cleaned_text</th>\n",
       "    </tr>\n",
       "  </thead>\n",
       "  <tbody>\n",
       "    <tr>\n",
       "      <th>0</th>\n",
       "      <td>0</td>\n",
       "      <td>2 Jun 2023 ï¿½ The Javan myna shares some simi...</td>\n",
       "      <td>Javan Myna</td>\n",
       "      <td>162</td>\n",
       "      <td>jun javan myna share similarity common myna te...</td>\n",
       "    </tr>\n",
       "    <tr>\n",
       "      <th>1</th>\n",
       "      <td>1</td>\n",
       "      <td>Click here for more information about the Red ...</td>\n",
       "      <td>Collared Kingfisher</td>\n",
       "      <td>398</td>\n",
       "      <td>click information red list category criterion ...</td>\n",
       "    </tr>\n",
       "    <tr>\n",
       "      <th>2</th>\n",
       "      <td>2</td>\n",
       "      <td>The black-headed oriole ( Oriolus larvatus) is...</td>\n",
       "      <td>Black-naped Oriole</td>\n",
       "      <td>349</td>\n",
       "      <td>black headed oriole oriolus larvatus specie bi...</td>\n",
       "    </tr>\n",
       "    <tr>\n",
       "      <th>3</th>\n",
       "      <td>3</td>\n",
       "      <td>Search from thousands of royalty-free \"Javan M...</td>\n",
       "      <td>Javan Myna</td>\n",
       "      <td>177</td>\n",
       "      <td>search thousand royalty free javan myna stock ...</td>\n",
       "    </tr>\n",
       "    <tr>\n",
       "      <th>4</th>\n",
       "      <td>4</td>\n",
       "      <td>521 foreground recordings and 156 background ...</td>\n",
       "      <td>Little Egret</td>\n",
       "      <td>112</td>\n",
       "      <td>foreground recording background recording egre...</td>\n",
       "    </tr>\n",
       "  </tbody>\n",
       "</table>\n",
       "</div>"
      ],
      "text/plain": [
       "   Unnamed: 0                                        description  \\\n",
       "0           0  2 Jun 2023 ï¿½ The Javan myna shares some simi...   \n",
       "1           1  Click here for more information about the Red ...   \n",
       "2           2  The black-headed oriole ( Oriolus larvatus) is...   \n",
       "3           3  Search from thousands of royalty-free \"Javan M...   \n",
       "4           4   521 foreground recordings and 156 background ...   \n",
       "\n",
       "               species  text_length  \\\n",
       "0           Javan Myna          162   \n",
       "1  Collared Kingfisher          398   \n",
       "2   Black-naped Oriole          349   \n",
       "3           Javan Myna          177   \n",
       "4         Little Egret          112   \n",
       "\n",
       "                                        cleaned_text  \n",
       "0  jun javan myna share similarity common myna te...  \n",
       "1  click information red list category criterion ...  \n",
       "2  black headed oriole oriolus larvatus specie bi...  \n",
       "3  search thousand royalty free javan myna stock ...  \n",
       "4  foreground recording background recording egre...  "
      ]
     },
     "execution_count": 3,
     "metadata": {},
     "output_type": "execute_result"
    }
   ],
   "source": [
    "df=pd.read_csv('230436M_cleaned_data.csv')\n",
    "df.head()"
   ]
  },
  {
   "cell_type": "code",
   "execution_count": 34,
   "id": "821a759f-6991-4a30-a227-9f93c7cb668a",
   "metadata": {},
   "outputs": [],
   "source": [
    "y=df['species']\n",
    "x=df['cleaned_text']\n",
    "n_classes = y.shape[0]"
   ]
  },
  {
   "cell_type": "code",
   "execution_count": 35,
   "id": "9bd93c00-856f-44a7-b16d-a248e12c64f3",
   "metadata": {},
   "outputs": [
    {
     "data": {
      "text/plain": [
       "(611,)"
      ]
     },
     "metadata": {},
     "output_type": "display_data"
    },
    {
     "data": {
      "text/plain": [
       "(611,)"
      ]
     },
     "metadata": {},
     "output_type": "display_data"
    }
   ],
   "source": [
    "display(x.shape)\n",
    "display(y.shape)\n",
    "\n",
    "X_train, X_test, y_train, y_test=train_test_split(x, y, test_size=0.2, random_state=42)"
   ]
  },
  {
   "cell_type": "markdown",
   "id": "f0cb338f",
   "metadata": {},
   "source": [
    "#### **Feature Engineering**   \n",
    "There are different types of features that can be done, we will be using a mix of vectorizers as comparison. A base model will be trained to examine this.\n",
    "\n",
    "\n"
   ]
  },
  {
   "cell_type": "code",
   "execution_count": 56,
   "id": "6fa89483",
   "metadata": {},
   "outputs": [
    {
     "name": "stdout",
     "output_type": "stream",
     "text": [
      "\n",
      "training: (488, 9711)\n",
      "test: (123, 9711)\n",
      "\n",
      "features: ['ability' 'able' 'able imitate' ... 'zhao renhui' 'zoonosis'\n",
      " 'zoonosis singapore']\n",
      "      \n"
     ]
    }
   ],
   "source": [
    "from sklearn.feature_extraction.text import CountVectorizer\n",
    "cv=CountVectorizer(stop_words='english', ngram_range=(1,2))\n",
    "X_train_cv=cv.fit_transform(X_train)\n",
    "X_test_cv=cv.transform(X_test) #make sure X_test is TRANSFORM and not fit_transform\n",
    "\n",
    "#print dimensions and features \n",
    "print(f\"\"\"\n",
    "training: {X_train_cv.toarray().shape}\n",
    "test: {X_test_cv.toarray().shape}\n",
    "\n",
    "features: {cv.get_feature_names_out()}\n",
    "      \"\"\")"
   ]
  },
  {
   "cell_type": "code",
   "execution_count": 60,
   "id": "324187cc-3be2-4ce5-8cb4-57c07f75619d",
   "metadata": {},
   "outputs": [
    {
     "name": "stdout",
     "output_type": "stream",
     "text": [
      "\n",
      "training: (488, 9711)\n",
      "test: (123, 9711)\n",
      "\n",
      "features: ['ability' 'able' 'able imitate' ... 'zhao renhui' 'zoonosis'\n",
      " 'zoonosis singapore']\n",
      "      \n"
     ]
    }
   ],
   "source": [
    "from sklearn.feature_extraction.text import TfidfVectorizer\n",
    "tv=TfidfVectorizer(stop_words='english', ngram_range=(1,2))\n",
    "X_train_tv=tv.fit_transform(X_train)\n",
    "X_test_tv=tv.transform(X_test) #make sure X_test is TRANSFORM and not fit_transform\n",
    "\n",
    "#print dimensions and features \n",
    "print(f\"\"\"\n",
    "training: {X_train_tv.toarray().shape}\n",
    "test: {X_test_tv.toarray().shape}\n",
    "\n",
    "features: {tv.get_feature_names_out()}\n",
    "      \"\"\")"
   ]
  },
  {
   "cell_type": "markdown",
   "id": "2d891413",
   "metadata": {},
   "source": [
    "##### **Usage of A Base Model for testing**\n",
    "We will use a base model, Logistic Regression to decide which of the vectorizers or bag of words features can produce the most results. T"
   ]
  },
  {
   "cell_type": "code",
   "execution_count": 61,
   "id": "6a9c8617",
   "metadata": {},
   "outputs": [
    {
     "name": "stdout",
     "output_type": "stream",
     "text": [
      "\n",
      "Model: Count Vectorizer\n",
      "Accuracy: 0.9186991869918699 \n",
      "=================================================================================================\n",
      "\n",
      "Model: Tfidf Vectorizer\n",
      "Accuracy: 0.9105691056910569\n",
      "\n"
     ]
    }
   ],
   "source": [
    "from sklearn.linear_model import LogisticRegression\n",
    "\n",
    "\n",
    "#train\n",
    "def vectorise_data(X_train_cv,X_test_cv):\n",
    "    lr=LogisticRegression(solver='lbfgs')\n",
    "    lr.fit(X_train_cv, y_train)\n",
    "    y_pred_cv=lr.predict(X_test_cv)\n",
    "    accuracy=accuracy_score(y_test, y_pred_cv)\n",
    "    return accuracy\n",
    "\n",
    "print(f'''\n",
    "Model: Count Vectorizer\n",
    "Accuracy: {vectorise_data(X_train_cv, X_test_cv)} \n",
    "=================================================================================================\n",
    "\n",
    "Model: Tfidf Vectorizer\n",
    "Accuracy: {vectorise_data(X_train_tv, X_test_cv)}\n",
    "''')\n"
   ]
  },
  {
   "attachments": {},
   "cell_type": "markdown",
   "id": "ff2d7ae4",
   "metadata": {},
   "source": [
    "#### **Modelling**\n",
    "There will be a number of models tested.\n",
    "\n",
    "1. Logistic Regression\n",
    "2. Naives Bayes\n",
    "3. Support Vector Machine"
   ]
  },
  {
   "cell_type": "code",
   "execution_count": 10,
   "id": "b185da73",
   "metadata": {},
   "outputs": [],
   "source": [
    "#importing different models \n",
    "from sklearn.linear_model import LogisticRegression\n",
    "from sklearn.naive_bayes import MultinomialNB\n",
    "from sklearn.naive_bayes import GaussianNB\n",
    "\n",
    "#accuracy metrics\n",
    "from sklearn.metrics import confusion_matrix\n",
    "from sklearn.metrics import classification_report\n",
    "\n",
    "\n",
    "#list of models\n",
    "models=[\n",
    "    {'name': 'Logistic Regression', \n",
    "     'model': LogisticRegression(solver='lbfgs')}, \n",
    "    {'name': 'Naive Bayes (Multinomial)', \n",
    "     'model': MultinomialNB()}, \n",
    "    {'name': 'Naive Bayes (GaussianNB)', \n",
    "     'model': GaussianNB()}, \n",
    "]\n",
    "results=[]\n",
    "\n",
    "#printing confusion matrix    \n",
    "def conf_matrix(y_test, pred_test):    \n",
    "    # Creating a confusion matrix\n",
    "    con_mat = confusion_matrix(y_test, pred_test)\n",
    "    con_mat = pd.DataFrame(con_mat, range(4), range(4))\n",
    "    #Ploting the confusion matrix\n",
    "    plt.figure(figsize=(6,6))\n",
    "    sns.set(font_scale=1.5) \n",
    "    sns.heatmap(con_mat, annot=True, annot_kws={\"size\": 16}, fmt='g', cmap='Blues', cbar=False)\n",
    "    "
   ]
  },
  {
   "cell_type": "code",
   "execution_count": 11,
   "id": "a245f95b",
   "metadata": {},
   "outputs": [
    {
     "name": "stdout",
     "output_type": "stream",
     "text": [
      "\n",
      "    Model Name: Logistic Regression\n",
      "    Accuracy: 0.92\n",
      "    Confusion Matrix: \n",
      "    ======================================================================================================\n",
      "    \n",
      "\n",
      "    Model Name: Naive Bayes (Multinomial)\n",
      "    Accuracy: 0.90\n",
      "    Confusion Matrix: \n",
      "    ======================================================================================================\n",
      "    \n"
     ]
    },
    {
     "ename": "TypeError",
     "evalue": "Sparse data was passed for X, but dense data is required. Use '.toarray()' to convert to a dense numpy array.",
     "output_type": "error",
     "traceback": [
      "\u001b[0;31m---------------------------------------------------------------------------\u001b[0m",
      "\u001b[0;31mTypeError\u001b[0m                                 Traceback (most recent call last)",
      "Cell \u001b[0;32mIn[11], line 5\u001b[0m\n\u001b[1;32m      3\u001b[0m \u001b[39mfor\u001b[39;00m modell \u001b[39min\u001b[39;00m models:\n\u001b[1;32m      4\u001b[0m     model\u001b[39m=\u001b[39mmodell[\u001b[39m'\u001b[39m\u001b[39mmodel\u001b[39m\u001b[39m'\u001b[39m]\n\u001b[0;32m----> 5\u001b[0m     model\u001b[39m.\u001b[39mfit(X_train_cv, y_train)\n\u001b[1;32m      6\u001b[0m     y_pred_cv\u001b[39m=\u001b[39mmodel\u001b[39m.\u001b[39mpredict(X_test_cv)\n\u001b[1;32m      7\u001b[0m     accuracy\u001b[39m=\u001b[39maccuracy_score(y_test, y_pred_cv)\n",
      "File \u001b[0;32m/opt/anaconda3/lib/python3.11/site-packages/sklearn/base.py:1473\u001b[0m, in \u001b[0;36m_fit_context.<locals>.decorator.<locals>.wrapper\u001b[0;34m(estimator, *args, **kwargs)\u001b[0m\n\u001b[1;32m   1466\u001b[0m     estimator\u001b[39m.\u001b[39m_validate_params()\n\u001b[1;32m   1468\u001b[0m \u001b[39mwith\u001b[39;00m config_context(\n\u001b[1;32m   1469\u001b[0m     skip_parameter_validation\u001b[39m=\u001b[39m(\n\u001b[1;32m   1470\u001b[0m         prefer_skip_nested_validation \u001b[39mor\u001b[39;00m global_skip_validation\n\u001b[1;32m   1471\u001b[0m     )\n\u001b[1;32m   1472\u001b[0m ):\n\u001b[0;32m-> 1473\u001b[0m     \u001b[39mreturn\u001b[39;00m fit_method(estimator, \u001b[39m*\u001b[39margs, \u001b[39m*\u001b[39m\u001b[39m*\u001b[39mkwargs)\n",
      "File \u001b[0;32m/opt/anaconda3/lib/python3.11/site-packages/sklearn/naive_bayes.py:263\u001b[0m, in \u001b[0;36mGaussianNB.fit\u001b[0;34m(self, X, y, sample_weight)\u001b[0m\n\u001b[1;32m    240\u001b[0m \u001b[39m\u001b[39m\u001b[39m\"\"\"Fit Gaussian Naive Bayes according to X, y.\u001b[39;00m\n\u001b[1;32m    241\u001b[0m \n\u001b[1;32m    242\u001b[0m \u001b[39mParameters\u001b[39;00m\n\u001b[0;32m   (...)\u001b[0m\n\u001b[1;32m    260\u001b[0m \u001b[39m    Returns the instance itself.\u001b[39;00m\n\u001b[1;32m    261\u001b[0m \u001b[39m\"\"\"\u001b[39;00m\n\u001b[1;32m    262\u001b[0m y \u001b[39m=\u001b[39m \u001b[39mself\u001b[39m\u001b[39m.\u001b[39m_validate_data(y\u001b[39m=\u001b[39my)\n\u001b[0;32m--> 263\u001b[0m \u001b[39mreturn\u001b[39;00m \u001b[39mself\u001b[39m\u001b[39m.\u001b[39m_partial_fit(\n\u001b[1;32m    264\u001b[0m     X, y, np\u001b[39m.\u001b[39munique(y), _refit\u001b[39m=\u001b[39m\u001b[39mTrue\u001b[39;00m, sample_weight\u001b[39m=\u001b[39msample_weight\n\u001b[1;32m    265\u001b[0m )\n",
      "File \u001b[0;32m/opt/anaconda3/lib/python3.11/site-packages/sklearn/naive_bayes.py:423\u001b[0m, in \u001b[0;36mGaussianNB._partial_fit\u001b[0;34m(self, X, y, classes, _refit, sample_weight)\u001b[0m\n\u001b[1;32m    420\u001b[0m     \u001b[39mself\u001b[39m\u001b[39m.\u001b[39mclasses_ \u001b[39m=\u001b[39m \u001b[39mNone\u001b[39;00m\n\u001b[1;32m    422\u001b[0m first_call \u001b[39m=\u001b[39m _check_partial_fit_first_call(\u001b[39mself\u001b[39m, classes)\n\u001b[0;32m--> 423\u001b[0m X, y \u001b[39m=\u001b[39m \u001b[39mself\u001b[39m\u001b[39m.\u001b[39m_validate_data(X, y, reset\u001b[39m=\u001b[39mfirst_call)\n\u001b[1;32m    424\u001b[0m \u001b[39mif\u001b[39;00m sample_weight \u001b[39mis\u001b[39;00m \u001b[39mnot\u001b[39;00m \u001b[39mNone\u001b[39;00m:\n\u001b[1;32m    425\u001b[0m     sample_weight \u001b[39m=\u001b[39m _check_sample_weight(sample_weight, X)\n",
      "File \u001b[0;32m/opt/anaconda3/lib/python3.11/site-packages/sklearn/base.py:650\u001b[0m, in \u001b[0;36mBaseEstimator._validate_data\u001b[0;34m(self, X, y, reset, validate_separately, cast_to_ndarray, **check_params)\u001b[0m\n\u001b[1;32m    648\u001b[0m         y \u001b[39m=\u001b[39m check_array(y, input_name\u001b[39m=\u001b[39m\u001b[39m\"\u001b[39m\u001b[39my\u001b[39m\u001b[39m\"\u001b[39m, \u001b[39m*\u001b[39m\u001b[39m*\u001b[39mcheck_y_params)\n\u001b[1;32m    649\u001b[0m     \u001b[39melse\u001b[39;00m:\n\u001b[0;32m--> 650\u001b[0m         X, y \u001b[39m=\u001b[39m check_X_y(X, y, \u001b[39m*\u001b[39m\u001b[39m*\u001b[39mcheck_params)\n\u001b[1;32m    651\u001b[0m     out \u001b[39m=\u001b[39m X, y\n\u001b[1;32m    653\u001b[0m \u001b[39mif\u001b[39;00m \u001b[39mnot\u001b[39;00m no_val_X \u001b[39mand\u001b[39;00m check_params\u001b[39m.\u001b[39mget(\u001b[39m\"\u001b[39m\u001b[39mensure_2d\u001b[39m\u001b[39m\"\u001b[39m, \u001b[39mTrue\u001b[39;00m):\n",
      "File \u001b[0;32m/opt/anaconda3/lib/python3.11/site-packages/sklearn/utils/validation.py:1301\u001b[0m, in \u001b[0;36mcheck_X_y\u001b[0;34m(X, y, accept_sparse, accept_large_sparse, dtype, order, copy, force_writeable, force_all_finite, ensure_2d, allow_nd, multi_output, ensure_min_samples, ensure_min_features, y_numeric, estimator)\u001b[0m\n\u001b[1;32m   1296\u001b[0m         estimator_name \u001b[39m=\u001b[39m _check_estimator_name(estimator)\n\u001b[1;32m   1297\u001b[0m     \u001b[39mraise\u001b[39;00m \u001b[39mValueError\u001b[39;00m(\n\u001b[1;32m   1298\u001b[0m         \u001b[39mf\u001b[39m\u001b[39m\"\u001b[39m\u001b[39m{\u001b[39;00mestimator_name\u001b[39m}\u001b[39;00m\u001b[39m requires y to be passed, but the target y is None\u001b[39m\u001b[39m\"\u001b[39m\n\u001b[1;32m   1299\u001b[0m     )\n\u001b[0;32m-> 1301\u001b[0m X \u001b[39m=\u001b[39m check_array(\n\u001b[1;32m   1302\u001b[0m     X,\n\u001b[1;32m   1303\u001b[0m     accept_sparse\u001b[39m=\u001b[39maccept_sparse,\n\u001b[1;32m   1304\u001b[0m     accept_large_sparse\u001b[39m=\u001b[39maccept_large_sparse,\n\u001b[1;32m   1305\u001b[0m     dtype\u001b[39m=\u001b[39mdtype,\n\u001b[1;32m   1306\u001b[0m     order\u001b[39m=\u001b[39morder,\n\u001b[1;32m   1307\u001b[0m     copy\u001b[39m=\u001b[39mcopy,\n\u001b[1;32m   1308\u001b[0m     force_writeable\u001b[39m=\u001b[39mforce_writeable,\n\u001b[1;32m   1309\u001b[0m     force_all_finite\u001b[39m=\u001b[39mforce_all_finite,\n\u001b[1;32m   1310\u001b[0m     ensure_2d\u001b[39m=\u001b[39mensure_2d,\n\u001b[1;32m   1311\u001b[0m     allow_nd\u001b[39m=\u001b[39mallow_nd,\n\u001b[1;32m   1312\u001b[0m     ensure_min_samples\u001b[39m=\u001b[39mensure_min_samples,\n\u001b[1;32m   1313\u001b[0m     ensure_min_features\u001b[39m=\u001b[39mensure_min_features,\n\u001b[1;32m   1314\u001b[0m     estimator\u001b[39m=\u001b[39mestimator,\n\u001b[1;32m   1315\u001b[0m     input_name\u001b[39m=\u001b[39m\u001b[39m\"\u001b[39m\u001b[39mX\u001b[39m\u001b[39m\"\u001b[39m,\n\u001b[1;32m   1316\u001b[0m )\n\u001b[1;32m   1318\u001b[0m y \u001b[39m=\u001b[39m _check_y(y, multi_output\u001b[39m=\u001b[39mmulti_output, y_numeric\u001b[39m=\u001b[39my_numeric, estimator\u001b[39m=\u001b[39mestimator)\n\u001b[1;32m   1320\u001b[0m check_consistent_length(X, y)\n",
      "File \u001b[0;32m/opt/anaconda3/lib/python3.11/site-packages/sklearn/utils/validation.py:971\u001b[0m, in \u001b[0;36mcheck_array\u001b[0;34m(array, accept_sparse, accept_large_sparse, dtype, order, copy, force_writeable, force_all_finite, ensure_2d, allow_nd, ensure_min_samples, ensure_min_features, estimator, input_name)\u001b[0m\n\u001b[1;32m    969\u001b[0m \u001b[39mif\u001b[39;00m sp\u001b[39m.\u001b[39missparse(array):\n\u001b[1;32m    970\u001b[0m     _ensure_no_complex_data(array)\n\u001b[0;32m--> 971\u001b[0m     array \u001b[39m=\u001b[39m _ensure_sparse_format(\n\u001b[1;32m    972\u001b[0m         array,\n\u001b[1;32m    973\u001b[0m         accept_sparse\u001b[39m=\u001b[39maccept_sparse,\n\u001b[1;32m    974\u001b[0m         dtype\u001b[39m=\u001b[39mdtype,\n\u001b[1;32m    975\u001b[0m         copy\u001b[39m=\u001b[39mcopy,\n\u001b[1;32m    976\u001b[0m         force_all_finite\u001b[39m=\u001b[39mforce_all_finite,\n\u001b[1;32m    977\u001b[0m         accept_large_sparse\u001b[39m=\u001b[39maccept_large_sparse,\n\u001b[1;32m    978\u001b[0m         estimator_name\u001b[39m=\u001b[39mestimator_name,\n\u001b[1;32m    979\u001b[0m         input_name\u001b[39m=\u001b[39minput_name,\n\u001b[1;32m    980\u001b[0m     )\n\u001b[1;32m    981\u001b[0m     \u001b[39mif\u001b[39;00m ensure_2d \u001b[39mand\u001b[39;00m array\u001b[39m.\u001b[39mndim \u001b[39m<\u001b[39m \u001b[39m2\u001b[39m:\n\u001b[1;32m    982\u001b[0m         \u001b[39mraise\u001b[39;00m \u001b[39mValueError\u001b[39;00m(\n\u001b[1;32m    983\u001b[0m             \u001b[39mf\u001b[39m\u001b[39m\"\u001b[39m\u001b[39mExpected 2D input, got input with shape \u001b[39m\u001b[39m{\u001b[39;00marray\u001b[39m.\u001b[39mshape\u001b[39m}\u001b[39;00m\u001b[39m.\u001b[39m\u001b[39m\\n\u001b[39;00m\u001b[39m\"\u001b[39m\n\u001b[1;32m    984\u001b[0m             \u001b[39m\"\u001b[39m\u001b[39mReshape your data either using array.reshape(-1, 1) if \u001b[39m\u001b[39m\"\u001b[39m\n\u001b[1;32m    985\u001b[0m             \u001b[39m\"\u001b[39m\u001b[39myour data has a single feature or array.reshape(1, -1) \u001b[39m\u001b[39m\"\u001b[39m\n\u001b[1;32m    986\u001b[0m             \u001b[39m\"\u001b[39m\u001b[39mif it contains a single sample.\u001b[39m\u001b[39m\"\u001b[39m\n\u001b[1;32m    987\u001b[0m         )\n",
      "File \u001b[0;32m/opt/anaconda3/lib/python3.11/site-packages/sklearn/utils/validation.py:595\u001b[0m, in \u001b[0;36m_ensure_sparse_format\u001b[0;34m(sparse_container, accept_sparse, dtype, copy, force_all_finite, accept_large_sparse, estimator_name, input_name)\u001b[0m\n\u001b[1;32m    593\u001b[0m \u001b[39mif\u001b[39;00m accept_sparse \u001b[39mis\u001b[39;00m \u001b[39mFalse\u001b[39;00m:\n\u001b[1;32m    594\u001b[0m     padded_input \u001b[39m=\u001b[39m \u001b[39m\"\u001b[39m\u001b[39m for \u001b[39m\u001b[39m\"\u001b[39m \u001b[39m+\u001b[39m input_name \u001b[39mif\u001b[39;00m input_name \u001b[39melse\u001b[39;00m \u001b[39m\"\u001b[39m\u001b[39m\"\u001b[39m\n\u001b[0;32m--> 595\u001b[0m     \u001b[39mraise\u001b[39;00m \u001b[39mTypeError\u001b[39;00m(\n\u001b[1;32m    596\u001b[0m         \u001b[39mf\u001b[39m\u001b[39m\"\u001b[39m\u001b[39mSparse data was passed\u001b[39m\u001b[39m{\u001b[39;00mpadded_input\u001b[39m}\u001b[39;00m\u001b[39m, but dense data is required. \u001b[39m\u001b[39m\"\u001b[39m\n\u001b[1;32m    597\u001b[0m         \u001b[39m\"\u001b[39m\u001b[39mUse \u001b[39m\u001b[39m'\u001b[39m\u001b[39m.toarray()\u001b[39m\u001b[39m'\u001b[39m\u001b[39m to convert to a dense numpy array.\u001b[39m\u001b[39m\"\u001b[39m\n\u001b[1;32m    598\u001b[0m     )\n\u001b[1;32m    599\u001b[0m \u001b[39melif\u001b[39;00m \u001b[39misinstance\u001b[39m(accept_sparse, (\u001b[39mlist\u001b[39m, \u001b[39mtuple\u001b[39m)):\n\u001b[1;32m    600\u001b[0m     \u001b[39mif\u001b[39;00m \u001b[39mlen\u001b[39m(accept_sparse) \u001b[39m==\u001b[39m \u001b[39m0\u001b[39m:\n",
      "\u001b[0;31mTypeError\u001b[0m: Sparse data was passed for X, but dense data is required. Use '.toarray()' to convert to a dense numpy array."
     ]
    }
   ],
   "source": [
    "#run models and print classificaton report\n",
    "from sklearn.metrics import accuracy_score\n",
    "for modell in models:\n",
    "    model=modell['model']\n",
    "    model.fit(X_train_cv, y_train)\n",
    "    y_pred_cv=model.predict(X_test_cv)\n",
    "    accuracy=accuracy_score(y_test, y_pred_cv)\n",
    "    # confusionmatrix = conf_matrix(y_test, y_pred_cv)\n",
    "    print(f'''\n",
    "    Model Name: {modell['name']}\n",
    "    Accuracy: {accuracy:.2f}\n",
    "    Confusion Matrix: \n",
    "    ======================================================================================================\n",
    "    ''')\n",
    "    "
   ]
  },
  {
   "attachments": {},
   "cell_type": "markdown",
   "id": "1798baf9",
   "metadata": {},
   "source": [
    "### **Model 1: Logistic Regression**"
   ]
  },
  {
   "cell_type": "code",
   "execution_count": 44,
   "id": "3788c115",
   "metadata": {},
   "outputs": [
    {
     "data": {
      "text/plain": [
       "array([[1.82334630e-01, 7.28220087e-02, 6.30478868e-01, 1.14364493e-01],\n",
       "       [9.86822298e-01, 3.06573309e-03, 5.69965358e-03, 4.41231507e-03],\n",
       "       [1.31346430e-05, 9.99955763e-01, 1.96447834e-05, 1.14580412e-05],\n",
       "       [8.81662642e-04, 1.33816630e-03, 6.61960623e-04, 9.97118210e-01],\n",
       "       [1.97730566e-01, 1.00535415e-01, 3.35981666e-01, 3.65752352e-01],\n",
       "       [2.39604247e-01, 9.53961689e-02, 1.60152661e-01, 5.04846923e-01],\n",
       "       [2.39130499e-01, 1.57374637e-01, 2.37496754e-01, 3.65998111e-01],\n",
       "       [3.29018098e-03, 3.05078175e-03, 2.25549646e-03, 9.91403541e-01],\n",
       "       [1.32632483e-02, 9.55548663e-01, 1.09853124e-02, 2.02027760e-02],\n",
       "       [1.33998878e-03, 3.68463327e-03, 9.92057684e-01, 2.91769382e-03],\n",
       "       [9.97664003e-01, 1.20390515e-03, 6.48738357e-04, 4.83353858e-04],\n",
       "       [2.13628832e-02, 9.60161670e-01, 1.30473411e-02, 5.42810514e-03],\n",
       "       [7.87417467e-02, 2.36713112e-02, 8.59190964e-01, 3.83959779e-02],\n",
       "       [2.05011769e-01, 1.06436195e-01, 4.62626102e-01, 2.25925935e-01],\n",
       "       [3.36189755e-01, 7.08164049e-02, 3.35829807e-01, 2.57164033e-01],\n",
       "       [8.06496878e-03, 1.32254904e-02, 2.68794905e-02, 9.51830050e-01],\n",
       "       [9.09742438e-03, 9.65395972e-01, 1.97967305e-02, 5.70987323e-03],\n",
       "       [1.32363068e-04, 4.67154702e-04, 9.99272863e-01, 1.27619025e-04],\n",
       "       [9.31906187e-01, 1.01401583e-02, 3.34381795e-02, 2.45154751e-02],\n",
       "       [9.92241045e-01, 4.08423549e-03, 2.72464781e-03, 9.50071821e-04],\n",
       "       [9.34306943e-01, 1.13947973e-02, 2.56707719e-02, 2.86274882e-02],\n",
       "       [1.69250885e-02, 2.37487730e-02, 9.33880329e-01, 2.54458090e-02],\n",
       "       [1.37422669e-03, 2.51279006e-03, 9.95187887e-01, 9.25096109e-04],\n",
       "       [2.52991842e-03, 9.80551514e-01, 1.34767357e-02, 3.44183159e-03],\n",
       "       [9.99517321e-01, 2.67560711e-04, 1.60565485e-04, 5.45523635e-05],\n",
       "       [1.61331365e-02, 1.99036287e-02, 9.46820195e-01, 1.71430398e-02],\n",
       "       [1.65037315e-02, 9.64713287e-01, 1.22107974e-02, 6.57218427e-03],\n",
       "       [2.36960694e-02, 1.10887251e-02, 9.47667176e-01, 1.75480294e-02],\n",
       "       [2.70907002e-02, 4.25398866e-02, 9.10051246e-01, 2.03181675e-02],\n",
       "       [6.81124993e-02, 9.27792832e-01, 2.70399823e-03, 1.39067063e-03],\n",
       "       [7.03376753e-04, 3.60781014e-03, 9.94649376e-01, 1.03943727e-03],\n",
       "       [8.25936671e-03, 3.01972479e-03, 9.83895200e-01, 4.82570860e-03],\n",
       "       [2.07468593e-02, 1.56675594e-02, 9.27867531e-01, 3.57180504e-02],\n",
       "       [1.63967768e-02, 9.61523872e-01, 1.07735943e-02, 1.13057565e-02],\n",
       "       [1.76225749e-01, 7.72297550e-02, 1.09831296e-01, 6.36713200e-01],\n",
       "       [9.99085119e-01, 4.78339906e-04, 2.76510436e-04, 1.60030177e-04],\n",
       "       [1.93313258e-03, 9.97296505e-01, 3.08675942e-04, 4.61686374e-04],\n",
       "       [1.47578736e-03, 9.95273851e-01, 1.51170870e-03, 1.73865247e-03],\n",
       "       [9.29315389e-01, 8.35894494e-03, 2.13823512e-02, 4.09433153e-02],\n",
       "       [2.01267452e-03, 3.70514441e-03, 1.32146918e-02, 9.81067489e-01],\n",
       "       [2.85373437e-01, 4.86436400e-04, 7.14024305e-01, 1.15821917e-04],\n",
       "       [8.62118036e-05, 9.99542637e-01, 9.89159316e-05, 2.72235576e-04],\n",
       "       [9.66081304e-01, 5.88164239e-03, 1.45940913e-02, 1.34429619e-02],\n",
       "       [9.85810450e-01, 2.92777033e-03, 6.95236685e-03, 4.30941247e-03],\n",
       "       [2.08698842e-02, 9.70914722e-01, 3.00782311e-03, 5.20757072e-03],\n",
       "       [3.97884524e-02, 9.51274577e-01, 3.85616483e-03, 5.08080619e-03],\n",
       "       [2.74704601e-03, 9.93663947e-01, 2.04860165e-03, 1.54040564e-03],\n",
       "       [3.35224145e-03, 9.91229792e-01, 1.06165582e-03, 4.35631085e-03],\n",
       "       [1.40545207e-02, 7.77968191e-03, 9.70082454e-01, 8.08334369e-03],\n",
       "       [3.33567685e-02, 1.27703519e-02, 1.12306084e-02, 9.42642271e-01],\n",
       "       [9.93110456e-01, 1.11936067e-03, 3.28328600e-03, 2.48689746e-03],\n",
       "       [4.05675765e-02, 2.76319688e-02, 9.19417339e-01, 1.23831153e-02],\n",
       "       [6.13379000e-03, 6.95234761e-03, 9.71920117e-01, 1.49937455e-02],\n",
       "       [9.71202715e-01, 1.21066255e-02, 8.76270731e-03, 7.92795196e-03],\n",
       "       [2.38881632e-01, 1.22464856e-01, 2.54762101e-01, 3.83891411e-01],\n",
       "       [1.70978009e-01, 6.74544545e-02, 9.59999397e-02, 6.65567597e-01],\n",
       "       [9.99719230e-01, 5.21991637e-05, 2.23725890e-04, 4.84447083e-06],\n",
       "       [9.74534894e-01, 5.96996372e-03, 9.74394679e-03, 9.75119507e-03],\n",
       "       [1.55198904e-02, 1.26798693e-02, 9.57630119e-01, 1.41701213e-02],\n",
       "       [5.62179112e-01, 1.99363072e-01, 1.73713778e-01, 6.47440381e-02],\n",
       "       [1.82856841e-02, 9.20769106e-03, 9.68715233e-01, 3.79139177e-03],\n",
       "       [5.08850002e-01, 3.02881940e-01, 1.34523334e-01, 5.37447242e-02],\n",
       "       [9.48466734e-01, 1.04988340e-02, 2.23048086e-02, 1.87296232e-02],\n",
       "       [1.56836570e-03, 9.91505130e-01, 2.83648852e-03, 4.09001591e-03],\n",
       "       [1.29771964e-03, 9.97756034e-01, 8.60574589e-04, 8.56715651e-05],\n",
       "       [9.63147278e-01, 5.93792778e-03, 1.85892009e-02, 1.23255931e-02],\n",
       "       [4.68783274e-03, 3.60946469e-03, 9.88447050e-01, 3.25565275e-03],\n",
       "       [1.03981714e-02, 1.11749540e-02, 9.60564476e-01, 1.78623990e-02],\n",
       "       [3.41954217e-01, 1.16775797e-01, 2.54161270e-01, 2.87108716e-01],\n",
       "       [9.81615873e-01, 6.59057945e-03, 7.18653984e-03, 4.60700726e-03],\n",
       "       [7.92637980e-03, 1.33298955e-02, 3.38265239e-02, 9.44917201e-01],\n",
       "       [3.47204162e-01, 1.13235241e-01, 2.24486249e-01, 3.15074348e-01],\n",
       "       [9.99485336e-01, 2.56125345e-05, 4.82489290e-04, 6.56196861e-06],\n",
       "       [2.33013936e-01, 8.93986740e-02, 1.34822332e-01, 5.42765058e-01],\n",
       "       [8.34755375e-02, 5.87363177e-02, 8.54457169e-02, 7.72342428e-01],\n",
       "       [4.82247624e-03, 7.28047810e-03, 1.06092054e-02, 9.77287840e-01],\n",
       "       [5.64632378e-02, 7.06885542e-02, 1.19322153e-01, 7.53526055e-01],\n",
       "       [2.64771264e-04, 9.99234588e-01, 4.22141189e-04, 7.84991283e-05],\n",
       "       [5.07634490e-03, 9.83780709e-01, 3.79746671e-03, 7.34547972e-03],\n",
       "       [1.68304561e-01, 7.88662823e-02, 2.22007353e-01, 5.30821804e-01],\n",
       "       [2.09331983e-01, 1.00938471e-01, 1.39463566e-01, 5.50265980e-01],\n",
       "       [1.67824930e-02, 1.78160684e-02, 9.35795288e-01, 2.96061504e-02],\n",
       "       [3.86405488e-02, 1.92206190e-02, 9.15760457e-01, 2.63783755e-02],\n",
       "       [2.97762662e-01, 1.33476803e-01, 2.76492399e-01, 2.92268136e-01],\n",
       "       [5.16195554e-04, 9.99317230e-01, 1.58547250e-04, 8.02679912e-06],\n",
       "       [1.93013358e-01, 5.59088345e-02, 1.12607179e-01, 6.38470628e-01],\n",
       "       [9.23712350e-01, 1.31635239e-02, 2.95332472e-02, 3.35908790e-02],\n",
       "       [9.96124914e-01, 4.20083323e-04, 3.25622028e-03, 1.98782292e-04],\n",
       "       [9.77347434e-01, 7.21383580e-03, 8.01388921e-03, 7.42484105e-03],\n",
       "       [9.57234531e-01, 7.40552684e-03, 1.62973699e-02, 1.90625720e-02],\n",
       "       [1.78762264e-05, 9.99962841e-01, 1.18834747e-05, 7.39905916e-06],\n",
       "       [1.50202243e-02, 1.82939757e-02, 2.88075724e-02, 9.37878228e-01],\n",
       "       [1.29075238e-02, 2.73474946e-03, 9.81269625e-01, 3.08810179e-03],\n",
       "       [5.77725581e-02, 7.02946146e-02, 8.61858597e-02, 7.85746968e-01],\n",
       "       [9.02140672e-01, 2.65583297e-02, 3.81412657e-02, 3.31597330e-02],\n",
       "       [9.99039293e-01, 1.70384917e-04, 5.07168472e-04, 2.83153902e-04],\n",
       "       [9.17014889e-01, 1.15847407e-02, 5.34960825e-02, 1.79042877e-02],\n",
       "       [2.74653715e-02, 9.69474851e-01, 2.24658741e-03, 8.13190283e-04],\n",
       "       [1.39643190e-02, 3.20797790e-02, 1.66241745e-02, 9.37331728e-01],\n",
       "       [9.50870089e-01, 8.30880180e-03, 1.45483962e-02, 2.62727129e-02],\n",
       "       [2.96901607e-02, 9.61042571e-01, 8.35771337e-03, 9.09555133e-04],\n",
       "       [9.58981815e-03, 1.37934948e-02, 9.51162810e-01, 2.54538775e-02],\n",
       "       [6.64674065e-04, 1.29584425e-02, 3.69865691e-03, 9.82678227e-01],\n",
       "       [9.79806867e-01, 4.83486609e-03, 7.76354642e-03, 7.59472057e-03],\n",
       "       [9.05516482e-01, 9.61047095e-03, 1.37424568e-02, 7.11305899e-02],\n",
       "       [1.68074501e-02, 9.38036863e-01, 2.99167339e-02, 1.52389532e-02],\n",
       "       [9.57110573e-03, 9.85204503e-01, 3.46230247e-03, 1.76208834e-03],\n",
       "       [5.15971968e-03, 1.00895806e-02, 9.80146155e-01, 4.60454475e-03],\n",
       "       [9.96860349e-01, 2.72900925e-04, 2.57446359e-03, 2.92286413e-04],\n",
       "       [6.77497904e-01, 1.80848369e-01, 8.69777953e-02, 5.46759317e-02],\n",
       "       [6.83010203e-02, 4.30044738e-02, 3.76147437e-02, 8.51079762e-01],\n",
       "       [2.17158909e-05, 9.99966127e-01, 5.17607568e-06, 6.98093116e-06],\n",
       "       [2.38557419e-01, 1.23400154e-01, 2.55454365e-01, 3.82588062e-01],\n",
       "       [4.38557316e-03, 1.75007629e-02, 9.64402698e-01, 1.37109660e-02],\n",
       "       [2.70026039e-02, 1.47069847e-02, 9.44067112e-01, 1.42232989e-02],\n",
       "       [4.20897708e-02, 9.04352652e-03, 9.37409058e-01, 1.14576450e-02],\n",
       "       [1.04786724e-03, 3.17404435e-03, 9.94781192e-01, 9.96896091e-04],\n",
       "       [9.65155452e-01, 5.27760957e-03, 1.65518403e-02, 1.30150983e-02],\n",
       "       [4.88567088e-03, 4.24373705e-03, 9.90097722e-01, 7.72869820e-04],\n",
       "       [1.10932896e-02, 1.32923255e-02, 9.64497036e-01, 1.11173490e-02],\n",
       "       [5.44787875e-01, 2.62398541e-01, 1.01678520e-01, 9.11350643e-02],\n",
       "       [3.20521629e-01, 1.11499558e-01, 1.69214020e-01, 3.98764793e-01],\n",
       "       [1.95669388e-03, 5.40910991e-02, 8.74252887e-01, 6.96993196e-02]])"
      ]
     },
     "execution_count": 44,
     "metadata": {},
     "output_type": "execute_result"
    }
   ],
   "source": [
    "from sklearn.linear_model import LogisticRegression\n",
    "from sklearn.multiclass import OneVsRestClassifier\n",
    "lr=OneVsRestClassifier(LogisticRegression(solver='lbfgs'))\n",
    "\n",
    "#train\n",
    "lr.fit(X_train_cv, y_train)\n",
    "\n",
    "#apply to test\n",
    "y_pred_cv=lr.predict_proba(X_test_cv)\n",
    "y_pred_cv"
   ]
  },
  {
   "cell_type": "code",
   "execution_count": 45,
   "id": "d1040270",
   "metadata": {},
   "outputs": [
    {
     "data": {
      "text/plain": [
       "(123, 4)"
      ]
     },
     "execution_count": 45,
     "metadata": {},
     "output_type": "execute_result"
    }
   ],
   "source": [
    "from sklearn.preprocessing import LabelBinarizer\n",
    "\n",
    "label_binarizer = LabelBinarizer().fit(y_train)\n",
    "y_onehot_test = label_binarizer.transform(y_test)\n",
    "y_onehot_test.shape  # (n_samples, n_classes)"
   ]
  },
  {
   "cell_type": "code",
   "execution_count": 50,
   "id": "d1357d8b",
   "metadata": {},
   "outputs": [
    {
     "data": {
      "image/png": "[encoded data removed]",
      "text/plain": [
       "<Figure size 640x480 with 1 Axes>"
      ]
     },
     "metadata": {},
     "output_type": "display_data"
    }
   ],
   "source": [
    "import matplotlib.pyplot as plt\n",
    "\n",
    "from sklearn.metrics import RocCurveDisplay\n",
    "class_of_interest=\"Little Egret\"\n",
    "class_id = np.flatnonzero(label_binarizer.classes_ == class_of_interest)[0]\n",
    "\n",
    "display = RocCurveDisplay.from_predictions(\n",
    "    y_onehot_test[:, class_id],\n",
    "    y_pred_cv[:, class_id],\n",
    "    name=f\"{class_of_interest} vs the rest\",\n",
    "    color=\"darkorange\",\n",
    "    plot_chance_level=True,\n",
    ")\n",
    "_ = display.ax_.set(\n",
    "    xlabel=\"False Positive Rate\",\n",
    "    ylabel=\"True Positive Rate\",\n",
    "    title=f\"One-vs-Rest ROC curves:\\{class_of_interest} vs (all)\",\n",
    ")"
   ]
  },
  {
   "cell_type": "code",
   "execution_count": 25,
   "id": "580075e2",
   "metadata": {},
   "outputs": [
    {
     "data": {
      "text/plain": [
       "array([[33,  0,  0,  3],\n",
       "       [ 3, 26,  0,  1],\n",
       "       [ 0,  0, 33,  0],\n",
       "       [ 2,  0,  0, 22]])"
      ]
     },
     "execution_count": 25,
     "metadata": {},
     "output_type": "execute_result"
    }
   ],
   "source": [
    "from sklearn.metrics import confusion_matrix\n",
    "cm=confusion_matrix(y_test, y_pred_cv)\n",
    "cm"
   ]
  },
  {
   "cell_type": "code",
   "execution_count": 26,
   "id": "55908399",
   "metadata": {},
   "outputs": [
    {
     "name": "stdout",
     "output_type": "stream",
     "text": [
      "                     precision    recall  f1-score   support\n",
      "\n",
      " Black-naped Oriole       0.87      0.92      0.89        36\n",
      "Collared Kingfisher       1.00      0.87      0.93        30\n",
      "         Javan Myna       1.00      1.00      1.00        33\n",
      "       Little Egret       0.85      0.92      0.88        24\n",
      "\n",
      "           accuracy                           0.93       123\n",
      "          macro avg       0.93      0.92      0.93       123\n",
      "       weighted avg       0.93      0.93      0.93       123\n",
      "\n"
     ]
    }
   ],
   "source": [
    "from sklearn.metrics import classification_report\n",
    "print(classification_report(y_test, y_pred_cv, target_names=['Black-naped Oriole','Collared Kingfisher','Javan Myna','Little Egret']))"
   ]
  },
  {
   "attachments": {},
   "cell_type": "markdown",
   "id": "c69dfd97",
   "metadata": {},
   "source": [
    "Saving the model"
   ]
  },
  {
   "cell_type": "code",
   "execution_count": 51,
   "id": "b64a8e9d",
   "metadata": {},
   "outputs": [],
   "source": [
    "import pickle\n",
    "with open(f'Logistic Regression.pkl', 'wb') as f1: \n",
    "    pickle.dump(nb, f1)"
   ]
  },
  {
   "attachments": {},
   "cell_type": "markdown",
   "id": "12eff887",
   "metadata": {},
   "source": [
    "### **Model 2: Naives Bayes**"
   ]
  },
  {
   "cell_type": "code",
   "execution_count": 15,
   "id": "684e1e0a",
   "metadata": {},
   "outputs": [],
   "source": [
    "#MAIN DIFFERENCE IN CODE\n",
    "from sklearn.naive_bayes import MultinomialNB\n",
    "\n",
    "nb=MultinomialNB()\n",
    "\n",
    "#train\n",
    "nb.fit(X_train_cv, y_train)\n",
    "\n",
    "#move to X_test\n",
    "y_pred_cv=nb.predict(X_test_cv)\n",
    "# y_pred_cv"
   ]
  },
  {
   "cell_type": "code",
   "execution_count": 16,
   "id": "54aad74a",
   "metadata": {},
   "outputs": [
    {
     "data": {
      "text/plain": [
       "array([[34,  0,  1,  1],\n",
       "       [ 0, 27,  2,  1],\n",
       "       [ 0,  1, 32,  0],\n",
       "       [ 3,  1,  2, 18]])"
      ]
     },
     "execution_count": 16,
     "metadata": {},
     "output_type": "execute_result"
    }
   ],
   "source": [
    "from sklearn.metrics import confusion_matrix\n",
    "cm=confusion_matrix(y_test, y_pred_cv)\n",
    "cm"
   ]
  },
  {
   "cell_type": "code",
   "execution_count": 17,
   "id": "f1e53fa2",
   "metadata": {},
   "outputs": [
    {
     "data": {
      "image/png": "[encoded data removed]",
      "text/plain": [
       "<Figure size 600x600 with 1 Axes>"
      ]
     },
     "metadata": {},
     "output_type": "display_data"
    }
   ],
   "source": [
    "# Function to create a confusion matrix \n",
    "def conf_matrix(y_test, pred_test):    \n",
    "    \n",
    "    # Creating a confusion matrix\n",
    "    con_mat = confusion_matrix(y_test, pred_test)\n",
    "    con_mat = pd.DataFrame(con_mat, range(4), range(4))\n",
    "   \n",
    "    #Ploting the confusion matrix\n",
    "    plt.figure(figsize=(6,6))\n",
    "    sns.set(font_scale=1.5) \n",
    "    sns.heatmap(con_mat, annot=True, annot_kws={\"size\": 16}, fmt='g', cmap='Blues', cbar=False)\n",
    "    \n",
    "#Ploting the confusion matrix\n",
    "conf_matrix(y_test, y_pred_cv)"
   ]
  },
  {
   "cell_type": "code",
   "execution_count": 18,
   "id": "c0f12a5d",
   "metadata": {},
   "outputs": [
    {
     "name": "stdout",
     "output_type": "stream",
     "text": [
      "                     precision    recall  f1-score   support\n",
      "\n",
      " Black-naped Oriole       0.92      0.94      0.93        36\n",
      "Collared Kingfisher       0.93      0.90      0.92        30\n",
      "         Javan Myna       0.86      0.97      0.91        33\n",
      "       Little Egret       0.90      0.75      0.82        24\n",
      "\n",
      "           accuracy                           0.90       123\n",
      "          macro avg       0.90      0.89      0.89       123\n",
      "       weighted avg       0.90      0.90      0.90       123\n",
      "\n"
     ]
    }
   ],
   "source": [
    "from sklearn.metrics import classification_report\n",
    "print(classification_report(y_test, y_pred_cv, target_names=['Black-naped Oriole','Collared Kingfisher','Javan Myna','Little Egret']))"
   ]
  },
  {
   "cell_type": "markdown",
   "id": "2b93e4a8",
   "metadata": {},
   "source": [
    "Support Vector Machine\n"
   ]
  },
  {
   "cell_type": "code",
   "execution_count": 19,
   "id": "db48fb3d",
   "metadata": {},
   "outputs": [],
   "source": [
    "from sklearn import svm\n",
    "\n",
    "supportvector=svm.LinearSVC()\n",
    "#train\n",
    "supportvector.fit(X_train_cv, y_train)\n",
    "\n",
    "#move to X_test\n",
    "y_pred_cv=supportvector.predict(X_test_cv)"
   ]
  },
  {
   "cell_type": "code",
   "execution_count": 20,
   "id": "242c3e34",
   "metadata": {},
   "outputs": [
    {
     "data": {
      "text/plain": [
       "array([[35,  1,  0,  0],\n",
       "       [ 3, 26,  0,  1],\n",
       "       [ 0,  0, 33,  0],\n",
       "       [ 4,  0,  0, 20]])"
      ]
     },
     "execution_count": 20,
     "metadata": {},
     "output_type": "execute_result"
    }
   ],
   "source": [
    "from sklearn.metrics import confusion_matrix\n",
    "cm=confusion_matrix(y_test, y_pred_cv)\n",
    "cm"
   ]
  },
  {
   "cell_type": "code",
   "execution_count": 21,
   "id": "72ed4ae3",
   "metadata": {},
   "outputs": [],
   "source": [
    "from sklearn.metrics import classification_report\n",
    "svm_results = classification_report(y_test, y_pred_cv, target_names=['Black-naped Oriole','Collared Kingfisher','Javan Myna','Little Egret'])"
   ]
  },
  {
   "cell_type": "code",
   "execution_count": null,
   "id": "6f186095",
   "metadata": {},
   "outputs": [],
   "source": []
  }
 ],
 "metadata": {
  "kernelspec": {
   "display_name": "Python 3 (ipykernel)",
   "language": "python",
   "name": "python3"
  },
  "language_info": {
   "codemirror_mode": {
    "name": "ipython",
    "version": 3
   },
   "file_extension": ".py",
   "mimetype": "text/x-python",
   "name": "python",
   "nbconvert_exporter": "python",
   "pygments_lexer": "ipython3",
   "version": "3.11.0"
  }
 },
 "nbformat": 4,
 "nbformat_minor": 5
}

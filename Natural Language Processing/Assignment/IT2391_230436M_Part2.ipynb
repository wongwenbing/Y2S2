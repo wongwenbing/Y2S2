{
 "cells": [
  {
   "cell_type": "markdown",
   "id": "0cf86330-1d0e-4d43-8188-187610316e14",
   "metadata": {},
   "source": [
    "## **Text Feature Engineering and Modelling**\n",
    "Done by Wong Wen Bing 230436M"
   ]
  },
  {
   "cell_type": "code",
   "execution_count": 191,
   "id": "b4a4a8b6-5f8f-4738-8635-a1a3c0c20d81",
   "metadata": {},
   "outputs": [],
   "source": [
    "# pip install scikit-learn seaborn "
   ]
  },
  {
   "cell_type": "code",
   "execution_count": 192,
   "id": "b66650e8-efd8-474d-9ff0-1e2b03d0b7c0",
   "metadata": {},
   "outputs": [],
   "source": [
    "import nltk\n",
    "import pandas as pd \n",
    "import numpy as np\n",
    "import matplotlib.pyplot as plt\n",
    "import seaborn as sns\n",
    "from sklearn.model_selection import train_test_split, RandomizedSearchCV\n",
    "from sklearn.ensemble import RandomForestClassifier\n",
    "from sklearn.metrics import accuracy_score, confusion_matrix"
   ]
  },
  {
   "cell_type": "code",
   "execution_count": null,
   "id": "9a740b91-33c0-4afd-b889-860b2bc174a4",
   "metadata": {},
   "outputs": [],
   "source": []
  },
  {
   "cell_type": "code",
   "execution_count": 193,
   "id": "423b828b-21ec-487c-955f-bc16282d2fa1",
   "metadata": {},
   "outputs": [
    {
     "data": {
      "text/html": [
       "<div>\n",
       "<style scoped>\n",
       "    .dataframe tbody tr th:only-of-type {\n",
       "        vertical-align: middle;\n",
       "    }\n",
       "\n",
       "    .dataframe tbody tr th {\n",
       "        vertical-align: top;\n",
       "    }\n",
       "\n",
       "    .dataframe thead th {\n",
       "        text-align: right;\n",
       "    }\n",
       "</style>\n",
       "<table border=\"1\" class=\"dataframe\">\n",
       "  <thead>\n",
       "    <tr style=\"text-align: right;\">\n",
       "      <th></th>\n",
       "      <th>Unnamed: 0</th>\n",
       "      <th>description</th>\n",
       "      <th>species</th>\n",
       "      <th>text_length</th>\n",
       "      <th>cleaned_text</th>\n",
       "      <th>chunked</th>\n",
       "      <th>POS Tag</th>\n",
       "    </tr>\n",
       "  </thead>\n",
       "  <tbody>\n",
       "    <tr>\n",
       "      <th>0</th>\n",
       "      <td>0</td>\n",
       "      <td>2 Jun 2023 ï¿½ The Javan myna shares some simi...</td>\n",
       "      <td>Javan Myna</td>\n",
       "      <td>162</td>\n",
       "      <td>jun javan myna share similarity common myna te...</td>\n",
       "      <td>jun javan_myna share similarity common myna te...</td>\n",
       "      <td>[[('jun', 'NN'), ('javan_myna', 'NN'), ('share...</td>\n",
       "    </tr>\n",
       "    <tr>\n",
       "      <th>1</th>\n",
       "      <td>1</td>\n",
       "      <td>Click here for more information about the Red ...</td>\n",
       "      <td>Collared Kingfisher</td>\n",
       "      <td>398</td>\n",
       "      <td>click information red list category criterion ...</td>\n",
       "      <td>click information red list category criterion ...</td>\n",
       "      <td>[[('click', 'JJ'), ('information', 'NN'), ('re...</td>\n",
       "    </tr>\n",
       "    <tr>\n",
       "      <th>2</th>\n",
       "      <td>2</td>\n",
       "      <td>The black-headed oriole ( Oriolus larvatus) is...</td>\n",
       "      <td>Black-naped Oriole</td>\n",
       "      <td>349</td>\n",
       "      <td>black headed oriole oriolus larvatus specie bi...</td>\n",
       "      <td>black_headed_oriole oriolus larvatus specie bi...</td>\n",
       "      <td>[[('black_headed_oriole', 'JJ'), ('oriolus', '...</td>\n",
       "    </tr>\n",
       "    <tr>\n",
       "      <th>3</th>\n",
       "      <td>3</td>\n",
       "      <td>Search from thousands of royalty-free \"Javan M...</td>\n",
       "      <td>Javan Myna</td>\n",
       "      <td>177</td>\n",
       "      <td>search thousand royalty free javan myna stock ...</td>\n",
       "      <td>search thousand royalty free javan_myna stock ...</td>\n",
       "      <td>[[('search', 'NN'), ('thousand', 'CD'), ('roya...</td>\n",
       "    </tr>\n",
       "    <tr>\n",
       "      <th>4</th>\n",
       "      <td>4</td>\n",
       "      <td>521 foreground recordings and 156 background ...</td>\n",
       "      <td>Little Egret</td>\n",
       "      <td>112</td>\n",
       "      <td>foreground recording background recording egre...</td>\n",
       "      <td>foreground recording background recording egre...</td>\n",
       "      <td>[[('foreground', 'NN'), ('recording', 'VBG'), ...</td>\n",
       "    </tr>\n",
       "  </tbody>\n",
       "</table>\n",
       "</div>"
      ],
      "text/plain": [
       "   Unnamed: 0                                        description  \\\n",
       "0           0  2 Jun 2023 ï¿½ The Javan myna shares some simi...   \n",
       "1           1  Click here for more information about the Red ...   \n",
       "2           2  The black-headed oriole ( Oriolus larvatus) is...   \n",
       "3           3  Search from thousands of royalty-free \"Javan M...   \n",
       "4           4   521 foreground recordings and 156 background ...   \n",
       "\n",
       "               species  text_length  \\\n",
       "0           Javan Myna          162   \n",
       "1  Collared Kingfisher          398   \n",
       "2   Black-naped Oriole          349   \n",
       "3           Javan Myna          177   \n",
       "4         Little Egret          112   \n",
       "\n",
       "                                        cleaned_text  \\\n",
       "0  jun javan myna share similarity common myna te...   \n",
       "1  click information red list category criterion ...   \n",
       "2  black headed oriole oriolus larvatus specie bi...   \n",
       "3  search thousand royalty free javan myna stock ...   \n",
       "4  foreground recording background recording egre...   \n",
       "\n",
       "                                             chunked  \\\n",
       "0  jun javan_myna share similarity common myna te...   \n",
       "1  click information red list category criterion ...   \n",
       "2  black_headed_oriole oriolus larvatus specie bi...   \n",
       "3  search thousand royalty free javan_myna stock ...   \n",
       "4  foreground recording background recording egre...   \n",
       "\n",
       "                                             POS Tag  \n",
       "0  [[('jun', 'NN'), ('javan_myna', 'NN'), ('share...  \n",
       "1  [[('click', 'JJ'), ('information', 'NN'), ('re...  \n",
       "2  [[('black_headed_oriole', 'JJ'), ('oriolus', '...  \n",
       "3  [[('search', 'NN'), ('thousand', 'CD'), ('roya...  \n",
       "4  [[('foreground', 'NN'), ('recording', 'VBG'), ...  "
      ]
     },
     "execution_count": 193,
     "metadata": {},
     "output_type": "execute_result"
    }
   ],
   "source": [
    "df=pd.read_csv('230436M_cleaned_data.csv')\n",
    "df.head()"
   ]
  },
  {
   "cell_type": "markdown",
   "id": "f0cb338f",
   "metadata": {},
   "source": [
    "#### **Feature Engineering**   \n",
    "There are different types of features that can be done, we will be using a mix of vectorizers as comparison. A base model will be trained to examine this.\n",
    "\n",
    "\n"
   ]
  },
  {
   "cell_type": "code",
   "execution_count": 195,
   "id": "42d0f332-a3c6-46bb-b6a5-07cff2348d4c",
   "metadata": {},
   "outputs": [],
   "source": [
    "X = df['chunked']\n",
    "Y=df['species']"
   ]
  },
  {
   "cell_type": "markdown",
   "id": "49988490-4989-460d-94b3-6457233df9aa",
   "metadata": {},
   "source": [
    "Setting test size and training size"
   ]
  },
  {
   "cell_type": "code",
   "execution_count": 197,
   "id": "6b66dffb-111a-4b0c-82da-ad00be7f4e7c",
   "metadata": {},
   "outputs": [
    {
     "data": {
      "text/plain": [
       "(488,)"
      ]
     },
     "execution_count": 197,
     "metadata": {},
     "output_type": "execute_result"
    }
   ],
   "source": [
    "from sklearn.model_selection import train_test_split\n",
    "\n",
    "X_train, X_test, y_train, y_test=train_test_split(X, Y, test_size=0.2, random_state=42, stratify=Y)\n",
    "X_train.shape"
   ]
  },
  {
   "cell_type": "markdown",
   "id": "3515eca7-6caa-44b1-8d4e-32e1edb0487a",
   "metadata": {},
   "source": [
    "Using Count Vectorizer with N-Grams of 2"
   ]
  },
  {
   "cell_type": "code",
   "execution_count": 199,
   "id": "6fa89483",
   "metadata": {},
   "outputs": [
    {
     "name": "stdout",
     "output_type": "stream",
     "text": [
      "\n",
      "training: (488, 7000)\n",
      "test: (123, 7000)\n",
      "\n",
      "features: ['aa' 'ability' 'abundance' ... 'zhao renhui' 'zimbabwe' 'zimbabwe zambia']\n",
      "      \n"
     ]
    }
   ],
   "source": [
    "from sklearn.feature_extraction.text import CountVectorizer\n",
    "cv=CountVectorizer(stop_words='english', ngram_range=(1,2), max_features=7000)\n",
    "X_train_cv=cv.fit_transform(X_train)\n",
    "X_test_cv=cv.transform(X_test) #make sure X_test is TRANSFORM and not fit_transform\n",
    "\n",
    "#print dimensions and features \n",
    "print(f\"\"\"\n",
    "training: {X_train_cv.toarray().shape}\n",
    "test: {X_test_cv.toarray().shape}\n",
    "\n",
    "features: {cv.get_feature_names_out()}\n",
    "      \"\"\")"
   ]
  },
  {
   "cell_type": "markdown",
   "id": "86806712-15ab-4d65-82c4-c8500c1d5563",
   "metadata": {},
   "source": [
    "Using Tfifdf Vectorizer with N-grams of 2"
   ]
  },
  {
   "cell_type": "code",
   "execution_count": 201,
   "id": "324187cc-3be2-4ce5-8cb4-57c07f75619d",
   "metadata": {},
   "outputs": [
    {
     "name": "stdout",
     "output_type": "stream",
     "text": [
      "\n",
      "training: (488, 7000)\n",
      "test: (123, 7000)\n",
      "\n",
      "features: ['aa' 'ability' 'abundance' ... 'zhao renhui' 'zimbabwe' 'zimbabwe zambia']\n",
      "      \n"
     ]
    }
   ],
   "source": [
    "from sklearn.feature_extraction.text import TfidfVectorizer\n",
    "tv=TfidfVectorizer(stop_words='english', ngram_range=(1,2), max_features=7000)\n",
    "X_train_tv=tv.fit_transform(X_train)\n",
    "X_test_tv=tv.transform(X_test) #make sure X_test is TRANSFORM and not fit_transform\n",
    "\n",
    "#print dimensions and features \n",
    "print(f\"\"\"\n",
    "training: {X_train_tv.toarray().shape}\n",
    "test: {X_test_tv.toarray().shape}\n",
    "\n",
    "features: {tv.get_feature_names_out()}\n",
    "      \"\"\")"
   ]
  },
  {
   "cell_type": "markdown",
   "id": "123c0935-2816-4793-84c8-7f5b31d79b67",
   "metadata": {},
   "source": [
    "Trying something different with Top N words feature"
   ]
  },
  {
   "cell_type": "code",
   "execution_count": 203,
   "id": "dd0a3d6b-e1f4-4131-a9ac-e4397614655a",
   "metadata": {},
   "outputs": [],
   "source": [
    "from nltk.probability import FreqDist\n",
    "import matplotlib.pyplot as plt\n",
    "from wordcloud import WordCloud\n",
    "txt=df['chunked'].tolist() #convert dataframe columns to list\n",
    "txt=' '.join(txt)\n",
    "# print(txt)"
   ]
  },
  {
   "cell_type": "code",
   "execution_count": 204,
   "id": "e8618878-c32b-40ae-8fb8-9143078665b9",
   "metadata": {},
   "outputs": [
    {
     "name": "stdout",
     "output_type": "stream",
     "text": [
      "<FreqDist with 3392 samples and 14479 outcomes>\n"
     ]
    },
    {
     "data": {
      "image/png": "[encoded data removed]",
      "text/plain": [
       "<Figure size 640x480 with 1 Axes>"
      ]
     },
     "metadata": {},
     "output_type": "display_data"
    }
   ],
   "source": [
    "freq_dist=FreqDist(txt.split()) #calculate frequency of words that should be a list\n",
    "print(freq_dist)\n",
    "cloud=WordCloud().generate_from_frequencies(freq_dist) #generate word cloud\n",
    "plt.imshow(cloud, interpolation='bilinear')\n",
    "plt.axis('off')\n",
    "plt.show()"
   ]
  },
  {
   "cell_type": "code",
   "execution_count": 205,
   "id": "f9c59845-960e-4dc6-a6e5-253dd0673a54",
   "metadata": {},
   "outputs": [
    {
     "name": "stdout",
     "output_type": "stream",
     "text": [
      "3392\n"
     ]
    }
   ],
   "source": [
    "print(len(freq_dist))"
   ]
  },
  {
   "cell_type": "markdown",
   "id": "79fdb886-532c-4d9b-94a9-7a6542d3b674",
   "metadata": {},
   "source": [
    "Given that there are 3391 records, let's use the top 2000 most relevants words"
   ]
  },
  {
   "cell_type": "code",
   "execution_count": 207,
   "id": "0f7cdb2d-2c78-4d4e-a494-cfc8c3560a6c",
   "metadata": {},
   "outputs": [],
   "source": [
    "top2k_words=freq_dist.most_common(500)"
   ]
  },
  {
   "cell_type": "code",
   "execution_count": 208,
   "id": "047941c2-5fac-4d37-80af-c88698503f4c",
   "metadata": {},
   "outputs": [],
   "source": [
    "def lissttt(string): \n",
    "    strings=[]\n",
    "    x=string.split(' ')\n",
    "    return x\n",
    "df['text']=df['chunked'].apply(lambda x:lissttt(x))"
   ]
  },
  {
   "cell_type": "markdown",
   "id": "db578b54-dd0e-4c15-a578-a5046c59ec21",
   "metadata": {},
   "source": [
    "Write a function to create a feature set to train the classifier. A feature extractor function is defined that checks if the words in a given document are present in the top2k words feature."
   ]
  },
  {
   "cell_type": "code",
   "execution_count": 210,
   "id": "afaf298e-eff9-4db4-998a-f9fd471d5604",
   "metadata": {},
   "outputs": [
    {
     "name": "stdout",
     "output_type": "stream",
     "text": [
      "0               Javan Myna\n",
      "1      Collared Kingfisher\n",
      "2       Black-naped Oriole\n",
      "3               Javan Myna\n",
      "4             Little Egret\n",
      "              ...         \n",
      "606     Black-naped Oriole\n",
      "607    Collared Kingfisher\n",
      "608           Little Egret\n",
      "609     Black-naped Oriole\n",
      "610           Little Egret\n",
      "Name: species, Length: 611, dtype: object\n"
     ]
    }
   ],
   "source": [
    "# Enter code here\n",
    "def document_features(df, stemmed_tokens):\n",
    "    doc_features = []\n",
    "    for index, row in df.iterrows():\n",
    "        features = {}\n",
    "        for word in top2k_words:\n",
    "            # get term occurence: true if it's in the word_features, false if it's not\n",
    "            features[word] = (word in row[stemmed_tokens])\n",
    "        doc_features.append(features)\n",
    "    return doc_features\n",
    "\n",
    "feature_set = pd.DataFrame(document_features(df, 'text'), index = df.index)\n",
    "feature_set.head()\n",
    "\n",
    "from sklearn.model_selection import train_test_split\n",
    "\n",
    "X=feature_set\n",
    "y=df[df.columns[2]]\n",
    "print(y)\n",
    "X_train_doc, X_test_doc, y_train_doc, y_test_doc= train_test_split(X, y, test_size=0.2, random_state=42)"
   ]
  },
  {
   "cell_type": "code",
   "execution_count": 211,
   "id": "82af52f9-f238-4821-bcba-c94c51376c4c",
   "metadata": {},
   "outputs": [],
   "source": [
    "## understanding feature importance"
   ]
  },
  {
   "cell_type": "markdown",
   "id": "2d891413",
   "metadata": {},
   "source": [
    "##### **Usage of A Base Model for testing**\n",
    "We will use a base model, Logistic Regression to decide which of the vectorizers or bag of words features can produce the most results. T"
   ]
  },
  {
   "cell_type": "code",
   "execution_count": 213,
   "id": "6a9c8617",
   "metadata": {},
   "outputs": [
    {
     "name": "stdout",
     "output_type": "stream",
     "text": [
      "\n",
      "Vectorizer: Count Vectorizer\n",
      "Accuracy: 0.9186991869918699 \n",
      "=================================================================================================\n",
      "\n",
      "Vectorizer: Tfidf Vectorizer\n",
      "Accuracy: 0.9349593495934959\n",
      "\n",
      "=================================================================================================\n",
      "\n",
      "Vectorizer: Top N words feature\n",
      "Accuracy: 0.3170731707317073\n",
      "\n",
      "\n"
     ]
    }
   ],
   "source": [
    "from sklearn.linear_model import LogisticRegression\n",
    "\n",
    "#train\n",
    "def vectorise_data(X_train_cv,X_test_cv):\n",
    "    lr=LogisticRegression(solver='lbfgs')\n",
    "    lr.fit(X_train_cv, y_train)\n",
    "    y_pred_cv=lr.predict(X_test_cv)\n",
    "    accuracy=accuracy_score(y_test, y_pred_cv)\n",
    "    return accuracy\n",
    "\n",
    "print(f'''\n",
    "Vectorizer: Count Vectorizer\n",
    "Accuracy: {vectorise_data(X_train_cv, X_test_cv)} \n",
    "=================================================================================================\n",
    "\n",
    "Vectorizer: Tfidf Vectorizer\n",
    "Accuracy: {vectorise_data(X_train_tv, X_test_cv)}\n",
    "\n",
    "=================================================================================================\n",
    "\n",
    "Vectorizer: Top N words feature\n",
    "Accuracy: {vectorise_data(X_train_doc, X_test_doc)}\n",
    "\n",
    "''')\n"
   ]
  },
  {
   "cell_type": "code",
   "execution_count": 214,
   "id": "ae1e3afd-d4f8-46cc-a04c-112e8d4f2abf",
   "metadata": {},
   "outputs": [],
   "source": [
    "import pickle\n",
    "with open('TfIDF Vectorizer.pkl', 'wb') as f1: \n",
    "    pickle.dump(tv, f1)"
   ]
  },
  {
   "cell_type": "code",
   "execution_count": null,
   "id": "644f84d6-592c-4a66-b0d6-6287cd743d5b",
   "metadata": {},
   "outputs": [],
   "source": []
  },
  {
   "cell_type": "markdown",
   "id": "e17602ae-8dbe-467b-88c1-8cbda492b6ec",
   "metadata": {},
   "source": [
    "Based on the above models process, we can conclude that the tfidf vectorizer has a higher accuracy rate, and hence it is used. We now save the vectorizer for usage in the testing set."
   ]
  },
  {
   "attachments": {},
   "cell_type": "markdown",
   "id": "ff2d7ae4",
   "metadata": {},
   "source": [
    "#### **Modelling**\n",
    "There will be a number of models tested.\n",
    "\n",
    "1. Logistic Regression\n",
    "2. Naives Bayes\n",
    "3. Support Vector Machine"
   ]
  },
  {
   "cell_type": "code",
   "execution_count": 217,
   "id": "b185da73",
   "metadata": {},
   "outputs": [],
   "source": [
    "#importing different models \n",
    "from sklearn.linear_model import LogisticRegression\n",
    "from sklearn.naive_bayes import MultinomialNB\n",
    "from sklearn.naive_bayes import GaussianNB\n",
    "from sklearn import svm\n",
    "from sklearn.linear_model import SGDClassifier\n",
    "\n",
    "#accuracy metrics\n",
    "from sklearn.metrics import confusion_matrix\n",
    "from sklearn.metrics import classification_report\n",
    "\n",
    "\n",
    "#list of models\n",
    "models=[\n",
    "    {'name': 'Logistic Regression', \n",
    "     'model': LogisticRegression(solver='lbfgs', class_weight='balanced')}, \n",
    "    {'name': 'Naive Bayes (Multinomial)', \n",
    "     'model': MultinomialNB()}, \n",
    "    {'name': 'Support Vector Machine', \n",
    "     'model': svm.LinearSVC()}, \n",
    "    {'name': 'Linear Support Vector Machine', \n",
    "     'model': SGDClassifier(loss='hinge', penalty='l2',alpha=1e-3, random_state=42, max_iter=5, tol=None)}\n",
    "]\n",
    "results=[]\n",
    "\n",
    "#printing confusion matrix    \n",
    "def conf_matrix(y_test, pred_test):    \n",
    "    # Creating a confusion matrix\n",
    "    con_mat = confusion_matrix(y_test, pred_test)\n",
    "    con_mat = pd.DataFrame(con_mat, range(4), range(4))\n",
    "    #Ploting the confusion matrix\n",
    "    plt.figure(figsize=(6,6))\n",
    "    sns.set(font_scale=1.5) \n",
    "    sns.heatmap(con_mat, annot=True, annot_kws={\"size\": 16}, fmt='g', cmap='Blues', cbar=False)\n",
    "    "
   ]
  },
  {
   "cell_type": "code",
   "execution_count": 218,
   "id": "a245f95b",
   "metadata": {},
   "outputs": [
    {
     "name": "stdout",
     "output_type": "stream",
     "text": [
      "\n",
      "    Model Name: Logistic Regression\n",
      "    Accuracy: 0.92\n",
      "    Classification report: \n",
      "                         precision    recall  f1-score   support\n",
      "\n",
      " Black-naped Oriole       0.97      0.92      0.95        39\n",
      "Collared Kingfisher       1.00      0.93      0.96        28\n",
      "         Javan Myna       0.86      0.94      0.90        32\n",
      "       Little Egret       0.84      0.88      0.86        24\n",
      "\n",
      "           accuracy                           0.92       123\n",
      "          macro avg       0.92      0.92      0.92       123\n",
      "       weighted avg       0.92      0.92      0.92       123\n",
      "\n",
      "    ======================================================================================================\n",
      "    \n",
      "\n",
      "    Model Name: Naive Bayes (Multinomial)\n",
      "    Accuracy: 0.90\n",
      "    Classification report: \n",
      "                         precision    recall  f1-score   support\n",
      "\n",
      " Black-naped Oriole       0.80      1.00      0.89        39\n",
      "Collared Kingfisher       0.96      0.89      0.93        28\n",
      "         Javan Myna       0.97      0.94      0.95        32\n",
      "       Little Egret       1.00      0.71      0.83        24\n",
      "\n",
      "           accuracy                           0.90       123\n",
      "          macro avg       0.93      0.88      0.90       123\n",
      "       weighted avg       0.92      0.90      0.90       123\n",
      "\n",
      "    ======================================================================================================\n",
      "    \n",
      "\n",
      "    Model Name: Support Vector Machine\n",
      "    Accuracy: 0.93\n",
      "    Classification report: \n",
      "                         precision    recall  f1-score   support\n",
      "\n",
      " Black-naped Oriole       0.95      0.92      0.94        39\n",
      "Collared Kingfisher       0.96      0.93      0.95        28\n",
      "         Javan Myna       0.86      0.97      0.91        32\n",
      "       Little Egret       0.95      0.88      0.91        24\n",
      "\n",
      "           accuracy                           0.93       123\n",
      "          macro avg       0.93      0.92      0.93       123\n",
      "       weighted avg       0.93      0.93      0.93       123\n",
      "\n",
      "    ======================================================================================================\n",
      "    \n",
      "\n",
      "    Model Name: Linear Support Vector Machine\n",
      "    Accuracy: 0.92\n",
      "    Classification report: \n",
      "                         precision    recall  f1-score   support\n",
      "\n",
      " Black-naped Oriole       0.95      0.92      0.94        39\n",
      "Collared Kingfisher       0.96      0.93      0.95        28\n",
      "         Javan Myna       0.86      0.94      0.90        32\n",
      "       Little Egret       0.91      0.88      0.89        24\n",
      "\n",
      "           accuracy                           0.92       123\n",
      "          macro avg       0.92      0.92      0.92       123\n",
      "       weighted avg       0.92      0.92      0.92       123\n",
      "\n",
      "    ======================================================================================================\n",
      "    \n"
     ]
    }
   ],
   "source": [
    "#run models and print classificaton report\n",
    "from sklearn.metrics import accuracy_score\n",
    "used_model= []\n",
    "for modell in models:\n",
    "    model=modell['model']\n",
    "    model.fit(X_train_tv, y_train)\n",
    "    y_pred_cv=model.predict(X_test_tv)\n",
    "    accuracy=accuracy_score(y_test, y_pred_cv)\n",
    "    class_report=classification_report(y_test, y_pred_cv, target_names=['Black-naped Oriole','Collared Kingfisher','Javan Myna','Little Egret'])\n",
    "    \n",
    "    # confusionmatrix = conf_matrix(y_test, y_pred_cv)\n",
    "    print(f'''\n",
    "    Model Name: {modell['name']}\n",
    "    Accuracy: {accuracy:.2f}\n",
    "    Classification report: \n",
    "    {class_report}\n",
    "    ======================================================================================================\n",
    "    ''')\n",
    "\n",
    "    save_model={\n",
    "        'name': modell['name'], \n",
    "        'function': model\n",
    "    }\n",
    "    used_model.append(save_model)\n",
    "    "
   ]
  },
  {
   "cell_type": "code",
   "execution_count": null,
   "id": "d46a6a76-7ea6-40ed-89de-b701e090809e",
   "metadata": {},
   "outputs": [],
   "source": []
  },
  {
   "attachments": {},
   "cell_type": "markdown",
   "id": "1798baf9",
   "metadata": {},
   "source": [
    "### **Model 1: Logistic Regression**"
   ]
  },
  {
   "cell_type": "code",
   "execution_count": 220,
   "id": "3788c115",
   "metadata": {},
   "outputs": [
    {
     "data": {
      "text/plain": [
       "array(['Collared Kingfisher', 'Javan Myna', 'Little Egret', 'Javan Myna',\n",
       "       'Black-naped Oriole', 'Javan Myna', 'Collared Kingfisher',\n",
       "       'Javan Myna', 'Javan Myna', 'Black-naped Oriole',\n",
       "       'Black-naped Oriole', 'Black-naped Oriole', 'Collared Kingfisher',\n",
       "       'Black-naped Oriole', 'Javan Myna', 'Javan Myna',\n",
       "       'Collared Kingfisher', 'Black-naped Oriole', 'Little Egret',\n",
       "       'Javan Myna', 'Little Egret', 'Little Egret', 'Little Egret',\n",
       "       'Javan Myna', 'Collared Kingfisher', 'Collared Kingfisher',\n",
       "       'Collared Kingfisher', 'Black-naped Oriole', 'Collared Kingfisher',\n",
       "       'Black-naped Oriole', 'Collared Kingfisher', 'Javan Myna',\n",
       "       'Little Egret', 'Little Egret', 'Black-naped Oriole',\n",
       "       'Little Egret', 'Little Egret', 'Black-naped Oriole',\n",
       "       'Black-naped Oriole', 'Black-naped Oriole', 'Javan Myna',\n",
       "       'Little Egret', 'Little Egret', 'Black-naped Oriole',\n",
       "       'Black-naped Oriole', 'Little Egret', 'Little Egret', 'Javan Myna',\n",
       "       'Collared Kingfisher', 'Javan Myna', 'Black-naped Oriole',\n",
       "       'Javan Myna', 'Little Egret', 'Collared Kingfisher',\n",
       "       'Collared Kingfisher', 'Black-naped Oriole', 'Collared Kingfisher',\n",
       "       'Collared Kingfisher', 'Javan Myna', 'Javan Myna', 'Javan Myna',\n",
       "       'Black-naped Oriole', 'Javan Myna', 'Javan Myna',\n",
       "       'Collared Kingfisher', 'Javan Myna', 'Collared Kingfisher',\n",
       "       'Little Egret', 'Little Egret', 'Collared Kingfisher',\n",
       "       'Little Egret', 'Black-naped Oriole', 'Little Egret',\n",
       "       'Black-naped Oriole', 'Little Egret', 'Little Egret',\n",
       "       'Collared Kingfisher', 'Collared Kingfisher', 'Javan Myna',\n",
       "       'Little Egret', 'Collared Kingfisher', 'Black-naped Oriole',\n",
       "       'Black-naped Oriole', 'Little Egret', 'Black-naped Oriole',\n",
       "       'Javan Myna', 'Little Egret', 'Little Egret', 'Little Egret',\n",
       "       'Collared Kingfisher', 'Javan Myna', 'Javan Myna',\n",
       "       'Collared Kingfisher', 'Black-naped Oriole', 'Javan Myna',\n",
       "       'Black-naped Oriole', 'Collared Kingfisher', 'Javan Myna',\n",
       "       'Little Egret', 'Black-naped Oriole', 'Javan Myna',\n",
       "       'Black-naped Oriole', 'Black-naped Oriole', 'Black-naped Oriole',\n",
       "       'Javan Myna', 'Black-naped Oriole', 'Black-naped Oriole',\n",
       "       'Javan Myna', 'Little Egret', 'Collared Kingfisher',\n",
       "       'Black-naped Oriole', 'Little Egret', 'Black-naped Oriole',\n",
       "       'Javan Myna', 'Black-naped Oriole', 'Black-naped Oriole',\n",
       "       'Collared Kingfisher', 'Javan Myna', 'Javan Myna',\n",
       "       'Collared Kingfisher', 'Black-naped Oriole', 'Black-naped Oriole',\n",
       "       'Black-naped Oriole'], dtype='<U19')"
      ]
     },
     "execution_count": 220,
     "metadata": {},
     "output_type": "execute_result"
    }
   ],
   "source": [
    "from sklearn.linear_model import LogisticRegression\n",
    "from sklearn.multiclass import OneVsRestClassifier\n",
    "lr=OneVsRestClassifier(LogisticRegression(solver='lbfgs'))\n",
    "\n",
    "#train\n",
    "lr.fit(X_train_cv, y_train)\n",
    "\n",
    "#apply to test\n",
    "y_pred_cv=lr.predict(X_test_cv)\n",
    "y_pred_cv"
   ]
  },
  {
   "cell_type": "code",
   "execution_count": 221,
   "id": "d1040270",
   "metadata": {},
   "outputs": [
    {
     "data": {
      "text/plain": [
       "(123, 4)"
      ]
     },
     "execution_count": 221,
     "metadata": {},
     "output_type": "execute_result"
    }
   ],
   "source": [
    "from sklearn.preprocessing import LabelBinarizer\n",
    "\n",
    "label_binarizer = LabelBinarizer().fit(y_train)\n",
    "y_onehot_test = label_binarizer.transform(y_test)\n",
    "y_onehot_test.shape  # (n_samples, n_classes)"
   ]
  },
  {
   "cell_type": "code",
   "execution_count": 222,
   "id": "d1357d8b",
   "metadata": {},
   "outputs": [
    {
     "ename": "IndexError",
     "evalue": "too many indices for array: array is 1-dimensional, but 2 were indexed",
     "output_type": "error",
     "traceback": [
      "\u001b[0;31m---------------------------------------------------------------------------\u001b[0m",
      "\u001b[0;31mIndexError\u001b[0m                                Traceback (most recent call last)",
      "Cell \u001b[0;32mIn[222], line 9\u001b[0m\n\u001b[1;32m      4\u001b[0m class_of_interest\u001b[38;5;241m=\u001b[39m\u001b[38;5;124m\"\u001b[39m\u001b[38;5;124mLittle Egret\u001b[39m\u001b[38;5;124m\"\u001b[39m\n\u001b[1;32m      5\u001b[0m class_id \u001b[38;5;241m=\u001b[39m np\u001b[38;5;241m.\u001b[39mflatnonzero(label_binarizer\u001b[38;5;241m.\u001b[39mclasses_ \u001b[38;5;241m==\u001b[39m class_of_interest)[\u001b[38;5;241m0\u001b[39m]\n\u001b[1;32m      7\u001b[0m display \u001b[38;5;241m=\u001b[39m RocCurveDisplay\u001b[38;5;241m.\u001b[39mfrom_predictions(\n\u001b[1;32m      8\u001b[0m     y_onehot_test[:, class_id],\n\u001b[0;32m----> 9\u001b[0m     y_pred_cv[:, class_id],\n\u001b[1;32m     10\u001b[0m     name\u001b[38;5;241m=\u001b[39m\u001b[38;5;124mf\u001b[39m\u001b[38;5;124m\"\u001b[39m\u001b[38;5;132;01m{\u001b[39;00mclass_of_interest\u001b[38;5;132;01m}\u001b[39;00m\u001b[38;5;124m vs the rest\u001b[39m\u001b[38;5;124m\"\u001b[39m,\n\u001b[1;32m     11\u001b[0m     color\u001b[38;5;241m=\u001b[39m\u001b[38;5;124m\"\u001b[39m\u001b[38;5;124mdarkorange\u001b[39m\u001b[38;5;124m\"\u001b[39m,\n\u001b[1;32m     12\u001b[0m     plot_chance_level\u001b[38;5;241m=\u001b[39m\u001b[38;5;28;01mTrue\u001b[39;00m,\n\u001b[1;32m     13\u001b[0m )\n\u001b[1;32m     14\u001b[0m _ \u001b[38;5;241m=\u001b[39m display\u001b[38;5;241m.\u001b[39max_\u001b[38;5;241m.\u001b[39mset(\n\u001b[1;32m     15\u001b[0m     xlabel\u001b[38;5;241m=\u001b[39m\u001b[38;5;124m\"\u001b[39m\u001b[38;5;124mFalse Positive Rate\u001b[39m\u001b[38;5;124m\"\u001b[39m,\n\u001b[1;32m     16\u001b[0m     ylabel\u001b[38;5;241m=\u001b[39m\u001b[38;5;124m\"\u001b[39m\u001b[38;5;124mTrue Positive Rate\u001b[39m\u001b[38;5;124m\"\u001b[39m,\n\u001b[1;32m     17\u001b[0m     title\u001b[38;5;241m=\u001b[39m\u001b[38;5;124mf\u001b[39m\u001b[38;5;124m\"\u001b[39m\u001b[38;5;124mOne-vs-Rest ROC curves:\u001b[39m\u001b[38;5;124m\\\u001b[39m\u001b[38;5;132;01m{\u001b[39;00mclass_of_interest\u001b[38;5;132;01m}\u001b[39;00m\u001b[38;5;124m vs (all)\u001b[39m\u001b[38;5;124m\"\u001b[39m,\n\u001b[1;32m     18\u001b[0m )\n",
      "\u001b[0;31mIndexError\u001b[0m: too many indices for array: array is 1-dimensional, but 2 were indexed"
     ]
    }
   ],
   "source": [
    "import matplotlib.pyplot as plt\n",
    "\n",
    "from sklearn.metrics import RocCurveDisplay\n",
    "class_of_interest=\"Little Egret\"\n",
    "class_id = np.flatnonzero(label_binarizer.classes_ == class_of_interest)[0]\n",
    "\n",
    "display = RocCurveDisplay.from_predictions(\n",
    "    y_onehot_test[:, class_id],\n",
    "    y_pred_cv[:, class_id],\n",
    "    name=f\"{class_of_interest} vs the rest\",\n",
    "    color=\"darkorange\",\n",
    "    plot_chance_level=True,\n",
    ")\n",
    "_ = display.ax_.set(\n",
    "    xlabel=\"False Positive Rate\",\n",
    "    ylabel=\"True Positive Rate\",\n",
    "    title=f\"One-vs-Rest ROC curves:\\{class_of_interest} vs (all)\",\n",
    ")"
   ]
  },
  {
   "cell_type": "code",
   "execution_count": 237,
   "id": "580075e2",
   "metadata": {},
   "outputs": [
    {
     "data": {
      "text/plain": [
       "array([[35,  0,  1,  3],\n",
       "       [ 1, 26,  0,  1],\n",
       "       [ 0,  0, 30,  2],\n",
       "       [ 1,  0,  1, 22]])"
      ]
     },
     "execution_count": 237,
     "metadata": {},
     "output_type": "execute_result"
    }
   ],
   "source": [
    "from sklearn.metrics import confusion_matrix\n",
    "cm=confusion_matrix(y_test, y_pred_cv)\n",
    "cm"
   ]
  },
  {
   "cell_type": "code",
   "execution_count": null,
   "id": "5084f4e9-d698-475d-a441-077d8ffa9c56",
   "metadata": {},
   "outputs": [],
   "source": []
  },
  {
   "cell_type": "code",
   "execution_count": 240,
   "id": "55908399",
   "metadata": {},
   "outputs": [
    {
     "name": "stdout",
     "output_type": "stream",
     "text": [
      "                     precision    recall  f1-score   support\n",
      "\n",
      " Black-naped Oriole       0.95      0.90      0.92        39\n",
      "Collared Kingfisher       1.00      0.93      0.96        28\n",
      "         Javan Myna       0.94      0.94      0.94        32\n",
      "       Little Egret       0.79      0.92      0.85        24\n",
      "\n",
      "           accuracy                           0.92       123\n",
      "          macro avg       0.92      0.92      0.92       123\n",
      "       weighted avg       0.92      0.92      0.92       123\n",
      "\n"
     ]
    }
   ],
   "source": [
    "from sklearn.metrics import classification_report\n",
    "print(classification_report(y_test, y_pred_cv, target_names=['Black-naped Oriole','Collared Kingfisher','Javan Myna','Little Egret']))"
   ]
  },
  {
   "cell_type": "code",
   "execution_count": null,
   "id": "218e1a0f-021d-44cc-a2e7-06b0ab5bee99",
   "metadata": {},
   "outputs": [],
   "source": []
  },
  {
   "attachments": {},
   "cell_type": "markdown",
   "id": "c69dfd97",
   "metadata": {},
   "source": [
    "Saving the model"
   ]
  },
  {
   "cell_type": "code",
   "execution_count": 244,
   "id": "b64a8e9d",
   "metadata": {},
   "outputs": [],
   "source": [
    "import pickle\n",
    "with open(f'Logistic Regression.pkl', 'wb') as f1: \n",
    "    pickle.dump(lr, f1)"
   ]
  },
  {
   "attachments": {},
   "cell_type": "markdown",
   "id": "12eff887",
   "metadata": {},
   "source": [
    "### **Model 2: Naives Bayes**"
   ]
  },
  {
   "cell_type": "code",
   "execution_count": 247,
   "id": "684e1e0a",
   "metadata": {},
   "outputs": [],
   "source": [
    "#MAIN DIFFERENCE IN CODE\n",
    "from sklearn.naive_bayes import MultinomialNB\n",
    "\n",
    "nb=MultinomialNB()\n",
    "\n",
    "#train\n",
    "nb.fit(X_train_cv, y_train)\n",
    "\n",
    "#move to X_test\n",
    "y_pred_cv=nb.predict(X_test_cv)\n",
    "# y_pred_cv"
   ]
  },
  {
   "cell_type": "code",
   "execution_count": 249,
   "id": "54aad74a",
   "metadata": {},
   "outputs": [
    {
     "data": {
      "text/plain": [
       "array([[39,  0,  0,  0],\n",
       "       [ 1, 26,  1,  0],\n",
       "       [ 1,  1, 30,  0],\n",
       "       [ 2,  0,  2, 20]])"
      ]
     },
     "execution_count": 249,
     "metadata": {},
     "output_type": "execute_result"
    }
   ],
   "source": [
    "from sklearn.metrics import confusion_matrix\n",
    "cm=confusion_matrix(y_test, y_pred_cv)\n",
    "cm"
   ]
  },
  {
   "cell_type": "code",
   "execution_count": 251,
   "id": "f1e53fa2",
   "metadata": {},
   "outputs": [
    {
     "data": {
      "image/png": "[encoded data removed]",
      "text/plain": [
       "<Figure size 600x600 with 1 Axes>"
      ]
     },
     "metadata": {},
     "output_type": "display_data"
    }
   ],
   "source": [
    "# Function to create a confusion matrix \n",
    "def conf_matrix(y_test, pred_test):    \n",
    "    \n",
    "    # Creating a confusion matrix\n",
    "    con_mat = confusion_matrix(y_test, pred_test)\n",
    "    con_mat = pd.DataFrame(con_mat, range(4), range(4))\n",
    "   \n",
    "    #Ploting the confusion matrix\n",
    "    plt.figure(figsize=(6,6))\n",
    "    sns.set(font_scale=1.5) \n",
    "    sns.heatmap(con_mat, annot=True, annot_kws={\"size\": 16}, fmt='g', cmap='Blues', cbar=False)\n",
    "    \n",
    "#Ploting the confusion matrix\n",
    "conf_matrix(y_test, y_pred_cv)"
   ]
  },
  {
   "cell_type": "code",
   "execution_count": 253,
   "id": "c0f12a5d",
   "metadata": {},
   "outputs": [
    {
     "name": "stdout",
     "output_type": "stream",
     "text": [
      "                     precision    recall  f1-score   support\n",
      "\n",
      " Black-naped Oriole       0.91      1.00      0.95        39\n",
      "Collared Kingfisher       0.96      0.93      0.95        28\n",
      "         Javan Myna       0.91      0.94      0.92        32\n",
      "       Little Egret       1.00      0.83      0.91        24\n",
      "\n",
      "           accuracy                           0.93       123\n",
      "          macro avg       0.94      0.92      0.93       123\n",
      "       weighted avg       0.94      0.93      0.93       123\n",
      "\n"
     ]
    }
   ],
   "source": [
    "from sklearn.metrics import classification_report\n",
    "print(classification_report(y_test, y_pred_cv, target_names=['Black-naped Oriole','Collared Kingfisher','Javan Myna','Little Egret']))"
   ]
  },
  {
   "cell_type": "markdown",
   "id": "2b93e4a8",
   "metadata": {},
   "source": [
    "Support Vector Machine\n"
   ]
  },
  {
   "cell_type": "code",
   "execution_count": 256,
   "id": "db48fb3d",
   "metadata": {},
   "outputs": [],
   "source": [
    "from sklearn import svm\n",
    "\n",
    "supportvector=svm.LinearSVC()\n",
    "#train\n",
    "supportvector.fit(X_train_cv, y_train)\n",
    "\n",
    "#move to X_test\n",
    "y_pred_cv=supportvector.predict(X_test_cv)"
   ]
  },
  {
   "cell_type": "code",
   "execution_count": 258,
   "id": "242c3e34",
   "metadata": {},
   "outputs": [
    {
     "data": {
      "text/plain": [
       "array([[37,  0,  0,  2],\n",
       "       [ 2, 26,  0,  0],\n",
       "       [ 1,  0, 30,  1],\n",
       "       [ 1,  0,  0, 23]])"
      ]
     },
     "execution_count": 258,
     "metadata": {},
     "output_type": "execute_result"
    }
   ],
   "source": [
    "from sklearn.metrics import confusion_matrix\n",
    "cm=confusion_matrix(y_test, y_pred_cv)\n",
    "cm"
   ]
  },
  {
   "cell_type": "code",
   "execution_count": 260,
   "id": "72ed4ae3",
   "metadata": {},
   "outputs": [],
   "source": [
    "from sklearn.metrics import classification_report\n",
    "svm_results = classification_report(y_test, y_pred_cv, target_names=['Black-naped Oriole','Collared Kingfisher','Javan Myna','Little Egret'])"
   ]
  },
  {
   "cell_type": "code",
   "execution_count": 262,
   "id": "6f186095",
   "metadata": {},
   "outputs": [],
   "source": [
    "from sklearn.ensemble import RandomForestClassifier\n",
    "rf=RandomForestClassifier(n_estimators=100, random_state=42, class_weight='balanced')\n",
    "rf.fit(X_train_tv, y_train)\n",
    "\n",
    "y_pred=rf.predict(X_test_tv)"
   ]
  },
  {
   "cell_type": "code",
   "execution_count": 264,
   "id": "6f319cae-85a9-48a4-bd6a-e26417b48b38",
   "metadata": {},
   "outputs": [
    {
     "name": "stdout",
     "output_type": "stream",
     "text": [
      "                     precision    recall  f1-score   support\n",
      "\n",
      " Black-naped Oriole       0.95      0.92      0.94        39\n",
      "Collared Kingfisher       0.81      0.93      0.87        28\n",
      "         Javan Myna       0.97      0.94      0.95        32\n",
      "       Little Egret       0.91      0.83      0.87        24\n",
      "\n",
      "           accuracy                           0.91       123\n",
      "          macro avg       0.91      0.91      0.91       123\n",
      "       weighted avg       0.91      0.91      0.91       123\n",
      "\n"
     ]
    }
   ],
   "source": [
    "from sklearn.metrics import classification_report\n",
    "print(classification_report(y_test, y_pred, target_names=['Black-naped Oriole','Collared Kingfisher','Javan Myna','Little Egret']))"
   ]
  },
  {
   "cell_type": "code",
   "execution_count": 266,
   "id": "94f5cd54-9697-4b3a-98a6-4cf395ff29cf",
   "metadata": {},
   "outputs": [],
   "source": [
    "import pickle\n",
    "with open(f'Random_Forest.pkl', 'wb') as f1: \n",
    "    pickle.dump(rf, f1)"
   ]
  },
  {
   "cell_type": "code",
   "execution_count": 268,
   "id": "21b1d18a-be91-4b40-ae47-22991789ffb8",
   "metadata": {},
   "outputs": [],
   "source": [
    "#importing different models \n",
    "from sklearn.linear_model import SGDClassifier\n",
    "\n",
    "lvc=SGDClassifier(loss='hinge', penalty='l2',alpha=1e-3, random_state=42, max_iter=5, tol=None)\n",
    "lvc.fit(X_train_tv, y_train)\n",
    "\n",
    "with open('Linear Support Vector Machine.pkl', 'wb') as model: \n",
    "    pickle.dump(lvc, model)"
   ]
  },
  {
   "cell_type": "code",
   "execution_count": null,
   "id": "cf4c6662-7738-4af6-a259-65a4a9240e14",
   "metadata": {},
   "outputs": [],
   "source": []
  },
  {
   "cell_type": "code",
   "execution_count": null,
   "id": "226674b8-0e8a-4b94-8af2-335e32e6af18",
   "metadata": {},
   "outputs": [],
   "source": []
  },
  {
   "cell_type": "code",
   "execution_count": null,
   "id": "f21eb959-20a2-484a-a5a6-16f5cfd3031f",
   "metadata": {},
   "outputs": [],
   "source": []
  },
  {
   "cell_type": "code",
   "execution_count": null,
   "id": "c9b6768c-ce5c-48b1-add7-bbb91b243532",
   "metadata": {},
   "outputs": [],
   "source": []
  }
 ],
 "metadata": {
  "kernelspec": {
   "display_name": "Python 3 (ipykernel)",
   "language": "python",
   "name": "python3"
  },
  "language_info": {
   "codemirror_mode": {
    "name": "ipython",
    "version": 3
   },
   "file_extension": ".py",
   "mimetype": "text/x-python",
   "name": "python",
   "nbconvert_exporter": "python",
   "pygments_lexer": "ipython3",
   "version": "3.11.0"
  }
 },
 "nbformat": 4,
 "nbformat_minor": 5
}

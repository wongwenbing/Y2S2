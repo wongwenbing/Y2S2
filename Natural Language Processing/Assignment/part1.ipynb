{
 "cells": [
  {
   "attachments": {},
   "cell_type": "markdown",
   "metadata": {},
   "source": [
    "Done by Wong Wen Bing, 230436M\n",
    "\n",
    "# **Part 1: Data Preparation and Understanding** "
   ]
  },
  {
   "cell_type": "code",
   "execution_count": 2,
   "metadata": {},
   "outputs": [
    {
     "name": "stdout",
     "output_type": "stream",
     "text": [
      "Requirement already satisfied: pandas in /opt/anaconda3/lib/python3.11/site-packages (2.2.2)\n",
      "Requirement already satisfied: seaborn in /opt/anaconda3/lib/python3.11/site-packages (0.13.2)\n",
      "Requirement already satisfied: nltk in /opt/anaconda3/lib/python3.11/site-packages (3.9.1)\n",
      "Requirement already satisfied: matplotlib in /opt/anaconda3/lib/python3.11/site-packages (3.9.2)\n",
      "Requirement already satisfied: openpyxl in /opt/anaconda3/lib/python3.11/site-packages (3.1.5)\n",
      "Requirement already satisfied: numpy>=1.23.2 in /opt/anaconda3/lib/python3.11/site-packages (from pandas) (1.26.4)\n",
      "Requirement already satisfied: python-dateutil>=2.8.2 in /opt/anaconda3/lib/python3.11/site-packages (from pandas) (2.9.0.post0)\n",
      "Requirement already satisfied: pytz>=2020.1 in /opt/anaconda3/lib/python3.11/site-packages (from pandas) (2024.1)\n",
      "Requirement already satisfied: tzdata>=2022.7 in /opt/anaconda3/lib/python3.11/site-packages (from pandas) (2023.3)\n",
      "Requirement already satisfied: click in /opt/anaconda3/lib/python3.11/site-packages (from nltk) (8.1.7)\n",
      "Requirement already satisfied: joblib in /opt/anaconda3/lib/python3.11/site-packages (from nltk) (1.4.2)\n",
      "Requirement already satisfied: regex>=2021.8.3 in /opt/anaconda3/lib/python3.11/site-packages (from nltk) (2024.9.11)\n",
      "Requirement already satisfied: tqdm in /opt/anaconda3/lib/python3.11/site-packages (from nltk) (4.66.5)\n",
      "Requirement already satisfied: contourpy>=1.0.1 in /opt/anaconda3/lib/python3.11/site-packages (from matplotlib) (1.2.0)\n",
      "Requirement already satisfied: cycler>=0.10 in /opt/anaconda3/lib/python3.11/site-packages (from matplotlib) (0.11.0)\n",
      "Requirement already satisfied: fonttools>=4.22.0 in /opt/anaconda3/lib/python3.11/site-packages (from matplotlib) (4.51.0)\n",
      "Requirement already satisfied: kiwisolver>=1.3.1 in /opt/anaconda3/lib/python3.11/site-packages (from matplotlib) (1.4.4)\n",
      "Requirement already satisfied: packaging>=20.0 in /opt/anaconda3/lib/python3.11/site-packages (from matplotlib) (24.1)\n",
      "Requirement already satisfied: pillow>=8 in /opt/anaconda3/lib/python3.11/site-packages (from matplotlib) (10.4.0)\n",
      "Requirement already satisfied: pyparsing>=2.3.1 in /opt/anaconda3/lib/python3.11/site-packages (from matplotlib) (3.1.2)\n",
      "Requirement already satisfied: et-xmlfile in /opt/anaconda3/lib/python3.11/site-packages (from openpyxl) (1.1.0)\n",
      "Requirement already satisfied: six>=1.5 in /opt/anaconda3/lib/python3.11/site-packages (from python-dateutil>=2.8.2->pandas) (1.16.0)\n",
      "Note: you may need to restart the kernel to use updated packages.\n"
     ]
    }
   ],
   "source": [
    "pip install pandas seaborn nltk matplotlib openpyxl"
   ]
  },
  {
   "cell_type": "code",
   "execution_count": 3,
   "metadata": {},
   "outputs": [],
   "source": [
    "# Import Data \n",
    "import pandas as pd\n",
    "import matplotlib.pyplot as plt\n",
    "import seaborn as sns\n",
    "import nltk\n",
    "from nltk.tokenize import word_tokenize\n",
    "from nltk.util import ngrams\n",
    "import re\n",
    "from nltk.corpus import stopwords\n",
    "from nltk.stem import WordNetLemmatizer"
   ]
  },
  {
   "cell_type": "code",
   "execution_count": 4,
   "metadata": {},
   "outputs": [],
   "source": [
    "# nltk.download('all')"
   ]
  },
  {
   "cell_type": "code",
   "execution_count": 5,
   "metadata": {},
   "outputs": [
    {
     "data": {
      "text/html": [
       "<div>\n",
       "<style scoped>\n",
       "    .dataframe tbody tr th:only-of-type {\n",
       "        vertical-align: middle;\n",
       "    }\n",
       "\n",
       "    .dataframe tbody tr th {\n",
       "        vertical-align: top;\n",
       "    }\n",
       "\n",
       "    .dataframe thead th {\n",
       "        text-align: right;\n",
       "    }\n",
       "</style>\n",
       "<table border=\"1\" class=\"dataframe\">\n",
       "  <thead>\n",
       "    <tr style=\"text-align: right;\">\n",
       "      <th></th>\n",
       "      <th>description</th>\n",
       "      <th>species</th>\n",
       "    </tr>\n",
       "  </thead>\n",
       "  <tbody>\n",
       "    <tr>\n",
       "      <th>0</th>\n",
       "      <td>2 Jun 2023 ï¿½ The Javan myna shares some simi...</td>\n",
       "      <td>Javan Myna</td>\n",
       "    </tr>\n",
       "    <tr>\n",
       "      <th>1</th>\n",
       "      <td>Click here for more information about the Red ...</td>\n",
       "      <td>Collared Kingfisher</td>\n",
       "    </tr>\n",
       "    <tr>\n",
       "      <th>2</th>\n",
       "      <td>The black-headed oriole ( Oriolus larvatus) is...</td>\n",
       "      <td>Black-naped Oriole</td>\n",
       "    </tr>\n",
       "    <tr>\n",
       "      <th>3</th>\n",
       "      <td>Search from thousands of royalty-free \"Javan M...</td>\n",
       "      <td>Javan Myna</td>\n",
       "    </tr>\n",
       "    <tr>\n",
       "      <th>4</th>\n",
       "      <td>521 foreground recordings and 156 background ...</td>\n",
       "      <td>Little Egret</td>\n",
       "    </tr>\n",
       "    <tr>\n",
       "      <th>...</th>\n",
       "      <td>...</td>\n",
       "      <td>...</td>\n",
       "    </tr>\n",
       "    <tr>\n",
       "      <th>737</th>\n",
       "      <td>August 13, 2016 - HISTORICAL records show that...</td>\n",
       "      <td>Little Egret</td>\n",
       "    </tr>\n",
       "    <tr>\n",
       "      <th>738</th>\n",
       "      <td>File: Black-naped Oriole (Oriolus chinensis ch...</td>\n",
       "      <td>Black-naped Oriole</td>\n",
       "    </tr>\n",
       "    <tr>\n",
       "      <th>739</th>\n",
       "      <td>Larger than a Cattle Egret and with black leg...</td>\n",
       "      <td>Little Egret</td>\n",
       "    </tr>\n",
       "    <tr>\n",
       "      <th>740</th>\n",
       "      <td>22 Oct 2023 ï¿½ Dragon Snake (Javan Tubercle S...</td>\n",
       "      <td>Javan Myna</td>\n",
       "    </tr>\n",
       "    <tr>\n",
       "      <th>741</th>\n",
       "      <td>Editorial Timun Mas, 1974. Fulton, John. Sign...</td>\n",
       "      <td>Little Egret</td>\n",
       "    </tr>\n",
       "  </tbody>\n",
       "</table>\n",
       "<p>742 rows × 2 columns</p>\n",
       "</div>"
      ],
      "text/plain": [
       "                                           description              species\n",
       "0    2 Jun 2023 ï¿½ The Javan myna shares some simi...           Javan Myna\n",
       "1    Click here for more information about the Red ...  Collared Kingfisher\n",
       "2    The black-headed oriole ( Oriolus larvatus) is...   Black-naped Oriole\n",
       "3    Search from thousands of royalty-free \"Javan M...           Javan Myna\n",
       "4     521 foreground recordings and 156 background ...         Little Egret\n",
       "..                                                 ...                  ...\n",
       "737  August 13, 2016 - HISTORICAL records show that...         Little Egret\n",
       "738  File: Black-naped Oriole (Oriolus chinensis ch...   Black-naped Oriole\n",
       "739   Larger than a Cattle Egret and with black leg...         Little Egret\n",
       "740  22 Oct 2023 ï¿½ Dragon Snake (Javan Tubercle S...           Javan Myna\n",
       "741   Editorial Timun Mas, 1974. Fulton, John. Sign...         Little Egret\n",
       "\n",
       "[742 rows x 2 columns]"
      ]
     },
     "execution_count": 5,
     "metadata": {},
     "output_type": "execute_result"
    }
   ],
   "source": [
    "data=pd.read_excel('Data.xlsx')\n",
    "data"
   ]
  },
  {
   "cell_type": "code",
   "execution_count": 6,
   "metadata": {},
   "outputs": [
    {
     "data": {
      "text/plain": [
       "description    24\n",
       "species         0\n",
       "dtype: int64"
      ]
     },
     "execution_count": 6,
     "metadata": {},
     "output_type": "execute_result"
    }
   ],
   "source": [
    "data.isna().sum()"
   ]
  },
  {
   "cell_type": "code",
   "execution_count": 7,
   "metadata": {},
   "outputs": [
    {
     "name": "stdout",
     "output_type": "stream",
     "text": [
      "\n",
      "true: 128\n",
      "false: 614\n",
      "\n"
     ]
    }
   ],
   "source": [
    "dup=data.duplicated().value_counts()\n",
    "print(f'''\n",
    "true: {dup[True]}\n",
    "false: {dup[False]}\n",
    "''')"
   ]
  },
  {
   "cell_type": "code",
   "execution_count": 8,
   "metadata": {},
   "outputs": [
    {
     "name": "stdout",
     "output_type": "stream",
     "text": [
      "<class 'pandas.core.frame.DataFrame'>\n",
      "Index: 611 entries, 0 to 739\n",
      "Data columns (total 2 columns):\n",
      " #   Column       Non-Null Count  Dtype \n",
      "---  ------       --------------  ----- \n",
      " 0   description  611 non-null    object\n",
      " 1   species      611 non-null    object\n",
      "dtypes: object(2)\n",
      "memory usage: 14.3+ KB\n"
     ]
    },
    {
     "data": {
      "text/html": [
       "<div>\n",
       "<style scoped>\n",
       "    .dataframe tbody tr th:only-of-type {\n",
       "        vertical-align: middle;\n",
       "    }\n",
       "\n",
       "    .dataframe tbody tr th {\n",
       "        vertical-align: top;\n",
       "    }\n",
       "\n",
       "    .dataframe thead th {\n",
       "        text-align: right;\n",
       "    }\n",
       "</style>\n",
       "<table border=\"1\" class=\"dataframe\">\n",
       "  <thead>\n",
       "    <tr style=\"text-align: right;\">\n",
       "      <th></th>\n",
       "      <th>index</th>\n",
       "      <th>description</th>\n",
       "      <th>species</th>\n",
       "    </tr>\n",
       "  </thead>\n",
       "  <tbody>\n",
       "    <tr>\n",
       "      <th>0</th>\n",
       "      <td>0</td>\n",
       "      <td>2 Jun 2023 ï¿½ The Javan myna shares some simi...</td>\n",
       "      <td>Javan Myna</td>\n",
       "    </tr>\n",
       "    <tr>\n",
       "      <th>1</th>\n",
       "      <td>1</td>\n",
       "      <td>Click here for more information about the Red ...</td>\n",
       "      <td>Collared Kingfisher</td>\n",
       "    </tr>\n",
       "    <tr>\n",
       "      <th>2</th>\n",
       "      <td>2</td>\n",
       "      <td>The black-headed oriole ( Oriolus larvatus) is...</td>\n",
       "      <td>Black-naped Oriole</td>\n",
       "    </tr>\n",
       "    <tr>\n",
       "      <th>3</th>\n",
       "      <td>3</td>\n",
       "      <td>Search from thousands of royalty-free \"Javan M...</td>\n",
       "      <td>Javan Myna</td>\n",
       "    </tr>\n",
       "    <tr>\n",
       "      <th>4</th>\n",
       "      <td>4</td>\n",
       "      <td>521 foreground recordings and 156 background ...</td>\n",
       "      <td>Little Egret</td>\n",
       "    </tr>\n",
       "    <tr>\n",
       "      <th>...</th>\n",
       "      <td>...</td>\n",
       "      <td>...</td>\n",
       "      <td>...</td>\n",
       "    </tr>\n",
       "    <tr>\n",
       "      <th>606</th>\n",
       "      <td>735</td>\n",
       "      <td>Black-naped Oriole (Oriolus chinensis). The bl...</td>\n",
       "      <td>Black-naped Oriole</td>\n",
       "    </tr>\n",
       "    <tr>\n",
       "      <th>607</th>\n",
       "      <td>736</td>\n",
       "      <td>Feb 15, 2023 Â·  Sacred kingfisher. Todiramphu...</td>\n",
       "      <td>Collared Kingfisher</td>\n",
       "    </tr>\n",
       "    <tr>\n",
       "      <th>608</th>\n",
       "      <td>737</td>\n",
       "      <td>August 13, 2016 - HISTORICAL records show that...</td>\n",
       "      <td>Little Egret</td>\n",
       "    </tr>\n",
       "    <tr>\n",
       "      <th>609</th>\n",
       "      <td>738</td>\n",
       "      <td>File: Black-naped Oriole (Oriolus chinensis ch...</td>\n",
       "      <td>Black-naped Oriole</td>\n",
       "    </tr>\n",
       "    <tr>\n",
       "      <th>610</th>\n",
       "      <td>739</td>\n",
       "      <td>Larger than a Cattle Egret and with black leg...</td>\n",
       "      <td>Little Egret</td>\n",
       "    </tr>\n",
       "  </tbody>\n",
       "</table>\n",
       "<p>611 rows × 3 columns</p>\n",
       "</div>"
      ],
      "text/plain": [
       "     index                                        description  \\\n",
       "0        0  2 Jun 2023 ï¿½ The Javan myna shares some simi...   \n",
       "1        1  Click here for more information about the Red ...   \n",
       "2        2  The black-headed oriole ( Oriolus larvatus) is...   \n",
       "3        3  Search from thousands of royalty-free \"Javan M...   \n",
       "4        4   521 foreground recordings and 156 background ...   \n",
       "..     ...                                                ...   \n",
       "606    735  Black-naped Oriole (Oriolus chinensis). The bl...   \n",
       "607    736  Feb 15, 2023 Â·  Sacred kingfisher. Todiramphu...   \n",
       "608    737  August 13, 2016 - HISTORICAL records show that...   \n",
       "609    738  File: Black-naped Oriole (Oriolus chinensis ch...   \n",
       "610    739   Larger than a Cattle Egret and with black leg...   \n",
       "\n",
       "                 species  \n",
       "0             Javan Myna  \n",
       "1    Collared Kingfisher  \n",
       "2     Black-naped Oriole  \n",
       "3             Javan Myna  \n",
       "4           Little Egret  \n",
       "..                   ...  \n",
       "606   Black-naped Oriole  \n",
       "607  Collared Kingfisher  \n",
       "608         Little Egret  \n",
       "609   Black-naped Oriole  \n",
       "610         Little Egret  \n",
       "\n",
       "[611 rows x 3 columns]"
      ]
     },
     "execution_count": 8,
     "metadata": {},
     "output_type": "execute_result"
    }
   ],
   "source": [
    "#drop null and duplicate values\n",
    "data=data.dropna()\n",
    "data=data.drop_duplicates()\n",
    "data.info()\n",
    "data=data.reset_index()\n",
    "data"
   ]
  },
  {
   "cell_type": "markdown",
   "metadata": {},
   "source": []
  },
  {
   "cell_type": "code",
   "execution_count": 9,
   "metadata": {},
   "outputs": [
    {
     "data": {
      "image/png": "[encoded data removed]",
      "text/plain": [
       "<Figure size 640x480 with 1 Axes>"
      ]
     },
     "metadata": {},
     "output_type": "display_data"
    }
   ],
   "source": [
    "group=data.groupby(['species']).count().reset_index()\n",
    "sns.histplot(data['species'])\n",
    "plt.show()"
   ]
  },
  {
   "cell_type": "code",
   "execution_count": 10,
   "metadata": {},
   "outputs": [
    {
     "data": {
      "image/png": "[encoded data removed]",
      "text/plain": [
       "<Figure size 1000x600 with 1 Axes>"
      ]
     },
     "metadata": {},
     "output_type": "display_data"
    }
   ],
   "source": [
    "data['text_length'] = data['description'].apply(len)\n",
    "plt.figure(figsize=(10,6))\n",
    "sns.histplot(data['text_length'], bins=50)\n",
    "plt.title('Distribution of Text Lengths')\n",
    "plt.show()"
   ]
  },
  {
   "cell_type": "code",
   "execution_count": 84,
   "metadata": {},
   "outputs": [
    {
     "data": {
      "text/html": [
       "<div>\n",
       "<style scoped>\n",
       "    .dataframe tbody tr th:only-of-type {\n",
       "        vertical-align: middle;\n",
       "    }\n",
       "\n",
       "    .dataframe tbody tr th {\n",
       "        vertical-align: top;\n",
       "    }\n",
       "\n",
       "    .dataframe thead th {\n",
       "        text-align: right;\n",
       "    }\n",
       "</style>\n",
       "<table border=\"1\" class=\"dataframe\">\n",
       "  <thead>\n",
       "    <tr style=\"text-align: right;\">\n",
       "      <th></th>\n",
       "      <th>index</th>\n",
       "      <th>description</th>\n",
       "      <th>species</th>\n",
       "      <th>text_length</th>\n",
       "      <th>cleaned_text</th>\n",
       "    </tr>\n",
       "  </thead>\n",
       "  <tbody>\n",
       "    <tr>\n",
       "      <th>0</th>\n",
       "      <td>0</td>\n",
       "      <td>2 Jun 2023 ï¿½ The Javan myna shares some simi...</td>\n",
       "      <td>Javan Myna</td>\n",
       "      <td>162</td>\n",
       "      <td></td>\n",
       "    </tr>\n",
       "    <tr>\n",
       "      <th>1</th>\n",
       "      <td>1</td>\n",
       "      <td>Click here for more information about the Red ...</td>\n",
       "      <td>Collared Kingfisher</td>\n",
       "      <td>398</td>\n",
       "      <td></td>\n",
       "    </tr>\n",
       "    <tr>\n",
       "      <th>2</th>\n",
       "      <td>2</td>\n",
       "      <td>The black-headed oriole ( Oriolus larvatus) is...</td>\n",
       "      <td>Black-naped Oriole</td>\n",
       "      <td>349</td>\n",
       "      <td></td>\n",
       "    </tr>\n",
       "    <tr>\n",
       "      <th>3</th>\n",
       "      <td>3</td>\n",
       "      <td>Search from thousands of royalty-free \"Javan M...</td>\n",
       "      <td>Javan Myna</td>\n",
       "      <td>177</td>\n",
       "      <td></td>\n",
       "    </tr>\n",
       "    <tr>\n",
       "      <th>4</th>\n",
       "      <td>4</td>\n",
       "      <td>521 foreground recordings and 156 background ...</td>\n",
       "      <td>Little Egret</td>\n",
       "      <td>112</td>\n",
       "      <td></td>\n",
       "    </tr>\n",
       "  </tbody>\n",
       "</table>\n",
       "</div>"
      ],
      "text/plain": [
       "   index                                        description  \\\n",
       "0      0  2 Jun 2023 ï¿½ The Javan myna shares some simi...   \n",
       "1      1  Click here for more information about the Red ...   \n",
       "2      2  The black-headed oriole ( Oriolus larvatus) is...   \n",
       "3      3  Search from thousands of royalty-free \"Javan M...   \n",
       "4      4   521 foreground recordings and 156 background ...   \n",
       "\n",
       "               species  text_length cleaned_text  \n",
       "0           Javan Myna          162               \n",
       "1  Collared Kingfisher          398               \n",
       "2   Black-naped Oriole          349               \n",
       "3           Javan Myna          177               \n",
       "4         Little Egret          112               "
      ]
     },
     "execution_count": 84,
     "metadata": {},
     "output_type": "execute_result"
    }
   ],
   "source": [
    "def preprocess_text(text):\n",
    "    stopwordss=list(stopwords.words('english'))\n",
    "    text = text.lower()  # Convert to lowercase\n",
    "    # text = re.sub(r'\\w*\\d\\w*', '', text)  # Remove words with numbers\n",
    "    # text = re.sub(r'\\W+', ' ', text)  # Remove special characters\n",
    "    text = re.sub(r'[^a-z\\s]', '', text)\n",
    "    text = re.sub(r'\\s\\s+','', text)\n",
    "    # print(tokens)\n",
    "    # for word in tokens: \n",
    "    #     if word not in stopwordss: \n",
    "    #         wordss.append(word)\n",
    "    # tokens = [word for word in tokens if word not in stopwords.words('english')]  # Remove stopwords\n",
    "    # print(tokens)\n",
    "    # wordss.append(tokens)\n",
    "    # print(wordss)\n",
    "    return text\n",
    "data['cleaned_text']=''\n",
    "data.head()"
   ]
  },
  {
   "cell_type": "code",
   "execution_count": 85,
   "metadata": {},
   "outputs": [
    {
     "data": {
      "text/html": [
       "<div>\n",
       "<style scoped>\n",
       "    .dataframe tbody tr th:only-of-type {\n",
       "        vertical-align: middle;\n",
       "    }\n",
       "\n",
       "    .dataframe tbody tr th {\n",
       "        vertical-align: top;\n",
       "    }\n",
       "\n",
       "    .dataframe thead th {\n",
       "        text-align: right;\n",
       "    }\n",
       "</style>\n",
       "<table border=\"1\" class=\"dataframe\">\n",
       "  <thead>\n",
       "    <tr style=\"text-align: right;\">\n",
       "      <th></th>\n",
       "      <th>index</th>\n",
       "      <th>description</th>\n",
       "      <th>species</th>\n",
       "      <th>text_length</th>\n",
       "      <th>cleaned_text</th>\n",
       "    </tr>\n",
       "  </thead>\n",
       "  <tbody>\n",
       "    <tr>\n",
       "      <th>0</th>\n",
       "      <td>0</td>\n",
       "      <td>2 Jun 2023 ï¿½ The Javan myna shares some simi...</td>\n",
       "      <td>Javan Myna</td>\n",
       "      <td>162</td>\n",
       "      <td>junthe javan myna shares some similarities wi...</td>\n",
       "    </tr>\n",
       "    <tr>\n",
       "      <th>1</th>\n",
       "      <td>1</td>\n",
       "      <td>Click here for more information about the Red ...</td>\n",
       "      <td>Collared Kingfisher</td>\n",
       "      <td>398</td>\n",
       "      <td>click here for more information about the red ...</td>\n",
       "    </tr>\n",
       "    <tr>\n",
       "      <th>2</th>\n",
       "      <td>2</td>\n",
       "      <td>The black-headed oriole ( Oriolus larvatus) is...</td>\n",
       "      <td>Black-naped Oriole</td>\n",
       "      <td>349</td>\n",
       "      <td>the blackheaded orioleoriolus larvatus is a sp...</td>\n",
       "    </tr>\n",
       "    <tr>\n",
       "      <th>3</th>\n",
       "      <td>3</td>\n",
       "      <td>Search from thousands of royalty-free \"Javan M...</td>\n",
       "      <td>Javan Myna</td>\n",
       "      <td>177</td>\n",
       "      <td>search from thousands of royaltyfree javan myn...</td>\n",
       "    </tr>\n",
       "    <tr>\n",
       "      <th>4</th>\n",
       "      <td>4</td>\n",
       "      <td>521 foreground recordings and 156 background ...</td>\n",
       "      <td>Little Egret</td>\n",
       "      <td>112</td>\n",
       "      <td>foreground recordings andbackground recordings...</td>\n",
       "    </tr>\n",
       "  </tbody>\n",
       "</table>\n",
       "</div>"
      ],
      "text/plain": [
       "   index                                        description  \\\n",
       "0      0  2 Jun 2023 ï¿½ The Javan myna shares some simi...   \n",
       "1      1  Click here for more information about the Red ...   \n",
       "2      2  The black-headed oriole ( Oriolus larvatus) is...   \n",
       "3      3  Search from thousands of royalty-free \"Javan M...   \n",
       "4      4   521 foreground recordings and 156 background ...   \n",
       "\n",
       "               species  text_length  \\\n",
       "0           Javan Myna          162   \n",
       "1  Collared Kingfisher          398   \n",
       "2   Black-naped Oriole          349   \n",
       "3           Javan Myna          177   \n",
       "4         Little Egret          112   \n",
       "\n",
       "                                        cleaned_text  \n",
       "0   junthe javan myna shares some similarities wi...  \n",
       "1  click here for more information about the red ...  \n",
       "2  the blackheaded orioleoriolus larvatus is a sp...  \n",
       "3  search from thousands of royaltyfree javan myn...  \n",
       "4  foreground recordings andbackground recordings...  "
      ]
     },
     "execution_count": 85,
     "metadata": {},
     "output_type": "execute_result"
    }
   ],
   "source": [
    "# Apply preprocessing\n",
    "data['cleaned_text'] = data['description'].apply(preprocess_text)\n",
    "data.head()"
   ]
  },
  {
   "cell_type": "code",
   "execution_count": null,
   "metadata": {},
   "outputs": [],
   "source": []
  },
  {
   "cell_type": "code",
   "execution_count": 86,
   "metadata": {},
   "outputs": [],
   "source": [
    "data.to_csv('230436M_cleaned_data.csv')"
   ]
  },
  {
   "attachments": {},
   "cell_type": "markdown",
   "metadata": {},
   "source": [
    "Feature Engineering"
   ]
  },
  {
   "cell_type": "code",
   "execution_count": 87,
   "metadata": {},
   "outputs": [],
   "source": [
    "X = data['cleaned_text']\n",
    "Y= data['species']"
   ]
  },
  {
   "cell_type": "code",
   "execution_count": 88,
   "metadata": {},
   "outputs": [
    {
     "data": {
      "text/plain": [
       "432    julrufouscollared kingfisher the rufouscollare...\n",
       "142    understanding the genetic basis of convergence...\n",
       "572     the hong kong bird watching society hkbws had...\n",
       "198    aprcollared kingfisher todirhamphus chloris mo...\n",
       "167     contents introductionlittle owlfrankfurt germ...\n",
       "                             ...                        \n",
       "74     a large coastal kingfisher with a gleaming whi...\n",
       "306    the giant kingfisher trail follows a jungly ri...\n",
       "215    the collared kingfisher feeds mainly on insect...\n",
       "58     altamira oriole audubons oriole robert mcquade...\n",
       "566    the khor kalba conservation reserve managed by...\n",
       "Name: cleaned_text, Length: 427, dtype: object"
      ]
     },
     "execution_count": 88,
     "metadata": {},
     "output_type": "execute_result"
    }
   ],
   "source": [
    "from sklearn.model_selection import train_test_split\n",
    "\n",
    "X_train, X_test, y_train, y_test=train_test_split(X, Y, test_size=0.3, random_state=42, stratify=Y)\n",
    "X_train"
   ]
  },
  {
   "cell_type": "code",
   "execution_count": 89,
   "metadata": {},
   "outputs": [
    {
     "name": "stdout",
     "output_type": "stream",
     "text": [
      "\n",
      "training: (427, 3192)\n",
      "test: (184, 3192)\n",
      "\n",
      "features: ['abilities' 'ability' 'able' ... 'zebra' 'zimbabwe' 'zoonoses']\n",
      "      \n"
     ]
    }
   ],
   "source": [
    "from sklearn.feature_extraction.text import TfidfVectorizer\n",
    "cv=TfidfVectorizer(stop_words='english', ngram_range=(1,1))\n",
    "X_train_cv=cv.fit_transform(X_train)\n",
    "X_test_cv=cv.transform(X_test) #make sure X_test is TRANSFORM and not fit_transform\n",
    "\n",
    "#print dimensions and features \n",
    "print(f\"\"\"\n",
    "training: {X_train_cv.toarray().shape}\n",
    "test: {X_test_cv.toarray().shape}\n",
    "\n",
    "features: {cv.get_feature_names_out()}\n",
    "      \"\"\")"
   ]
  },
  {
   "cell_type": "code",
   "execution_count": 90,
   "metadata": {},
   "outputs": [
    {
     "data": {
      "text/plain": [
       "array(['Javan Myna', 'Javan Myna', 'Collared Kingfisher',\n",
       "       'Collared Kingfisher', 'Collared Kingfisher', 'Black-naped Oriole',\n",
       "       'Javan Myna', 'Collared Kingfisher', 'Javan Myna', 'Javan Myna',\n",
       "       'Black-naped Oriole', 'Black-naped Oriole', 'Black-naped Oriole',\n",
       "       'Little Egret', 'Black-naped Oriole', 'Little Egret',\n",
       "       'Collared Kingfisher', 'Black-naped Oriole', 'Black-naped Oriole',\n",
       "       'Collared Kingfisher', 'Little Egret', 'Black-naped Oriole',\n",
       "       'Black-naped Oriole', 'Black-naped Oriole', 'Javan Myna',\n",
       "       'Black-naped Oriole', 'Black-naped Oriole', 'Collared Kingfisher',\n",
       "       'Black-naped Oriole', 'Little Egret', 'Collared Kingfisher',\n",
       "       'Black-naped Oriole', 'Collared Kingfisher', 'Collared Kingfisher',\n",
       "       'Javan Myna', 'Javan Myna', 'Javan Myna', 'Collared Kingfisher',\n",
       "       'Black-naped Oriole', 'Collared Kingfisher', 'Black-naped Oriole',\n",
       "       'Javan Myna', 'Javan Myna', 'Black-naped Oriole', 'Javan Myna',\n",
       "       'Black-naped Oriole', 'Collared Kingfisher', 'Black-naped Oriole',\n",
       "       'Black-naped Oriole', 'Collared Kingfisher', 'Black-naped Oriole',\n",
       "       'Collared Kingfisher', 'Black-naped Oriole', 'Javan Myna',\n",
       "       'Black-naped Oriole', 'Black-naped Oriole', 'Black-naped Oriole',\n",
       "       'Black-naped Oriole', 'Collared Kingfisher', 'Collared Kingfisher',\n",
       "       'Black-naped Oriole', 'Little Egret', 'Black-naped Oriole',\n",
       "       'Little Egret', 'Javan Myna', 'Collared Kingfisher',\n",
       "       'Black-naped Oriole', 'Black-naped Oriole', 'Little Egret',\n",
       "       'Javan Myna', 'Collared Kingfisher', 'Little Egret',\n",
       "       'Collared Kingfisher', 'Black-naped Oriole', 'Collared Kingfisher',\n",
       "       'Black-naped Oriole', 'Little Egret', 'Black-naped Oriole',\n",
       "       'Black-naped Oriole', 'Black-naped Oriole', 'Black-naped Oriole',\n",
       "       'Javan Myna', 'Black-naped Oriole', 'Javan Myna', 'Javan Myna',\n",
       "       'Black-naped Oriole', 'Little Egret', 'Little Egret',\n",
       "       'Black-naped Oriole', 'Black-naped Oriole', 'Black-naped Oriole',\n",
       "       'Black-naped Oriole', 'Black-naped Oriole', 'Javan Myna',\n",
       "       'Black-naped Oriole', 'Little Egret', 'Little Egret', 'Javan Myna',\n",
       "       'Javan Myna', 'Collared Kingfisher', 'Javan Myna', 'Little Egret',\n",
       "       'Collared Kingfisher', 'Little Egret', 'Javan Myna',\n",
       "       'Collared Kingfisher', 'Javan Myna', 'Black-naped Oriole',\n",
       "       'Javan Myna', 'Black-naped Oriole', 'Collared Kingfisher',\n",
       "       'Javan Myna', 'Black-naped Oriole', 'Little Egret',\n",
       "       'Black-naped Oriole', 'Javan Myna', 'Little Egret', 'Javan Myna',\n",
       "       'Black-naped Oriole', 'Black-naped Oriole', 'Collared Kingfisher',\n",
       "       'Black-naped Oriole', 'Black-naped Oriole', 'Black-naped Oriole',\n",
       "       'Javan Myna', 'Black-naped Oriole', 'Javan Myna', 'Javan Myna',\n",
       "       'Collared Kingfisher', 'Javan Myna', 'Collared Kingfisher',\n",
       "       'Collared Kingfisher', 'Javan Myna', 'Little Egret',\n",
       "       'Black-naped Oriole', 'Javan Myna', 'Black-naped Oriole',\n",
       "       'Little Egret', 'Javan Myna', 'Javan Myna', 'Collared Kingfisher',\n",
       "       'Javan Myna', 'Black-naped Oriole', 'Black-naped Oriole',\n",
       "       'Collared Kingfisher', 'Collared Kingfisher', 'Little Egret',\n",
       "       'Little Egret', 'Black-naped Oriole', 'Black-naped Oriole',\n",
       "       'Javan Myna', 'Black-naped Oriole', 'Little Egret', 'Javan Myna',\n",
       "       'Collared Kingfisher', 'Javan Myna', 'Little Egret',\n",
       "       'Black-naped Oriole', 'Little Egret', 'Black-naped Oriole',\n",
       "       'Javan Myna', 'Black-naped Oriole', 'Javan Myna',\n",
       "       'Collared Kingfisher', 'Black-naped Oriole', 'Collared Kingfisher',\n",
       "       'Little Egret', 'Javan Myna', 'Black-naped Oriole',\n",
       "       'Black-naped Oriole', 'Javan Myna', 'Black-naped Oriole',\n",
       "       'Black-naped Oriole', 'Black-naped Oriole', 'Black-naped Oriole',\n",
       "       'Little Egret', 'Black-naped Oriole', 'Collared Kingfisher',\n",
       "       'Javan Myna', 'Collared Kingfisher', 'Little Egret',\n",
       "       'Collared Kingfisher', 'Javan Myna', 'Collared Kingfisher'],\n",
       "      dtype=object)"
      ]
     },
     "execution_count": 90,
     "metadata": {},
     "output_type": "execute_result"
    }
   ],
   "source": [
    "from sklearn.linear_model import LogisticRegression\n",
    "lr=LogisticRegression(solver='lbfgs')\n",
    "\n",
    "#train\n",
    "lr.fit(X_train_cv, y_train)\n",
    "\n",
    "#apply to test\n",
    "y_pred_cv=lr.predict(X_test_cv)\n",
    "y_pred_cv"
   ]
  },
  {
   "cell_type": "code",
   "execution_count": 91,
   "metadata": {},
   "outputs": [
    {
     "data": {
      "text/plain": [
       "array([[57,  1,  0,  0],\n",
       "       [ 5, 38,  0,  0],\n",
       "       [ 3,  0, 44,  0],\n",
       "       [ 7,  0,  2, 27]])"
      ]
     },
     "execution_count": 91,
     "metadata": {},
     "output_type": "execute_result"
    }
   ],
   "source": [
    "from sklearn.metrics import confusion_matrix\n",
    "cm=confusion_matrix(y_test, y_pred_cv)\n",
    "cm"
   ]
  },
  {
   "cell_type": "code",
   "execution_count": 92,
   "metadata": {},
   "outputs": [
    {
     "name": "stdout",
     "output_type": "stream",
     "text": [
      "                     precision    recall  f1-score   support\n",
      "\n",
      " Black-naped Oriole       0.79      0.98      0.88        58\n",
      "Collared Kingfisher       0.97      0.88      0.93        43\n",
      "         Javan Myna       0.96      0.94      0.95        47\n",
      "       Little Egret       1.00      0.75      0.86        36\n",
      "\n",
      "           accuracy                           0.90       184\n",
      "          macro avg       0.93      0.89      0.90       184\n",
      "       weighted avg       0.92      0.90      0.90       184\n",
      "\n"
     ]
    }
   ],
   "source": [
    "from sklearn.metrics import classification_report\n",
    "print(classification_report(y_test, y_pred_cv, target_names=['Black-naped Oriole','Collared Kingfisher','Javan Myna','Little Egret']))"
   ]
  },
  {
   "cell_type": "code",
   "execution_count": 93,
   "metadata": {},
   "outputs": [],
   "source": [
    "#MAIN DIFFERENCE IN CODE\n",
    "from sklearn.naive_bayes import MultinomialNB\n",
    "\n",
    "nb=MultinomialNB()\n",
    "\n",
    "#train\n",
    "nb.fit(X_train_cv, y_train)\n",
    "\n",
    "#move to X_test\n",
    "y_pred_cv=nb.predict(X_test_cv)\n",
    "# y_pred_cv"
   ]
  },
  {
   "cell_type": "code",
   "execution_count": 94,
   "metadata": {},
   "outputs": [
    {
     "data": {
      "text/plain": [
       "array([[57,  1,  0,  0],\n",
       "       [ 5, 38,  0,  0],\n",
       "       [ 2,  1, 44,  0],\n",
       "       [ 9,  0,  3, 24]])"
      ]
     },
     "execution_count": 94,
     "metadata": {},
     "output_type": "execute_result"
    }
   ],
   "source": [
    "from sklearn.metrics import confusion_matrix\n",
    "cm=confusion_matrix(y_test, y_pred_cv)\n",
    "cm"
   ]
  },
  {
   "cell_type": "code",
   "execution_count": 95,
   "metadata": {},
   "outputs": [
    {
     "name": "stdout",
     "output_type": "stream",
     "text": [
      "                     precision    recall  f1-score   support\n",
      "\n",
      " Black-naped Oriole       0.78      0.98      0.87        58\n",
      "Collared Kingfisher       0.95      0.88      0.92        43\n",
      "         Javan Myna       0.94      0.94      0.94        47\n",
      "       Little Egret       1.00      0.67      0.80        36\n",
      "\n",
      "           accuracy                           0.89       184\n",
      "          macro avg       0.92      0.87      0.88       184\n",
      "       weighted avg       0.90      0.89      0.88       184\n",
      "\n"
     ]
    }
   ],
   "source": [
    "from sklearn.metrics import classification_report\n",
    "print(classification_report(y_test, y_pred_cv, target_names=['Black-naped Oriole','Collared Kingfisher','Javan Myna','Little Egret']))"
   ]
  },
  {
   "cell_type": "code",
   "execution_count": null,
   "metadata": {},
   "outputs": [],
   "source": []
  },
  {
   "cell_type": "code",
   "execution_count": 96,
   "metadata": {},
   "outputs": [],
   "source": [
    "#MAIN DIFFERENCE IN CODE\n",
    "from sklearn import svm\n",
    "\n",
    "supportvector=svm.LinearSVC()\n",
    "#train\n",
    "supportvector.fit(X_train_cv, y_train)\n",
    "\n",
    "#move to X_test\n",
    "y_pred_cv=supportvector.predict(X_test_cv)\n",
    "# y_pred_cv"
   ]
  },
  {
   "cell_type": "code",
   "execution_count": 97,
   "metadata": {},
   "outputs": [
    {
     "data": {
      "text/plain": [
       "array([[55,  1,  1,  1],\n",
       "       [ 3, 39,  0,  1],\n",
       "       [ 0,  1, 46,  0],\n",
       "       [ 6,  0,  3, 27]])"
      ]
     },
     "execution_count": 97,
     "metadata": {},
     "output_type": "execute_result"
    }
   ],
   "source": [
    "from sklearn.metrics import confusion_matrix\n",
    "cm=confusion_matrix(y_test, y_pred_cv)\n",
    "cm"
   ]
  },
  {
   "cell_type": "code",
   "execution_count": 98,
   "metadata": {},
   "outputs": [
    {
     "name": "stdout",
     "output_type": "stream",
     "text": [
      "                     precision    recall  f1-score   support\n",
      "\n",
      " Black-naped Oriole       0.86      0.95      0.90        58\n",
      "Collared Kingfisher       0.95      0.91      0.93        43\n",
      "         Javan Myna       0.92      0.98      0.95        47\n",
      "       Little Egret       0.93      0.75      0.83        36\n",
      "\n",
      "           accuracy                           0.91       184\n",
      "          macro avg       0.92      0.90      0.90       184\n",
      "       weighted avg       0.91      0.91      0.91       184\n",
      "\n"
     ]
    }
   ],
   "source": [
    "from sklearn.metrics import classification_report\n",
    "print(classification_report(y_test, y_pred_cv, target_names=['Black-naped Oriole','Collared Kingfisher','Javan Myna','Little Egret']))"
   ]
  },
  {
   "cell_type": "code",
   "execution_count": null,
   "metadata": {},
   "outputs": [],
   "source": []
  },
  {
   "cell_type": "code",
   "execution_count": 59,
   "metadata": {},
   "outputs": [
    {
     "data": {
      "text/html": [
       "<div>\n",
       "<style scoped>\n",
       "    .dataframe tbody tr th:only-of-type {\n",
       "        vertical-align: middle;\n",
       "    }\n",
       "\n",
       "    .dataframe tbody tr th {\n",
       "        vertical-align: top;\n",
       "    }\n",
       "\n",
       "    .dataframe thead th {\n",
       "        text-align: right;\n",
       "    }\n",
       "</style>\n",
       "<table border=\"1\" class=\"dataframe\">\n",
       "  <thead>\n",
       "    <tr style=\"text-align: right;\">\n",
       "      <th></th>\n",
       "      <th>description</th>\n",
       "      <th>species</th>\n",
       "    </tr>\n",
       "  </thead>\n",
       "  <tbody>\n",
       "    <tr>\n",
       "      <th>0</th>\n",
       "      <td>Looking for fun and interesting facts about a ...</td>\n",
       "      <td>Black-naped Oriole</td>\n",
       "    </tr>\n",
       "    <tr>\n",
       "      <th>1</th>\n",
       "      <td>Giant Panda. Grey Wolf. Canis lupus. Proboscis...</td>\n",
       "      <td>Black-naped Oriole</td>\n",
       "    </tr>\n",
       "    <tr>\n",
       "      <th>2</th>\n",
       "      <td>javanicus displayed during feeding such as wal...</td>\n",
       "      <td>Javan Myna</td>\n",
       "    </tr>\n",
       "    <tr>\n",
       "      <th>3</th>\n",
       "      <td>Black-naped Oriole: Explore more topics. Name;...</td>\n",
       "      <td>Black-naped Oriole</td>\n",
       "    </tr>\n",
       "    <tr>\n",
       "      <th>4</th>\n",
       "      <td>NaN</td>\n",
       "      <td>Javan Myna</td>\n",
       "    </tr>\n",
       "  </tbody>\n",
       "</table>\n",
       "</div>"
      ],
      "text/plain": [
       "                                         description             species\n",
       "0  Looking for fun and interesting facts about a ...  Black-naped Oriole\n",
       "1  Giant Panda. Grey Wolf. Canis lupus. Proboscis...  Black-naped Oriole\n",
       "2  javanicus displayed during feeding such as wal...          Javan Myna\n",
       "3  Black-naped Oriole: Explore more topics. Name;...  Black-naped Oriole\n",
       "4                                                NaN          Javan Myna"
      ]
     },
     "execution_count": 59,
     "metadata": {},
     "output_type": "execute_result"
    }
   ],
   "source": [
    "testset=pd.read_excel('Data_test.xlsx')\n",
    "testset.head()"
   ]
  },
  {
   "cell_type": "code",
   "execution_count": 60,
   "metadata": {},
   "outputs": [
    {
     "data": {
      "text/html": [
       "<div>\n",
       "<style scoped>\n",
       "    .dataframe tbody tr th:only-of-type {\n",
       "        vertical-align: middle;\n",
       "    }\n",
       "\n",
       "    .dataframe tbody tr th {\n",
       "        vertical-align: top;\n",
       "    }\n",
       "\n",
       "    .dataframe thead th {\n",
       "        text-align: right;\n",
       "    }\n",
       "</style>\n",
       "<table border=\"1\" class=\"dataframe\">\n",
       "  <thead>\n",
       "    <tr style=\"text-align: right;\">\n",
       "      <th></th>\n",
       "      <th>description</th>\n",
       "      <th>species</th>\n",
       "      <th>cleaned_text</th>\n",
       "    </tr>\n",
       "  </thead>\n",
       "  <tbody>\n",
       "    <tr>\n",
       "      <th>0</th>\n",
       "      <td>Looking for fun and interesting facts about a ...</td>\n",
       "      <td>Black-naped Oriole</td>\n",
       "      <td>looking for fun and interesting facts about a ...</td>\n",
       "    </tr>\n",
       "    <tr>\n",
       "      <th>1</th>\n",
       "      <td>Giant Panda. Grey Wolf. Canis lupus. Proboscis...</td>\n",
       "      <td>Black-naped Oriole</td>\n",
       "      <td>giant panda grey wolf canis lupus proboscis mo...</td>\n",
       "    </tr>\n",
       "    <tr>\n",
       "      <th>2</th>\n",
       "      <td>javanicus displayed during feeding such as wal...</td>\n",
       "      <td>Javan Myna</td>\n",
       "      <td>javanicus displayed during feeding such as wal...</td>\n",
       "    </tr>\n",
       "    <tr>\n",
       "      <th>3</th>\n",
       "      <td>Black-naped Oriole: Explore more topics. Name;...</td>\n",
       "      <td>Black-naped Oriole</td>\n",
       "      <td>blacknaped oriole explore more topics name des...</td>\n",
       "    </tr>\n",
       "    <tr>\n",
       "      <th>5</th>\n",
       "      <td>The Javan myna, also known as the white-vented...</td>\n",
       "      <td>Javan Myna</td>\n",
       "      <td>the javan myna also known as the whitevented m...</td>\n",
       "    </tr>\n",
       "  </tbody>\n",
       "</table>\n",
       "</div>"
      ],
      "text/plain": [
       "                                         description             species  \\\n",
       "0  Looking for fun and interesting facts about a ...  Black-naped Oriole   \n",
       "1  Giant Panda. Grey Wolf. Canis lupus. Proboscis...  Black-naped Oriole   \n",
       "2  javanicus displayed during feeding such as wal...          Javan Myna   \n",
       "3  Black-naped Oriole: Explore more topics. Name;...  Black-naped Oriole   \n",
       "5  The Javan myna, also known as the white-vented...          Javan Myna   \n",
       "\n",
       "                                        cleaned_text  \n",
       "0  looking for fun and interesting facts about a ...  \n",
       "1  giant panda grey wolf canis lupus proboscis mo...  \n",
       "2  javanicus displayed during feeding such as wal...  \n",
       "3  blacknaped oriole explore more topics name des...  \n",
       "5  the javan myna also known as the whitevented m...  "
      ]
     },
     "execution_count": 60,
     "metadata": {},
     "output_type": "execute_result"
    }
   ],
   "source": [
    "testset.drop_duplicates(inplace=True)\n",
    "testset.dropna(inplace=True)\n",
    "testset['cleaned_text'] = testset['description'].apply(preprocess_text)\n",
    "testset.head()"
   ]
  },
  {
   "cell_type": "code",
   "execution_count": 61,
   "metadata": {},
   "outputs": [
    {
     "name": "stdout",
     "output_type": "stream",
     "text": [
      "['looking for fun and interesting facts about a blacknaped oriole learn about this amazing bird and discover other animals from tiny insects to giant mammals', 'giant panda grey wolf canis lupus proboscis monkey western gorilla gorilla gorilla scarlet macaw ara macao basic facts about blackhooded oriole lifespan distribution and habitat map lifestyle and social behavior mating habits diet and nutrition population size and status ', 'javanicus displayed during feeding such as walking jumping hopping gleaning running short flying voicing looking around and feather fluffing a', 'blacknaped oriole explore more topics name description  description male overall bright yellow plumage with nape and wing tips black female like male but  ', 'the javan myna also known as the whitevented myna is a species of myna it is a member of the starling family it is native to bali and java it has been introduced to other asian countries and as far away as puerto rico', 'dont worry its not a typo error it is true that common myna are not a common sight anymore sadly common myna are native to asia so you might wonder what happened to them ill go into that soon but before that let me introduce you to them common myna acridotheres tristis by smarko on', 'the blacknaped oriole oriolus chinensis is a passerine bird in the oriole family that is found in many parts of asia there are several distinctive populations within the wide distribution range of this species and in the past the slenderbilled oriole oriolus tenuirostris was included as a subspecies unlike the indian golden oriole which  ', 'oriolus chinensis is relatively medium in size from the tip of the tail to the beak about 25 cm this bird is black and yellow with a black stripe passing through the eyes and nape mostly black flying feathers the lower body is whitish with black dots red iris the shape of the beak is tapered and slightly curved downward the length of the beak is approximately 3 cm the legs are black', ' little egret is a common waterbird in hong kong since most little egrets are residents in hong kong they occur throughout the year in various types of wetlands including freshwater marshes and intertidal mudflat visitors may find little egrets preying or resting at the shallow waters in\\xa0', ' little egret egretta garzetta ardeidae family migrant common length 24 610mm wingspan 38965mm bird 3  april 2008 the smallest egret found in the philippines it is very common and can be found all over it is easy to identify due to the yellow feet bill is long and slender', 'pxcaptcha', ' we cannot provide a description for this page right now', 'blacknaped oriole distribution soib 2020 state of indias birds factsheet blacknaped oriole oriolus chinensis httpswwwstateofindiasbirdsinspeciesblnori1  ', 'i spotted this individual  kl my\\n\\nim at my wits end trying to identify him i cant tell if hes javan or jungle im colorblind and the picture is not', 'description the blacknaped oriole is mediumsized and overall golden with a strong pinkish bill and a broad black mask and nape the adult male has the central tail feathers tipped yellow and the lateral ones are more broadly yellow the female has the mantle colour more greenish or olive the juvenile has a streaked underside ', 'males are bright yellow overall save for the black wings and inner tail feathers note the yellow patch on the wings the yellow outer tail feathers the black stripe through the eye that gives it a masked appearance and the fleshy pink bill the female is dull greenishyellow overall with dirty browngreen wings and a completely yellowish tail both males and females have red iris most often found feeding in tree canopies either singly or in pairs they generally give a harsh krrrrrrrrrrrr call while feeding in flight note its characteristic dipping flight style', 'the ebird taxonomy update is now complete these updates happen once a year to take into account splits lumps name changes and changes in the sequence of the species lists', 'the forest kingfisher is also known as macleays blue or bush kingfisher similar species two species related to the forest kingfisher may be similar however the collared kingfisher t chloris  is larger and greener with no white wing patch while the sacred kingfisher  t sanctus  is a little larger with more buff brown underparts and no wing patch ', 'top of page skip to main content home  background  awards  exhibition  media covers  clients  landscapes  leaves  the small world  cityscapes', 'jun 3 2021   collared kingfishers or whitecollared kingfishers get their name from the white collar patch on their necks these blueandwhite birds are mainly found in forests and grasslands and occupy a range of habitats like lowland forests subtropical dry grasslands mangroves marshlands and shrublands ', 'published september 25 2023 views 279', 'published september 13 2023 views 98', 'large kingfisher with variable plumage but always appears as a much greener and browner bird than either forest or sacred kingfishers note pale spot in front of the eyes that does not extend back over the eye occur exclusively among mangroves and adjacent mudflats and rockshelves ', 'introduction our recent article on the redbilled quelea in punggol generated much debate in local conservation circles and the media about how invasive birds can impact our native biodiversity sitting at the crossroads of trade in asia singapore is inevitably also a hub for the pet industry and sets the stage for the sale of\\xa0many', ' search from little egret stock photos pictures and royaltyfree images from istock find highquality stock photos that you wont find anywhere else', 'posted at may 20 2021 0135 pm a black naped oriole oriolus chinensis is spotted flying around up village in quezon city on thursday the black naped oriole locally called kilyawan in tagalog and tulihaw in visayan is a fairly common bird in the philippines known to be omnivores eating mostly fruits and insects ', 'order passeriformes\\xa0\\xa0\\xa0 family sturnidae\\xa0\\xa0\\xa0\\xa0\\xa0\\xa0 conservation status least concern synonyms\\xa0 whitevented myna buffalo myna the javan myna is often confused with other myna species mostly due to the inconsistent usage of the common names associated with the acridotheres genus of crested mynas the javan myna great myna acridotheres grandis and crested myna acridotheres cristatellius have all', 'blacknapedoriole beautifulsoundang bagong alaga ni kurtplease subscribe po kayo sa channel nminfollow nyo din po ang fb page namin shiekurt vlogthank you ', 'nov 22 2022   collared kingfisher  image by julie edgley via flickr  cc bysa 20 scientific name todiramphus chloris collared kingfishers are mediumsized tree kingfishers that live from the mediterranean all the way to polynesia their bright blue and white feathers stand out against the green and brown foliage of the swamps where they live ', 'november 30 2022  coby and michael dahlem birds of australia little egret ardea egretta garzetta', 'provisional either 1 member of exotic population that is breeding in the wild selfpropagating and has persisted for multiple years but not yet naturalized 2 rarity of uncertain provenance with natural vagrancy or captive provenance both considered plausible when applicable ebird generally defers to bird records committees for  ', 'apr 11 2021   the collared kingfisher scientific name todiramphus chloris is a mediumsized kingfisher belonging to the subfamily halcyoninae the tree kingfishers this article is going to provide you an overview of collared kingfisher sound food facts diet etc it is usually referred to as the whitecollared kingfisher or mangrove kingfisher ', 'actenoides concretus  temminck cj 1825 the rufouscollared kingfisher is a species of bird in the family alcedinidae it is found in brunei indonesia malaysia myanmar and thailand its natural habitats are subtropical or tropical moist lowland forest and subtropical or tropical moist montane forest ', 'everyone knows singapores national flower is the orchid but do you know that singapores national bird is the crimson sunbird', 'it was in singapore in 2012 that photographer anas lpez first encountered the javan mynah a small black bird with yellow legs a prominent crest and a loud', 'yinger chinese  ynger is an openworld npc in liyue harbor her dialogue changes slightly after completing act ii of chapter i yinger is a shop assistant for the scent of spring at chihu rock a shop for fine vases she also makes perfumes as a side job during the events of farewell', 'the yellow oriole  o flavocinctus and olivebacked oriole  o sagittatus are greenishyellow australian species the blackandcrimson oriole  o cruentus of malaya borneo sumatra and bali is mostly blackcolored with dark crimson patches on the breast and on the wings the yellow figbird or bananabird  sphecotheres viridis  ', 'blacknaped orioles have been recorded to feed on a range of berries including trema orientalis ficus and others apart from insects in india it has been no ', '7 nov 2010  the javan myna has an amazingly liquid voice that allows it to imitate a range of calls into its repertoire emanating through its']\n"
     ]
    }
   ],
   "source": [
    "test=testset['cleaned_text'].to_list()\n",
    "print(test)\n",
    "vector=cv.transform(test)\n",
    "testset['log_reg_pred']=(lr.predict(vector))[0]"
   ]
  },
  {
   "cell_type": "code",
   "execution_count": 62,
   "metadata": {},
   "outputs": [
    {
     "data": {
      "text/html": [
       "<div>\n",
       "<style scoped>\n",
       "    .dataframe tbody tr th:only-of-type {\n",
       "        vertical-align: middle;\n",
       "    }\n",
       "\n",
       "    .dataframe tbody tr th {\n",
       "        vertical-align: top;\n",
       "    }\n",
       "\n",
       "    .dataframe thead th {\n",
       "        text-align: right;\n",
       "    }\n",
       "</style>\n",
       "<table border=\"1\" class=\"dataframe\">\n",
       "  <thead>\n",
       "    <tr style=\"text-align: right;\">\n",
       "      <th></th>\n",
       "      <th>description</th>\n",
       "      <th>species</th>\n",
       "      <th>cleaned_text</th>\n",
       "      <th>log_reg_pred</th>\n",
       "    </tr>\n",
       "  </thead>\n",
       "  <tbody>\n",
       "    <tr>\n",
       "      <th>0</th>\n",
       "      <td>Looking for fun and interesting facts about a ...</td>\n",
       "      <td>Black-naped Oriole</td>\n",
       "      <td>looking for fun and interesting facts about a ...</td>\n",
       "      <td>Black-naped Oriole</td>\n",
       "    </tr>\n",
       "    <tr>\n",
       "      <th>1</th>\n",
       "      <td>Giant Panda. Grey Wolf. Canis lupus. Proboscis...</td>\n",
       "      <td>Black-naped Oriole</td>\n",
       "      <td>giant panda grey wolf canis lupus proboscis mo...</td>\n",
       "      <td>Black-naped Oriole</td>\n",
       "    </tr>\n",
       "    <tr>\n",
       "      <th>2</th>\n",
       "      <td>javanicus displayed during feeding such as wal...</td>\n",
       "      <td>Javan Myna</td>\n",
       "      <td>javanicus displayed during feeding such as wal...</td>\n",
       "      <td>Black-naped Oriole</td>\n",
       "    </tr>\n",
       "    <tr>\n",
       "      <th>3</th>\n",
       "      <td>Black-naped Oriole: Explore more topics. Name;...</td>\n",
       "      <td>Black-naped Oriole</td>\n",
       "      <td>blacknaped oriole explore more topics name des...</td>\n",
       "      <td>Black-naped Oriole</td>\n",
       "    </tr>\n",
       "    <tr>\n",
       "      <th>5</th>\n",
       "      <td>The Javan myna, also known as the white-vented...</td>\n",
       "      <td>Javan Myna</td>\n",
       "      <td>the javan myna also known as the whitevented m...</td>\n",
       "      <td>Black-naped Oriole</td>\n",
       "    </tr>\n",
       "  </tbody>\n",
       "</table>\n",
       "</div>"
      ],
      "text/plain": [
       "                                         description             species  \\\n",
       "0  Looking for fun and interesting facts about a ...  Black-naped Oriole   \n",
       "1  Giant Panda. Grey Wolf. Canis lupus. Proboscis...  Black-naped Oriole   \n",
       "2  javanicus displayed during feeding such as wal...          Javan Myna   \n",
       "3  Black-naped Oriole: Explore more topics. Name;...  Black-naped Oriole   \n",
       "5  The Javan myna, also known as the white-vented...          Javan Myna   \n",
       "\n",
       "                                        cleaned_text        log_reg_pred  \n",
       "0  looking for fun and interesting facts about a ...  Black-naped Oriole  \n",
       "1  giant panda grey wolf canis lupus proboscis mo...  Black-naped Oriole  \n",
       "2  javanicus displayed during feeding such as wal...  Black-naped Oriole  \n",
       "3  blacknaped oriole explore more topics name des...  Black-naped Oriole  \n",
       "5  the javan myna also known as the whitevented m...  Black-naped Oriole  "
      ]
     },
     "execution_count": 62,
     "metadata": {},
     "output_type": "execute_result"
    }
   ],
   "source": [
    "testset.head()"
   ]
  },
  {
   "cell_type": "markdown",
   "metadata": {},
   "source": []
  },
  {
   "cell_type": "code",
   "execution_count": 63,
   "metadata": {},
   "outputs": [],
   "source": [
    "testset['naive_bayes_pred']=(nb.predict(vector))[0]"
   ]
  },
  {
   "cell_type": "code",
   "execution_count": 64,
   "metadata": {},
   "outputs": [],
   "source": [
    "testset.to_excel('Tested_set.xlsx')"
   ]
  },
  {
   "cell_type": "code",
   "execution_count": null,
   "metadata": {},
   "outputs": [],
   "source": []
  }
 ],
 "metadata": {
  "kernelspec": {
   "display_name": "Python 3 (ipykernel)",
   "language": "python",
   "name": "python3"
  },
  "language_info": {
   "codemirror_mode": {
    "name": "ipython",
    "version": 3
   },
   "file_extension": ".py",
   "mimetype": "text/x-python",
   "name": "python",
   "nbconvert_exporter": "python",
   "pygments_lexer": "ipython3",
   "version": "3.11.0"
  }
 },
 "nbformat": 4,
 "nbformat_minor": 4
}

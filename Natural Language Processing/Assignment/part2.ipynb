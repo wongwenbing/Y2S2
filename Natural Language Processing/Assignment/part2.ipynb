{
 "cells": [
  {
   "cell_type": "markdown",
   "id": "0cf86330-1d0e-4d43-8188-187610316e14",
   "metadata": {},
   "source": [
    "## **Text Feature Engineering and Modelling**\n",
    "Done by Wong Wen Bing 230436M"
   ]
  },
  {
   "cell_type": "code",
   "execution_count": 9,
   "id": "b4a4a8b6-5f8f-4738-8635-a1a3c0c20d81",
   "metadata": {},
   "outputs": [
    {
     "name": "stdout",
     "output_type": "stream",
     "text": [
      "Defaulting to user installation because normal site-packages is not writeable\n",
      "Requirement already satisfied: scikit-learn in c:\\users\\wongw\\appdata\\roaming\\python\\python311\\site-packages (1.3.1)\n",
      "Requirement already satisfied: numpy<2.0,>=1.17.3 in c:\\programdata\\anaconda3\\lib\\site-packages (from scikit-learn) (1.26.4)\n",
      "Requirement already satisfied: scipy>=1.5.0 in c:\\users\\wongw\\appdata\\roaming\\python\\python311\\site-packages (from scikit-learn) (1.11.3)\n",
      "Requirement already satisfied: joblib>=1.1.1 in c:\\users\\wongw\\appdata\\roaming\\python\\python311\\site-packages (from scikit-learn) (1.3.2)\n",
      "Requirement already satisfied: threadpoolctl>=2.0.0 in c:\\users\\wongw\\appdata\\roaming\\python\\python311\\site-packages (from scikit-learn) (3.2.0)\n",
      "Note: you may need to restart the kernel to use updated packages.\n"
     ]
    },
    {
     "name": "stderr",
     "output_type": "stream",
     "text": [
      "\n",
      "[notice] A new release of pip is available: 24.0 -> 24.3.1\n",
      "[notice] To update, run: python.exe -m pip install --upgrade pip\n"
     ]
    }
   ],
   "source": [
    "#pip install scikit-learn"
   ]
  },
  {
   "cell_type": "code",
   "execution_count": 10,
   "id": "b66650e8-efd8-474d-9ff0-1e2b03d0b7c0",
   "metadata": {},
   "outputs": [],
   "source": [
    "import nltk\n",
    "import pandas as pd \n",
    "import numpy as np\n",
    "import matplotlib.pyplot as plt\n",
    "import seaborn as sns\n",
    "from sklearn.model_selection import train_test_split, RandomizedSearchCV\n",
    "from sklearn.ensemble import RandomForestClassifier\n",
    "from sklearn.metrics import accuracy_score, confusion_matrix"
   ]
  },
  {
   "cell_type": "code",
   "execution_count": null,
   "id": "9a740b91-33c0-4afd-b889-860b2bc174a4",
   "metadata": {},
   "outputs": [],
   "source": []
  },
  {
   "cell_type": "code",
   "execution_count": 11,
   "id": "423b828b-21ec-487c-955f-bc16282d2fa1",
   "metadata": {},
   "outputs": [
    {
     "data": {
      "text/html": [
       "<div>\n",
       "<style scoped>\n",
       "    .dataframe tbody tr th:only-of-type {\n",
       "        vertical-align: middle;\n",
       "    }\n",
       "\n",
       "    .dataframe tbody tr th {\n",
       "        vertical-align: top;\n",
       "    }\n",
       "\n",
       "    .dataframe thead th {\n",
       "        text-align: right;\n",
       "    }\n",
       "</style>\n",
       "<table border=\"1\" class=\"dataframe\">\n",
       "  <thead>\n",
       "    <tr style=\"text-align: right;\">\n",
       "      <th></th>\n",
       "      <th>Unnamed: 0</th>\n",
       "      <th>index</th>\n",
       "      <th>description</th>\n",
       "      <th>species</th>\n",
       "      <th>text_length</th>\n",
       "      <th>cleaned_text</th>\n",
       "    </tr>\n",
       "  </thead>\n",
       "  <tbody>\n",
       "    <tr>\n",
       "      <th>0</th>\n",
       "      <td>0</td>\n",
       "      <td>0</td>\n",
       "      <td>2 Jun 2023 ï¿½ The Javan myna shares some simi...</td>\n",
       "      <td>Javan Myna</td>\n",
       "      <td>162</td>\n",
       "      <td>junthe javan myna shares some similarities wi...</td>\n",
       "    </tr>\n",
       "    <tr>\n",
       "      <th>1</th>\n",
       "      <td>1</td>\n",
       "      <td>1</td>\n",
       "      <td>Click here for more information about the Red ...</td>\n",
       "      <td>Collared Kingfisher</td>\n",
       "      <td>398</td>\n",
       "      <td>click here for more information about the red ...</td>\n",
       "    </tr>\n",
       "    <tr>\n",
       "      <th>2</th>\n",
       "      <td>2</td>\n",
       "      <td>2</td>\n",
       "      <td>The black-headed oriole ( Oriolus larvatus) is...</td>\n",
       "      <td>Black-naped Oriole</td>\n",
       "      <td>349</td>\n",
       "      <td>the blackheaded orioleoriolus larvatus is a sp...</td>\n",
       "    </tr>\n",
       "    <tr>\n",
       "      <th>3</th>\n",
       "      <td>3</td>\n",
       "      <td>3</td>\n",
       "      <td>Search from thousands of royalty-free \"Javan M...</td>\n",
       "      <td>Javan Myna</td>\n",
       "      <td>177</td>\n",
       "      <td>search from thousands of royaltyfree javan myn...</td>\n",
       "    </tr>\n",
       "    <tr>\n",
       "      <th>4</th>\n",
       "      <td>4</td>\n",
       "      <td>4</td>\n",
       "      <td>521 foreground recordings and 156 background ...</td>\n",
       "      <td>Little Egret</td>\n",
       "      <td>112</td>\n",
       "      <td>foreground recordings andbackground recordings...</td>\n",
       "    </tr>\n",
       "  </tbody>\n",
       "</table>\n",
       "</div>"
      ],
      "text/plain": [
       "   Unnamed: 0  index                                        description  \\\n",
       "0           0      0  2 Jun 2023 ï¿½ The Javan myna shares some simi...   \n",
       "1           1      1  Click here for more information about the Red ...   \n",
       "2           2      2  The black-headed oriole ( Oriolus larvatus) is...   \n",
       "3           3      3  Search from thousands of royalty-free \"Javan M...   \n",
       "4           4      4   521 foreground recordings and 156 background ...   \n",
       "\n",
       "               species  text_length  \\\n",
       "0           Javan Myna          162   \n",
       "1  Collared Kingfisher          398   \n",
       "2   Black-naped Oriole          349   \n",
       "3           Javan Myna          177   \n",
       "4         Little Egret          112   \n",
       "\n",
       "                                        cleaned_text  \n",
       "0   junthe javan myna shares some similarities wi...  \n",
       "1  click here for more information about the red ...  \n",
       "2  the blackheaded orioleoriolus larvatus is a sp...  \n",
       "3  search from thousands of royaltyfree javan myn...  \n",
       "4  foreground recordings andbackground recordings...  "
      ]
     },
     "execution_count": 11,
     "metadata": {},
     "output_type": "execute_result"
    }
   ],
   "source": [
    "df=pd.read_csv('230436M_cleaned_data.csv')\n",
    "df.head()"
   ]
  },
  {
   "cell_type": "code",
   "execution_count": 12,
   "id": "821a759f-6991-4a30-a227-9f93c7cb668a",
   "metadata": {},
   "outputs": [],
   "source": [
    "y=df['species']\n",
    "x=df['cleaned_text']"
   ]
  },
  {
   "cell_type": "code",
   "execution_count": 13,
   "id": "9bd93c00-856f-44a7-b16d-a248e12c64f3",
   "metadata": {},
   "outputs": [
    {
     "data": {
      "text/plain": [
       "(611,)"
      ]
     },
     "metadata": {},
     "output_type": "display_data"
    },
    {
     "data": {
      "text/plain": [
       "(611,)"
      ]
     },
     "metadata": {},
     "output_type": "display_data"
    }
   ],
   "source": [
    "display(x.shape)\n",
    "display(y.shape)\n",
    "\n",
    "X_train, X_test, y_train, y_test=train_test_split(x, y, test_size=0.2, random_state=42)"
   ]
  },
  {
   "cell_type": "markdown",
   "id": "f0cb338f",
   "metadata": {},
   "source": [
    "Feature Engineering\n",
    "\n",
    "\n"
   ]
  },
  {
   "cell_type": "code",
   "execution_count": 14,
   "id": "6fa89483",
   "metadata": {},
   "outputs": [
    {
     "name": "stdout",
     "output_type": "stream",
     "text": [
      "\n",
      "training: (488, 3414)\n",
      "test: (123, 3414)\n",
      "\n",
      "features: ['abilities' 'ability' 'able' ... 'zestimate' 'zhao' 'zoonoses']\n",
      "      \n"
     ]
    }
   ],
   "source": [
    "from sklearn.feature_extraction.text import TfidfVectorizer\n",
    "cv=TfidfVectorizer(stop_words='english', ngram_range=(1,1))\n",
    "X_train_cv=cv.fit_transform(X_train)\n",
    "X_test_cv=cv.transform(X_test) #make sure X_test is TRANSFORM and not fit_transform\n",
    "\n",
    "#print dimensions and features \n",
    "print(f\"\"\"\n",
    "training: {X_train_cv.toarray().shape}\n",
    "test: {X_test_cv.toarray().shape}\n",
    "\n",
    "features: {cv.get_feature_names_out()}\n",
    "      \"\"\")"
   ]
  },
  {
   "attachments": {},
   "cell_type": "markdown",
   "id": "ff2d7ae4",
   "metadata": {},
   "source": [
    "## Modelling\n",
    "There will be a number of models tested.\n",
    "\n",
    "1. Logistic Regression\n",
    "2. Naives Bayes\n",
    "3. Support Vector Machine"
   ]
  },
  {
   "attachments": {},
   "cell_type": "markdown",
   "id": "1798baf9",
   "metadata": {},
   "source": [
    "### **Model 1: Logistic Regression**"
   ]
  },
  {
   "cell_type": "code",
   "execution_count": 15,
   "id": "3788c115",
   "metadata": {},
   "outputs": [
    {
     "data": {
      "text/plain": [
       "array(['Javan Myna', 'Black-naped Oriole', 'Collared Kingfisher',\n",
       "       'Little Egret', 'Little Egret', 'Black-naped Oriole',\n",
       "       'Black-naped Oriole', 'Little Egret', 'Collared Kingfisher',\n",
       "       'Javan Myna', 'Black-naped Oriole', 'Collared Kingfisher',\n",
       "       'Javan Myna', 'Black-naped Oriole', 'Black-naped Oriole',\n",
       "       'Little Egret', 'Collared Kingfisher', 'Javan Myna',\n",
       "       'Black-naped Oriole', 'Black-naped Oriole', 'Black-naped Oriole',\n",
       "       'Javan Myna', 'Javan Myna', 'Collared Kingfisher',\n",
       "       'Black-naped Oriole', 'Javan Myna', 'Collared Kingfisher',\n",
       "       'Javan Myna', 'Javan Myna', 'Collared Kingfisher', 'Javan Myna',\n",
       "       'Javan Myna', 'Javan Myna', 'Collared Kingfisher', 'Little Egret',\n",
       "       'Black-naped Oriole', 'Collared Kingfisher', 'Collared Kingfisher',\n",
       "       'Black-naped Oriole', 'Little Egret', 'Javan Myna',\n",
       "       'Collared Kingfisher', 'Black-naped Oriole', 'Black-naped Oriole',\n",
       "       'Collared Kingfisher', 'Collared Kingfisher',\n",
       "       'Collared Kingfisher', 'Collared Kingfisher', 'Javan Myna',\n",
       "       'Little Egret', 'Black-naped Oriole', 'Javan Myna', 'Javan Myna',\n",
       "       'Black-naped Oriole', 'Black-naped Oriole', 'Little Egret',\n",
       "       'Black-naped Oriole', 'Black-naped Oriole', 'Javan Myna',\n",
       "       'Black-naped Oriole', 'Javan Myna', 'Black-naped Oriole',\n",
       "       'Black-naped Oriole', 'Collared Kingfisher', 'Collared Kingfisher',\n",
       "       'Black-naped Oriole', 'Javan Myna', 'Javan Myna',\n",
       "       'Black-naped Oriole', 'Black-naped Oriole', 'Little Egret',\n",
       "       'Black-naped Oriole', 'Black-naped Oriole', 'Black-naped Oriole',\n",
       "       'Little Egret', 'Little Egret', 'Little Egret',\n",
       "       'Collared Kingfisher', 'Collared Kingfisher', 'Little Egret',\n",
       "       'Black-naped Oriole', 'Javan Myna', 'Javan Myna',\n",
       "       'Black-naped Oriole', 'Collared Kingfisher', 'Black-naped Oriole',\n",
       "       'Black-naped Oriole', 'Black-naped Oriole', 'Black-naped Oriole',\n",
       "       'Black-naped Oriole', 'Collared Kingfisher', 'Little Egret',\n",
       "       'Javan Myna', 'Little Egret', 'Black-naped Oriole',\n",
       "       'Black-naped Oriole', 'Black-naped Oriole', 'Collared Kingfisher',\n",
       "       'Little Egret', 'Black-naped Oriole', 'Collared Kingfisher',\n",
       "       'Javan Myna', 'Little Egret', 'Black-naped Oriole',\n",
       "       'Black-naped Oriole', 'Collared Kingfisher', 'Collared Kingfisher',\n",
       "       'Javan Myna', 'Black-naped Oriole', 'Black-naped Oriole',\n",
       "       'Little Egret', 'Collared Kingfisher', 'Black-naped Oriole',\n",
       "       'Javan Myna', 'Javan Myna', 'Javan Myna', 'Javan Myna',\n",
       "       'Black-naped Oriole', 'Javan Myna', 'Javan Myna',\n",
       "       'Black-naped Oriole', 'Black-naped Oriole', 'Javan Myna'],\n",
       "      dtype=object)"
      ]
     },
     "execution_count": 15,
     "metadata": {},
     "output_type": "execute_result"
    }
   ],
   "source": [
    "from sklearn.linear_model import LogisticRegression\n",
    "lr=LogisticRegression(solver='lbfgs')\n",
    "\n",
    "#train\n",
    "lr.fit(X_train_cv, y_train)\n",
    "\n",
    "#apply to test\n",
    "y_pred_cv=lr.predict(X_test_cv)\n",
    "y_pred_cv"
   ]
  },
  {
   "cell_type": "code",
   "execution_count": 16,
   "id": "580075e2",
   "metadata": {},
   "outputs": [
    {
     "data": {
      "text/plain": [
       "array([[36,  0,  0,  0],\n",
       "       [ 3, 26,  0,  1],\n",
       "       [ 1,  0, 32,  0],\n",
       "       [ 7,  0,  0, 17]], dtype=int64)"
      ]
     },
     "execution_count": 16,
     "metadata": {},
     "output_type": "execute_result"
    }
   ],
   "source": [
    "from sklearn.metrics import confusion_matrix\n",
    "cm=confusion_matrix(y_test, y_pred_cv)\n",
    "cm"
   ]
  },
  {
   "cell_type": "code",
   "execution_count": 17,
   "id": "55908399",
   "metadata": {},
   "outputs": [
    {
     "name": "stdout",
     "output_type": "stream",
     "text": [
      "                     precision    recall  f1-score   support\n",
      "\n",
      " Black-naped Oriole       0.77      1.00      0.87        36\n",
      "Collared Kingfisher       1.00      0.87      0.93        30\n",
      "         Javan Myna       1.00      0.97      0.98        33\n",
      "       Little Egret       0.94      0.71      0.81        24\n",
      "\n",
      "           accuracy                           0.90       123\n",
      "          macro avg       0.93      0.89      0.90       123\n",
      "       weighted avg       0.92      0.90      0.90       123\n",
      "\n"
     ]
    }
   ],
   "source": [
    "from sklearn.metrics import classification_report\n",
    "print(classification_report(y_test, y_pred_cv, target_names=['Black-naped Oriole','Collared Kingfisher','Javan Myna','Little Egret']))"
   ]
  },
  {
   "attachments": {},
   "cell_type": "markdown",
   "id": "12eff887",
   "metadata": {},
   "source": [
    "### **Model 2: Naives Bayes**"
   ]
  },
  {
   "cell_type": "code",
   "execution_count": 18,
   "id": "684e1e0a",
   "metadata": {},
   "outputs": [],
   "source": [
    "#MAIN DIFFERENCE IN CODE\n",
    "from sklearn.naive_bayes import MultinomialNB\n",
    "\n",
    "nb=MultinomialNB()\n",
    "\n",
    "#train\n",
    "nb.fit(X_train_cv, y_train)\n",
    "\n",
    "#move to X_test\n",
    "y_pred_cv=nb.predict(X_test_cv)\n",
    "# y_pred_cv"
   ]
  },
  {
   "cell_type": "code",
   "execution_count": 19,
   "id": "54aad74a",
   "metadata": {},
   "outputs": [
    {
     "data": {
      "text/plain": [
       "array([[36,  0,  0,  0],\n",
       "       [ 3, 27,  0,  0],\n",
       "       [ 1,  1, 31,  0],\n",
       "       [ 9,  1,  0, 14]], dtype=int64)"
      ]
     },
     "execution_count": 19,
     "metadata": {},
     "output_type": "execute_result"
    }
   ],
   "source": [
    "from sklearn.metrics import confusion_matrix\n",
    "cm=confusion_matrix(y_test, y_pred_cv)\n",
    "cm"
   ]
  },
  {
   "cell_type": "code",
   "execution_count": 22,
   "id": "f1e53fa2",
   "metadata": {},
   "outputs": [
    {
     "data": {
      "image/png": "[encoded data removed]",
      "text/plain": [
       "<Figure size 600x600 with 1 Axes>"
      ]
     },
     "metadata": {},
     "output_type": "display_data"
    }
   ],
   "source": [
    "# Function to create a confusion matrix \n",
    "def conf_matrix(y_test, pred_test):    \n",
    "    \n",
    "    # Creating a confusion matrix\n",
    "    con_mat = confusion_matrix(y_test, pred_test)\n",
    "    con_mat = pd.DataFrame(con_mat, range(4), range(4))\n",
    "   \n",
    "    #Ploting the confusion matrix\n",
    "    plt.figure(figsize=(6,6))\n",
    "    sns.set(font_scale=1.5) \n",
    "    sns.heatmap(con_mat, annot=True, annot_kws={\"size\": 16}, fmt='g', cmap='Blues', cbar=False)\n",
    "    \n",
    "#Ploting the confusion matrix\n",
    "conf_matrix(y_test, y_pred_cv)"
   ]
  },
  {
   "cell_type": "code",
   "execution_count": 23,
   "id": "c0f12a5d",
   "metadata": {},
   "outputs": [
    {
     "name": "stdout",
     "output_type": "stream",
     "text": [
      "                     precision    recall  f1-score   support\n",
      "\n",
      " Black-naped Oriole       0.73      1.00      0.85        36\n",
      "Collared Kingfisher       0.93      0.90      0.92        30\n",
      "         Javan Myna       1.00      0.94      0.97        33\n",
      "       Little Egret       1.00      0.58      0.74        24\n",
      "\n",
      "           accuracy                           0.88       123\n",
      "          macro avg       0.92      0.86      0.87       123\n",
      "       weighted avg       0.91      0.88      0.87       123\n",
      "\n"
     ]
    }
   ],
   "source": [
    "from sklearn.metrics import classification_report\n",
    "print(classification_report(y_test, y_pred_cv, target_names=['Black-naped Oriole','Collared Kingfisher','Javan Myna','Little Egret']))"
   ]
  },
  {
   "cell_type": "markdown",
   "id": "2b93e4a8",
   "metadata": {},
   "source": [
    "Support Vector Machine\n"
   ]
  },
  {
   "cell_type": "code",
   "execution_count": 24,
   "id": "db48fb3d",
   "metadata": {},
   "outputs": [
    {
     "name": "stderr",
     "output_type": "stream",
     "text": [
      "C:\\Users\\wongw\\AppData\\Roaming\\Python\\Python311\\site-packages\\sklearn\\svm\\_classes.py:32: FutureWarning: The default value of `dual` will change from `True` to `'auto'` in 1.5. Set the value of `dual` explicitly to suppress the warning.\n",
      "  warnings.warn(\n"
     ]
    }
   ],
   "source": [
    "from sklearn import svm\n",
    "\n",
    "supportvector=svm.LinearSVC()\n",
    "#train\n",
    "supportvector.fit(X_train_cv, y_train)\n",
    "\n",
    "#move to X_test\n",
    "y_pred_cv=supportvector.predict(X_test_cv)"
   ]
  },
  {
   "cell_type": "code",
   "execution_count": 25,
   "id": "242c3e34",
   "metadata": {},
   "outputs": [
    {
     "data": {
      "text/plain": [
       "array([[35,  0,  1,  0],\n",
       "       [ 2, 26,  0,  2],\n",
       "       [ 1,  0, 32,  0],\n",
       "       [ 3,  0,  1, 20]], dtype=int64)"
      ]
     },
     "execution_count": 25,
     "metadata": {},
     "output_type": "execute_result"
    }
   ],
   "source": [
    "from sklearn.metrics import confusion_matrix\n",
    "cm=confusion_matrix(y_test, y_pred_cv)\n",
    "cm"
   ]
  },
  {
   "cell_type": "code",
   "execution_count": 27,
   "id": "72ed4ae3",
   "metadata": {},
   "outputs": [],
   "source": [
    "from sklearn.metrics import classification_report\n",
    "svm_results = classification_report(y_test, y_pred_cv, target_names=['Black-naped Oriole','Collared Kingfisher','Javan Myna','Little Egret'])"
   ]
  },
  {
   "cell_type": "code",
   "execution_count": null,
   "id": "6f186095",
   "metadata": {},
   "outputs": [],
   "source": []
  }
 ],
 "metadata": {
  "kernelspec": {
   "display_name": "base",
   "language": "python",
   "name": "python3"
  },
  "language_info": {
   "codemirror_mode": {
    "name": "ipython",
    "version": 3
   },
   "file_extension": ".py",
   "mimetype": "text/x-python",
   "name": "python",
   "nbconvert_exporter": "python",
   "pygments_lexer": "ipython3",
   "version": "3.11.7"
  }
 },
 "nbformat": 4,
 "nbformat_minor": 5
}

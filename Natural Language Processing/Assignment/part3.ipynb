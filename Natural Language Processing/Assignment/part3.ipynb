{
 "cells": [
  {
   "cell_type": "code",
   "execution_count": null,
   "metadata": {},
   "outputs": [],
   "source": [
    "testset=pd.read_excel('Data_test.xlsx')\n",
    "testset.head()"
   ]
  },
  {
   "cell_type": "code",
   "execution_count": null,
   "metadata": {},
   "outputs": [],
   "source": [
    "testset.drop_duplicates(inplace=True)\n",
    "testset.dropna(inplace=True)\n",
    "testset['cleaned_text'] = testset['description'].apply(preprocess_text)\n",
    "testset.head()"
   ]
  },
  {
   "cell_type": "code",
   "execution_count": null,
   "metadata": {},
   "outputs": [],
   "source": [
    "test=testset['cleaned_text'].to_list()\n",
    "print(test)\n",
    "vector=cv.transform(test)\n",
    "testset['log_reg_pred']=(lr.predict(vector))[0]"
   ]
  },
  {
   "cell_type": "code",
   "execution_count": null,
   "metadata": {},
   "outputs": [],
   "source": [
    "testset['naive_bayes_pred']=(nb.predict(vector))[0]"
   ]
  },
  {
   "cell_type": "code",
   "execution_count": null,
   "metadata": {},
   "outputs": [],
   "source": [
    "def accuracy(df): \n",
    "    # Calculate True Positives (TP): cases where prediction matches the actual species\n",
    "    correct_predictions = df['species'] == df['naive_bayes_pred']\n",
    "    tp = correct_predictions.sum()\n",
    "    \n",
    "    # Calculate total records\n",
    "    total_records = len(df)\n",
    "    \n",
    "    # Calculate accuracy\n",
    "    accuracy = tp / total_records if total_records > 0 else 0\n",
    "    \n",
    "    # Calculate False Positives (FP): cases where the prediction is wrong\n",
    "    false_positives = (~correct_predictions).sum()\n",
    "    \n",
    "    return accuracy\n",
    "    \n",
    "accuracy(testset)"
   ]
  }
 ],
 "metadata": {
  "kernelspec": {
   "display_name": "base",
   "language": "python",
   "name": "python3"
  },
  "language_info": {
   "name": "python",
   "version": "3.11.7"
  }
 },
 "nbformat": 4,
 "nbformat_minor": 2
}

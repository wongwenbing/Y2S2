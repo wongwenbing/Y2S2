{
 "cells": [
  {
   "cell_type": "markdown",
   "id": "9d916fbd-32a7-4b40-bfda-49190a58c4ab",
   "metadata": {},
   "source": [
    "# IT2313 - Programming for Data Science\n",
    "# Practical 2 (Question 1 to 5)\n",
    "\n",
    "## List and Tuple \n"
   ]
  },
  {
   "cell_type": "markdown",
   "id": "f687b197-9aed-47be-bbd2-59913cf477e4",
   "metadata": {},
   "source": [
    "### Q1 - House Area Measurements\n",
    "Q\n",
    "1- . After measuring the height of your family, you decide to collect some information on the house you're living in. The areas of different parts of your house are as follows:\n",
    "\n",
    "   | Hall  | Kitchen | Living | Bedroom | Bath  |\n",
    "   |-------|---------|--------|---------|-------|\n",
    "   | 11.25 | 18.20   | 20.0   | 10.75   | 9.5   |\n",
    "\n",
    "   **Objective:**\n",
    "   Create a list, `areas`, which contains the area of the Hallway (`hall`), Kitchen (`kit`), Living Room (`living`), Bedroom (`bed`), and Bathroom (`bath`), in this order. Use the predefined variables.\n",
    "\n",
    "   a) Print the `areas` list using the `print()` function.\n",
    "\n",
    "   b) Print out the areas of the kitchen and bathroom.\n",
    "\n",
    "   c) Without changing the list in previous cells, update the area of the bathroom to 10.51.\n",
    "\n",
    "   d) Instead of creating the list, let's try to create the areas in the table using a `Tuple` and print the areas with the `print()` function.\n",
    "e.\n",
    "\n"
   ]
  },
  {
   "cell_type": "code",
   "execution_count": 1,
   "id": "0b62e846",
   "metadata": {},
   "outputs": [
    {
     "name": "stdout",
     "output_type": "stream",
     "text": [
      "[11.25, 18.2, 20, 10.75, 8.5]\n"
     ]
    }
   ],
   "source": [
    "# Question 1(a) - Type your answers here\n",
    "\n",
    "# area variables (in square meters)\n",
    "hall = 11.25\n",
    "kit = 18.20\n",
    "living=20\n",
    "bed=10.75\n",
    "bath=8.5\n",
    "\n",
    "\n",
    "# Create list areas\n",
    "areas = [hall, kit, living, bed, bath]\n",
    "\n",
    "# Print areas\n",
    "print(areas)"
   ]
  },
  {
   "cell_type": "code",
   "execution_count": 3,
   "id": "180296b3",
   "metadata": {},
   "outputs": [
    {
     "name": "stdout",
     "output_type": "stream",
     "text": [
      "['Hallway', 11.25, 'Kitchen', 18.2, 'Living Room', 20, 'Bedroom', 10.75, 'Bathroom, bath']\n"
     ]
    }
   ],
   "source": [
    "# Question 1(a) - Type your answers here\n",
    "\n",
    "# area variables (in square meters)\n",
    "\n",
    "\n",
    "# Adapt list areas\n",
    "areas=['Hallway',hall, 'Kitchen', kit, 'Living Room',living,'Bedroom',bed, 'Bathroom, bath']\n",
    "\n",
    "# Print areas\n",
    "print(areas)"
   ]
  },
  {
   "cell_type": "code",
   "execution_count": 6,
   "id": "1dbf4d50",
   "metadata": {},
   "outputs": [
    {
     "ename": "IndexError",
     "evalue": "list index out of range",
     "output_type": "error",
     "traceback": [
      "\u001b[1;31m---------------------------------------------------------------------------\u001b[0m",
      "\u001b[1;31mIndexError\u001b[0m                                Traceback (most recent call last)",
      "Cell \u001b[1;32mIn[6], line 4\u001b[0m\n\u001b[0;32m      1\u001b[0m \u001b[38;5;66;03m# Question 1(b) - Type your answers here\u001b[39;00m\n\u001b[0;32m      2\u001b[0m \u001b[38;5;28mprint\u001b[39m(\u001b[38;5;124mf\u001b[39m\u001b[38;5;124m\"\"\"\u001b[39m\n\u001b[0;32m      3\u001b[0m \u001b[38;5;124mArea of Kitchen is \u001b[39m\u001b[38;5;132;01m{\u001b[39;00mareas[\u001b[38;5;241m3\u001b[39m]\u001b[38;5;132;01m}\u001b[39;00m\n\u001b[1;32m----> 4\u001b[0m \u001b[38;5;124mArea of Bathroom is \u001b[39m\u001b[38;5;132;01m{\u001b[39;00m\u001b[43mareas\u001b[49m\u001b[43m[\u001b[49m\u001b[38;5;241;43m9\u001b[39;49m\u001b[43m]\u001b[49m\u001b[38;5;132;01m}\u001b[39;00m\u001b[38;5;124m \u001b[39m\n\u001b[0;32m      5\u001b[0m \u001b[38;5;124m      \u001b[39m\u001b[38;5;124m\"\"\"\u001b[39m)\n",
      "\u001b[1;31mIndexError\u001b[0m: list index out of range"
     ]
    }
   ],
   "source": [
    "# Question 1(b) - Type your answers here\n",
    "print(f\"\"\"\n",
    "Area of Kitchen is {areas[3]}\n",
    "Area of Bathroom is {areas[9]} \n",
    "      \"\"\")\n"
   ]
  },
  {
   "cell_type": "code",
   "execution_count": 7,
   "id": "0bad5b9e",
   "metadata": {},
   "outputs": [
    {
     "ename": "IndexError",
     "evalue": "list assignment index out of range",
     "output_type": "error",
     "traceback": [
      "\u001b[1;31m---------------------------------------------------------------------------\u001b[0m",
      "\u001b[1;31mIndexError\u001b[0m                                Traceback (most recent call last)",
      "Cell \u001b[1;32mIn[7], line 3\u001b[0m\n\u001b[0;32m      1\u001b[0m \u001b[38;5;66;03m# Question 1(c) -  Type your answers here\u001b[39;00m\n\u001b[1;32m----> 3\u001b[0m \u001b[43mareas\u001b[49m\u001b[43m[\u001b[49m\u001b[38;5;241;43m9\u001b[39;49m\u001b[43m]\u001b[49m\u001b[38;5;241m=\u001b[39m\u001b[38;5;241m10.51\u001b[39m\n\u001b[0;32m      4\u001b[0m areas[\u001b[38;5;241m-\u001b[39m\u001b[38;5;241m1\u001b[39m]\u001b[38;5;241m=\u001b[39m\u001b[38;5;241m10.51\u001b[39m\n\u001b[0;32m      5\u001b[0m \u001b[38;5;28mprint\u001b[39m(areas)\n",
      "\u001b[1;31mIndexError\u001b[0m: list assignment index out of range"
     ]
    }
   ],
   "source": [
    "# Question 1(c) -  Type your answers here\n",
    "\n",
    "areas[9]=10.51\n",
    "areas[-1]=10.51\n",
    "print(areas)"
   ]
  },
  {
   "cell_type": "code",
   "execution_count": 22,
   "id": "7799d894",
   "metadata": {},
   "outputs": [
    {
     "name": "stdout",
     "output_type": "stream",
     "text": [
      "(11.25, 18.0, 20.0, 10.75, 9.5)\n"
     ]
    }
   ],
   "source": [
    "# Question 1(d) -  Type your answers here\n",
    "\n",
    "\n",
    "# Create list areas in Tuple\n",
    "\n",
    "\n",
    "# Print areas\n"
   ]
  },
  {
   "cell_type": "markdown",
   "id": "fad4e47b-4ee0-4aea-a50a-2b7f709d778f",
   "metadata": {},
   "source": [
    "### Q2 - Compare Two Lists for Mismatched Positions\n",
    "\n",
    "Given two equal-length lists of unique numbers, write a function to return the number of items in these two lists that have the same values but are at different positions.\n",
    "\n",
    "For example, if these two lists are `[1, 2, 3, 5]` and `[2, 1, 3, 4]`, then the output is `2` because the same values `1` and `2` appear at different positions.\n",
    "\n",
    "#### Test Cases:\n",
    "\n",
    "| Input1: list      | Input2: list      | Output: int |\n",
    "|--------------------|--------------------|-------------|\n",
    "| **Test 1:**        | `[1, 2, 3, 5]`     | `[2, 1, 3, 4]` | `2`         |\n",
    "| **Test 2:**        | `[1, 2, 3, 5]`     | `[1, 2, 3, 4]` | `0`         |\n"
   ]
  },
  {
   "cell_type": "code",
   "execution_count": 2,
   "id": "617a1f24",
   "metadata": {},
   "outputs": [
    {
     "name": "stdout",
     "output_type": "stream",
     "text": [
      "3\n"
     ]
    }
   ],
   "source": [
    "# Question 2 - For counting Matching Positions\n",
    "def count_matching_positions(list1, list2):\n",
    "    count=0\n",
    "    for i in range(len(list1)): \n",
    "        if list1[i]==list2[i]:\n",
    "            count+=1\n",
    "        else: \n",
    "            continue\n",
    "    return count\n",
    "\n",
    "# Example usage:\n",
    "list1 = [1, 2, 3, 5]\n",
    "list2 = [2, 1, 3, 4]\n",
    "\n",
    "result = len(list1) - count_matching_positions(list1, list2)\n",
    "print(result)"
   ]
  },
  {
   "cell_type": "code",
   "execution_count": 3,
   "id": "bf57413e",
   "metadata": {},
   "outputs": [
    {
     "name": "stdout",
     "output_type": "stream",
     "text": [
      "3\n",
      "1\n"
     ]
    }
   ],
   "source": [
    "# Question 2 - For counting Un-Matching Positions\n",
    "def count_different_positions(list1, list2):\n",
    "    count=0\n",
    "    for i in range(len(list1)):\n",
    "        if list1[i]!=list2[i]:\n",
    "            count+=1\n",
    "        else: \n",
    "            continue\n",
    "    return count\n",
    "\n",
    "# Example usage:\n",
    "list1 = [1, 2, 3, 5]\n",
    "list2 = [2, 1, 3, 4]\n",
    "list3 = [1, 2, 3, 4]\n",
    "\n",
    "result = count_different_positions(list1, list2)\n",
    "print(result)\n",
    "\n",
    "result = count_different_positions(list1, list3)\n",
    "print(result)"
   ]
  },
  {
   "cell_type": "markdown",
   "id": "abeacd37-fae8-4657-8943-2a829b86070e",
   "metadata": {},
   "source": [
    "### Q3 - Student Exam Scores Management\n",
    "\n",
    "You are tasked with managing a list of students and their exam scores. Each student is represented as a tuple containing the following information: \n",
    "\n",
    "- **Student's Name** – Alice, Bob, Charlie\n",
    "- **Admin Number** – IT001, IT002, IT003\n",
    "- **Math Score** – 90, 88, 78\n",
    "- **Science Score** – 85, 90, 82\n",
    "\n",
    "#### Write a Python program to perform the following tasks:\n",
    "\n",
    "a) Create a list with information for 3 students.  \n",
    "b) Display the information of each student, including their name, admission number, and average score.  \n",
    "c) Identify and print the student with the highest average score.  \n"
   ]
  },
  {
   "cell_type": "code",
   "execution_count": 8,
   "id": "15a6c8bc",
   "metadata": {},
   "outputs": [
    {
     "name": "stdout",
     "output_type": "stream",
     "text": [
      "Student: Alice, Admin Number: IT001, Average Score:132.50\n",
      "Student: Bob, Admin Number: IT002, Average Score:133.00\n",
      "Student: Charlie, Admin Number: IT003, Average Score:119.00\n",
      "('Bob', 'IT002', 88, 90)\n",
      "Name:Bob, Admin Number: IT002, Average Score: 89.00\n"
     ]
    }
   ],
   "source": [
    "# Question 3 - Type your answers here\n",
    "\n",
    "# Student information as tuples (Name, Admin Number, Math Score, Science Score)\n",
    "students = [(\"Alice\", \"IT001\", 90, 85),\n",
    "           (\"Bob\", \"IT002\", 88, 90),\n",
    "           (\"Charlie\",\"IT003\",78,82)]\n",
    "\n",
    "\n",
    "# Display information for each student\n",
    "for student in students: \n",
    "    name, admin_number, math, science = student\n",
    "    average = (math+science/2)\n",
    "    print(\"Student: {}, Admin Number: {}, Average Score:{:.2f}\".format(name, admin_number, average))\n",
    "\n",
    "# Identify and print the student with the highest average score\n",
    "highest_avg = max(students, key=lambda student:(student[2]+student[3])/2) \n",
    "print(highest_avg) #<-- prints only tuple \n",
    "## --> lambda defines a function on the fly (keyword) dont need function name to do smth quickly. INLINE FUNCTION\n",
    "\n",
    "print(f\"Name:{highest_avg[0]}, Admin Number: {highest_avg[1]}, Average Score: {(highest_avg[2]+highest_avg[3])/2:.2f}\")"
   ]
  },
  {
   "cell_type": "markdown",
   "id": "85e331c3-8672-4fe8-a50f-9ae6ad09e2a2",
   "metadata": {},
   "source": [
    "## Dictionaries\n",
    "### 4. Create a Dictionary for Profile Information\n",
    "\n",
    "Create a dictionary that holds the profile information of a person. The dictionary should include the following keys:\n",
    "\n",
    "- **Name**\n",
    "- **Age**\n",
    "- **Birth Month**\n",
    "- **Employed Status** (True/False)\n",
    "\n"
   ]
  },
  {
   "cell_type": "markdown",
   "id": "cd00d0e9-86b4-4b9b-8287-c45b86866623",
   "metadata": {},
   "source": [
    "**a)** Hint: The following is the sample output.\n",
    "```\n",
    "{'Name': 'David Wong', 'Age': 33, 'Birth Month': 'June', 'Employed Status': True}"
   ]
  },
  {
   "cell_type": "markdown",
   "id": "5fa7d79f-34ae-4bc8-8253-a729f4000aa0",
   "metadata": {},
   "source": [
    "**b)** Update the age to 35."
   ]
  },
  {
   "cell_type": "markdown",
   "id": "d1435cf4-5e30-4b04-9c49-cf8c901c6082",
   "metadata": {},
   "source": [
    "**c)** Print out the following using the information store in your dictionary\n",
    "```\n",
    "David Wong's age is 35"
   ]
  },
  {
   "cell_type": "code",
   "execution_count": 1,
   "id": "a2d9212c",
   "metadata": {},
   "outputs": [
    {
     "name": "stdout",
     "output_type": "stream",
     "text": [
      "{'Name': 'David Wong', 'Age': 33, 'Birth Month': 'June', 'Employed Status': True}\n"
     ]
    }
   ],
   "source": [
    "# Question 4(a) - Type your answers here\n",
    "dictionary = {\n",
    "    'Name': 'David Wong',\n",
    "    'Age': 33, \n",
    "    'Birth Month': 'June',\n",
    "    'Employed Status': True\n",
    "    }\n",
    "print(dictionary)"
   ]
  },
  {
   "cell_type": "code",
   "execution_count": 3,
   "id": "39488da5",
   "metadata": {},
   "outputs": [],
   "source": [
    "# Question 4(b) - Type your answers here\n",
    "dictionary['Age']=35"
   ]
  },
  {
   "cell_type": "code",
   "execution_count": 4,
   "id": "6a5500b7",
   "metadata": {},
   "outputs": [
    {
     "name": "stdout",
     "output_type": "stream",
     "text": [
      "David Wong's age is 35\n"
     ]
    }
   ],
   "source": [
    "# Question 4(c) - Type your answers here\n",
    "print(f\"{dictionary['Name']}'s age is {dictionary['Age']}\")"
   ]
  },
  {
   "cell_type": "markdown",
   "id": "f9eeb84a-ffbb-454b-b0d8-f61f7560ee20",
   "metadata": {},
   "source": [
    "## Question 5\n",
    "Write a Python code snippet to create a dictionary named `Yr2023_details_dict` that contains the following information:\n",
    "\n",
    "- **Semester 2 courses**: `\"IT2311\"`, `\"IT2312\"`, `\"IT2313\"`, `\"IT2391\"`, `\"IT2392\"`, `\"IT2393\"`, `\"IT2394\"`\n",
    "- **Semester 1 courses**: `\"IT2301\"`, `\"IT2302\"`, `\"IT2381\"`, `\"IT2382\"`, `\"IT2383\"`, `\"IT2384\"`, `\"IT2385\"`, `\"IT2386\"`\n",
    "\n",
    "\n",
    "(a) Using the dictionary you created in the previous question, write a code to display the entire contents of `Yr2023_details_dict`.\n",
    "\n",
    "(b) Print out the second item in Semester 1\n",
    "\n",
    "(c) Add a new course, \"IT2395\", to Semester 2 in the Yr2023_details_dict and display the updated dictionary.\n",
    "\n",
    "(d) To count and print the total number of courses offered in both Semester 1 and Semester 2 combined.\n"
   ]
  },
  {
   "cell_type": "code",
   "execution_count": 10,
   "id": "a876c78a",
   "metadata": {},
   "outputs": [
    {
     "name": "stdout",
     "output_type": "stream",
     "text": [
      "{'sem2': ['IT2311', 'IT2312', 'IT2313', 'IT2391', 'IT2392', 'IT2393', 'IT2394'], 'sem1': ['IT2301', 'IT2302', 'IT2381', 'IT2382', 'IT2383', 'IT2384', 'IT2385', 'IT2386']}\n"
     ]
    }
   ],
   "source": [
    "# Question 5(a) - Type your answers here\n",
    "Yr2023_details_dict = {\n",
    "    'sem2': ['IT2311',\n",
    "             'IT2312', \n",
    "             'IT2313', \n",
    "             'IT2391', \n",
    "             'IT2392',\n",
    "             'IT2393', \n",
    "             'IT2394'], \n",
    "    'sem1':[\n",
    "        'IT2301',\n",
    "        'IT2302', \n",
    "        'IT2381', \n",
    "        'IT2382',\n",
    "        'IT2383',\n",
    "        'IT2384', \n",
    "        'IT2385',\n",
    "        'IT2386'\n",
    "    ]\n",
    "}\n",
    "print(Yr2023_details_dict)"
   ]
  },
  {
   "cell_type": "code",
   "execution_count": 11,
   "id": "1d36ed63",
   "metadata": {
    "scrolled": true
   },
   "outputs": [
    {
     "name": "stdout",
     "output_type": "stream",
     "text": [
      "The second item in Semester 1 is IT2302\n"
     ]
    }
   ],
   "source": [
    "# Question 5(b) - Type your answers here\n",
    "print(f\"The second item in Semester 1 is {Yr2023_details_dict['sem1'][1]}\")"
   ]
  },
  {
   "cell_type": "code",
   "execution_count": 12,
   "id": "3a242630",
   "metadata": {},
   "outputs": [
    {
     "name": "stdout",
     "output_type": "stream",
     "text": [
      "{'sem2': ['IT2311', 'IT2312', 'IT2313', 'IT2391', 'IT2392', 'IT2393', 'IT2394', 'IT2395'], 'sem1': ['IT2301', 'IT2302', 'IT2381', 'IT2382', 'IT2383', 'IT2384', 'IT2385', 'IT2386']}\n"
     ]
    }
   ],
   "source": [
    "# Question 5(c) - Type your answers here\n",
    "\n",
    "Yr2023_details_dict['sem2'].append('IT2395')\n",
    "print(Yr2023_details_dict)"
   ]
  },
  {
   "cell_type": "code",
   "execution_count": 13,
   "id": "5bd57378",
   "metadata": {},
   "outputs": [
    {
     "name": "stdout",
     "output_type": "stream",
     "text": [
      "Total number of courses: 16\n"
     ]
    }
   ],
   "source": [
    "# Question 5(d) - Type your answers here\n",
    "sum = len(Yr2023_details_dict['sem2'])+len(Yr2023_details_dict['sem1'])\n",
    "print(f\"Total number of courses: {sum}\")"
   ]
  }
 ],
 "metadata": {
  "kernelspec": {
   "display_name": "Python 3",
   "language": "python",
   "name": "python3"
  },
  "language_info": {
   "codemirror_mode": {
    "name": "ipython",
    "version": 3
   },
   "file_extension": ".py",
   "mimetype": "text/x-python",
   "name": "python",
   "nbconvert_exporter": "python",
   "pygments_lexer": "ipython3",
   "version": "3.12.2"
  }
 },
 "nbformat": 4,
 "nbformat_minor": 5
}

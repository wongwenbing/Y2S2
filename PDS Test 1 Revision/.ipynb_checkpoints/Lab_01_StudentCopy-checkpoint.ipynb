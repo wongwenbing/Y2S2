{
 "cells": [
  {
   "cell_type": "markdown",
   "id": "e2127622",
   "metadata": {},
   "source": [
    "# IT2313 - Programming for Data Science\n",
    "# Introduction to Python in Data Science\n",
    "# Practical 1 Student Copy"
   ]
  },
  {
   "cell_type": "markdown",
   "id": "d7496332",
   "metadata": {},
   "source": [
    "## Objects and Data Types"
   ]
  },
  {
   "cell_type": "markdown",
   "id": "dee72df2-8dd5-4d73-9698-512b007be174",
   "metadata": {},
   "source": [
    "__Q1 - What will be the type of the add variable?__\n",
    "\n",
    "a = 20  \n",
    "b = 3.8  \n",
    "add = a + b\n"
   ]
  },
  {
   "cell_type": "code",
   "execution_count": null,
   "id": "0b62e846",
   "metadata": {},
   "outputs": [],
   "source": [
    "# Question 1 - Type your answers here\n",
    "\n"
   ]
  },
  {
   "cell_type": "markdown",
   "id": "fc2bcf82-8a6a-4e10-894c-11b7c7613898",
   "metadata": {},
   "source": [
    "__Q2 - What will be the output : 10 == (7+2)__"
   ]
  },
  {
   "cell_type": "code",
   "execution_count": null,
   "id": "180296b3",
   "metadata": {},
   "outputs": [],
   "source": [
    "# Question 2 - Type your answers here\n",
    "\n"
   ]
  },
  {
   "cell_type": "markdown",
   "id": "71220727-985c-4fc4-b440-3842a3c3feac",
   "metadata": {},
   "source": [
    "__Q3 - Assign the value 5 to variable a, then add 331 to a and print the result.__"
   ]
  },
  {
   "cell_type": "code",
   "execution_count": null,
   "id": "1dbf4d50",
   "metadata": {},
   "outputs": [],
   "source": [
    "# Question 3 - Type your answers here\n",
    "\n"
   ]
  },
  {
   "cell_type": "markdown",
   "id": "23d98166-37be-4e87-8000-36e4c4e46287",
   "metadata": {},
   "source": [
    "__Q4 - Convert integer variable a to float and check its type, where a = 25.__"
   ]
  },
  {
   "cell_type": "code",
   "execution_count": null,
   "id": "0bad5b9e",
   "metadata": {},
   "outputs": [],
   "source": [
    "# Question 4 - Type your answers here\n",
    "\n"
   ]
  },
  {
   "cell_type": "markdown",
   "id": "97040e8e-31d5-432a-8a86-4f01ae571a2b",
   "metadata": {},
   "source": [
    "__Q5 - Write a program to calculate the area of a triangle with base = 10 and height = 5__"
   ]
  },
  {
   "cell_type": "code",
   "execution_count": null,
   "id": "7799d894",
   "metadata": {},
   "outputs": [],
   "source": [
    "# Question 5 - Type your answeres here\n",
    "\n"
   ]
  },
  {
   "cell_type": "markdown",
   "id": "b3df599d-c9d6-47b3-9e07-ae8e856ab78c",
   "metadata": {},
   "source": [
    "__Q6 -\tWhat will be the value of z in the following expression:__\n",
    "\n",
    "z = (v + w) * (x / y)\n",
    "\n",
    "If v = 20, w = 35,  x = 80, y = 4\n"
   ]
  },
  {
   "cell_type": "code",
   "execution_count": null,
   "id": "617a1f24",
   "metadata": {},
   "outputs": [],
   "source": [
    "# Question 6 - Type your answers here\n",
    "\n"
   ]
  },
  {
   "cell_type": "markdown",
   "id": "ce2c94e4",
   "metadata": {},
   "source": [
    "## Operators in Python"
   ]
  },
  {
   "cell_type": "markdown",
   "id": "6e7612b5-ef2a-4c2d-b634-b522a2fddb47",
   "metadata": {},
   "source": [
    "__Q7 - Write a Python expression to calculate and print the result of the following mathematical expression:__ \n",
    "\n",
    "(5 + 3) x 2 – 4/2"
   ]
  },
  {
   "cell_type": "code",
   "execution_count": null,
   "id": "a2d9212c",
   "metadata": {},
   "outputs": [],
   "source": [
    "# Question 7 - Type your answers here\n",
    "\n"
   ]
  },
  {
   "cell_type": "markdown",
   "id": "e8956efb-7686-481a-ade9-dbf8226697e6",
   "metadata": {},
   "source": [
    "__Q8 - Write a Python expression to calculate and print the result, given the values: x=7, y=2__\n",
    "\n",
    "Result = $x^y$ + (x mod y) x 3"
   ]
  },
  {
   "cell_type": "code",
   "execution_count": null,
   "id": "6a5500b7",
   "metadata": {},
   "outputs": [],
   "source": [
    "# Question 8 - Type your answers here\n",
    "\n"
   ]
  },
  {
   "cell_type": "markdown",
   "id": "0c3ca51c-c1ba-4fb3-bc4f-69f6da6e171a",
   "metadata": {},
   "source": [
    "__Q9 - Suppose you have $100, which you can invest with a 10% return each year.__ \n",
    "\n",
    "After one year, it's 100×1.1=110 dollars, and after two years it's 100×1.1×1.1=121. \n",
    "\n",
    "How much money you end up with after 7 years? \n",
    "\n",
    "Note: Write the codes and print statements in different cells\n"
   ]
  },
  {
   "cell_type": "code",
   "execution_count": null,
   "id": "a876c78a",
   "metadata": {},
   "outputs": [],
   "source": [
    "# Question  9 - Type your answers here\n",
    "\n"
   ]
  },
  {
   "cell_type": "code",
   "execution_count": null,
   "id": "1d36ed63",
   "metadata": {
    "scrolled": true
   },
   "outputs": [],
   "source": [
    "# Question 9 - Type your answers here\n",
    "\n"
   ]
  },
  {
   "cell_type": "code",
   "execution_count": null,
   "id": "3a242630",
   "metadata": {},
   "outputs": [],
   "source": [
    "# Question 9 - Type your answers here\n",
    "\n"
   ]
  },
  {
   "cell_type": "markdown",
   "id": "697c4ee7-a0d1-457b-9511-a36755a12f9f",
   "metadata": {},
   "source": [
    "__Q10 - You are tasked with building a simple authentication system for a website that handles both regular users and administrators.__\n",
    "\n",
    "Write a Python function authenticate_user that takes three parameters: username (a string), password (a string), and is_admin (a boolean flag indicating whether the user is trying to log in as an admin). The function should return True if the authentication is successful and False otherwise.\n",
    "\n",
    "The authentication criteria are as follows:\n",
    "- If a user is trying to log in as an admin (is_admin is True), the username must be \"admin\" and the password must be \"adminpass\". If either does not match, the authentication should fail.\n",
    "- If a user is logging in as a regular user (is_admin is False), the password must be between 8 and 12 characters long, and the username and password must not be identical.\n",
    "\n",
    "Hint: You can use the following test cases to demonstrate its correctness\n",
    "\n",
    "| **Scenario**                                     | **Input (`username`, `password`, `is_admin`)** | **Expected Output** |\n",
    "|--------------------------------------------------|----------------------------------------------|---------------------|\n",
    "| (1) Admin logs in with correct credentials       | `(\"admin\", \"adminpass\", True)`               | `True`              |\n",
    "| (2) Admin logs in with incorrect password        | `(\"admin\", \"wrongpass\", True)`               | `False`             |\n",
    "| (3) Admin logs in with non-admin username        | `(\"user\", \"adminpass\", True)`                | `False`             |\n",
    "| (4) Regular user with valid password             | `(\"john_doe\", \"mypassword\", False)`          | `True`              |\n",
    "| (5) Regular user with short password             | `(\"jane_doe\", \"short\", False)`               | `False`             |\n",
    "| (6) Regular user with long password              | `(\"jane_doe\", \"averylongpassword\", False)`   | `False`             |\n",
    "| (7) Regular user with identical username/password| `(\"john_doe\", \"john_doe\", False)`            | `False`             |\n",
    "      |\r\n"
   ]
  },
  {
   "cell_type": "code",
   "execution_count": null,
   "id": "0e438281",
   "metadata": {},
   "outputs": [],
   "source": [
    "# Question  10 - Type your answwers here\n",
    "\n",
    "\n",
    "# Let test out the 7 scenarios\n",
    "# Example usage 1:\n",
    "\n",
    "\n",
    "# Example usage 2:\n",
    "\n",
    "\n",
    "# Example usage 3:\n",
    "\n",
    "\n",
    "# Example usage 4:\n",
    "\n",
    "\n",
    "# Example usage 5:\n",
    "\n",
    "\n",
    "# Example usage 6:\n",
    "\n",
    "\n",
    "# Example usage 7:\n"
   ]
  },
  {
   "cell_type": "markdown",
   "id": "4c104d32",
   "metadata": {},
   "source": [
    "## Functions, Conditional Statement and Looping"
   ]
  },
  {
   "cell_type": "markdown",
   "id": "96bb3ff6-83ed-438c-9b4e-3ffe93439edc",
   "metadata": {},
   "source": [
    "__Q11 - Simulate the dice throwing which the number will range from 1 to 6.__ \n",
    "\n",
    "Use if-elif to print out the number in Text.  E.g if 1 = One, 2 = Two, 3 = Three, 4 = Four, 5 = Five, 6 = Six.\n",
    "\n",
    "Use if statements to distinguish if the number is even or odd. It will print as Even (for 2, 4, 6) and Odd (1, 3, 5). \n",
    "\n",
    "Hint: Use random.randint(1, 6) function call to generate a random integer between 1 and 6."
   ]
  },
  {
   "cell_type": "code",
   "execution_count": null,
   "id": "d9e38fb4",
   "metadata": {},
   "outputs": [],
   "source": [
    "# Question 11 - Type your answers\n",
    "\n"
   ]
  },
  {
   "cell_type": "markdown",
   "id": "321f4673-66cb-40d3-aa32-82cc32963688",
   "metadata": {},
   "source": [
    "__Q12 - Write a Python program to create a simple guessing game.__\n",
    "\n",
    "The program should generate a random number between 1 and 10 (inclusive) and ask the user to guess the number. If the user's guess is incorrect, the program should provide feedback on whether the correct number is higher or lower. \n",
    "\n",
    "The game continues until the user correctly guesses the number. Use a \"while do\" loop for the main game logic."
   ]
  },
  {
   "cell_type": "code",
   "execution_count": null,
   "id": "5f3437e4",
   "metadata": {},
   "outputs": [],
   "source": [
    "# Question 12 - Type your answers here\n",
    "\n"
   ]
  },
  {
   "cell_type": "markdown",
   "id": "a5c60a3e",
   "metadata": {},
   "source": [
    "## Strings Operation"
   ]
  },
  {
   "cell_type": "markdown",
   "id": "e7974e99-6837-4f6a-8b3b-e0e5c5aad515",
   "metadata": {},
   "source": [
    "__Q13 - Create two strings, \"Hello\" and \"World,\" and concatenate them.__\n",
    "\n",
    "(a) Then, print the third character of the concatenated string. \n",
    "\n",
    "(b) Print a substring from the concatenated string: characters 2 to 5\n",
    "\n",
    "Hint: string1 = \"Hello\" and string2 = “World”"
   ]
  },
  {
   "cell_type": "code",
   "execution_count": null,
   "id": "93090366",
   "metadata": {},
   "outputs": [],
   "source": [
    "# Question 13 - Type your answers here\n",
    "\n",
    "# Create two strings\n",
    "string1 = \"Hello\"\n",
    "string2 = \"World\"\n",
    "\n"
   ]
  },
  {
   "cell_type": "markdown",
   "id": "1e479554-7155-4362-bb39-89342e86d6d4",
   "metadata": {},
   "source": [
    "__Q14 - Take a sentence as input from the user.__\n",
    "\n",
    "(a) Convert it to lowercase and then split it into words and print the list of words.\n",
    "\n",
    "(b) Convert every word to uppercase using list comprehension.\n",
    "\n",
    "Hint: user_input = input(\"Enter a sentence: \")\n"
   ]
  },
  {
   "cell_type": "code",
   "execution_count": null,
   "id": "735ce988",
   "metadata": {},
   "outputs": [],
   "source": [
    "# Question 14 - Type your answers here\n",
    "\n",
    "# (a) Take a sentence as input from the user, convert to lowercase, and split into words\n",
    "user_input = input(\"Enter a sentence: \")\n",
    "\n",
    "# Print the list of words\n",
    "\n",
    "\n",
    "# (b) Convert every word to uppercase using list comprehension\n",
    "\n",
    "\n",
    "# Print the list of words in uppercase\n"
   ]
  },
  {
   "cell_type": "markdown",
   "id": "3c9debb3-cf66-42af-bb1f-d8e912a64d4b",
   "metadata": {},
   "source": [
    "__Q15 - Take a sentence as input from the user. If the last character is a vowel, print it in uppercase; otherwise, print it in lowercase.__"
   ]
  },
  {
   "cell_type": "code",
   "execution_count": null,
   "id": "88d1a3c2",
   "metadata": {},
   "outputs": [],
   "source": [
    "# Question 15 - Type your answers here\n",
    "\n",
    "# Take a sentence as input from the user\n",
    "user_input = input(\"Enter a sentence: \")\n",
    "\n",
    "# Get the last character of the sentence\n",
    "\n",
    "\n",
    "# Check if the last character is a vowel\n"
   ]
  },
  {
   "cell_type": "code",
   "execution_count": null,
   "id": "c2199726",
   "metadata": {},
   "outputs": [],
   "source": [
    "# Question 15\n",
    "\n",
    "# Take a sentence as input from the user\n",
    "user_input = input(\"Enter a sentence: \")\n",
    "\n",
    "# Get the last character of the sentence\n",
    "\n",
    "\n",
    "# Check if the last character is a vowel\n"
   ]
  },
  {
   "cell_type": "code",
   "execution_count": null,
   "id": "e65e5435",
   "metadata": {},
   "outputs": [],
   "source": [
    "# Question 15\n",
    "\n",
    "# Take a sentence as input from the user\n",
    "user_input = input(\"Enter a sentence: \")\n",
    "\n",
    "# Get the last character of the sentence\n",
    "\n",
    "\n",
    "# Check if the last character is a vowel\n"
   ]
  },
  {
   "cell_type": "markdown",
   "id": "d5736bd0-50b8-4de3-8369-f3de0ca11695",
   "metadata": {},
   "source": [
    "__Question 16 - Take a word as input from the user. Perform a check to see if the word is a pallindrome?__"
   ]
  },
  {
   "cell_type": "code",
   "execution_count": null,
   "id": "2c58adf7",
   "metadata": {},
   "outputs": [],
   "source": [
    "# Question 16 - Type your answers here\n",
    "\n",
    "# Take a word as input from the user\n",
    "user_input = input(\"Enter a word: \")\n",
    "\n",
    "# Convert the input to lowercase for a case-insensitive check\n",
    "\n",
    "\n",
    "# Check if the input is a palindrome\n"
   ]
  },
  {
   "cell_type": "markdown",
   "id": "0a3a7e14-cbfc-4f6c-9161-808dee1b0a65",
   "metadata": {},
   "source": [
    "__Q17 - Consider the following string in Python : \"Python programming is fun and powerful!\"__\n",
    "\n",
    "__Indexing:__\n",
    "\n",
    "a)\tWhat is the character at index 9 in the given string?\n",
    "\n",
    "b)\tDetermine the index of the first occurrence of the substring \"is\" in the string.\n",
    "\n",
    "c)\tExtract and print the last character of the string using negative indexing.\n",
    "\n",
    "__Slicing:__\n",
    "\n",
    "d)\tCreate a new string that includes only the words \"programming is fun\" from the original      sentence\n",
    "\n",
    "e)\tUsing slicing, reverse the entire string.\n",
    "\n",
    "f)\tExtract and print every third character starting from index 2 up to the end of the string."
   ]
  },
  {
   "cell_type": "code",
   "execution_count": null,
   "id": "6606e45a",
   "metadata": {},
   "outputs": [],
   "source": [
    "# Question 17 - Type your answeers here\n",
    "\n",
    "# Given string\n",
    "given_string = \"Python programming is fun and powerful !\"\n",
    "\n",
    "# (a) Character at index 9\n",
    "\n",
    "\n",
    "# (b) Index of the first occurrence of the substring \"is\"\n",
    "\n",
    "# (c) Last character of the string using negative indexing\n"
   ]
  },
  {
   "cell_type": "code",
   "execution_count": null,
   "id": "ad4b6f09",
   "metadata": {},
   "outputs": [],
   "source": [
    "# Given string\n",
    "given_string = \"Python programming is fun and powerful!\"\n",
    "\n",
    "# (d) New string with only the words \"programming is fun\"\n",
    "\n",
    "# (e) Reverse the entire string using slicing\n",
    "\n",
    "# (f) Extract and print every third character from index 2 to the end\n"
   ]
  },
  {
   "cell_type": "markdown",
   "id": "b569e20a",
   "metadata": {},
   "source": [
    "## Importing Packages"
   ]
  },
  {
   "cell_type": "markdown",
   "id": "6e32291b-410a-44e3-8a41-b6fd6575f9bc",
   "metadata": {},
   "source": [
    "__Q18 - You are given a dataset data_points containing the scores of students in a recent exam. Your task is to use the Python statistics package to analyze and extract meaningful insights from the data.__\n",
    "\n",
    "Given dataset\n",
    "\n",
    "data_points = [75, 82, 90, 68, 88, 78, 92, 85, 95, 72, 80, 88, 98, 75, 86, 94, 89, 79, 85, 77]\n",
    "\n",
    "a)\tImport the necessary module from the Python statistics package.\n",
    "\n",
    "b)\tCalculate and print the following statistical measures:\n",
    "\n",
    "c)\tMean (average) score of the students.\n",
    "\n",
    "d)\tMedian score.\n",
    "\n",
    "e)\tMode of the scores.\n",
    "\n",
    "f)\tStandard deviation of the scores.\n",
    "\n",
    "g)\tDetermine and print whether the data is skewed to the left, skewed to the right, or normally distributed based on skewness value.\n"
   ]
  },
  {
   "cell_type": "code",
   "execution_count": null,
   "id": "3ee11153",
   "metadata": {},
   "outputs": [],
   "source": [
    "# Importing the necessary modules\n",
    "import statistics\n",
    "from scipy.stats import skew\n",
    "\n",
    "# Given dataset\n",
    "data_points = [75, 82, 90, 68, 88, 78, 92, 85, 95, 72, 80, 88, 98, 75, 86, 94, 89, 79, 85, 77]\n",
    "\n",
    "# Calculating and printing the statistical measures\n",
    "mean_score = \n",
    "median_score = \n",
    "mode_score = \n",
    "std_deviation = \n",
    "\n",
    "print(f\"Mean score: {mean_score}\")\n",
    "print(f\"Median score: {median_score}\")\n",
    "print(f\"Mode of scores: {mode_score}\")\n",
    "print(f\"Standard deviation: {std_deviation}\")\n",
    "\n",
    "# Calculating skewness using scipy.stats\n",
    "skewness = \n",
    "\n",
    "# Determining and printing the assessment of data distribution\n",
    "if skewness > 0:\n",
    "    \n",
    "elif skewness < 0:\n",
    "    \n",
    "else:\n",
    "    "
   ]
  }
 ],
 "metadata": {
  "kernelspec": {
   "display_name": "Python 3 (ipykernel)",
   "language": "python",
   "name": "python3"
  },
  "language_info": {
   "codemirror_mode": {
    "name": "ipython",
    "version": 3
   },
   "file_extension": ".py",
   "mimetype": "text/x-python",
   "name": "python",
   "nbconvert_exporter": "python",
   "pygments_lexer": "ipython3",
   "version": "3.11.9"
  }
 },
 "nbformat": 4,
 "nbformat_minor": 5
}

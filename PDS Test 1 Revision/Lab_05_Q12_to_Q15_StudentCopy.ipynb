{
 "cells": [
  {
   "cell_type": "markdown",
   "id": "dd890a3f",
   "metadata": {},
   "source": [
    "## IT2313 - Programming for Data Science\n",
    "## Practical 5 - Question 12 to 15\n",
    "## Data Manipulation with Pandas (Part 1)"
   ]
  },
  {
   "cell_type": "markdown",
   "id": "9360a8f0",
   "metadata": {},
   "source": [
    "### In this lesson, we will continue to practise our Pandas knowledge. \n",
    "- Importing Data into Pandas\n",
    "- Changing the Values in DataFrame\n",
    "- DataFrameData Exploration, Sorting and Filtering\n",
    "- Slicing and Subsetting with .loc and .iloc\n",
    "- Aggregating Methods"
   ]
  },
  {
   "cell_type": "markdown",
   "id": "43852209",
   "metadata": {},
   "source": [
    "#### We need to import the neccessary libraries"
   ]
  },
  {
   "cell_type": "code",
   "execution_count": 1,
   "id": "84200a71",
   "metadata": {},
   "outputs": [],
   "source": [
    "import numpy as np\n",
    "import pandas as pd"
   ]
  },
  {
   "cell_type": "markdown",
   "id": "329d3b67",
   "metadata": {},
   "source": [
    "## **Q12 - Let import dataset from \"homelessness.csv\" into DataFrame known as homelessness**"
   ]
  },
  {
   "cell_type": "markdown",
   "id": "2f577691",
   "metadata": {},
   "source": [
    "**(a) Display the full DataFrame after importing from Dataset, do you think it is flessibe to display the full DataFrame?**"
   ]
  },
  {
   "cell_type": "code",
   "execution_count": 2,
   "id": "9c24448c",
   "metadata": {},
   "outputs": [],
   "source": [
    "# Type your Q12(a) answer here\n",
    "\n"
   ]
  },
  {
   "cell_type": "markdown",
   "id": "94220c54",
   "metadata": {},
   "source": [
    "**(b) Display the top 10 and bottom 10 rows of the DataFrame**"
   ]
  },
  {
   "cell_type": "code",
   "execution_count": 3,
   "id": "9aec2b38",
   "metadata": {},
   "outputs": [],
   "source": [
    "# Type your Q12(b) answer here\n",
    "\n"
   ]
  },
  {
   "cell_type": "code",
   "execution_count": 4,
   "id": "0f319d40",
   "metadata": {},
   "outputs": [],
   "source": [
    "# Type your Q12(b) answer here\n",
    "\n"
   ]
  },
  {
   "cell_type": "markdown",
   "id": "a7872623",
   "metadata": {},
   "source": [
    "**(c) Display the number of rows and columns in this DataFrame**"
   ]
  },
  {
   "cell_type": "code",
   "execution_count": 5,
   "id": "0652c9dc",
   "metadata": {},
   "outputs": [],
   "source": [
    "# Type your Q12(c) answer here\n",
    "\n"
   ]
  },
  {
   "cell_type": "markdown",
   "id": "406d8f64",
   "metadata": {},
   "source": [
    "**(d) Generate descriptive statistics of the DataFrame's numerical columns**"
   ]
  },
  {
   "cell_type": "code",
   "execution_count": 6,
   "id": "2111ce2c",
   "metadata": {},
   "outputs": [],
   "source": [
    "# Type your Q12(d) answer here\n",
    "\n"
   ]
  },
  {
   "cell_type": "code",
   "execution_count": 7,
   "id": "c098275e",
   "metadata": {},
   "outputs": [],
   "source": [
    "# Type your Q12(d) answer here\n",
    "\n"
   ]
  },
  {
   "cell_type": "code",
   "execution_count": 8,
   "id": "2a1cc023",
   "metadata": {},
   "outputs": [],
   "source": [
    "# Type your Q12(d) answer here\n",
    "\n"
   ]
  },
  {
   "cell_type": "markdown",
   "id": "5e6a79ec",
   "metadata": {},
   "source": [
    "**(e) Sort the DataFrame based on the column \"individuals\" in _ascending_ order and display the Top 5 rows**"
   ]
  },
  {
   "cell_type": "code",
   "execution_count": 9,
   "id": "cc66434e",
   "metadata": {},
   "outputs": [],
   "source": [
    "# Type your Q12(e) answer here\n",
    "\n"
   ]
  },
  {
   "cell_type": "markdown",
   "id": "d7981b53",
   "metadata": {},
   "source": [
    "**(f) Sort the DataFrame based on the column \"individuals\" in _descending_ order and display the Top 5 rows**"
   ]
  },
  {
   "cell_type": "code",
   "execution_count": 10,
   "id": "a4d996e4",
   "metadata": {},
   "outputs": [],
   "source": [
    "# Type your Q12(f) answer here\n",
    "\n"
   ]
  },
  {
   "cell_type": "markdown",
   "id": "315adcdf",
   "metadata": {},
   "source": [
    "**(g) Select only the columns \"region\" and \"family_members\" and display the top 5 rows**"
   ]
  },
  {
   "cell_type": "code",
   "execution_count": 11,
   "id": "6a7e14ca",
   "metadata": {},
   "outputs": [],
   "source": [
    "# Type your Q12(g) answer here\n",
    "\n"
   ]
  },
  {
   "cell_type": "markdown",
   "id": "4649f1a8",
   "metadata": {},
   "source": [
    "**(h) Select the rows which the \"region\" is \"Pacific\" and \"state\" is \"California\"**"
   ]
  },
  {
   "cell_type": "code",
   "execution_count": 12,
   "id": "51c17d82",
   "metadata": {},
   "outputs": [],
   "source": [
    "# Question Q12(h)\n",
    "# Type your answer here\n",
    "\n"
   ]
  },
  {
   "cell_type": "code",
   "execution_count": 13,
   "id": "2f6b4710",
   "metadata": {},
   "outputs": [],
   "source": [
    "# Question Q12(h)\n",
    "# Type your answer here\n",
    "\n"
   ]
  },
  {
   "cell_type": "markdown",
   "id": "2e8d65b0",
   "metadata": {},
   "source": [
    "**(i) Select only the rows where the region is \"Pacific\" or 'Mountain'.**"
   ]
  },
  {
   "cell_type": "code",
   "execution_count": 14,
   "id": "4bd81ae6",
   "metadata": {},
   "outputs": [],
   "source": [
    "# Question Q12(i)\n",
    "# Type your answer here\n",
    "\n"
   ]
  },
  {
   "cell_type": "markdown",
   "id": "48de0f35",
   "metadata": {},
   "source": [
    "**(j) Create a new column known as \"indiv_per_10k\" col to represent homeless individuals per 10k state pop**"
   ]
  },
  {
   "cell_type": "code",
   "execution_count": 15,
   "id": "49ffb77d",
   "metadata": {},
   "outputs": [],
   "source": [
    "# Question Q12(j)\n",
    "# Type your answer here\n",
    "\n"
   ]
  },
  {
   "cell_type": "markdown",
   "id": "f14e4538-fe46-458a-9f6f-9e19f3470ba9",
   "metadata": {},
   "source": [
    "### **Q13 - Aggregating Data with Pivot Tables: Total Sales Analysis by Year, Product, and Region**"
   ]
  },
  {
   "cell_type": "markdown",
   "id": "5ef1c447-5a9b-4e87-b794-b9a9caf9a09a",
   "metadata": {},
   "source": [
    "**Given a dataset of monthly sales, use pivot_table() to calculate the total annual sales for each product by region. Specifically, group by year, product_name, and region, and aggregate the sales column to obtain the total sales for each unique combination. Provide the Python code and display the resulting DataFrame.**"
   ]
  },
  {
   "cell_type": "code",
   "execution_count": 110,
   "id": "ac340aa4-09eb-4809-adea-70b30a0a866a",
   "metadata": {},
   "outputs": [
    {
     "data": {
      "text/html": [
       "<div>\n",
       "<style scoped>\n",
       "    .dataframe tbody tr th:only-of-type {\n",
       "        vertical-align: middle;\n",
       "    }\n",
       "\n",
       "    .dataframe tbody tr th {\n",
       "        vertical-align: top;\n",
       "    }\n",
       "\n",
       "    .dataframe thead th {\n",
       "        text-align: right;\n",
       "    }\n",
       "</style>\n",
       "<table border=\"1\" class=\"dataframe\">\n",
       "  <thead>\n",
       "    <tr style=\"text-align: right;\">\n",
       "      <th></th>\n",
       "      <th>year</th>\n",
       "      <th>month</th>\n",
       "      <th>product_name</th>\n",
       "      <th>region</th>\n",
       "      <th>sales</th>\n",
       "    </tr>\n",
       "  </thead>\n",
       "  <tbody>\n",
       "    <tr>\n",
       "      <th>0</th>\n",
       "      <td>2022</td>\n",
       "      <td>Jan</td>\n",
       "      <td>Widget A</td>\n",
       "      <td>North</td>\n",
       "      <td>120</td>\n",
       "    </tr>\n",
       "    <tr>\n",
       "      <th>1</th>\n",
       "      <td>2022</td>\n",
       "      <td>Feb</td>\n",
       "      <td>Widget A</td>\n",
       "      <td>North</td>\n",
       "      <td>150</td>\n",
       "    </tr>\n",
       "    <tr>\n",
       "      <th>2</th>\n",
       "      <td>2022</td>\n",
       "      <td>Jan</td>\n",
       "      <td>Widget B</td>\n",
       "      <td>South</td>\n",
       "      <td>200</td>\n",
       "    </tr>\n",
       "    <tr>\n",
       "      <th>3</th>\n",
       "      <td>2022</td>\n",
       "      <td>Feb</td>\n",
       "      <td>Widget B</td>\n",
       "      <td>South</td>\n",
       "      <td>220</td>\n",
       "    </tr>\n",
       "    <tr>\n",
       "      <th>4</th>\n",
       "      <td>2023</td>\n",
       "      <td>Jan</td>\n",
       "      <td>Widget A</td>\n",
       "      <td>North</td>\n",
       "      <td>130</td>\n",
       "    </tr>\n",
       "    <tr>\n",
       "      <th>5</th>\n",
       "      <td>2023</td>\n",
       "      <td>Feb</td>\n",
       "      <td>Widget A</td>\n",
       "      <td>North</td>\n",
       "      <td>160</td>\n",
       "    </tr>\n",
       "    <tr>\n",
       "      <th>6</th>\n",
       "      <td>2023</td>\n",
       "      <td>Jan</td>\n",
       "      <td>Widget B</td>\n",
       "      <td>South</td>\n",
       "      <td>210</td>\n",
       "    </tr>\n",
       "    <tr>\n",
       "      <th>7</th>\n",
       "      <td>2023</td>\n",
       "      <td>Feb</td>\n",
       "      <td>Widget B</td>\n",
       "      <td>South</td>\n",
       "      <td>230</td>\n",
       "    </tr>\n",
       "  </tbody>\n",
       "</table>\n",
       "</div>"
      ],
      "text/plain": [
       "   year month product_name region  sales\n",
       "0  2022   Jan     Widget A  North    120\n",
       "1  2022   Feb     Widget A  North    150\n",
       "2  2022   Jan     Widget B  South    200\n",
       "3  2022   Feb     Widget B  South    220\n",
       "4  2023   Jan     Widget A  North    130\n",
       "5  2023   Feb     Widget A  North    160\n",
       "6  2023   Jan     Widget B  South    210\n",
       "7  2023   Feb     Widget B  South    230"
      ]
     },
     "execution_count": 110,
     "metadata": {},
     "output_type": "execute_result"
    }
   ],
   "source": [
    "# Let use the following commannds to generate the Dataframe\n",
    "\n",
    "import pandas as pd\n",
    "\n",
    "# Create the sample DataFrame\n",
    "data = {\n",
    "    'year': [2022, 2022, 2022, 2022, 2023, 2023, 2023, 2023],\n",
    "    'month': ['Jan', 'Feb', 'Jan', 'Feb', 'Jan', 'Feb', 'Jan', 'Feb'],\n",
    "    'product_name': ['Widget A', 'Widget A', 'Widget B', 'Widget B', 'Widget A', 'Widget A', 'Widget B', 'Widget B'],\n",
    "    'region': ['North', 'North', 'South', 'South', 'North', 'North', 'South', 'South'],\n",
    "    'sales': [120, 150, 200, 220, 130, 160, 210, 230]\n",
    "}\n",
    "\n",
    "# Create DataFrame\n",
    "sales_df = pd.DataFrame(data)\n",
    "sales_df"
   ]
  },
  {
   "cell_type": "code",
   "execution_count": 16,
   "id": "33524d6b-e396-4967-9e29-616a01553707",
   "metadata": {},
   "outputs": [],
   "source": [
    "# Question 13 - Type your answers here\n",
    "\n",
    "# Use pivot_table to find total sales per product and region by year\n",
    "\n",
    "\n",
    "# Display the resulting DataFrame\n"
   ]
  },
  {
   "cell_type": "markdown",
   "id": "a3147f3b-8afe-4b13-b267-0176f3a23a25",
   "metadata": {},
   "source": [
    "### **Q14 - E-commerce Order Analysis Using Pandas**"
   ]
  },
  {
   "cell_type": "markdown",
   "id": "72067f6e-6b5d-4982-bddd-1edb59a27779",
   "metadata": {},
   "source": [
    "The dataset ecommerce_orders.csv contains daily transaction data for an e-commerce company over a month. Each record includes details of a single transaction. Your task is to analyze the data to help the company understand order patterns, popular products, and revenue trends.\n",
    "\n",
    "Dataset file: ecommerce_orders.csv\n",
    "\n",
    "**Dataset Structure:**\n",
    "\n",
    "- Order_ID: Unique identifier for each order.\n",
    "- Date: Date of the transaction.\n",
    "- Product: Product name.\n",
    "- Category: Category to which the product belongs.\n",
    "- Quantity: Number of units ordered.\n",
    "- Unit_Price: Price per unit of the product."
   ]
  },
  {
   "cell_type": "markdown",
   "id": "c3829032-b0d1-42fa-94ad-d75e116a3aa8",
   "metadata": {},
   "source": [
    "**(a) Load the dataset and display the first five rows. Display the total number of orders, unique products, and categories in the dataset.**"
   ]
  },
  {
   "cell_type": "code",
   "execution_count": 17,
   "id": "1cbe8714-5da6-4b85-8346-915b84c3eea8",
   "metadata": {},
   "outputs": [],
   "source": [
    "# Question 14(a) - Type your answers here\n",
    "\n",
    "# Load the data\n"
   ]
  },
  {
   "cell_type": "code",
   "execution_count": 18,
   "id": "448fd72e-063b-4ec6-8196-90b7266a484e",
   "metadata": {},
   "outputs": [],
   "source": [
    "# Question 14(a) - Type your answers here\n",
    "\n",
    "# Display total number of orders, unique products, and categories\n"
   ]
  },
  {
   "cell_type": "markdown",
   "id": "8ac493f9-1292-4635-8428-b290d9f67b85",
   "metadata": {},
   "source": [
    "**(b) Create a new column, \"Total_Revenue\", which is calculated as Quantity * Unit_Price. Display the first five rows of the modified DataFrame.**"
   ]
  },
  {
   "cell_type": "code",
   "execution_count": 19,
   "id": "8905a1f2-64ae-4f4c-b61c-06a6547d112d",
   "metadata": {},
   "outputs": [],
   "source": [
    "# Question 14(b) - Type your answers here\n",
    "\n",
    "# Create 'Total_Revenue' column\n",
    "\n",
    "\n",
    "# Display the first five rows with the new column\n"
   ]
  },
  {
   "cell_type": "markdown",
   "id": "8c4b4ae6-7177-4d31-bfa5-213744bbfc7c",
   "metadata": {},
   "source": [
    "**(c) Find all orders where the \"Category\" is \"Electronics\" and the \"Total_Revenue\" is above $2000. Sort these results by \"Total_Revenue\" in descending order.**"
   ]
  },
  {
   "cell_type": "code",
   "execution_count": 20,
   "id": "b7428d2f-007b-4af5-8ea4-5564ac422eba",
   "metadata": {},
   "outputs": [],
   "source": [
    "# Question 14(c) - Type your answers here\n",
    "\n",
    "# Filter for Electronics category with Total_Revenue > $2000\n",
    "\n",
    "\n",
    "# Sort by 'Total_Revenue' in descending order\n"
   ]
  },
  {
   "cell_type": "markdown",
   "id": "db176b4f-d31d-427e-9ce6-0718ffa73889",
   "metadata": {},
   "source": [
    "**(d) Slice the DataFrame to select only the columns \"Date\", \"Product\", \"Quantity\", and \"Total_Revenue\" for the first 10 rows**"
   ]
  },
  {
   "cell_type": "code",
   "execution_count": 21,
   "id": "529ed6f9-71f5-477b-87d5-cae5613beac0",
   "metadata": {},
   "outputs": [],
   "source": [
    "# Question 14(d) - Type your answers here\n",
    "\n",
    "# Slice the DataFrame to select specific columns for the first 10 rows\n"
   ]
  },
  {
   "cell_type": "markdown",
   "id": "f8db2032-e510-4ed7-918b-551e798b2e5a",
   "metadata": {},
   "source": [
    "**(e) Using aggregation, calculate the total quantity sold for each product and display the top 5 products with the highest total quantity sold.**"
   ]
  },
  {
   "cell_type": "code",
   "execution_count": 22,
   "id": "e48c04ab-54e7-414f-9587-edc7984a3fc9",
   "metadata": {},
   "outputs": [],
   "source": [
    "# Question 14(e) - Type your answers here\n",
    "\n",
    "# Calculate total quantity sold for each product\n",
    "\n",
    "\n",
    "# Display the top 5 products by quantity sold\n"
   ]
  },
  {
   "cell_type": "markdown",
   "id": "8cdd0842-3da5-4f1b-b6e1-dc88ac396833",
   "metadata": {},
   "source": [
    "**(f) Aggregate the data to calculate the total revenue for each day. Display the results as a new DataFrame, with columns \"Date\" and \"Daily_Revenue\".**"
   ]
  },
  {
   "cell_type": "code",
   "execution_count": 24,
   "id": "9f80b479-1fc2-4568-882b-a27fa4f2cb3b",
   "metadata": {},
   "outputs": [],
   "source": [
    "# Question 14(f) - Type your answers here\n",
    "\n",
    "# Aggregate data to calculate total revenue for each day\n",
    "\n",
    "\n",
    "\n"
   ]
  },
  {
   "cell_type": "markdown",
   "id": "9033aa83-0297-4a5b-b1e9-774d61ddbdc3",
   "metadata": {},
   "source": [
    "**Note: This is a challenging question**\n",
    "\n",
    "**(g) Identify the product with the highest single transaction revenue (i.e., the highest \"Total_Revenue\" for any one order).**"
   ]
  },
  {
   "cell_type": "code",
   "execution_count": 25,
   "id": "0de36630-175d-49c5-a2f1-5c32b3c8f3dd",
   "metadata": {},
   "outputs": [],
   "source": [
    "# Question 14(g) - Type your answers here\n",
    "\n",
    "# Find the maximum value in 'Total_Revenue' and the corresponding product\n",
    "\n"
   ]
  },
  {
   "cell_type": "markdown",
   "id": "281a8d9c-ab7f-42b4-ac88-3ee3b560a7e4",
   "metadata": {},
   "source": [
    "### **Note: This is a Challenging Question**\n",
    "\n",
    "### **Q15 - Retail Sales Analysis Using Pandas Time Series**\n",
    "\n",
    "### **Use dataset file - retail_sales_june_2023.csv**"
   ]
  },
  {
   "cell_type": "markdown",
   "id": "3b6c00c8-3202-486d-b285-ce746b0cf0bf",
   "metadata": {},
   "source": [
    "**(a) Load the dataset and set the \"Date\" column as the index of the DataFrame, ensuring that it is in datetime format.**"
   ]
  },
  {
   "cell_type": "code",
   "execution_count": 27,
   "id": "8c3a8f49",
   "metadata": {},
   "outputs": [],
   "source": [
    "# Question 15(a) - Type your answers here\n",
    "\n",
    "# Load the data\n",
    "\n",
    "\n",
    "# Convert 'Date' to datetime and set as index\n"
   ]
  },
  {
   "cell_type": "markdown",
   "id": "5c064c27-21c3-4ed4-91ea-6fabdfefb893",
   "metadata": {},
   "source": [
    "**(b) Calculate the total and average daily sales for June. Display the average rounded to one decimal place.**"
   ]
  },
  {
   "cell_type": "code",
   "execution_count": 26,
   "id": "ca320abd",
   "metadata": {},
   "outputs": [],
   "source": [
    "# Question 15(b) - Type your answers here\n",
    "\n",
    "# Calculate total and average daily sales for June\n"
   ]
  },
  {
   "cell_type": "markdown",
   "id": "dc9b520c-bab1-460b-bbd6-4b9fd5595105",
   "metadata": {},
   "source": [
    "**(c) Identify the day with the highest sales and the day with the lowest sales. Also, calculate the difference in sales units between these two days.**"
   ]
  },
  {
   "cell_type": "code",
   "execution_count": 28,
   "id": "72e11fcb",
   "metadata": {},
   "outputs": [],
   "source": [
    "# Question 15(c) - Type your answers here\n",
    "\n",
    "# Find the days with highest and lowest sales\n"
   ]
  },
  {
   "cell_type": "markdown",
   "id": "232a4627-433b-4d29-9ee6-5ffd81130384",
   "metadata": {},
   "source": [
    "**(d) Compute a 7-day moving average for daily sales and add it as a new column, \"7_day_MA\"**"
   ]
  },
  {
   "cell_type": "code",
   "execution_count": 29,
   "id": "ecca82f7-5211-4bfb-8b9a-6228abfb7dd3",
   "metadata": {},
   "outputs": [],
   "source": [
    "# Question 15(d) - Type your answers here\n",
    "\n",
    "# Calculate 7-day moving average and add as a new column\n"
   ]
  },
  {
   "cell_type": "markdown",
   "id": "8e7151d6-dfe9-4883-a03b-24f788a8677a",
   "metadata": {},
   "source": [
    "**(e) Resample the data on a weekly basis, calculating the total sales for each week. Display the results in a table format**"
   ]
  },
  {
   "cell_type": "code",
   "execution_count": 30,
   "id": "f9edb6e5-4e8c-4d01-95ee-f0b8b97f16f1",
   "metadata": {},
   "outputs": [],
   "source": [
    "# Question 15(e) - Type your answers here\n",
    "\n",
    "# Resample data weekly to get total sales for each week\n",
    "\n",
    "# Display the weekly totals in a table format\n"
   ]
  },
  {
   "cell_type": "markdown",
   "id": "3f9fd8aa-f139-4277-a5b4-96e926b03fd6",
   "metadata": {},
   "source": [
    "**(f) Identify any days where sales dropped by 20% or more compared to the previous day and list the dates and sales values for these occurrences**"
   ]
  },
  {
   "cell_type": "code",
   "execution_count": 31,
   "id": "34273cee-71a1-4127-995c-f701bddfd1ac",
   "metadata": {},
   "outputs": [],
   "source": [
    "# Question 15(f) - Type your answers here\n",
    "\n",
    "# Calculate the percentage change in sales from the previous day\n",
    "\n",
    "\n",
    "# Find days where sales dropped by 20% or more\n"
   ]
  },
  {
   "cell_type": "code",
   "execution_count": null,
   "id": "1db3e518-c8a0-468e-9603-d45eb8e3e98b",
   "metadata": {},
   "outputs": [],
   "source": []
  },
  {
   "cell_type": "code",
   "execution_count": null,
   "id": "1ecb8082-3b23-4a16-906f-da69e20c6f7e",
   "metadata": {},
   "outputs": [],
   "source": []
  },
  {
   "cell_type": "code",
   "execution_count": null,
   "id": "ed5d4564-0e8c-4ed0-8328-7f1fe2df9152",
   "metadata": {},
   "outputs": [],
   "source": []
  }
 ],
 "metadata": {
  "kernelspec": {
   "display_name": "Python 3 (ipykernel)",
   "language": "python",
   "name": "python3"
  },
  "language_info": {
   "codemirror_mode": {
    "name": "ipython",
    "version": 3
   },
   "file_extension": ".py",
   "mimetype": "text/x-python",
   "name": "python",
   "nbconvert_exporter": "python",
   "pygments_lexer": "ipython3",
   "version": "3.11.9"
  }
 },
 "nbformat": 4,
 "nbformat_minor": 5
}

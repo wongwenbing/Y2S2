{
 "cells": [
  {
   "cell_type": "markdown",
   "id": "dd890a3f",
   "metadata": {},
   "source": [
    "## IT2313 - Programming for Data Science\n",
    "## Practical 4 \n",
    "## NumPy for Numerical Computations (Part 2)"
   ]
  },
  {
   "cell_type": "markdown",
   "id": "9360a8f0",
   "metadata": {},
   "source": [
    "### In this lesson, we will continue to practise our NumPy knowledge. \n",
    "- Shapes and Operation\n",
    "- Basic Math Operation\n",
    "- Matrix and Manipulation\n",
    "- Broadcasting\n",
    "- Case Study with actual dataset\n",
    "- Some challenging concepts and questions"
   ]
  },
  {
   "cell_type": "markdown",
   "id": "43852209",
   "metadata": {},
   "source": [
    "#### We need to import the neccessary libraries"
   ]
  },
  {
   "cell_type": "code",
   "execution_count": 1,
   "id": "84200a71",
   "metadata": {},
   "outputs": [],
   "source": [
    "import numpy as np"
   ]
  },
  {
   "cell_type": "markdown",
   "id": "a4f29bcb",
   "metadata": {},
   "source": [
    "#### Q1 - Create an array with sequence of alternate numbers from 0 to 18 and save it to A"
   ]
  },
  {
   "cell_type": "code",
   "execution_count": 2,
   "id": "47b87943",
   "metadata": {},
   "outputs": [
    {
     "name": "stdout",
     "output_type": "stream",
     "text": [
      "[ 0  2  4  6  8 10 12 14 16]\n"
     ]
    }
   ],
   "source": [
    "# Question 1 - Type your answers here\n",
    "A = np.arange(0,18,2)\n",
    "print(A)"
   ]
  },
  {
   "cell_type": "markdown",
   "id": "862dfdea",
   "metadata": {},
   "source": [
    "#### Q2 - Print the shape of the array A"
   ]
  },
  {
   "cell_type": "code",
   "execution_count": 3,
   "id": "c06ce41f",
   "metadata": {},
   "outputs": [
    {
     "name": "stdout",
     "output_type": "stream",
     "text": [
      "(9,)\n"
     ]
    }
   ],
   "source": [
    "# Question 2 - Type your answers here\n",
    "print(A.shape)"
   ]
  },
  {
   "cell_type": "markdown",
   "id": "c3ff027a",
   "metadata": {},
   "source": [
    "#### Q3 - Create an array with sequence of numbers from 1 to 9 and save it to B, Reshape array B to a 3 by 3 array and display array B "
   ]
  },
  {
   "cell_type": "code",
   "execution_count": 4,
   "id": "25f8595b",
   "metadata": {},
   "outputs": [
    {
     "data": {
      "text/plain": [
       "array([[1, 2, 3],\n",
       "       [4, 5, 6],\n",
       "       [7, 8, 9]])"
      ]
     },
     "execution_count": 4,
     "metadata": {},
     "output_type": "execute_result"
    }
   ],
   "source": [
    "# Question 3 - Type your answers here\n",
    "B=np.arange(1,10,1).reshape((3,3))\n",
    "B"
   ]
  },
  {
   "cell_type": "markdown",
   "id": "82d2841a",
   "metadata": {},
   "source": [
    "#### Q4 - Print the shape of the array B"
   ]
  },
  {
   "cell_type": "code",
   "execution_count": 5,
   "id": "84156753",
   "metadata": {},
   "outputs": [
    {
     "name": "stdout",
     "output_type": "stream",
     "text": [
      "(3, 3)\n"
     ]
    }
   ],
   "source": [
    "# Question 4 - Type your answers here\n",
    "print(B.shape)"
   ]
  },
  {
   "cell_type": "markdown",
   "id": "d3c78695",
   "metadata": {},
   "source": [
    "#### Q5 - Let create the following arrays\n",
    "[[0 1]\n",
    "[2 3]]\n",
    "\n",
    "[[10.1 13.4]\n",
    "[15.5 21.3]]"
   ]
  },
  {
   "cell_type": "code",
   "execution_count": 6,
   "id": "8fac9506",
   "metadata": {},
   "outputs": [
    {
     "name": "stdout",
     "output_type": "stream",
     "text": [
      "[[0 1]\n",
      " [2 3]]\n",
      "[[10.1 13.4]\n",
      " [15.5 21.3]]\n"
     ]
    }
   ],
   "source": [
    "# Question 5 - Type your answer here\n",
    "x = np.array([np.arange(2),np.arange(2,4)])\n",
    "y = np.array([[10.1,13.4],[15.5,21.3]])\n",
    "print(x)\n",
    "print(y)"
   ]
  },
  {
   "cell_type": "markdown",
   "id": "0ada6e78",
   "metadata": {},
   "source": [
    "#### Q6 - Using the above array,\n",
    " - (a) sum up array x and y using the \"+\" operator and add function\n",
    " - (b) subtract array y from x using the \"-\" operator and subtract function\n",
    " - (c) multiply array x and y using the \"*\" operator and multiply function\n",
    " - (d) divide up y from x using the \"/\" operator and divide function"
   ]
  },
  {
   "cell_type": "code",
   "execution_count": 7,
   "id": "b995cf94",
   "metadata": {},
   "outputs": [
    {
     "data": {
      "text/plain": [
       "array([[10.1, 14.4],\n",
       "       [17.5, 24.3]])"
      ]
     },
     "execution_count": 7,
     "metadata": {},
     "output_type": "execute_result"
    }
   ],
   "source": [
    "# Question Q6(a) - Type your answer here\n",
    "x+y\n",
    "\n",
    "np.add(x,y)"
   ]
  },
  {
   "cell_type": "code",
   "execution_count": 12,
   "id": "b0c18b08",
   "metadata": {},
   "outputs": [
    {
     "data": {
      "text/plain": [
       "array([[-10.1, -12.4],\n",
       "       [-13.5, -18.3]])"
      ]
     },
     "execution_count": 12,
     "metadata": {},
     "output_type": "execute_result"
    }
   ],
   "source": [
    "# Question Q6(b) - Type your answer here\n",
    "x-y\n",
    "np.subtract(x,y)"
   ]
  },
  {
   "cell_type": "code",
   "execution_count": 13,
   "id": "b98b17ca",
   "metadata": {},
   "outputs": [
    {
     "data": {
      "text/plain": [
       "array([[ 0. , 13.4],\n",
       "       [31. , 63.9]])"
      ]
     },
     "execution_count": 13,
     "metadata": {},
     "output_type": "execute_result"
    }
   ],
   "source": [
    "# Question Q6(c) - Type your answer here\n",
    "x*y\n",
    "np.multiply(x,y)"
   ]
  },
  {
   "cell_type": "code",
   "execution_count": 14,
   "id": "30aa96cc",
   "metadata": {},
   "outputs": [
    {
     "data": {
      "text/plain": [
       "array([[0.        , 0.07462687],\n",
       "       [0.12903226, 0.14084507]])"
      ]
     },
     "execution_count": 14,
     "metadata": {},
     "output_type": "execute_result"
    }
   ],
   "source": [
    "# Question Q6(d) - Type your answer here\n",
    "x/y\n",
    "np.divide(x,y)"
   ]
  },
  {
   "cell_type": "markdown",
   "id": "0566862d",
   "metadata": {},
   "source": [
    "#### Q7 - Let use the following command to generate a 5x5 matrix\n",
    "\n",
    "mat = np.arange(1, 26).reshape(5, 5)\n",
    "##### Flatten the array, shuffle it, and then reshape it back\n",
    "flat_mat = mat.flatten()\n",
    "np.random.shuffle(flat_mat)\n",
    "mat = flat_mat.reshape(5, 5)\n",
    "\n",
    " - (a) Compute the mean, median, standard deviation of a numpy array in each of the rows\n",
    " - (b) Compute the mean, median, standard deviation of a numpy array in each of the columns\n",
    " - (c) Compite the mean, median, standard deviation for the matrix"
   ]
  },
  {
   "cell_type": "code",
   "execution_count": 8,
   "id": "4bc50d99",
   "metadata": {},
   "outputs": [
    {
     "name": "stdout",
     "output_type": "stream",
     "text": [
      "[[ 9 17  1 24 12]\n",
      " [10 14  2 23  6]\n",
      " [ 3 13 16  4  5]\n",
      " [21 18 22 19 25]\n",
      " [ 8 11 15 20  7]]\n"
     ]
    }
   ],
   "source": [
    "# Set a random seed for reproducibility\n",
    "# This is to ensure every run will produce the same random number\n",
    "seed_value = 42\n",
    "np.random.seed(seed_value)\n",
    "\n",
    "mat = np.arange(1, 26).reshape(5, 5)\n",
    "flat_mat = mat.flatten()\n",
    "np.random.shuffle(flat_mat)\n",
    "mat = flat_mat.reshape(5, 5)\n",
    "print(mat)"
   ]
  },
  {
   "cell_type": "code",
   "execution_count": 9,
   "id": "9c24448c",
   "metadata": {},
   "outputs": [
    {
     "name": "stdout",
     "output_type": "stream",
     "text": [
      "Mean along each row: [12.6 11.   8.2 21.  12.2]\n",
      "Median along each row: [12. 10.  5. 21. 11.]\n",
      "Standard deviation along each row: [7.70973411 7.21110255 5.26877595 2.44948974 4.79165942]\n"
     ]
    }
   ],
   "source": [
    "# Question Q7(a) - Type your answers here\n",
    "# Compute mean, median, and standard deviation along each row\n",
    "mean_values = np.mean(mat,axis=1)\n",
    "median_values = np.median(mat,axis=1)\n",
    "std_dev_values = np.std(mat,axis=1)\n",
    "\n",
    "print(\"Mean along each row:\", mean_values)\n",
    "print(\"Median along each row:\", median_values)\n",
    "print(\"Standard deviation along each row:\", std_dev_values)"
   ]
  },
  {
   "cell_type": "code",
   "execution_count": 18,
   "id": "9aec2b38",
   "metadata": {},
   "outputs": [
    {
     "name": "stdout",
     "output_type": "stream",
     "text": [
      "Mean along each column: [10.2 14.6 11.2 18.  11. ]\n",
      "Median along each column: [ 9. 14. 15. 20.  7.]\n",
      "Standard deviation along each column: [5.9126982  2.57681975 8.28009662 7.23878443 7.40270221]\n"
     ]
    }
   ],
   "source": [
    "# Question Q7(b) - Type your answers here\n",
    "# Compute mean, median, and standard deviation along each column\n",
    "mean_values = np.mean(mat,axis=0)\n",
    "median_values = np.median(mat,axis=0)\n",
    "std_dev_values = np.std(mat,axis=0)\n",
    "\n",
    "print(\"Mean along each column:\", mean_values)\n",
    "print(\"Median along each column:\", median_values)\n",
    "print(\"Standard deviation along each column:\", std_dev_values)"
   ]
  },
  {
   "cell_type": "code",
   "execution_count": 19,
   "id": "0f319d40",
   "metadata": {},
   "outputs": [
    {
     "name": "stdout",
     "output_type": "stream",
     "text": [
      "Mean of the matrix: 13.0\n",
      "Median of the matrix: 13.0\n",
      "Standard deviation of the matrix: 7.211102550927978\n"
     ]
    }
   ],
   "source": [
    "# Question Q7(c) - Type your answers here\n",
    "# Compute mean, median, and standard deviation for the entire matrix\n",
    "mean_value = np.mean(mat)\n",
    "median_value = np.median(mat)\n",
    "std_dev_value = np.std(mat)\n",
    "\n",
    "print(\"Mean of the matrix:\", mean_value)\n",
    "print(\"Median of the matrix:\", median_value)\n",
    "print(\"Standard deviation of the matrix:\", std_dev_value)"
   ]
  },
  {
   "cell_type": "markdown",
   "id": "4ba6eb88",
   "metadata": {},
   "source": [
    "#### Q8 - Let use the following command to generate a 2x2 matrix.\n",
    "####         ***The student just need to know the application in Python.*** \n",
    "mat = np.arange(1,5).reshape(2,2)\n",
    " - (a) Compute the Matrix Transpose\n",
    " - (b) Compute the Matrix Power\n",
    " - (c) Compute the Matrix Rank\n",
    " - (d) Compute the Matrix Determinant\n",
    " - (e) Compute the Eijenvalues and Eigenvectors\n",
    "\n",
    "Reference Notes:\n",
    "\n",
    "For (a) Transpose is \"Flipping\" a matrix over its diagonal. The rows and columns get swapped.\n",
    "https://www.mathsisfun.com/definitions/transpose-matrix-.html\n",
    "\n",
    "For (b) Raising a matrix to a power involves multiplying the matrix by itself a certain number of times. The power of a matrix is similiar to the concept of exponentiation for numbers.\n",
    "https://www.mathsisfun.com/algebra/matrix-multiplying.html\n",
    "\n",
    "For (c) The rank is how many of the rows are \"unique\": not made of other rows. (Same for columns.)\n",
    "https://www.mathsisfun.com/algebra/matrix-rank.html\n",
    "\n",
    "For (d) The determinant is a special number that can be calculated from a matrix\n",
    "https://www.mathsisfun.com/algebra/matrix-determinant.html\n",
    "\n",
    "For (e) The Eigenvector and Eigenvalue\n",
    "https://www.mathsisfun.com/algebra/eigenvalue.html"
   ]
  },
  {
   "cell_type": "code",
   "execution_count": 10,
   "id": "cc66434e",
   "metadata": {},
   "outputs": [
    {
     "data": {
      "text/plain": [
       "array([[1, 2],\n",
       "       [3, 4]])"
      ]
     },
     "execution_count": 10,
     "metadata": {},
     "output_type": "execute_result"
    }
   ],
   "source": [
    "mat = np.arange(1,5).reshape(2,2)\n",
    "mat"
   ]
  },
  {
   "cell_type": "code",
   "execution_count": 11,
   "id": "a4d996e4",
   "metadata": {},
   "outputs": [
    {
     "data": {
      "text/plain": [
       "array([[1, 3],\n",
       "       [2, 4]])"
      ]
     },
     "execution_count": 11,
     "metadata": {},
     "output_type": "execute_result"
    }
   ],
   "source": [
    "# Question Q8(a) - Type your answers here\n",
    "mat.transpose()"
   ]
  },
  {
   "cell_type": "code",
   "execution_count": 34,
   "id": "6a7e14ca",
   "metadata": {},
   "outputs": [
    {
     "data": {
      "text/plain": [
       "array([[ 7, 10],\n",
       "       [15, 22]])"
      ]
     },
     "execution_count": 34,
     "metadata": {},
     "output_type": "execute_result"
    }
   ],
   "source": [
    "# Question Q8(b) - Type your answers here\n",
    "# Specify the power\n",
    "np.linalg.matrix_power(mat,2)"
   ]
  },
  {
   "cell_type": "code",
   "execution_count": 25,
   "id": "51c17d82",
   "metadata": {},
   "outputs": [
    {
     "data": {
      "text/plain": [
       "np.int64(2)"
      ]
     },
     "execution_count": 25,
     "metadata": {},
     "output_type": "execute_result"
    }
   ],
   "source": [
    "# Question Q8(c) - Type your answers here\n",
    "np.linalg.matrix_rank(mat)"
   ]
  },
  {
   "cell_type": "code",
   "execution_count": 26,
   "id": "2f6b4710",
   "metadata": {},
   "outputs": [
    {
     "name": "stdout",
     "output_type": "stream",
     "text": [
      "-2.0000000000000004\n"
     ]
    }
   ],
   "source": [
    "# Question Q8(d) - Type your answers here\n",
    "# Calculate the determinant\n",
    "print(np.linalg.det(mat))"
   ]
  },
  {
   "cell_type": "code",
   "execution_count": 28,
   "id": "ef6b509c-4f50-4fdc-9f02-dc23e1acab50",
   "metadata": {},
   "outputs": [
    {
     "name": "stdout",
     "output_type": "stream",
     "text": [
      "\n",
      "Eigenvalues: [-0.37228132  5.37228132]\n",
      "Eigenvectors: \n",
      "[[-0.82456484 -0.41597356]\n",
      " [ 0.56576746 -0.90937671]]\n",
      "\n"
     ]
    }
   ],
   "source": [
    "# Question Q8(e) - Type your answers here\n",
    "# Calculate the Eigenvalues and Eigenvectors\n",
    "eigenvalues, eigenvectors=np.linalg.eig(mat)\n",
    "print(f\"\"\"\n",
    "Eigenvalues: {eigenvalues}\n",
    "Eigenvectors: \n",
    "{eigenvectors}\n",
    "\"\"\")"
   ]
  },
  {
   "cell_type": "markdown",
   "id": "091c6acf",
   "metadata": {},
   "source": [
    "#### Q9 - You are given any array A of shape (3,1) and Array B of shape(4,1).\n",
    "####         If you add them up using the following code, A + B = C, what will be shape of Array C?\n",
    "####         Can you explain how the Broadcasting rules are being applied?"
   ]
  },
  {
   "cell_type": "code",
   "execution_count": 2,
   "id": "4bd81ae6",
   "metadata": {},
   "outputs": [
    {
     "name": "stdout",
     "output_type": "stream",
     "text": [
      "Error: operands could not be broadcast together with shapes (3,1) (4,1) \n"
     ]
    }
   ],
   "source": [
    "# Question 9  - Type your answers here\n",
    "import numpy as np\n",
    "\n",
    "# Create arrays A and B\n",
    "A = np.array([[1], [2], [3]])       # Shape (3, 1)\n",
    "B = np.array([[4], [5], [6], [7]])  # Shape (4, 1)\n",
    "\n",
    "# Attempt to add the two arrays\n",
    "try:\n",
    "    C = A + B\n",
    "    print(\"Array C:\\n\", C)\n",
    "except ValueError as e:\n",
    "    print(\"Error:\", e)\n"
   ]
  },
  {
   "cell_type": "markdown",
   "id": "df6efeda-720d-44bd-b245-6bba4d642e14",
   "metadata": {},
   "source": [
    "#### Question 9 - Type your answers here\n",
    "\n",
    "**Initial Shapes**\n",
    "- Array A: Shape (4,1)\n",
    "- Array B:\n",
    "\n",
    "**Broadcasting Rules**\n",
    "\n",
    "*Compare shapes from the last dimension to the first:*\n",
    "- A:\n",
    "- B: \n",
    "\n",
    "*Shapes are Compared*\n",
    "- Last dimension:\n",
    "- Second Last dimension:\n",
    "\n"
   ]
  },
  {
   "cell_type": "markdown",
   "id": "deeb3050",
   "metadata": {},
   "source": [
    "#### Q10 - Change the array of floats to an array of (a) integers and (b) strings. \n",
    "\n",
    "arr = np.array([1.3, 2.2, 3.1]) "
   ]
  },
  {
   "cell_type": "code",
   "execution_count": 35,
   "id": "49ffb77d",
   "metadata": {},
   "outputs": [
    {
     "name": "stdout",
     "output_type": "stream",
     "text": [
      "[1 2 3]\n",
      "int32\n"
     ]
    }
   ],
   "source": [
    "# Question 10(a) - Type your answers here\n",
    "\n",
    "arr = np.array([1.3, 2.2, 3.1]) \n",
    "newarr = arr.astype('i')\n",
    "print(newarr)\n",
    "print(newarr.dtype)"
   ]
  },
  {
   "cell_type": "code",
   "execution_count": 40,
   "id": "d3b3eaf6",
   "metadata": {},
   "outputs": [
    {
     "name": "stdout",
     "output_type": "stream",
     "text": [
      "['1.3' '2.2' '3.1']\n",
      "<U32\n"
     ]
    }
   ],
   "source": [
    "# Question 10(b) - Type your answers here\n",
    "arr=np.array([1.3, 2.2, 3.1])\n",
    "newarr=arr.astype(str)\n",
    "print(newarr)\n",
    "print(newarr.dtype)"
   ]
  },
  {
   "cell_type": "markdown",
   "id": "75428b8f-ffed-44df-8667-e075e9c531a1",
   "metadata": {},
   "source": [
    "#### Question 11\n",
    "\n",
    "Write a Python program that does the following:\n",
    "\n",
    "- Imports the NumPy library.\n",
    "- Creates a list named num_list containing the values [10, 20, 30, 40, 50].\n",
    "- Uses the np.random.choice() function from the NumPy library to randomly select a single element from num_list.\n",
    "- Prints the selected element."
   ]
  },
  {
   "cell_type": "code",
   "execution_count": 32,
   "id": "00e28f82-d62c-4035-8e70-969ed08293f1",
   "metadata": {},
   "outputs": [
    {
     "name": "stdout",
     "output_type": "stream",
     "text": [
      "20\n"
     ]
    }
   ],
   "source": [
    "# Question 11 - Type your answers here\n",
    "import numpy\n",
    "num_list=[10,20,30,40,50]\n",
    "print(np.random.choice(num_list))"
   ]
  },
  {
   "cell_type": "markdown",
   "id": "7fbd1e49-e44e-4cdc-b5af-a656c9385c74",
   "metadata": {},
   "source": [
    "#### Question 12\n",
    "\n",
    "Write a Python program that does the following:\n",
    "\n",
    "- Imports the NumPy library.\n",
    "- Creates a list named num_list containing the values [10, 20, 30, 40, 50].\n",
    "- Uses the np.random.choice() function from the NumPy library to select 3 elements from num_list with replacement.\n",
    "- Assigns a probability distribution p = [0, 0, 0, 1, 0] such that only the fourth element in num_list (40) is selected each time.\n",
    "- Prints the resulting array"
   ]
  },
  {
   "cell_type": "code",
   "execution_count": 46,
   "id": "a845120d-002d-49d5-b047-d40ebc137a2a",
   "metadata": {},
   "outputs": [
    {
     "name": "stdout",
     "output_type": "stream",
     "text": [
      "[40 40 40]\n"
     ]
    }
   ],
   "source": [
    "# Question 12 - Type your answers here\n",
    "import numpy as np\n",
    "\n",
    "num_list=[10,20,30,40,50]\n",
    "rand=np.random.choice(num_list,3)\n",
    "p=[0,0,0,1,0]\n",
    "result=np.random.choice(num_list,3,p=p)\n",
    "print(result)"
   ]
  },
  {
   "cell_type": "markdown",
   "id": "73e66493-5fb0-47a6-8400-efc12247a394",
   "metadata": {},
   "source": [
    "#### Question 13\n",
    "\n",
    "Write a Python program that does the following:\n",
    "\n",
    "- Imports the NumPy library.\n",
    "- Creates a list named num_list containing the values [10, 20, 30, 40, 50].\n",
    "- Uses the np.random.choice() function from the NumPy library to select 3 elements from num_list with replacement.\n",
    "- Sets a probability distribution p = [0, 0, 0.5, 0.5, 0] such that only the elements 30 and 40 are selected, each with an equal probability of 50%.\n",
    "- Prints the resulting array."
   ]
  },
  {
   "cell_type": "code",
   "execution_count": 53,
   "id": "593bda0e-c99d-44df-aad1-efd29fa49e23",
   "metadata": {},
   "outputs": [
    {
     "name": "stdout",
     "output_type": "stream",
     "text": [
      "[40 30 40]\n"
     ]
    }
   ],
   "source": [
    "# Question 13 - Type your answers here\n",
    "import numpy as np\n",
    "\n",
    "num_list=[10,20,30,40,50]\n",
    "rand=np.random.choice(num_list,3)\n",
    "p=[0,0,0.5,0.5,0]\n",
    "result=np.random.choice(num_list,3,p=p)\n",
    "print(result)\n"
   ]
  },
  {
   "cell_type": "markdown",
   "id": "8385e563-2a36-406c-96e7-fa55a2e6e14d",
   "metadata": {},
   "source": [
    "#### Question 14\n",
    "\n",
    "Write a Python code that does the following:\n",
    "- Initialize a 1D NumPy array named ini_array1 with the following values: [1, 2, -3, 4, -5, -6]. Print the initial array.\n",
    "- Replace all negative values in the array ini_array1 with 0. **Use conditional indexing to accomplish this.**\n",
    "- Print the updated array ini_array1 after replacing negative values with 0\n",
    "- Repeat ini_array1 with the following values: [1, 2, -3, 4, -5, -6]. Print the initial array.\n",
    "- Replace all negative values in the array ini_array1 with 0. **Use np.where to accomplish this.**"
   ]
  },
  {
   "cell_type": "code",
   "execution_count": 60,
   "id": "3a4a2d6e-0a8d-41ea-91bd-f24f058914ed",
   "metadata": {},
   "outputs": [
    {
     "data": {
      "text/plain": [
       "array([1, 2, 0, 4, 0, 0])"
      ]
     },
     "execution_count": 60,
     "metadata": {},
     "output_type": "execute_result"
    }
   ],
   "source": [
    "# Question 14 - Type your answers here\n",
    "\n",
    "ini_array1=np.array([1, 2, -3, 4, -5, -6])\n",
    "# for i in range(len(ini_array1)):\n",
    "#     if ini_array1[i] <= 0: \n",
    "#         ini_array1[i]=0\n",
    "        \n",
    "ini_array1[ini_array1<0]=0\n",
    "\n",
    "ini_array1"
   ]
  },
  {
   "cell_type": "code",
   "execution_count": 62,
   "id": "81f76160-a6f0-4200-aa38-b6d27b06ba58",
   "metadata": {},
   "outputs": [
    {
     "name": "stdout",
     "output_type": "stream",
     "text": [
      "[1 2 0 4 0 0]\n"
     ]
    }
   ],
   "source": [
    "# Question 14 - Type your answers here\n",
    "\n",
    "ini_array1=np.array([1, 2, -3, 4, -5, -6])\n",
    "\n",
    "less=np.where(ini_array1 < 0,0,ini_array1)\n",
    "\n",
    "print(less)"
   ]
  },
  {
   "cell_type": "markdown",
   "id": "b5d8979c",
   "metadata": {},
   "source": [
    "### Case Studies"
   ]
  },
  {
   "cell_type": "markdown",
   "id": "4e20910f",
   "metadata": {},
   "source": [
    "#### Question 15\n",
    "The dataset essentially captures information about different athletes, their ages, the sports they participate in, their physical attributes (weight and height), and a performance metric (score). Below are the columns description:\n",
    "\n",
    "- athlete: The column represents the name of the athlete participating in sports.\n",
    "- age: Indicates the age of the athlete.\n",
    "- sport: Describes the type of sport in which the athlete is involved (e.g., Basketball, Soccer, Swimming).\n",
    "- weight: Represents the weight of the athlete.\n",
    "- height: Indicates the height of the athlete.\n",
    "- score: This column provides a score or performance metric for the athlete in their respective sport."
   ]
  },
  {
   "cell_type": "code",
   "execution_count": 63,
   "id": "dd244d9e",
   "metadata": {},
   "outputs": [
    {
     "name": "stdout",
     "output_type": "stream",
     "text": [
      "[('John', 25, 'Basketball', 80, 190, 30)\n",
      " ('Alice', 22, 'Soccer', 65, 170, 25) ('Bob', 28, 'Swimming', 75, 180, 35)\n",
      " ('Eva', 24, 'Tennis', 68, 175, 28) ('Chris', 30, 'Running', 70, 175, 40)\n",
      " ('Sara', 23, 'Basketball', 78, 185, 32)\n",
      " ('Mike', 26, 'Soccer', 70, 175, 28) ('Lily', 27, 'Swimming', 73, 178, 38)\n",
      " ('Alex', 29, 'Tennis', 72, 180, 33) ('Emma', 24, 'Running', 68, 172, 36)]\n"
     ]
    }
   ],
   "source": [
    "# Q15 - Type your answer here\n",
    "\n",
    "# Read the CSV file into a NumPy array\n",
    "athlete_data = np.genfromtxt('sports_dataset.csv', delimiter=',', dtype=None, names=True, encoding=None)\n",
    "\n",
    "# Print the array to verify the data\n",
    "print(athlete_data)"
   ]
  },
  {
   "cell_type": "code",
   "execution_count": 64,
   "id": "f85206e8",
   "metadata": {},
   "outputs": [
    {
     "name": "stdout",
     "output_type": "stream",
     "text": [
      "('John', 25, 'Basketball', 80, 190, 30)\n",
      "('Alice', 22, 'Soccer', 65, 170, 25)\n",
      "('Bob', 28, 'Swimming', 75, 180, 35)\n",
      "('Eva', 24, 'Tennis', 68, 175, 28)\n",
      "('Chris', 30, 'Running', 70, 175, 40)\n",
      "('Sara', 23, 'Basketball', 78, 185, 32)\n",
      "('Mike', 26, 'Soccer', 70, 175, 28)\n",
      "('Lily', 27, 'Swimming', 73, 178, 38)\n",
      "('Alex', 29, 'Tennis', 72, 180, 33)\n",
      "('Emma', 24, 'Running', 68, 172, 36)\n"
     ]
    }
   ],
   "source": [
    "for row in athlete_data:\n",
    "    print(row)"
   ]
  },
  {
   "cell_type": "markdown",
   "id": "9644d031",
   "metadata": {},
   "source": [
    "- (a) Calculate the average age of the athletes.\n",
    "- (b) Find the athlete with the highest score. Print their name and score.\n",
    "- (c) Filter and display athletes who participate in Tennis.\n",
    "- (d) Calculate the average height of athletes who play Basketball.\n",
    "- (e) Find the athlete with the lowest weight. Print their name and weight.\n",
    "- (f) Filter and display athletes who are younger than 25 years old.\n",
    "- (g) Calculate the total score of all athletes.\n",
    "- (h) Filter and display athletes with a score greater than 30."
   ]
  },
  {
   "cell_type": "code",
   "execution_count": 68,
   "id": "52b0d515",
   "metadata": {},
   "outputs": [
    {
     "name": "stdout",
     "output_type": "stream",
     "text": [
      "average:  25.8\n"
     ]
    }
   ],
   "source": [
    "# Question 15(a) - Calculate the average age of the athletes\n",
    "# Type your answer here\n",
    "avg=np.mean(athlete_data['age'])\n",
    "print(\"average: \", avg)"
   ]
  },
  {
   "cell_type": "code",
   "execution_count": 70,
   "id": "bef29c43",
   "metadata": {},
   "outputs": [
    {
     "name": "stdout",
     "output_type": "stream",
     "text": [
      "index 4\n",
      "athlete with highest score is Chris with score of 40\n"
     ]
    }
   ],
   "source": [
    "# Question 15(b) - Find the athlete with the highest score. Print their name and score.\n",
    "# Type your answer here\n",
    "max_score = np.argmax(athlete_data['score'])\n",
    "print(f\"index {max_score}\")\n",
    "highest_scorer=athlete_data['athlete'][max_score]\n",
    "highest_score=athlete_data['score'][max_score]\n",
    "print(f\"athlete with highest score is {highest_scorer} with score of {highest_score}\")"
   ]
  },
  {
   "cell_type": "code",
   "execution_count": null,
   "id": "96223998",
   "metadata": {},
   "outputs": [
    {
     "name": "stdout",
     "output_type": "stream",
     "text": [
      "[('Eva', 24, 'Tennis', 68, 175, 28) ('Alex', 29, 'Tennis', 72, 180, 33)]\n"
     ]
    }
   ],
   "source": [
    "# Question 15(c) - Filter and display athletes who participate in Tennis.\n",
    "# Type your answer here\n",
    "tennis_players = athlete_data[athlete_data['sport']=='Tennis']\n",
    "print(tennis_players)"
   ]
  },
  {
   "cell_type": "code",
   "execution_count": 76,
   "id": "1912c97c",
   "metadata": {},
   "outputs": [
    {
     "name": "stdout",
     "output_type": "stream",
     "text": [
      "average height of basketball player is 25.8\n"
     ]
    }
   ],
   "source": [
    "# Question 15(d) - Calculate the average height of athletes who play Basketball\n",
    "# Type your answer here\n",
    "baskeball=athlete_data[athlete_data['sport']=='Basketball']\n",
    "mean_age=np.mean(athlete_data['age'])\n",
    "print(f\"average height of basketball player is {mean_age}\")"
   ]
  },
  {
   "cell_type": "code",
   "execution_count": null,
   "id": "e0125438",
   "metadata": {},
   "outputs": [
    {
     "name": "stdout",
     "output_type": "stream",
     "text": [
      "The athlete with the lowest weight is Alice with a weight of 65.\n"
     ]
    }
   ],
   "source": [
    "# Question 15(e) - Find the athlete with the lowest weight. Print their name and weight.\n",
    "# Type your answer here\n",
    "lowest_weight="
   ]
  },
  {
   "cell_type": "code",
   "execution_count": 73,
   "id": "99129006",
   "metadata": {},
   "outputs": [
    {
     "name": "stdout",
     "output_type": "stream",
     "text": [
      "Athletes younger than 25: \n",
      " [('Alice', 22, 'Soccer', 65, 170, 25) ('Eva', 24, 'Tennis', 68, 175, 28)\n",
      " ('Sara', 23, 'Basketball', 78, 185, 32)\n",
      " ('Emma', 24, 'Running', 68, 172, 36)]\n"
     ]
    }
   ],
   "source": [
    "# Question 15(f) - Filter and display athletes who are younger than 25 years old.\n",
    "# Type your answer here\n",
    "young=athlete_data[athlete_data['age']<25]\n",
    "print(\"Athletes younger than 25: \\n\", young)"
   ]
  },
  {
   "cell_type": "code",
   "execution_count": 77,
   "id": "23d04298",
   "metadata": {},
   "outputs": [
    {
     "name": "stdout",
     "output_type": "stream",
     "text": [
      "325\n"
     ]
    }
   ],
   "source": [
    "# Question 15(g) - Calculate the total score of all athletes.\n",
    "# Type your answer here\n",
    "total=np.sum(athlete_data['score'])\n",
    "print(total)"
   ]
  },
  {
   "cell_type": "code",
   "execution_count": 78,
   "id": "b2cd98e0",
   "metadata": {},
   "outputs": [
    {
     "name": "stdout",
     "output_type": "stream",
     "text": [
      "athelte with score greater than 30:\n",
      " [('Bob', 28, 'Swimming', 75, 180, 35)\n",
      " ('Chris', 30, 'Running', 70, 175, 40)\n",
      " ('Sara', 23, 'Basketball', 78, 185, 32)\n",
      " ('Lily', 27, 'Swimming', 73, 178, 38) ('Alex', 29, 'Tennis', 72, 180, 33)\n",
      " ('Emma', 24, 'Running', 68, 172, 36)]\n"
     ]
    }
   ],
   "source": [
    "# Question 15(h) - Filter and display athletes with a score greater than 30.\n",
    "# Type your answer here\n",
    "more_thirty=athlete_data[athlete_data['score']>30]\n",
    "print(\"athelte with score greater than 30:\\n\",more_thirty)"
   ]
  },
  {
   "cell_type": "markdown",
   "id": "b1ab7c42-064e-4c4e-b2f1-7ec6313565a8",
   "metadata": {},
   "source": [
    "### Challenging Questions"
   ]
  },
  {
   "cell_type": "markdown",
   "id": "5c7d66d7-37b8-4fcf-859d-f65b8a27ccc5",
   "metadata": {},
   "source": [
    "#### Question 16\n",
    "\n",
    "Given a system of linear equations:\n",
    "\n",
    "2x + 3y = 8\n",
    "\n",
    "5x - y = -2\n",
    "\n",
    "a) Represent this system of equations as a matrix equation of the form Ax = b.\n",
    "\n",
    "b) Solve the system of equations using NumPy's linalg.solve() function."
   ]
  },
  {
   "cell_type": "markdown",
   "id": "03129fa7-bc8a-449b-b46f-50d3d85f7041",
   "metadata": {},
   "source": [
    "#### Question 16(a) - Type your answers here\n",
    "\n"
   ]
  },
  {
   "cell_type": "code",
   "execution_count": 79,
   "id": "21f29a3b-da4d-4399-b0b0-95b609c47599",
   "metadata": {},
   "outputs": [
    {
     "name": "stdout",
     "output_type": "stream",
     "text": [
      "[0.11764706 2.58823529]\n"
     ]
    }
   ],
   "source": [
    "# Question 16(b) - Type your answers here\n",
    "A = numpy.array([[2,3],[5,-1]])\n",
    "B = np.array([8,-2])\n",
    "x=np.linalg.solve(A,B)\n",
    "print(x)"
   ]
  },
  {
   "cell_type": "markdown",
   "id": "469d18a0-7dec-4c52-940f-f25e577ced9c",
   "metadata": {},
   "source": [
    "2(0.118)+3(2.588)=8.000\n",
    "\n",
    "5(0.118)−(2.588)=−2.000\n",
    "\n",
    "The solutions 𝑥 ≈ 0.118 and 𝑦 ≈ 2.588 satisfy both equations"
   ]
  },
  {
   "cell_type": "markdown",
   "id": "f1def84f-2baa-428f-ba81-c2448671d4b7",
   "metadata": {},
   "source": [
    "### Question 17\n",
    "\n",
    "Finding the k smallest values of a NumPy array\n",
    "\n",
    "input = [23, 12, 1, 3, 4, 5, 6] \n",
    "\n",
    "k = 4\n",
    "\n",
    "output = [1, 3, 4, 5]  "
   ]
  },
  {
   "cell_type": "code",
   "execution_count": null,
   "id": "1404ea1c-56d1-4313-8e99-fa005ef172a8",
   "metadata": {},
   "outputs": [
    {
     "name": "stdout",
     "output_type": "stream",
     "text": [
      "The Original Array Content:\n",
      " [23 12  1  3  4  5  6] \n",
      "\n",
      "4 smallest elements of the array\n",
      "[1 3 4 5]\n"
     ]
    }
   ],
   "source": [
    "# Question 17 - Type your answers here\n",
    "input=[23,12,1,3,4,5,6]\n",
    "\n",
    "# "
   ]
  },
  {
   "cell_type": "markdown",
   "id": "313116fd-1261-4a3c-8308-bf54f2f0601f",
   "metadata": {},
   "source": [
    "### Question 18\n",
    "\n",
    "Find the most frequent value in a NumPy array\n",
    "\n",
    "input = [1, 1, 1, 2, 3, 4, 2, 4, 3, 3]\n",
    "\n",
    "output = [1, 3]\n",
    "\n",
    "**Hints for students:**\n",
    "- Apply bincount() method of NumPy to get the count of occurrences of each element in the array.\n",
    "- Apply argmax() method to get the value having a maximum number of occurrences(frequency)."
   ]
  },
  {
   "cell_type": "code",
   "execution_count": 86,
   "id": "ff7cdbbc-5af1-4170-9ade-614bdb575d26",
   "metadata": {},
   "outputs": [
    {
     "name": "stdout",
     "output_type": "stream",
     "text": [
      "[1 1 1 2 3 4 2 4 3 3] \n",
      "\n",
      "[0 3 2 3 2]\n",
      "3\n",
      "1 3 "
     ]
    }
   ],
   "source": [
    "# Question 18 - Type your answers here\n",
    "x = np.array([1, 1, 1, 2, 3, 4, 2, 4, 3, 3])\n",
    "print(x, \"\\n\")\n",
    "y=np.bincount(x)\n",
    "print(y)\n",
    "maxi = np.max(y)\n",
    "print(maxi)\n",
    "\n",
    "for i in range(len(y)):\n",
    "    if y[i]==maxi:\n",
    "        print(i,end=\" \")"
   ]
  },
  {
   "cell_type": "markdown",
   "id": "1c157ea7-7162-4896-ad76-c4749504cc02",
   "metadata": {},
   "source": [
    "#### Question 19\n",
    "\n",
    "Write a Python program that performs the following steps:\n",
    "\n",
    "- Imports the NumPy library.\n",
    "- Initializes a 2D NumPy array named ini_array with the following values (with some NaN entries):\n",
    "- [[1.3, 2.5, 3.6, NaN], \n",
    " [2.6, 3.3, NaN, 5.5], \n",
    " [2.1, 3.2, 5.4, 6.5]- Prints the initial array.\n",
    "- Calculates the mean of each column, ignoring any NaN values, and stores the result in col_mean.\n",
    "- Replaces each NaN value with the mean of the respective column.\n",
    "- Prints the final array with NaN values replaced by the column averages.]\n"
   ]
  },
  {
   "cell_type": "code",
   "execution_count": 95,
   "id": "7c26ff02-5684-4cf2-8c5e-9adf523acc64",
   "metadata": {},
   "outputs": [
    {
     "name": "stdout",
     "output_type": "stream",
     "text": [
      "[[1.3 2.5 3.6 nan]\n",
      " [2.6 3.3 nan 5.5]\n",
      " [2.1 3.2 nan 6.5]]\n",
      "[2.  3.  3.6 6. ]\n",
      "(array([0, 1, 2]), array([3, 2, 2]))\n",
      "[[1.3 2.5 3.6 6. ]\n",
      " [2.6 3.3 3.6 5.5]\n",
      " [2.1 3.2 3.6 6.5]]\n"
     ]
    }
   ],
   "source": [
    "# Question 19 - Type your answers here\n",
    "import numpy as np\n",
    "\n",
    "ini_array = np.array([[1.3, 2.5, 3.6, np.nan], [2.6, 3.3,np.nan , 5.5], [2.1, 3.2,np.nan , 6.5]])\n",
    "print(ini_array)\n",
    "col_mean=np.nanmean(ini_array,axis=0)\n",
    "print(col_mean)\n",
    "inds=np.where(np.isnan(ini_array))\n",
    "print(inds)\n",
    "ini_array[inds]=np.take(col_mean,inds[1])\n",
    "print(ini_array)\n"
   ]
  },
  {
   "cell_type": "markdown",
   "id": "3f3b839f-233b-4357-9d85-9dcc5cd310c8",
   "metadata": {},
   "source": [
    "#### Question 20\n",
    "\n",
    "Using back the same array in Question 19. Let replace the NaN with the average row contents"
   ]
  },
  {
   "cell_type": "code",
   "execution_count": 98,
   "id": "c7fd6a28-ec85-4c93-b45a-f5f32b67a7f6",
   "metadata": {},
   "outputs": [
    {
     "name": "stdout",
     "output_type": "stream",
     "text": [
      "[[1.3 2.5 3.6 nan]\n",
      " [2.6 3.3 nan 5.5]\n",
      " [2.1 3.2 nan 6.5]]\n",
      "[2.46666667 3.8        3.93333333]\n",
      "(array([0, 1, 2]), array([3, 2, 2]))\n",
      "[[1.3        2.5        3.6        2.46666667]\n",
      " [2.6        3.3        3.8        5.5       ]\n",
      " [2.1        3.2        3.93333333 6.5       ]]\n"
     ]
    }
   ],
   "source": [
    "# Question 20 - Type your answers here\n",
    "import numpy as np\n",
    "\n",
    "ini_array2 = np.array([[1.3, 2.5, 3.6, np.nan], [2.6, 3.3,np.nan , 5.5], [2.1, 3.2,np.nan , 6.5]])\n",
    "print(ini_array2)\n",
    "row_mean=np.nanmean(ini_array2,axis=1)\n",
    "print(row_mean)\n",
    "inds=np.where(np.isnan(ini_array2))\n",
    "print(inds)\n",
    "ini_array2[inds]=np.take(row_mean,inds[0])\n",
    "print(ini_array2)\n",
    "\n"
   ]
  },
  {
   "cell_type": "markdown",
   "id": "325788ba-0704-4dc6-a855-5048ee54d88e",
   "metadata": {},
   "source": [
    "### Additional Informations on Sorting\n",
    "Practical 3 Question 13(f) np.argsort() and Practical 4 Question 17 np.sort().\n",
    "\n",
    "In NumPy, np.sort() and np.argsort() are both used for sorting, but they serve different purposes:\n",
    "\n",
    "**np.sort():**\n",
    "\n",
    "- np.sort(array) sorts the elements of an array in ascending order (by default) and returns a sorted copy of the array.\n",
    "- It changes the order of values in the array, but does not provide information about the original indices.\n",
    "\n",
    "```\n",
    "import numpy as np\n",
    "\n",
    "arr = np.array([3, 1, 2])\n",
    "sorted_arr = np.sort(arr)\n",
    "print(sorted_arr)\n",
    "\n",
    "[1,2,3]\n",
    "\n",
    "```` \n",
    "**np.argsort():**\n",
    "\n",
    "- np.argsort(array) returns the indices that would sort an array.\n",
    "- This means it doesn’t change the original order of the values but gives the indices in a sequence that would produce a sorted array.\n",
    "- Useful when you want to know the sorted order without actually sorting the array.\n",
    "\n",
    "```\n",
    "import numpy as np\n",
    "\n",
    "arr = np.array([3, 1, 2])\n",
    "sorted_indices = np.argsort(arr)\n",
    "print(sorted_indices)  \n",
    "print(arr[sorted_indices])\n",
    "\n",
    "[1,2,0]\n",
    "[1,2,3]\n",
    "\n",
    "```` \n"
   ]
  },
  {
   "cell_type": "code",
   "execution_count": 95,
   "id": "a62a0c66-6374-4f9a-84ba-74fd23ed88c2",
   "metadata": {},
   "outputs": [
    {
     "name": "stdout",
     "output_type": "stream",
     "text": [
      "[1 2 3]\n"
     ]
    }
   ],
   "source": [
    "arr = np.array([3, 1, 2])\n",
    "sorted_arr = np.sort(arr)\n",
    "print(sorted_arr)"
   ]
  },
  {
   "cell_type": "code",
   "execution_count": 94,
   "id": "0a6919bd-475c-4f7c-b447-3ee9d3f23a26",
   "metadata": {},
   "outputs": [
    {
     "name": "stdout",
     "output_type": "stream",
     "text": [
      "[1 2 0]\n",
      "[1 2 3]\n"
     ]
    }
   ],
   "source": [
    "arr = np.array([3, 1, 2])\n",
    "sorted_indices = np.argsort(arr)\n",
    "print(sorted_indices)      # Output: [1 2 0]\n",
    "print(arr[sorted_indices]) # arr[sorted_indices] will give the sorted array [1 2 3]"
   ]
  }
 ],
 "metadata": {
  "kernelspec": {
   "display_name": "Python 3",
   "language": "python",
   "name": "python3"
  },
  "language_info": {
   "codemirror_mode": {
    "name": "ipython",
    "version": 3
   },
   "file_extension": ".py",
   "mimetype": "text/x-python",
   "name": "python",
   "nbconvert_exporter": "python",
   "pygments_lexer": "ipython3",
   "version": "3.11.7"
  }
 },
 "nbformat": 4,
 "nbformat_minor": 5
}

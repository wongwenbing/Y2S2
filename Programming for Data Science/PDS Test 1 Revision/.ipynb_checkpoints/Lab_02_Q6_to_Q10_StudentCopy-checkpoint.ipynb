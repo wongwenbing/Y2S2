{
 "cells": [
  {
   "cell_type": "markdown",
   "id": "c28c5946",
   "metadata": {},
   "source": [
    "# IT2313 - Programming for Data Science\n",
    "# Practical 2 (Question 6 to 10)"
   ]
  },
  {
   "cell_type": "markdown",
   "id": "4cb693db",
   "metadata": {},
   "source": [
    "## Advanced Strings, Lists, Dictionaries and Sets"
   ]
  },
  {
   "cell_type": "markdown",
   "id": "9fc585b0",
   "metadata": {},
   "source": [
    "## Lists\n",
    "\n",
    "**Question 6** - Using the following codes to generate the outputs"
   ]
  },
  {
   "cell_type": "code",
   "execution_count": 1,
   "id": "7c576a37",
   "metadata": {},
   "outputs": [
    {
     "data": {
      "text/plain": [
       "['Je Suis Karl',\n",
       " 'My Little Pony: A New Generation',\n",
       " 'The Stronghold',\n",
       " 'Minsara Kanavu',\n",
       " 'Paranoia',\n",
       " 'Go! Go! Cory Carson: Chrissy Takes the Wheel',\n",
       " 'Avvai Shanmughi',\n",
       " 'Ankahi Kahaniya',\n",
       " 'Grown Ups',\n",
       " 'Bridgerton - The Afterparty',\n",
       " 'Spiderman',\n",
       " \"Europe's Most Dangerous Man: Otto Skorzeny in Spain\",\n",
       " 'Motu Patlu in the Game of Zones',\n",
       " 'Bling Empire - The Afterparty',\n",
       " 'Sankofa',\n",
       " 'Intrusion',\n",
       " 'The Circle - The Afterparty',\n",
       " 'Cobra Kai - The Afterparty',\n",
       " 'Samudri Lootere',\n",
       " 'Confessions of an Invisible Girl',\n",
       " 'Motu Patlu in Wonderland',\n",
       " 'The Starling',\n",
       " 'True: Winter Wishes',\n",
       " 'The Father Who Moves Mountains',\n",
       " 'Dark Skies',\n",
       " 'Jeans',\n",
       " 'Dick Johnson Is Dead']"
      ]
     },
     "execution_count": 1,
     "metadata": {},
     "output_type": "execute_result"
    }
   ],
   "source": [
    "# Question 6 - Execute this cell to generate the output\n",
    "\n",
    "import random\n",
    "movie_names = [\"Dick Johnson Is Dead\",\"Confessions of an Invisible Girl\",\"Sankofa\",\"The Starling\",\n",
    "               \"Motu Patlu in the Game of Zones\",\"Je Suis Karl\",\"Motu Patlu in Wonderland\",\n",
    "               \"Bridgerton - The Afterparty\",\"Bling Empire - The Afterparty\",\"Cobra Kai - The Afterparty\",\n",
    "               \"The Circle - The Afterparty\",\"True: Winter Wishes\",\"My Little Pony: A New Generation\",\n",
    "               \"Europe's Most Dangerous Man: Otto Skorzeny in Spain\",\"Samudri Lootere\",\n",
    "               \"Go! Go! Cory Carson: Chrissy Takes the Wheel\",\"Jeans\",\"Grown Ups\",\"Dark Skies\",\"Paranoia\",\n",
    "               \"Minsara Kanavu\",\"Intrusion\",\"Avvai Shanmughi\",\"Ankahi Kahaniya\",\"Spiderman\",\n",
    "               \"The Father Who Moves Mountains\",\"The Stronghold\"]\n",
    "random.shuffle(movie_names)\n",
    "movie_names"
   ]
  },
  {
   "cell_type": "markdown",
   "id": "ee4630e7-66e5-4229-8f80-cd9929d5393f",
   "metadata": {},
   "source": [
    "**Q6(a)** - Without using a for-loop, sorting and hard-coding the index, remove the “Spiderman” movie title and display the movie_name list"
   ]
  },
  {
   "cell_type": "code",
   "execution_count": 4,
   "id": "e3acf4ff",
   "metadata": {},
   "outputs": [
    {
     "data": {
      "text/plain": [
       "['Je Suis Karl',\n",
       " 'My Little Pony: A New Generation',\n",
       " 'The Stronghold',\n",
       " 'Minsara Kanavu',\n",
       " 'Paranoia',\n",
       " 'Go! Go! Cory Carson: Chrissy Takes the Wheel',\n",
       " 'Avvai Shanmughi',\n",
       " 'Ankahi Kahaniya',\n",
       " 'Grown Ups',\n",
       " 'Bridgerton - The Afterparty',\n",
       " \"Europe's Most Dangerous Man: Otto Skorzeny in Spain\",\n",
       " 'Motu Patlu in the Game of Zones',\n",
       " 'Bling Empire - The Afterparty',\n",
       " 'Sankofa',\n",
       " 'Intrusion',\n",
       " 'The Circle - The Afterparty',\n",
       " 'Cobra Kai - The Afterparty',\n",
       " 'Samudri Lootere',\n",
       " 'Confessions of an Invisible Girl',\n",
       " 'Motu Patlu in Wonderland',\n",
       " 'The Starling',\n",
       " 'True: Winter Wishes',\n",
       " 'The Father Who Moves Mountains',\n",
       " 'Dark Skies',\n",
       " 'Jeans',\n",
       " 'Dick Johnson Is Dead']"
      ]
     },
     "execution_count": 4,
     "metadata": {},
     "output_type": "execute_result"
    }
   ],
   "source": [
    "# Question 6(a) - Type your answers here\n",
    "movie_names.remove('Spiderman')\n",
    "movie_names\n",
    " "
   ]
  },
  {
   "cell_type": "markdown",
   "id": "4532ae65-44b3-49dd-8247-ba68a76a7b0b",
   "metadata": {},
   "source": [
    "**Q6(b)** - Sort the movie_names and display the list alphabetically"
   ]
  },
  {
   "cell_type": "code",
   "execution_count": 7,
   "id": "2f2b6ddb",
   "metadata": {},
   "outputs": [
    {
     "data": {
      "text/plain": [
       "['Ankahi Kahaniya',\n",
       " 'Avvai Shanmughi',\n",
       " 'Bling Empire - The Afterparty',\n",
       " 'Bridgerton - The Afterparty',\n",
       " 'Cobra Kai - The Afterparty',\n",
       " 'Confessions of an Invisible Girl',\n",
       " 'Dark Skies',\n",
       " 'Dick Johnson Is Dead',\n",
       " \"Europe's Most Dangerous Man: Otto Skorzeny in Spain\",\n",
       " 'Go! Go! Cory Carson: Chrissy Takes the Wheel',\n",
       " 'Grown Ups',\n",
       " 'Intrusion',\n",
       " 'Je Suis Karl',\n",
       " 'Jeans',\n",
       " 'Minsara Kanavu',\n",
       " 'Motu Patlu in Wonderland',\n",
       " 'Motu Patlu in the Game of Zones',\n",
       " 'My Little Pony: A New Generation',\n",
       " 'Paranoia',\n",
       " 'Samudri Lootere',\n",
       " 'Sankofa',\n",
       " 'The Circle - The Afterparty',\n",
       " 'The Father Who Moves Mountains',\n",
       " 'The Starling',\n",
       " 'The Stronghold',\n",
       " 'True: Winter Wishes']"
      ]
     },
     "execution_count": 7,
     "metadata": {},
     "output_type": "execute_result"
    }
   ],
   "source": [
    "# Question 6(b) - Type your answers here\n",
    "\n",
    "movie_names.sort()\n",
    "movie_names"
   ]
  },
  {
   "cell_type": "markdown",
   "id": "f73b3dab-896a-429b-88fb-eb19f3385b57",
   "metadata": {},
   "source": [
    "**Q6(c)** - Using the reverse index, display the last 10 movies in movie_names"
   ]
  },
  {
   "cell_type": "code",
   "execution_count": 10,
   "id": "7fa4cfee",
   "metadata": {},
   "outputs": [
    {
     "data": {
      "text/plain": [
       "['The Circle - The Afterparty',\n",
       " 'The Father Who Moves Mountains',\n",
       " 'The Starling',\n",
       " 'The Stronghold',\n",
       " 'True: Winter Wishes',\n",
       " 'Samudri Lootere',\n",
       " 'Sankofa',\n",
       " 'Paranoia',\n",
       " 'Minsara Kanavu',\n",
       " 'Motu Patlu in Wonderland']"
      ]
     },
     "execution_count": 10,
     "metadata": {},
     "output_type": "execute_result"
    }
   ],
   "source": [
    "# Question 6(c) - Type your answers here\n",
    "movie_names_last10 = sorted(movie_names, key=lambda x:x[0], reverse=True)[:10]\n",
    "movie_names_last10"
   ]
  },
  {
   "cell_type": "markdown",
   "id": "42050fed-29f7-4fd9-b15f-43610635a63b",
   "metadata": {},
   "source": [
    "**Q6(d)** - Display the alternate movie_names"
   ]
  },
  {
   "cell_type": "code",
   "execution_count": 13,
   "id": "1ecd8870",
   "metadata": {},
   "outputs": [
    {
     "data": {
      "text/plain": [
       "['Ankahi Kahaniya',\n",
       " 'Avvai Shanmughi',\n",
       " 'Bling Empire - The Afterparty',\n",
       " 'Bridgerton - The Afterparty',\n",
       " 'Cobra Kai - The Afterparty',\n",
       " 'Confessions of an Invisible Girl',\n",
       " 'Dark Skies',\n",
       " 'Dick Johnson Is Dead',\n",
       " \"Europe's Most Dangerous Man: Otto Skorzeny in Spain\",\n",
       " 'Go! Go! Cory Carson: Chrissy Takes the Wheel']"
      ]
     },
     "execution_count": 13,
     "metadata": {},
     "output_type": "execute_result"
    }
   ],
   "source": [
    "# Question 6(d) - Type your answers here\n",
    "# Display the alternate movie titles in sorted_movies\n",
    "movie_names_sorted=sorted(movie_names, key=lambda x:x[0])[:10]\n",
    "movie_names_sorted"
   ]
  },
  {
   "cell_type": "markdown",
   "id": "f529b1e2",
   "metadata": {},
   "source": [
    "## Strings\n",
    "\n",
    "**Question 7** - Using the following codes to generate the outputs"
   ]
  },
  {
   "cell_type": "code",
   "execution_count": 16,
   "id": "33d484e8",
   "metadata": {},
   "outputs": [
    {
     "data": {
      "text/plain": [
       "['Marvel Spiderman',\n",
       " 'Jaws',\n",
       " 'Squid Game',\n",
       " 'Marvel Thor',\n",
       " 'Man Marvel',\n",
       " 'Squid Game 2',\n",
       " 'A Cinderella Story',\n",
       " 'Fight Club',\n",
       " 'Finding Nemo',\n",
       " 'School of Rock',\n",
       " 'Jaws Revenge',\n",
       " 'The Lord of the Rings',\n",
       " 'The Incredibles',\n",
       " 'Marvel Hulk',\n",
       " 'Top Gun',\n",
       " 'Space Jungle',\n",
       " 'The Good Dinosaur',\n",
       " 'Top Gun 2']"
      ]
     },
     "execution_count": 16,
     "metadata": {},
     "output_type": "execute_result"
    }
   ],
   "source": [
    "movie_names = [\"Marvel Spiderman\",\"Jaws\",\"Squid Game\",\"Marvel Thor\", \"Man Marvel\",\"Squid Game 2\",\"A Cinderella Story\",\"Fight Club\",\"Finding Nemo\",\"School of Rock\",\"Jaws Revenge\",\"The Lord of the Rings\",\"The Incredibles\",\"Marvel Hulk\",\"Top Gun\",\"Space Jungle\",\"The Good Dinosaur\",\"Top Gun 2\"]\n",
    "movie_names"
   ]
  },
  {
   "cell_type": "markdown",
   "id": "b9a3f206-d12a-419c-8c06-00b0b7da09c4",
   "metadata": {},
   "source": [
    "**Q7(a)** - Find the movie names with the title \"Marvel\" at the start. "
   ]
  },
  {
   "cell_type": "code",
   "execution_count": 19,
   "id": "1fd76b2d",
   "metadata": {},
   "outputs": [
    {
     "name": "stdout",
     "output_type": "stream",
     "text": [
      "Marvel Spiderman\n",
      "Marvel Thor\n",
      "Marvel Hulk\n"
     ]
    }
   ],
   "source": [
    "# Question 7(a) - Type your answers here\n",
    "for movie in movie_names: \n",
    "    if movie.startswith(\"Marvel\"):\n",
    "        print(movie)\n"
   ]
  },
  {
   "cell_type": "markdown",
   "id": "28e27a05-2f5c-4dfc-bca4-be29904a746f",
   "metadata": {},
   "source": [
    "**Q7(b)** - Find and print the movie titles that have the word \"Marvel\" by using the Template class. "
   ]
  },
  {
   "cell_type": "code",
   "execution_count": 25,
   "id": "11b5b203",
   "metadata": {},
   "outputs": [
    {
     "name": "stdout",
     "output_type": "stream",
     "text": [
      "The movie 'Marvel Spiderman' has the word 'Marvel' in it\n",
      "The movie 'Marvel Thor' has the word 'Marvel' in it\n",
      "The movie 'Man Marvel' has the word 'Marvel' in it\n",
      "The movie 'Marvel Hulk' has the word 'Marvel' in it\n"
     ]
    }
   ],
   "source": [
    "# Question 7(b) - Type your answers here\n",
    "from string import Template\n",
    "template=Template(\"The movie '$found_title' has the word '$word' in it\")\n",
    "word=\"Marvel\"\n",
    "for title in movie_names:\n",
    "    if title.find(\"Marvel\")>=0:\n",
    "        print(template.substitute(found_title=title, word=word))\n"
   ]
  },
  {
   "cell_type": "markdown",
   "id": "62b57620-c595-43dd-86cc-6915f259a82e",
   "metadata": {},
   "source": [
    "**Q7(c)** - Replace all the \"Marvel\" with \"Heros\" and the movie names with the title \"Marvel\" at the start and print out movie names and ensure all changes are reflected"
   ]
  },
  {
   "cell_type": "code",
   "execution_count": 9,
   "id": "b2014aea",
   "metadata": {},
   "outputs": [
    {
     "data": {
      "text/plain": [
       "['Heros Spiderman',\n",
       " 'Jaws',\n",
       " 'Squid Game',\n",
       " 'Heros Thor',\n",
       " 'Man Marvel',\n",
       " 'Squid Game 2',\n",
       " 'A Cinderella Story',\n",
       " 'Fight Club',\n",
       " 'Finding Nemo',\n",
       " 'School of Rock',\n",
       " 'Jaws Revenge',\n",
       " 'The Lord of the Rings',\n",
       " 'The Incredibles',\n",
       " 'Heros Hulk',\n",
       " 'Top Gun',\n",
       " 'Space Jungle',\n",
       " 'The Good Dinosaur',\n",
       " 'Top Gun 2']"
      ]
     },
     "execution_count": 9,
     "metadata": {},
     "output_type": "execute_result"
    }
   ],
   "source": [
    "# Question 7(c) - Type your answers here\n",
    "\n"
   ]
  },
  {
   "cell_type": "markdown",
   "id": "8740e181",
   "metadata": {},
   "source": [
    "## Sets"
   ]
  },
  {
   "cell_type": "markdown",
   "id": "b34f5ef5-7763-4a45-8a36-e8b8e4469e97",
   "metadata": {},
   "source": [
    "**Question 8** - Using the following codes to generate the lists"
   ]
  },
  {
   "cell_type": "code",
   "execution_count": 10,
   "id": "8afea6c8",
   "metadata": {},
   "outputs": [],
   "source": [
    "# Question 8\n",
    "pizza1 = [\"Sliced Ham\", \"Pineapple\", \"Mozzarella Cheese\"]\n",
    "pizza2 = [\"Pepperoni\", \"Mushrooms\", \"Red Onions\", \"Red Peppers\", \"Bacon\"]\n",
    "pizza3 = [\"Mozzarella Cheese\", \"Provolone Cheese\", \"Smoked Gouda Cheese\", \"Romano Cheese\", \"Blue Cheese\", \"Garlic\"]\n",
    "pizza4 = [\"Calabrese Salami\", \"Capocollo\", \"Tomatoes\", \"Red Onions\", \"Green Olives\", \"Garlic\"]\n",
    "pizza5 = [\"Tomatoes\", \"Red Peppers\", \"Jalapeno Peppers\", \"Red Onions\", \"Cilantro, Corn\", \"Chipotle Sauce\", \"Garlic\"]\n",
    "pizza6 = [\"Chicken\", \"Pineapple\", \"Tomatoes\", \"Red Peppers\", \"Thai Sweet Chilli Sauce\"]"
   ]
  },
  {
   "cell_type": "markdown",
   "id": "794207b9-619a-4015-bc9e-e09664faef8b",
   "metadata": {},
   "source": [
    "**Q8(a)** - Using the given lists, create a set that list out all of ingredients used"
   ]
  },
  {
   "cell_type": "code",
   "execution_count": 11,
   "id": "aed98725",
   "metadata": {},
   "outputs": [],
   "source": [
    "# Question 8(a) - Type your answers here\n"
   ]
  },
  {
   "cell_type": "code",
   "execution_count": 12,
   "id": "e285c138",
   "metadata": {},
   "outputs": [
    {
     "data": {
      "text/plain": [
       "{'Bacon',\n",
       " 'Blue Cheese',\n",
       " 'Calabrese Salami',\n",
       " 'Capocollo',\n",
       " 'Chicken',\n",
       " 'Chipotle Sauce',\n",
       " 'Cilantro, Corn',\n",
       " 'Garlic',\n",
       " 'Green Olives',\n",
       " 'Jalapeno Peppers',\n",
       " 'Mozzarella Cheese',\n",
       " 'Mushrooms',\n",
       " 'Pepperoni',\n",
       " 'Pineapple',\n",
       " 'Provolone Cheese',\n",
       " 'Red Onions',\n",
       " 'Red Peppers',\n",
       " 'Romano Cheese',\n",
       " 'Sliced Ham',\n",
       " 'Smoked Gouda Cheese',\n",
       " 'Thai Sweet Chilli Sauce',\n",
       " 'Tomatoes'}"
      ]
     },
     "execution_count": 12,
     "metadata": {},
     "output_type": "execute_result"
    }
   ],
   "source": [
    "# Question 8(a) - Type your answers here\n"
   ]
  },
  {
   "cell_type": "markdown",
   "id": "cacdc5e0-5c09-45ac-9330-b329c1cee7e5",
   "metadata": {},
   "source": [
    "**Q8(b)** - Using the above lists, create a set of common ingredients used in pizza 2."
   ]
  },
  {
   "cell_type": "code",
   "execution_count": 13,
   "id": "03bc2d03",
   "metadata": {},
   "outputs": [
    {
     "data": {
      "text/plain": [
       "{'Red Onions', 'Red Peppers'}"
      ]
     },
     "execution_count": 13,
     "metadata": {},
     "output_type": "execute_result"
    }
   ],
   "source": [
    "# Question 8(b) - Type your answers here\n",
    "\n"
   ]
  },
  {
   "attachments": {
    "6c43f0e7-d197-4783-abaa-78411f4aa30e.png": {
     "image/png": "[encoded data removed]"
    },
    "6cc81ef1-fe7a-4e2c-b7b6-2fbad5ee718b.png": {
     "image/png": "[encoded data removed]"
    }
   },
   "cell_type": "markdown",
   "id": "ad2de546",
   "metadata": {},
   "source": [
    "## Tuples\n",
    "\n",
    "**Q9** - Making use of the following 2 lists:\n",
    "\n",
    "![image.png](attachment:6c43f0e7-d197-4783-abaa-78411f4aa30e.png)\n",
    "\n",
    "![image.png](attachment:6cc81ef1-fe7a-4e2c-b7b6-2fbad5ee718b.png)"
   ]
  },
  {
   "cell_type": "code",
   "execution_count": 15,
   "id": "1ddc3ba3",
   "metadata": {},
   "outputs": [
    {
     "data": {
      "text/plain": [
       "['The Hawaiian Pizza',\n",
       " 'The Classic Deluxe Pizza',\n",
       " 'The Five Cheese Pizza',\n",
       " 'The Mexicana Pizza',\n",
       " 'The Thai Chicken Pizza',\n",
       " 'The Italian Supreme Pizza',\n",
       " 'The Prosciutto and Arugula Pizza']"
      ]
     },
     "execution_count": 15,
     "metadata": {},
     "output_type": "execute_result"
    }
   ],
   "source": [
    "# Question 9 - Dataset\n",
    "\n",
    "pizza_name =[\"The Hawaiian Pizza\",\"The Classic Deluxe Pizza\",\"The Five Cheese Pizza\",\"The Mexicana Pizza\",\"The Thai Chicken Pizza\",\"The Italian Supreme Pizza\",\"The Prosciutto and Arugula Pizza\"]\n",
    "pizza_name"
   ]
  },
  {
   "cell_type": "code",
   "execution_count": 16,
   "id": "f75502aa",
   "metadata": {},
   "outputs": [
    {
     "data": {
      "text/plain": [
       "['13.25', '16.15', '12.10', '10.10', '18.20', '14.50', '11.50']"
      ]
     },
     "execution_count": 16,
     "metadata": {},
     "output_type": "execute_result"
    }
   ],
   "source": [
    "# Question 9 - Dataset\n",
    "pizza_price = [\"13.25\",\"16.15\",\"12.10\",\"10.10\",\"18.20\",\"14.50\",\"11.50\"]\n",
    "pizza_price"
   ]
  },
  {
   "cell_type": "markdown",
   "id": "0edd9d93-bd7e-45dc-8fe0-9e94c38b912c",
   "metadata": {},
   "source": [
    "**Q9(a)** - Create a list of tuples that binds the pizza and its price"
   ]
  },
  {
   "cell_type": "code",
   "execution_count": 17,
   "id": "ac321931",
   "metadata": {},
   "outputs": [
    {
     "data": {
      "text/plain": [
       "[('The Hawaiian Pizza', '13.25'),\n",
       " ('The Classic Deluxe Pizza', '16.15'),\n",
       " ('The Five Cheese Pizza', '12.10'),\n",
       " ('The Mexicana Pizza', '10.10'),\n",
       " ('The Thai Chicken Pizza', '18.20'),\n",
       " ('The Italian Supreme Pizza', '14.50'),\n",
       " ('The Prosciutto and Arugula Pizza', '11.50')]"
      ]
     },
     "execution_count": 17,
     "metadata": {},
     "output_type": "execute_result"
    }
   ],
   "source": [
    "# Question 9(a) - Type your answers here\n",
    "\n"
   ]
  },
  {
   "attachments": {
    "c990fb04-e5ff-4b1b-829b-e966a6e5ec23.png": {
     "image/png": "[encoded data removed]"
    }
   },
   "cell_type": "markdown",
   "id": "4eb16dcf-9cd9-49ce-a629-e7adefe91080",
   "metadata": {},
   "source": [
    "**Q9(b)** - Use a for-loop to print out the pizza name and its price using string formatting\n",
    "\n",
    "![image.png](attachment:c990fb04-e5ff-4b1b-829b-e966a6e5ec23.png)"
   ]
  },
  {
   "cell_type": "code",
   "execution_count": 18,
   "id": "0fbf4a57",
   "metadata": {},
   "outputs": [
    {
     "name": "stdout",
     "output_type": "stream",
     "text": [
      "Pizza name : The Hawaiian Pizza, Pizza price : 13.25\n",
      "----------------------------------------------------\n",
      "Pizza name : The Classic Deluxe Pizza, Pizza price : 16.15\n",
      "----------------------------------------------------------\n",
      "Pizza name : The Five Cheese Pizza, Pizza price : 12.10\n",
      "-------------------------------------------------------\n",
      "Pizza name : The Mexicana Pizza, Pizza price : 10.10\n",
      "----------------------------------------------------\n",
      "Pizza name : The Thai Chicken Pizza, Pizza price : 18.20\n",
      "--------------------------------------------------------\n",
      "Pizza name : The Italian Supreme Pizza, Pizza price : 14.50\n",
      "-----------------------------------------------------------\n",
      "Pizza name : The Prosciutto and Arugula Pizza, Pizza price : 11.50\n",
      "------------------------------------------------------------------\n"
     ]
    }
   ],
   "source": [
    "# Question 9(b) - Type your answers here\n",
    "\n"
   ]
  },
  {
   "cell_type": "markdown",
   "id": "351c1b7a-8f5f-4f64-ad18-69df3e137d75",
   "metadata": {},
   "source": [
    "**Q9(c)** - Use a for-loop and print out the pizza name that is above $12.50"
   ]
  },
  {
   "cell_type": "code",
   "execution_count": 19,
   "id": "76c08cdc",
   "metadata": {},
   "outputs": [
    {
     "name": "stdout",
     "output_type": "stream",
     "text": [
      "The Hawaiian Pizza's price is higher then $12.50'\n",
      "The Classic Deluxe Pizza's price is higher then $12.50'\n",
      "The Thai Chicken Pizza's price is higher then $12.50'\n",
      "The Italian Supreme Pizza's price is higher then $12.50'\n"
     ]
    }
   ],
   "source": [
    "# Question 9(c) - Type your answers here\n",
    "\n"
   ]
  },
  {
   "cell_type": "markdown",
   "id": "1e2ef7d3-582d-4858-a741-fac49bdd399d",
   "metadata": {},
   "source": [
    "### Python Tutorial: Set Operations\n",
    "\n",
    "#### Question 10: Set Operations\n",
    "\n",
    "Consider two sets of student IDs:  \n",
    "- `set_A = {101, 102, 103, 104, 105}`  \n",
    "- `set_B = {104, 105, 106, 107, 108}`  \n",
    "\n",
    "(a) Perform the following set operations and display the results:\n",
    "   - **Union** of `set_A` and `set_B`\n",
    "   - **Intersection** of `set_A` and `set_B`\n",
    "   - **Difference** between `set_A` and `set_B` (i.e., IDs present in `set_A` but not in `set_B`)\n",
    "   - **Symmetric difference** between `set_A` and `set_B`\n",
    "\n",
    "(b) Add the ID `109` to `set_A`. Then, check whether `set_B` is a subset of `set_A` after the addition.\n",
    "the addition.\n"
   ]
  },
  {
   "cell_type": "code",
   "execution_count": 4,
   "id": "dee19994",
   "metadata": {},
   "outputs": [
    {
     "name": "stdout",
     "output_type": "stream",
     "text": [
      "Union of set_A and set_B: {101, 102, 103, 104, 105, 106, 107, 108}\n"
     ]
    }
   ],
   "source": [
    "# Question 10(a) - Type your answers here\n",
    "\n",
    "# Given sets\n",
    "set_A = {101, 102, 103, 104, 105}\n",
    "set_B = {104, 105, 106, 107, 108}\n",
    "\n",
    "# (a) Perform set operations\n",
    "# Union\n"
   ]
  },
  {
   "cell_type": "code",
   "execution_count": 5,
   "id": "e7f7d764-7f4b-4b83-a646-2a86b11d6cef",
   "metadata": {},
   "outputs": [
    {
     "name": "stdout",
     "output_type": "stream",
     "text": [
      "Intersection of set_A and set_B: {104, 105}\n"
     ]
    }
   ],
   "source": [
    "# Intersection\n"
   ]
  },
  {
   "cell_type": "code",
   "execution_count": 6,
   "id": "f1359a57-f1c6-4592-bad6-20ce297dda10",
   "metadata": {},
   "outputs": [
    {
     "name": "stdout",
     "output_type": "stream",
     "text": [
      "Difference of set_A and set_B: {101, 102, 103}\n"
     ]
    }
   ],
   "source": [
    "# Difference (IDs in set_A but not in set_B)\n"
   ]
  },
  {
   "cell_type": "code",
   "execution_count": 1,
   "id": "116c42be-fa4d-4661-a738-e87dc27e92a3",
   "metadata": {},
   "outputs": [
    {
     "name": "stdout",
     "output_type": "stream",
     "text": [
      "Symmetric difference of set_A and set_B: {101, 102, 103, 106, 107, 108}\n"
     ]
    }
   ],
   "source": [
    "# Symmetric Difference\n"
   ]
  },
  {
   "cell_type": "code",
   "execution_count": 3,
   "id": "ca02bdb8",
   "metadata": {},
   "outputs": [
    {
     "name": "stdout",
     "output_type": "stream",
     "text": [
      "\n",
      "Updated set_A after adding 109: {101, 102, 103, 104, 105, 109}\n",
      "Is set_B a subset of set_A?: False\n"
     ]
    }
   ],
   "source": [
    "# Question 10(b) - Type your answers here\n",
    "# (b) Add 109 to set_A and check if set_B is a subset of set_A\n",
    "\n"
   ]
  },
  {
   "cell_type": "code",
   "execution_count": null,
   "id": "fe1e5efd",
   "metadata": {},
   "outputs": [],
   "source": []
  },
  {
   "cell_type": "code",
   "execution_count": null,
   "id": "632cfa1e",
   "metadata": {},
   "outputs": [],
   "source": []
  }
 ],
 "metadata": {
  "kernelspec": {
   "display_name": "Python 3 (ipykernel)",
   "language": "python",
   "name": "python3"
  },
  "language_info": {
   "codemirror_mode": {
    "name": "ipython",
    "version": 3
   },
   "file_extension": ".py",
   "mimetype": "text/x-python",
   "name": "python",
   "nbconvert_exporter": "python",
   "pygments_lexer": "ipython3",
   "version": "3.11.0"
  }
 },
 "nbformat": 4,
 "nbformat_minor": 5
}

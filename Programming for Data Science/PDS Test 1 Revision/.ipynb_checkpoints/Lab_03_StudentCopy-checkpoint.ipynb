{
 "cells": [
  {
   "cell_type": "markdown",
   "id": "dd890a3f",
   "metadata": {},
   "source": [
    "## IT2313 - Programming for Data Science\n",
    "## Practical 3 \n",
    "## NumPy for Numerical Computations (Part 1)"
   ]
  },
  {
   "cell_type": "markdown",
   "id": "9360a8f0",
   "metadata": {},
   "source": [
    "### Let try to practise our NumPy knowledge. We will start off with a few simple tasks in this Practical"
   ]
  },
  {
   "cell_type": "markdown",
   "id": "43852209",
   "metadata": {},
   "source": [
    "### Creating NumPy Arrays"
   ]
  },
  {
   "cell_type": "markdown",
   "id": "a4f29bcb",
   "metadata": {},
   "source": [
    "#### Q1 - Import NumPy as np"
   ]
  },
  {
   "cell_type": "code",
   "execution_count": 1,
   "id": "47b87943",
   "metadata": {},
   "outputs": [],
   "source": [
    "# Type your answer here\n",
    "import numpy as np"
   ]
  },
  {
   "cell_type": "markdown",
   "id": "862dfdea",
   "metadata": {},
   "source": [
    "#### Q2 - Create an array of 10 zeros"
   ]
  },
  {
   "cell_type": "code",
   "execution_count": 4,
   "id": "c06ce41f",
   "metadata": {},
   "outputs": [
    {
     "data": {
      "text/plain": [
       "array([0., 0., 0., 0., 0., 0., 0., 0., 0., 0.])"
      ]
     },
     "execution_count": 4,
     "metadata": {},
     "output_type": "execute_result"
    }
   ],
   "source": [
    "# Type your answer here\n",
    "np.zeros(10)"
   ]
  },
  {
   "cell_type": "markdown",
   "id": "c3ff027a",
   "metadata": {},
   "source": [
    "#### Q3 - Create an array of 10 ones"
   ]
  },
  {
   "cell_type": "code",
   "execution_count": 6,
   "id": "25f8595b",
   "metadata": {},
   "outputs": [
    {
     "data": {
      "text/plain": [
       "array([1., 1., 1., 1., 1., 1., 1., 1., 1., 1.])"
      ]
     },
     "execution_count": 6,
     "metadata": {},
     "output_type": "execute_result"
    }
   ],
   "source": [
    "# Type your answer here\n",
    "np.ones(10)"
   ]
  },
  {
   "cell_type": "markdown",
   "id": "82d2841a",
   "metadata": {},
   "source": [
    "#### Q4 - Create an array of 10 fives"
   ]
  },
  {
   "cell_type": "code",
   "execution_count": 20,
   "id": "84156753",
   "metadata": {},
   "outputs": [
    {
     "data": {
      "text/plain": [
       "array([5, 5, 5, 5, 5, 5, 5, 5, 5, 5])"
      ]
     },
     "execution_count": 20,
     "metadata": {},
     "output_type": "execute_result"
    }
   ],
   "source": [
    "# Type your answer here\n",
    "np.full(10,5)"
   ]
  },
  {
   "cell_type": "code",
   "execution_count": 5,
   "id": "3508bcce",
   "metadata": {},
   "outputs": [
    {
     "data": {
      "text/plain": [
       "array([5., 5., 5., 5., 5., 5., 5., 5., 5., 5.])"
      ]
     },
     "execution_count": 5,
     "metadata": {},
     "output_type": "execute_result"
    }
   ],
   "source": [
    "# Type your answer here\n"
   ]
  },
  {
   "cell_type": "markdown",
   "id": "d3c78695",
   "metadata": {},
   "source": [
    "#### Q5 - Create an array of the integers from 20 to 40"
   ]
  },
  {
   "cell_type": "code",
   "execution_count": 24,
   "id": "8fac9506",
   "metadata": {},
   "outputs": [
    {
     "data": {
      "text/plain": [
       "array([20, 21, 22, 23, 24, 25, 26, 27, 28, 29, 30, 31, 32, 33, 34, 35, 36,\n",
       "       37, 38, 39, 40])"
      ]
     },
     "execution_count": 24,
     "metadata": {},
     "output_type": "execute_result"
    }
   ],
   "source": [
    "# Type your answer here\n",
    "np.arange(20,41,1)"
   ]
  },
  {
   "cell_type": "markdown",
   "id": "0ada6e78",
   "metadata": {},
   "source": [
    "#### Q6 - Create an array of all the Even integers from 20 to 40"
   ]
  },
  {
   "cell_type": "code",
   "execution_count": 26,
   "id": "b995cf94",
   "metadata": {},
   "outputs": [
    {
     "data": {
      "text/plain": [
       "array([20, 22, 24, 26, 28, 30, 32, 34, 36, 38, 40])"
      ]
     },
     "execution_count": 26,
     "metadata": {},
     "output_type": "execute_result"
    }
   ],
   "source": [
    "# Type your answer here\n",
    "np.arange(20,41,2)"
   ]
  },
  {
   "cell_type": "markdown",
   "id": "209b71f2",
   "metadata": {},
   "source": [
    "#### Q7 - Create an 10 evenly spaced values from 20 to 40\n",
    "##### The formula for the step size (step) is calculated as:\n",
    "##### step = (stop - start) / (num - 1), num is the number of evenly spaced values to generate"
   ]
  },
  {
   "cell_type": "code",
   "execution_count": 30,
   "id": "5e5eceb3",
   "metadata": {},
   "outputs": [
    {
     "data": {
      "text/plain": [
       "array([20.        , 22.22222222, 24.44444444, 26.66666667, 28.88888889,\n",
       "       31.11111111, 33.33333333, 35.55555556, 37.77777778, 40.        ])"
      ]
     },
     "execution_count": 30,
     "metadata": {},
     "output_type": "execute_result"
    }
   ],
   "source": [
    "# Type your answer here\n",
    "np.linspace(20,40,10)"
   ]
  },
  {
   "cell_type": "markdown",
   "id": "2578303b",
   "metadata": {},
   "source": [
    "#### Q8 - Create a 3x3 matrix with values ranging from 0 to 8"
   ]
  },
  {
   "cell_type": "code",
   "execution_count": 38,
   "id": "c2f0ef7e",
   "metadata": {},
   "outputs": [
    {
     "data": {
      "text/plain": [
       "array([[0, 1, 2],\n",
       "       [3, 4, 5],\n",
       "       [6, 7, 8]])"
      ]
     },
     "execution_count": 38,
     "metadata": {},
     "output_type": "execute_result"
    }
   ],
   "source": [
    "# Type your answer here\n",
    "c = np.arange(0,9)\n",
    "c.reshape(3,3)"
   ]
  },
  {
   "cell_type": "code",
   "execution_count": 10,
   "id": "3eda9e5a",
   "metadata": {},
   "outputs": [
    {
     "data": {
      "text/plain": [
       "array([[0, 1, 2],\n",
       "       [3, 4, 5],\n",
       "       [6, 7, 8]])"
      ]
     },
     "execution_count": 10,
     "metadata": {},
     "output_type": "execute_result"
    }
   ],
   "source": [
    "# Type your answer here\n"
   ]
  },
  {
   "cell_type": "markdown",
   "id": "a671d0ca",
   "metadata": {},
   "source": [
    "#### Q9 - Create a 3x3 matrix with values of 6"
   ]
  },
  {
   "cell_type": "code",
   "execution_count": 72,
   "id": "14cdbddb",
   "metadata": {},
   "outputs": [
    {
     "data": {
      "text/plain": [
       "array([[5, 5, 5],\n",
       "       [5, 5, 5],\n",
       "       [5, 5, 5]])"
      ]
     },
     "execution_count": 72,
     "metadata": {},
     "output_type": "execute_result"
    }
   ],
   "source": [
    "# Type your answer her\n",
    "np.full((3,3),5)"
   ]
  },
  {
   "cell_type": "markdown",
   "id": "281dcac8",
   "metadata": {},
   "source": [
    "#### Q10 - Use NumPy to generate 10 random number between 0 and 1"
   ]
  },
  {
   "cell_type": "code",
   "execution_count": 76,
   "id": "a179c95c",
   "metadata": {},
   "outputs": [
    {
     "data": {
      "text/plain": [
       "array([0.62951518, 0.64479199, 0.99610826, 0.00989647, 0.94456728,\n",
       "       0.36845625, 0.0240304 , 0.65419059, 0.33092741, 0.28519431])"
      ]
     },
     "execution_count": 76,
     "metadata": {},
     "output_type": "execute_result"
    }
   ],
   "source": [
    "# Type your answer here\n",
    "np.random.random(10)"
   ]
  },
  {
   "cell_type": "markdown",
   "id": "3cc1c044",
   "metadata": {},
   "source": [
    "#### Q11 - Use NumPy to create the following matrix\n",
    "#### Note - Use 2 different approaches"
   ]
  },
  {
   "cell_type": "code",
   "execution_count": 82,
   "id": "db328f90",
   "metadata": {},
   "outputs": [
    {
     "data": {
      "text/plain": [
       "array([0.        , 0.01010101, 0.02020202, 0.03030303, 0.04040404,\n",
       "       0.05050505, 0.06060606, 0.07070707, 0.08080808, 0.09090909,\n",
       "       0.1010101 , 0.11111111, 0.12121212, 0.13131313, 0.14141414,\n",
       "       0.15151515, 0.16161616, 0.17171717, 0.18181818, 0.19191919,\n",
       "       0.2020202 , 0.21212121, 0.22222222, 0.23232323, 0.24242424,\n",
       "       0.25252525, 0.26262626, 0.27272727, 0.28282828, 0.29292929,\n",
       "       0.3030303 , 0.31313131, 0.32323232, 0.33333333, 0.34343434,\n",
       "       0.35353535, 0.36363636, 0.37373737, 0.38383838, 0.39393939,\n",
       "       0.4040404 , 0.41414141, 0.42424242, 0.43434343, 0.44444444,\n",
       "       0.45454545, 0.46464646, 0.47474747, 0.48484848, 0.49494949,\n",
       "       0.50505051, 0.51515152, 0.52525253, 0.53535354, 0.54545455,\n",
       "       0.55555556, 0.56565657, 0.57575758, 0.58585859, 0.5959596 ,\n",
       "       0.60606061, 0.61616162, 0.62626263, 0.63636364, 0.64646465,\n",
       "       0.65656566, 0.66666667, 0.67676768, 0.68686869, 0.6969697 ,\n",
       "       0.70707071, 0.71717172, 0.72727273, 0.73737374, 0.74747475,\n",
       "       0.75757576, 0.76767677, 0.77777778, 0.78787879, 0.7979798 ,\n",
       "       0.80808081, 0.81818182, 0.82828283, 0.83838384, 0.84848485,\n",
       "       0.85858586, 0.86868687, 0.87878788, 0.88888889, 0.8989899 ,\n",
       "       0.90909091, 0.91919192, 0.92929293, 0.93939394, 0.94949495,\n",
       "       0.95959596, 0.96969697, 0.97979798, 0.98989899, 1.        ])"
      ]
     },
     "execution_count": 82,
     "metadata": {},
     "output_type": "execute_result"
    }
   ],
   "source": [
    "# Type your answer here\n",
    "np.linspace(0,1,100)"
   ]
  },
  {
   "cell_type": "code",
   "execution_count": 14,
   "id": "22c65701",
   "metadata": {},
   "outputs": [
    {
     "data": {
      "text/plain": [
       "array([[0.01, 0.02, 0.03, 0.04, 0.05, 0.06, 0.07, 0.08, 0.09, 0.1 ],\n",
       "       [0.11, 0.12, 0.13, 0.14, 0.15, 0.16, 0.17, 0.18, 0.19, 0.2 ],\n",
       "       [0.21, 0.22, 0.23, 0.24, 0.25, 0.26, 0.27, 0.28, 0.29, 0.3 ],\n",
       "       [0.31, 0.32, 0.33, 0.34, 0.35, 0.36, 0.37, 0.38, 0.39, 0.4 ],\n",
       "       [0.41, 0.42, 0.43, 0.44, 0.45, 0.46, 0.47, 0.48, 0.49, 0.5 ],\n",
       "       [0.51, 0.52, 0.53, 0.54, 0.55, 0.56, 0.57, 0.58, 0.59, 0.6 ],\n",
       "       [0.61, 0.62, 0.63, 0.64, 0.65, 0.66, 0.67, 0.68, 0.69, 0.7 ],\n",
       "       [0.71, 0.72, 0.73, 0.74, 0.75, 0.76, 0.77, 0.78, 0.79, 0.8 ],\n",
       "       [0.81, 0.82, 0.83, 0.84, 0.85, 0.86, 0.87, 0.88, 0.89, 0.9 ],\n",
       "       [0.91, 0.92, 0.93, 0.94, 0.95, 0.96, 0.97, 0.98, 0.99, 1.  ]])"
      ]
     },
     "execution_count": 14,
     "metadata": {},
     "output_type": "execute_result"
    }
   ],
   "source": [
    "# Type your answer here\n"
   ]
  },
  {
   "cell_type": "markdown",
   "id": "b5d8979c",
   "metadata": {},
   "source": [
    "### Creating NumPy Indexing and Selection"
   ]
  },
  {
   "cell_type": "markdown",
   "id": "4e20910f",
   "metadata": {},
   "source": [
    "#### Question 12 - You will be giving a few matrices, and required to to produce the resulting matrix outputs "
   ]
  },
  {
   "cell_type": "code",
   "execution_count": 120,
   "id": "dd244d9e",
   "metadata": {},
   "outputs": [
    {
     "data": {
      "text/plain": [
       "array([[ 1,  2,  3,  4,  5],\n",
       "       [ 6,  7,  8,  9, 10],\n",
       "       [11, 12, 13, 14, 15],\n",
       "       [16, 17, 18, 19, 20],\n",
       "       [21, 22, 23, 24, 25]])"
      ]
     },
     "execution_count": 120,
     "metadata": {},
     "output_type": "execute_result"
    }
   ],
   "source": [
    "mat = np.arange(1,26).reshape(5,5)\n",
    "mat"
   ]
  },
  {
   "cell_type": "code",
   "execution_count": 122,
   "id": "909a5fda",
   "metadata": {},
   "outputs": [
    {
     "data": {
      "text/plain": [
       "array([[11, 12, 13, 14, 15],\n",
       "       [16, 17, 18, 19, 20],\n",
       "       [21, 22, 23, 24, 25]])"
      ]
     },
     "execution_count": 122,
     "metadata": {},
     "output_type": "execute_result"
    }
   ],
   "source": [
    "# Q12(a)\n",
    "# Type your answer here\n",
    "mat[2:,]"
   ]
  },
  {
   "cell_type": "code",
   "execution_count": 124,
   "id": "52b0d515",
   "metadata": {},
   "outputs": [
    {
     "data": {
      "text/plain": [
       "array([[12, 13, 14, 15],\n",
       "       [17, 18, 19, 20],\n",
       "       [22, 23, 24, 25]])"
      ]
     },
     "execution_count": 124,
     "metadata": {},
     "output_type": "execute_result"
    }
   ],
   "source": [
    "# Q12(b)\n",
    "# Type your answer here\n",
    "mat[2:,1:]"
   ]
  },
  {
   "cell_type": "code",
   "execution_count": 126,
   "id": "bef29c43",
   "metadata": {},
   "outputs": [
    {
     "data": {
      "text/plain": [
       "20"
      ]
     },
     "execution_count": 126,
     "metadata": {},
     "output_type": "execute_result"
    }
   ],
   "source": [
    "# Q12(c)\n",
    "# Type your answer here\n",
    "mat[3,4]"
   ]
  },
  {
   "cell_type": "code",
   "execution_count": 128,
   "id": "f1d6f48b",
   "metadata": {},
   "outputs": [
    {
     "data": {
      "text/plain": [
       "array([ 2,  7, 12])"
      ]
     },
     "execution_count": 128,
     "metadata": {},
     "output_type": "execute_result"
    }
   ],
   "source": [
    "# Q12(e)\n",
    "# Type your answer here\n",
    "mat[:3, 1]"
   ]
  },
  {
   "cell_type": "code",
   "execution_count": 130,
   "id": "1912c97c",
   "metadata": {},
   "outputs": [
    {
     "data": {
      "text/plain": [
       "array([[ 2],\n",
       "       [ 7],\n",
       "       [12]])"
      ]
     },
     "execution_count": 130,
     "metadata": {},
     "output_type": "execute_result"
    }
   ],
   "source": [
    "# Q12(e)\n",
    "# Type your answer here\n",
    "mat[:3,1].reshape(3,1)"
   ]
  },
  {
   "cell_type": "code",
   "execution_count": 132,
   "id": "e0125438",
   "metadata": {},
   "outputs": [
    {
     "data": {
      "text/plain": [
       "array([21, 22, 23, 24, 25])"
      ]
     },
     "execution_count": 132,
     "metadata": {},
     "output_type": "execute_result"
    }
   ],
   "source": [
    "# Q12(f)\n",
    "# Type your answer here\n",
    "mat[-1]"
   ]
  },
  {
   "cell_type": "code",
   "execution_count": 134,
   "id": "99129006",
   "metadata": {},
   "outputs": [
    {
     "data": {
      "text/plain": [
       "array([[16, 17, 18, 19, 20],\n",
       "       [21, 22, 23, 24, 25]])"
      ]
     },
     "execution_count": 134,
     "metadata": {},
     "output_type": "execute_result"
    }
   ],
   "source": [
    "# Q12(g)\n",
    "# Type your answer here\n",
    "mat[-2:]"
   ]
  },
  {
   "cell_type": "markdown",
   "id": "e9c00bc6",
   "metadata": {},
   "source": [
    "#### Q13 - Get the sum of all the values in the matrix"
   ]
  },
  {
   "cell_type": "code",
   "execution_count": 116,
   "id": "823bfdfa",
   "metadata": {},
   "outputs": [
    {
     "data": {
      "text/plain": [
       "array([[ 5,  6,  7],\n",
       "       [ 8,  9, 10],\n",
       "       [11, 12, 13]])"
      ]
     },
     "execution_count": 116,
     "metadata": {},
     "output_type": "execute_result"
    }
   ],
   "source": [
    "# Type your answer here\n",
    "mat = np.arange(5,14).reshape(3,3)\n",
    "mat"
   ]
  },
  {
   "cell_type": "code",
   "execution_count": 118,
   "id": "8c3a8f49",
   "metadata": {},
   "outputs": [
    {
     "data": {
      "text/plain": [
       "81"
      ]
     },
     "execution_count": 118,
     "metadata": {},
     "output_type": "execute_result"
    }
   ],
   "source": [
    "# Type your answer here\n",
    "mat.sum()"
   ]
  },
  {
   "cell_type": "code",
   "execution_count": 136,
   "id": "ca320abd",
   "metadata": {},
   "outputs": [
    {
     "data": {
      "text/plain": [
       "325"
      ]
     },
     "execution_count": 136,
     "metadata": {},
     "output_type": "execute_result"
    }
   ],
   "source": [
    "# Type your answer here\n",
    "np.sum(mat)"
   ]
  },
  {
   "cell_type": "markdown",
   "id": "d1668de0",
   "metadata": {},
   "source": [
    "### Sorting and Filtering of NumPy Arrays"
   ]
  },
  {
   "cell_type": "markdown",
   "id": "7b126381",
   "metadata": {},
   "source": [
    "#### Q13 - The medals_2023,csv file contains all the medals won by countries in SEA Games 2023"
   ]
  },
  {
   "cell_type": "code",
   "execution_count": 62,
   "id": "bc9dc8b1",
   "metadata": {},
   "outputs": [
    {
     "name": "stdout",
     "output_type": "stream",
     "text": [
      "['Rank', 'Country', 'Gold', 'Silver', 'Bronze', 'Total']\n",
      "['1', 'Vietnam', '136', '105', '114', '355']\n",
      "['2', 'Thailand', '108', '96', '109', '313']\n",
      "['3', 'Indonesia', '87', '80', '109', '276']\n",
      "['4', 'Cambodia', '81', '74', '127', '282']\n",
      "['5', 'Philippines', '58', '86', '116', '260']\n",
      "['6', 'Singapore', '51', '42', '64', '157']\n",
      "['7', 'Malaysia', '34', '45', '96', '175']\n",
      "['8', 'Myanmar', '21', '25', '68', '114']\n",
      "['9', 'Laos', '6', '22', '60', '88']\n",
      "['10', 'Brunei', '2', '1', '6', '9']\n",
      "['11', 'Timor-Leste', '0', '0', '8', '8']\n"
     ]
    }
   ],
   "source": [
    "import csv\n",
    "csvfile = open(\"datasets/medals_2023.csv\")\n",
    "for row in csv.reader(csvfile):\n",
    "    print(row)\n",
    "csvfile.close()"
   ]
  },
  {
   "cell_type": "markdown",
   "id": "18660968",
   "metadata": {},
   "source": [
    "#### Q13(a) - Use the data you read from csv file and convert it into NumPy array and display the data type"
   ]
  },
  {
   "cell_type": "code",
   "execution_count": 64,
   "id": "3abd90ed",
   "metadata": {},
   "outputs": [
    {
     "name": "stdout",
     "output_type": "stream",
     "text": [
      "[['Rank' 'Country' 'Gold' 'Silver' 'Bronze' 'Total']\n",
      " ['1' 'Vietnam' '136' '105' '114' '355']\n",
      " ['2' 'Thailand' '108' '96' '109' '313']\n",
      " ['3' 'Indonesia' '87' '80' '109' '276']\n",
      " ['4' 'Cambodia' '81' '74' '127' '282']\n",
      " ['5' 'Philippines' '58' '86' '116' '260']\n",
      " ['6' 'Singapore' '51' '42' '64' '157']\n",
      " ['7' 'Malaysia' '34' '45' '96' '175']\n",
      " ['8' 'Myanmar' '21' '25' '68' '114']\n",
      " ['9' 'Laos' '6' '22' '60' '88']\n",
      " ['10' 'Brunei' '2' '1' '6' '9']\n",
      " ['11' 'Timor-Leste' '0' '0' '8' '8']]\n"
     ]
    }
   ],
   "source": [
    "# Q13(a)\n",
    "# This array was created\n",
    "medals = [\n",
    "    ['Rank', 'Country', 'Gold', 'Silver', 'Bronze', 'Total'],\n",
    "    ['1', 'Vietnam', '136', '105', '114', '355'],\n",
    "    ['2', 'Thailand', '108', '96', '109', '313'],\n",
    "    ['3', 'Indonesia', '87', '80', '109', '276'],\n",
    "    ['4', 'Cambodia', '81', '74', '127', '282'],\n",
    "    ['5', 'Philippines', '58', '86', '116', '260'],\n",
    "    ['6', 'Singapore', '51', '42', '64', '157'],\n",
    "    ['7', 'Malaysia', '34', '45', '96', '175'],\n",
    "    ['8', 'Myanmar', '21', '25', '68', '114'],\n",
    "    ['9', 'Laos', '6', '22', '60', '88'],\n",
    "    ['10', 'Brunei', '2', '1', '6', '9'],\n",
    "    ['11', 'Timor-Leste', '0', '0', '8', '8']\n",
    "]\n",
    "\n",
    "# Convert the data to NumPy array\n",
    "# Type your answer here\n",
    "medals=np.array(medals)\n",
    "\n",
    "# Print the NumPy array\n",
    "# Type your answer here\n",
    "print(medals)"
   ]
  },
  {
   "cell_type": "code",
   "execution_count": 66,
   "id": "8de884e4",
   "metadata": {},
   "outputs": [
    {
     "data": {
      "text/plain": [
       "numpy.ndarray"
      ]
     },
     "execution_count": 66,
     "metadata": {},
     "output_type": "execute_result"
    }
   ],
   "source": [
    "# Q13(a)\n",
    "# Type your answer here\n",
    "type(medals)"
   ]
  },
  {
   "cell_type": "markdown",
   "id": "5ea9a2e5",
   "metadata": {},
   "source": [
    "#### Q13(b) - Only Display the Top 3 medal ranking countries"
   ]
  },
  {
   "cell_type": "code",
   "execution_count": 50,
   "id": "571ebde0",
   "metadata": {},
   "outputs": [
    {
     "data": {
      "text/plain": [
       "array([['Rank', 'Country', 'Gold', 'Silver', 'Bronze', 'Total'],\n",
       "       ['1', 'Vietnam', '136', '105', '114', '355'],\n",
       "       ['2', 'Thailand', '108', '96', '109', '313'],\n",
       "       ['3', 'Indonesia', '87', '80', '109', '276']], dtype='<U11')"
      ]
     },
     "execution_count": 50,
     "metadata": {},
     "output_type": "execute_result"
    }
   ],
   "source": [
    "# Q13(b)\n",
    "# Type your answer here\n",
    "# Extract the header and the top 3 rows\n",
    "header=medals[0]\n",
    "top3= medals[1:4] #\n",
    "\n",
    "# Print the header and top 3 countries\n",
    "top3"
   ]
  },
  {
   "cell_type": "markdown",
   "id": "67b4f45a",
   "metadata": {},
   "source": [
    "#### Q13(c) - Display all the medals won by Singapore"
   ]
  },
  {
   "cell_type": "code",
   "execution_count": 60,
   "id": "27b72c35",
   "metadata": {},
   "outputs": [
    {
     "name": "stdout",
     "output_type": "stream",
     "text": [
      "[['6' 'Singapore' '51' '42' '64' '157']]\n"
     ]
    }
   ],
   "source": [
    "# Q13(c)\n",
    "# Type your answer here\n",
    "# Create a boolean mask for rows where 'Country' is 'Singapore'\n",
    "sg=medals[medals[:,1]=='Singapore']\n",
    "\n",
    "# Use boolean indexing to extract the rows for Singapore\n",
    "\n",
    "\n",
    "# Print the medals won by Singapore\n",
    "print(sg)"
   ]
  },
  {
   "cell_type": "markdown",
   "id": "5e90e2d2",
   "metadata": {},
   "source": [
    "#### Q13(d) - Display only the Gold and Total Medals won by the Countries"
   ]
  },
  {
   "cell_type": "code",
   "execution_count": 31,
   "id": "f222258c",
   "metadata": {},
   "outputs": [
    {
     "name": "stdout",
     "output_type": "stream",
     "text": [
      "[['Rank' 'Country' 'Gold' 'Total']\n",
      " ['1' 'Vietnam' '136' '355']\n",
      " ['2' 'Thailand' '108' '313']\n",
      " ['3' 'Indonesia' '87' '276']\n",
      " ['4' 'Cambodia' '81' '282']\n",
      " ['5' 'Philippines' '58' '260']\n",
      " ['6' 'Singapore' '51' '157']\n",
      " ['7' 'Malaysia' '34' '175']\n",
      " ['8' 'Myanmar' '21' '114']\n",
      " ['9' 'Laos' '6' '88']\n",
      " ['10' 'Brunei' '2' '9']\n",
      " ['11' 'Timor-Leste' '0' '8']]\n"
     ]
    }
   ],
   "source": [
    "# Q13(d)\n",
    "# Type your answer here\n",
    "# Keep 'Rank', 'Country', 'Gold', and 'Total' columns\n",
    "\n",
    "\n",
    "# Print the selected columns for all countries\n"
   ]
  },
  {
   "cell_type": "markdown",
   "id": "46537ac2",
   "metadata": {},
   "source": [
    "#### Q13(e) Remove the Silver and Bronze column"
   ]
  },
  {
   "cell_type": "code",
   "execution_count": 32,
   "id": "2a2d5ee3",
   "metadata": {},
   "outputs": [
    {
     "name": "stdout",
     "output_type": "stream",
     "text": [
      "[['Rank' 'Country' 'Gold' 'Total']\n",
      " ['1' 'Vietnam' '136' '355']\n",
      " ['2' 'Thailand' '108' '313']\n",
      " ['3' 'Indonesia' '87' '276']\n",
      " ['4' 'Cambodia' '81' '282']\n",
      " ['5' 'Philippines' '58' '260']\n",
      " ['6' 'Singapore' '51' '157']\n",
      " ['7' 'Malaysia' '34' '175']\n",
      " ['8' 'Myanmar' '21' '114']\n",
      " ['9' 'Laos' '6' '88']\n",
      " ['10' 'Brunei' '2' '9']\n",
      " ['11' 'Timor-Leste' '0' '8']]\n"
     ]
    }
   ],
   "source": [
    "# Q13(e)\n",
    "# Type your answer here\n",
    "# Remove 'Silver' and 'Bronze' columns (columns 3 and 4)\n",
    "\n",
    "\n",
    "# Print the modified NumPy array\n"
   ]
  },
  {
   "cell_type": "markdown",
   "id": "7ecfaa88",
   "metadata": {},
   "source": [
    "#### Q13(f) - Sort the Medal Tally Table based on the Total Medals won by countries"
   ]
  },
  {
   "cell_type": "code",
   "execution_count": 33,
   "id": "48f76a39",
   "metadata": {},
   "outputs": [
    {
     "name": "stdout",
     "output_type": "stream",
     "text": [
      "[['Rank' 'Country' 'Gold' 'Silver' 'Bronze' 'Total']\n",
      " ['1' 'Vietnam' '136' '105' '114' '355']\n",
      " ['2' 'Thailand' '108' '96' '109' '313']\n",
      " ['4' 'Cambodia' '81' '74' '127' '282']\n",
      " ['3' 'Indonesia' '87' '80' '109' '276']\n",
      " ['5' 'Philippines' '58' '86' '116' '260']\n",
      " ['7' 'Malaysia' '34' '45' '96' '175']\n",
      " ['6' 'Singapore' '51' '42' '64' '157']\n",
      " ['8' 'Myanmar' '21' '25' '68' '114']\n",
      " ['9' 'Laos' '6' '22' '60' '88']\n",
      " ['10' 'Brunei' '2' '1' '6' '9']\n",
      " ['11' 'Timor-Leste' '0' '0' '8' '8']]\n"
     ]
    }
   ],
   "source": [
    "# Q13(f)\n",
    "\n",
    "import numpy as np\n",
    "\n",
    "medals = [\n",
    "    ['Rank', 'Country', 'Gold', 'Silver', 'Bronze', 'Total'],\n",
    "    ['1', 'Vietnam', '136', '105', '114', '355'],\n",
    "    ['2', 'Thailand', '108', '96', '109', '313'],\n",
    "    ['3', 'Indonesia', '87', '80', '109', '276'],\n",
    "    ['4', 'Cambodia', '81', '74', '127', '282'],\n",
    "    ['5', 'Philippines', '58', '86', '116', '260'],\n",
    "    ['6', 'Singapore', '51', '42', '64', '157'],\n",
    "    ['7', 'Malaysia', '34', '45', '96', '175'],\n",
    "    ['8', 'Myanmar', '21', '25', '68', '114'],\n",
    "    ['9', 'Laos', '6', '22', '60', '88'],\n",
    "    ['10', 'Brunei', '2', '1', '6', '9'],\n",
    "    ['11', 'Timor-Leste', '0', '0', '8', '8']\n",
    "]\n",
    "\n",
    "numpy_array = np.array(medals[1:], dtype=object)\n",
    "\n",
    "# Convert 'Total' column to integers for sorting\n",
    "# Type your answer here\n",
    "\n",
    "# Get indices that would sort the 'Total' column in descending order\n",
    "# Type your answer here\n",
    "\n",
    "# Sort the NumPy array based on the sorted indices\n",
    "# Type your answer here\n",
    "\n",
    "# Add the header row back to the sorted array\n",
    "# Type your answer here\n",
    "\n",
    "# Print the sorted NumPy array\n",
    "# Type your answer here"
   ]
  },
  {
   "cell_type": "code",
   "execution_count": 34,
   "id": "987b8296",
   "metadata": {},
   "outputs": [
    {
     "name": "stdout",
     "output_type": "stream",
     "text": [
      "[['Rank' 'Country' 'Gold' 'Total']\n",
      " ['1' 'Vietnam' '136' '355']\n",
      " ['2' 'Thailand' '108' '313']\n",
      " ['4' 'Cambodia' '81' '282']\n",
      " ['3' 'Indonesia' '87' '276']\n",
      " ['5' 'Philippines' '58' '260']\n",
      " ['7' 'Malaysia' '34' '175']\n",
      " ['6' 'Singapore' '51' '157']\n",
      " ['8' 'Myanmar' '21' '114']\n",
      " ['9' 'Laos' '6' '88']\n",
      " ['10' 'Brunei' '2' '9']\n",
      " ['11' 'Timor-Leste' '0' '8']]\n"
     ]
    }
   ],
   "source": [
    "# Q13(f)\n",
    "\n",
    "import numpy as np\n",
    "\n",
    "medals = [\n",
    "    ['Rank', 'Country', 'Gold', 'Silver', 'Bronze', 'Total'],\n",
    "    ['1', 'Vietnam', '136', '105', '114', '355'],\n",
    "    ['2', 'Thailand', '108', '96', '109', '313'],\n",
    "    ['3', 'Indonesia', '87', '80', '109', '276'],\n",
    "    ['4', 'Cambodia', '81', '74', '127', '282'],\n",
    "    ['5', 'Philippines', '58', '86', '116', '260'],\n",
    "    ['6', 'Singapore', '51', '42', '64', '157'],\n",
    "    ['7', 'Malaysia', '34', '45', '96', '175'],\n",
    "    ['8', 'Myanmar', '21', '25', '68', '114'],\n",
    "    ['9', 'Laos', '6', '22', '60', '88'],\n",
    "    ['10', 'Brunei', '2', '1', '6', '9'],\n",
    "    ['11', 'Timor-Leste', '0', '0', '8', '8']\n",
    "]\n",
    "\n",
    "# Convert the data to NumPy array, excluding the first row\n",
    "# Type your answer here\n",
    "\n",
    "# Remove 'Silver' and 'Bronze' columns (columns 3 and 4)\n",
    "# Type your answer here\n",
    "\n",
    "# Convert 'Total' column to integers for sorting\n",
    "# Type your answer here\n",
    "\n",
    "# Get indices that would sort the 'Total' column in descending order\n",
    "# Type your answer here\n",
    "\n",
    "# Sort the NumPy array based on the sorted indices\n",
    "# Type your answer here\n",
    "\n",
    "# Add the header row back to the sorted array\n",
    "# Type your answer here\n",
    "\n",
    "# Print the sorted NumPy array without 'Silver' and 'Bronze'\n",
    "# Type your answer here"
   ]
  }
 ],
 "metadata": {
  "kernelspec": {
   "display_name": "Python 3 (ipykernel)",
   "language": "python",
   "name": "python3"
  },
  "language_info": {
   "codemirror_mode": {
    "name": "ipython",
    "version": 3
   },
   "file_extension": ".py",
   "mimetype": "text/x-python",
   "name": "python",
   "nbconvert_exporter": "python",
   "pygments_lexer": "ipython3",
   "version": "3.11.0"
  }
 },
 "nbformat": 4,
 "nbformat_minor": 5
}

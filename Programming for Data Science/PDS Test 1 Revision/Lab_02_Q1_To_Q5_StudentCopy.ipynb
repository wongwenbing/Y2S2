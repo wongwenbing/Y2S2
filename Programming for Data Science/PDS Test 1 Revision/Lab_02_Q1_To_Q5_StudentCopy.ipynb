{
 "cells": [
  {
   "cell_type": "markdown",
   "id": "9d916fbd-32a7-4b40-bfda-49190a58c4ab",
   "metadata": {},
   "source": [
    "# IT2313 - Programming for Data Science\n",
    "# Practical 2 (Question 1 to 5)\n",
    "\n",
    "## List and Tuple \r\n"
   ]
  },
  {
   "cell_type": "markdown",
   "id": "f687b197-9aed-47be-bbd2-59913cf477e4",
   "metadata": {},
   "source": [
    "### Q1 - House Area Measurements\r\n",
    "Q\r",
    "1- . After measuring the height of your family, you decide to collect some information on the house you're living in. The areas of different parts of your house are as follows:\r\n",
    "\r\n",
    "   | Hall  | Kitchen | Living | Bedroom | Bath  |\r\n",
    "   |-------|---------|--------|---------|-------|\r\n",
    "   | 11.25 | 18.20   | 20.0   | 10.75   | 9.5   |\r\n",
    "\r\n",
    "   **Objective:**\r\n",
    "   Create a list, `areas`, which contains the area of the Hallway (`hall`), Kitchen (`kit`), Living Room (`living`), Bedroom (`bed`), and Bathroom (`bath`), in this order. Use the predefined variables.\r\n",
    "\r\n",
    "   a) Print the `areas` list using the `print()` function.\r\n",
    "\r\n",
    "   b) Print out the areas of the kitchen and bathroom.\r\n",
    "\r\n",
    "   c) Without changing the list in previous cells, update the area of the bathroom to 10.51.\r\n",
    "\r\n",
    "   d) Instead of creating the list, let's try to create the areas in the table using a `Tuple` and print the areas with the `print()` function.\r\n",
    "e.\r\n",
    "\r\n"
   ]
  },
  {
   "cell_type": "code",
   "execution_count": 18,
   "id": "0b62e846",
   "metadata": {},
   "outputs": [
    {
     "name": "stdout",
     "output_type": "stream",
     "text": [
      "[11.25, 18.0, 20.0, 10.75, 9.5]\n"
     ]
    }
   ],
   "source": [
    "# Question 1(a) - Type your answers here\n",
    "\n",
    "# area variables (in square meters)\n",
    "\n",
    "\n",
    "# Create list areas\n",
    "\n",
    "\n",
    "# Print areas\n"
   ]
  },
  {
   "cell_type": "code",
   "execution_count": 19,
   "id": "180296b3",
   "metadata": {},
   "outputs": [
    {
     "name": "stdout",
     "output_type": "stream",
     "text": [
      "['Hallway', 11.25, 'Kitchen', 18.0, 'Living Room', 20.0, 'Bedroom', 10.75, 'Bathroom', 9.5]\n"
     ]
    }
   ],
   "source": [
    "# Question 1(a) - Type your answers here\n",
    "\n",
    "# area variables (in square meters)\n",
    "\n",
    "\n",
    "# Adapt list areas\n",
    "\n",
    "\n",
    "# Print areas\n"
   ]
  },
  {
   "cell_type": "code",
   "execution_count": 20,
   "id": "1dbf4d50",
   "metadata": {},
   "outputs": [
    {
     "name": "stdout",
     "output_type": "stream",
     "text": [
      "Area of Kitchen is  18.0\n",
      "Area of Bathroom is  9.5\n",
      "Area of Bathroom is  9.5\n"
     ]
    }
   ],
   "source": [
    "# Question 1(b) - Type your answers here\n",
    "\n"
   ]
  },
  {
   "cell_type": "code",
   "execution_count": 21,
   "id": "0bad5b9e",
   "metadata": {},
   "outputs": [
    {
     "name": "stdout",
     "output_type": "stream",
     "text": [
      "['Hallway', 11.25, 'Kitchen', 18.0, 'Living Room', 20.0, 'Bedroom', 10.75, 'Bathroom', 10.51]\n"
     ]
    }
   ],
   "source": [
    "# Question 1(c) -  Type your answers here\n",
    "\n"
   ]
  },
  {
   "cell_type": "code",
   "execution_count": 22,
   "id": "7799d894",
   "metadata": {},
   "outputs": [
    {
     "name": "stdout",
     "output_type": "stream",
     "text": [
      "(11.25, 18.0, 20.0, 10.75, 9.5)\n"
     ]
    }
   ],
   "source": [
    "# Question 1(d) -  Type your answers here\n",
    "\n",
    "\n",
    "# Create list areas in Tuple\n",
    "\n",
    "\n",
    "# Print areas\n"
   ]
  },
  {
   "cell_type": "markdown",
   "id": "fad4e47b-4ee0-4aea-a50a-2b7f709d778f",
   "metadata": {},
   "source": [
    "### Q2 - Compare Two Lists for Mismatched Positions\n",
    "\n",
    "Given two equal-length lists of unique numbers, write a function to return the number of items in these two lists that have the same values but are at different positions.\n",
    "\n",
    "For example, if these two lists are `[1, 2, 3, 5]` and `[2, 1, 3, 4]`, then the output is `2` because the same values `1` and `2` appear at different positions.\n",
    "\n",
    "#### Test Cases:\n",
    "\n",
    "| Input1: list      | Input2: list      | Output: int |\n",
    "|--------------------|--------------------|-------------|\n",
    "| **Test 1:**        | `[1, 2, 3, 5]`     | `[2, 1, 3, 4]` | `2`         |\n",
    "| **Test 2:**        | `[1, 2, 3, 5]`     | `[1, 2, 3, 4]` | `0`         |\n"
   ]
  },
  {
   "cell_type": "code",
   "execution_count": 23,
   "id": "617a1f24",
   "metadata": {},
   "outputs": [
    {
     "name": "stdout",
     "output_type": "stream",
     "text": [
      "3\n"
     ]
    }
   ],
   "source": [
    "# Question 2 - For counting Matching Positions\n",
    "def count_matching_positions(list1, list2):\n",
    "\n",
    "    return count\n",
    "\n",
    "# Example usage:\n",
    "list1 = [1, 2, 3, 5]\n",
    "list2 = [2, 1, 3, 4]\n",
    "\n",
    "result = len(list1) - count_matching_positions(list1, list2)\n",
    "print(result)"
   ]
  },
  {
   "cell_type": "code",
   "execution_count": 24,
   "id": "bf57413e",
   "metadata": {},
   "outputs": [
    {
     "name": "stdout",
     "output_type": "stream",
     "text": [
      "2\n",
      "0\n"
     ]
    }
   ],
   "source": [
    "# Question 2 - For counting Un-Matching Positions\n",
    "def count_different_positions(list1, list2):\n",
    "\n",
    "    return count\n",
    "\n",
    "# Example usage:\n",
    "list1 = [1, 2, 3, 5]\n",
    "list2 = [2, 1, 3, 4]\n",
    "list3 = [1, 2, 3, 4]\n",
    "\n",
    "result = count_different_positions(list1, list2)\n",
    "print(result)\n",
    "\n",
    "result = count_different_positions(list1, list3)\n",
    "print(result)"
   ]
  },
  {
   "cell_type": "markdown",
   "id": "abeacd37-fae8-4657-8943-2a829b86070e",
   "metadata": {},
   "source": [
    "### Q3 - Student Exam Scores Management\r\n",
    "\r\n",
    "You are tasked with managing a list of students and their exam scores. Each student is represented as a tuple containing the following information: \r\n",
    "\r\n",
    "- **Student's Name** – Alice, Bob, Charlie\r\n",
    "- **Admin Number** – IT001, IT002, IT003\r\n",
    "- **Math Score** – 90, 88, 78\r\n",
    "- **Science Score** – 85, 90, 82\r\n",
    "\r\n",
    "#### Write a Python program to perform the following tasks:\r\n",
    "\r\n",
    "a) Create a list with information for 3 students.  \r\n",
    "b) Display the information of each student, including their name, admission number, and average score.  \r\n",
    "c) Identify and print the student with the highest average score.  \r\n"
   ]
  },
  {
   "cell_type": "code",
   "execution_count": 25,
   "id": "15a6c8bc",
   "metadata": {},
   "outputs": [
    {
     "name": "stdout",
     "output_type": "stream",
     "text": [
      "Student: Alice, Admin Number: IT001, Average Score: 87.50\n",
      "Student: Bob, Admin Number: IT002, Average Score: 89.00\n",
      "Student: Charlie, Admin Number: IT003, Average Score: 80.00\n",
      "\n",
      "Student with the Highest Average Score:\n",
      "Name: Bob, Admin Number: IT002, Average Score: 89.00\n"
     ]
    }
   ],
   "source": [
    "# Question 3 - Type your answers here\n",
    "\n",
    "# Student information as tuples (Name, Admin Number, Math Score, Science Score)\n",
    "\n",
    "\n",
    "# Display information for each student\n",
    "\n",
    "\n",
    "# Identify and print the student with the highest average score\n"
   ]
  },
  {
   "cell_type": "markdown",
   "id": "85e331c3-8672-4fe8-a50f-9ae6ad09e2a2",
   "metadata": {},
   "source": [
    "## Dictionaries\n",
    "### 4. Create a Dictionary for Profile Information\n",
    "\n",
    "Create a dictionary that holds the profile information of a person. The dictionary should include the following keys:\n",
    "\n",
    "- **Name**\n",
    "- **Age**\n",
    "- **Birth Month**\n",
    "- **Employed Status** (True/False)\n",
    "\n"
   ]
  },
  {
   "cell_type": "markdown",
   "id": "cd00d0e9-86b4-4b9b-8287-c45b86866623",
   "metadata": {},
   "source": [
    "**a)** Hint: The following is the sample output.\n",
    "```\n",
    "{'Name': 'David Wong', 'Age': 33, 'Birth Month': 'June', 'Employed Status': True}"
   ]
  },
  {
   "cell_type": "markdown",
   "id": "5fa7d79f-34ae-4bc8-8253-a729f4000aa0",
   "metadata": {},
   "source": [
    "**b)** Update the age to 35."
   ]
  },
  {
   "cell_type": "markdown",
   "id": "d1435cf4-5e30-4b04-9c49-cf8c901c6082",
   "metadata": {},
   "source": [
    "**c)** Print out the following using the information store in your dictionary\n",
    "```\n",
    "David Wong's age is 35"
   ]
  },
  {
   "cell_type": "code",
   "execution_count": 27,
   "id": "a2d9212c",
   "metadata": {},
   "outputs": [
    {
     "name": "stdout",
     "output_type": "stream",
     "text": [
      "{'Name': 'David Wong', 'Age': 33, 'Birth Month': 'June', 'Employed Status': True}\n"
     ]
    }
   ],
   "source": [
    "# Question 4(a) - Type your answers here\n"
   ]
  },
  {
   "cell_type": "code",
   "execution_count": 28,
   "id": "39488da5",
   "metadata": {},
   "outputs": [],
   "source": [
    "# Question 4(b) - Type your answers here\n"
   ]
  },
  {
   "cell_type": "code",
   "execution_count": 29,
   "id": "6a5500b7",
   "metadata": {},
   "outputs": [
    {
     "name": "stdout",
     "output_type": "stream",
     "text": [
      "David Wong's age is 35\n"
     ]
    }
   ],
   "source": [
    "# Question 4(c) - Type your answers here\n"
   ]
  },
  {
   "cell_type": "markdown",
   "id": "f9eeb84a-ffbb-454b-b0d8-f61f7560ee20",
   "metadata": {},
   "source": [
    "## Question 5\n",
    "Write a Python code snippet to create a dictionary named `Yr2023_details_dict` that contains the following information:\n",
    "\n",
    "- **Semester 2 courses**: `\"IT2311\"`, `\"IT2312\"`, `\"IT2313\"`, `\"IT2391\"`, `\"IT2392\"`, `\"IT2393\"`, `\"IT2394\"`\n",
    "- **Semester 1 courses**: `\"IT2301\"`, `\"IT2302\"`, `\"IT2381\"`, `\"IT2382\"`, `\"IT2383\"`, `\"IT2384\"`, `\"IT2385\"`, `\"IT2386\"`\n",
    "\n",
    "\n",
    "(a) Using the dictionary you created in the previous question, write a code to display the entire contents of `Yr2023_details_dict`.\n",
    "\n",
    "(b) Print out the second item in Semester 1\n",
    "\n",
    "(c) Add a new course, \"IT2395\", to Semester 2 in the Yr2023_details_dict and display the updated dictionary.\n",
    "\n",
    "(d) To count and print the total number of courses offered in both Semester 1 and Semester 2 combined.\r\n"
   ]
  },
  {
   "cell_type": "code",
   "execution_count": 30,
   "id": "a876c78a",
   "metadata": {},
   "outputs": [
    {
     "data": {
      "text/plain": [
       "{'sem2': ['IT2311',\n",
       "  'IT2312',\n",
       "  'IT2313',\n",
       "  'IT2391',\n",
       "  'IT2392',\n",
       "  'IT2393',\n",
       "  'IT2394'],\n",
       " 'sem1': ['IT2301',\n",
       "  'IT2302',\n",
       "  'IT2381',\n",
       "  'IT2382',\n",
       "  'IT2383',\n",
       "  'IT2384',\n",
       "  'IT2385',\n",
       "  'IT2386']}"
      ]
     },
     "execution_count": 30,
     "metadata": {},
     "output_type": "execute_result"
    }
   ],
   "source": [
    "# Question 5(a) - Type your answers here\n"
   ]
  },
  {
   "cell_type": "code",
   "execution_count": 31,
   "id": "1d36ed63",
   "metadata": {
    "scrolled": true
   },
   "outputs": [
    {
     "name": "stdout",
     "output_type": "stream",
     "text": [
      "The second item in Semester 1 is IT2302\n"
     ]
    }
   ],
   "source": [
    "# Question 5(b) - Type your answers here\n"
   ]
  },
  {
   "cell_type": "code",
   "execution_count": 32,
   "id": "3a242630",
   "metadata": {},
   "outputs": [
    {
     "name": "stdout",
     "output_type": "stream",
     "text": [
      "{'sem2': ['IT2311', 'IT2312', 'IT2313', 'IT2391', 'IT2392', 'IT2393', 'IT2394', 'IT2395'], 'sem1': ['IT2301', 'IT2302', 'IT2381', 'IT2382', 'IT2383', 'IT2384', 'IT2385', 'IT2386']}\n"
     ]
    }
   ],
   "source": [
    "# Question 5(c) - Type your answers here\n",
    "\n"
   ]
  },
  {
   "cell_type": "code",
   "execution_count": 33,
   "id": "5bd57378",
   "metadata": {},
   "outputs": [
    {
     "name": "stdout",
     "output_type": "stream",
     "text": [
      "Total number of courses: 16\n"
     ]
    }
   ],
   "source": [
    "# Question 5(d) - Type your answers here\n"
   ]
  }
 ],
 "metadata": {
  "kernelspec": {
   "display_name": "Python 3 (ipykernel)",
   "language": "python",
   "name": "python3"
  },
  "language_info": {
   "codemirror_mode": {
    "name": "ipython",
    "version": 3
   },
   "file_extension": ".py",
   "mimetype": "text/x-python",
   "name": "python",
   "nbconvert_exporter": "python",
   "pygments_lexer": "ipython3",
   "version": "3.11.9"
  }
 },
 "nbformat": 4,
 "nbformat_minor": 5
}

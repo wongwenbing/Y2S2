{
 "cells": [
  {
   "attachments": {
    "NYPLogo.png": {
     "image/png": "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"
    }
   },
   "cell_type": "markdown",
   "metadata": {},
   "source": [
    "![NYPLogo.png](attachment:NYPLogo.png)\n",
    "\n",
    "# IT2311 Assignment - Task 1a: Data Preparation\n",
    "\n",
    "For this task, you are required to perform data understanding to examine your dataset and data cleaning to prepare the data for task 2 and 3.\n",
    "\n",
    "Rename **DataPreparationStarter.ipynb** to **\\<AdminNo\\>_DataPreparation.ipynb** and complete the following sub-tasks:\n",
    "\n",
    "Complete the following sub-tasks:\n",
    "\n",
    "1. **Load Data**: Load your dataset\n",
    "2. **Data Understanding**: Examine your dataset\n",
    "3. **Data Cleaning**: Clean your data and perform all necessary pre-processing tasks\n",
    "4. **Save Data**: Save the cleaned data for next task\n",
    "\n",
    "For each sub-task, perform the necessary steps and **explain the rationale taken for each step in this Jupyter notebook**. \n",
    "\n",
    "**Done by: Wong Wen Bing 230436M**"
   ]
  },
  {
   "cell_type": "markdown",
   "metadata": {},
   "source": [
    "## Import libraries and download the packages"
   ]
  },
  {
   "cell_type": "code",
   "execution_count": 6,
   "metadata": {},
   "outputs": [],
   "source": [
    "import pandas as pd\n",
    "import matplotlib.pyplot as plt\n",
    "import seaborn as sns"
   ]
  },
  {
   "cell_type": "markdown",
   "metadata": {},
   "source": [
    "## Load Data"
   ]
  },
  {
   "cell_type": "code",
   "execution_count": 2,
   "metadata": {},
   "outputs": [
    {
     "data": {
      "text/html": [
       "<div>\n",
       "<style scoped>\n",
       "    .dataframe tbody tr th:only-of-type {\n",
       "        vertical-align: middle;\n",
       "    }\n",
       "\n",
       "    .dataframe tbody tr th {\n",
       "        vertical-align: top;\n",
       "    }\n",
       "\n",
       "    .dataframe thead th {\n",
       "        text-align: right;\n",
       "    }\n",
       "</style>\n",
       "<table border=\"1\" class=\"dataframe\">\n",
       "  <thead>\n",
       "    <tr style=\"text-align: right;\">\n",
       "      <th></th>\n",
       "      <th>DataSource</th>\n",
       "      <th>Text</th>\n",
       "    </tr>\n",
       "  </thead>\n",
       "  <tbody>\n",
       "    <tr>\n",
       "      <th>0</th>\n",
       "      <td>Open Opp</td>\n",
       "      <td>Improving Quality and Safety of Care: &lt;p&gt;&lt;stro...</td>\n",
       "    </tr>\n",
       "    <tr>\n",
       "      <th>1</th>\n",
       "      <td>Open Opp</td>\n",
       "      <td>Emergency Relief, Education, Health, Infrastru...</td>\n",
       "    </tr>\n",
       "    <tr>\n",
       "      <th>2</th>\n",
       "      <td>Open Opp</td>\n",
       "      <td>Support for Philanthropy, Child Health, Empowe...</td>\n",
       "    </tr>\n",
       "    <tr>\n",
       "      <th>3</th>\n",
       "      <td>Open Opp</td>\n",
       "      <td>Provision of Clinical Trial to Reduce Health I...</td>\n",
       "    </tr>\n",
       "    <tr>\n",
       "      <th>4</th>\n",
       "      <td>Open Opp</td>\n",
       "      <td>Provision of Strategic Actions Supporting Larg...</td>\n",
       "    </tr>\n",
       "  </tbody>\n",
       "</table>\n",
       "</div>"
      ],
      "text/plain": [
       "  DataSource                                               Text\n",
       "0   Open Opp  Improving Quality and Safety of Care: <p><stro...\n",
       "1   Open Opp  Emergency Relief, Education, Health, Infrastru...\n",
       "2   Open Opp  Support for Philanthropy, Child Health, Empowe...\n",
       "3   Open Opp  Provision of Clinical Trial to Reduce Health I...\n",
       "4   Open Opp  Provision of Strategic Actions Supporting Larg..."
      ]
     },
     "execution_count": 2,
     "metadata": {},
     "output_type": "execute_result"
    }
   ],
   "source": [
    "dataset=pd.read_excel('TM_Dataset.xlsx')\n",
    "dataset.head()"
   ]
  },
  {
   "cell_type": "markdown",
   "metadata": {},
   "source": [
    "## Data Understanding\n",
    "Perform the necessary steps and explain the rationale taken here.\n",
    "\n"
   ]
  },
  {
   "cell_type": "code",
   "execution_count": 3,
   "metadata": {},
   "outputs": [
    {
     "data": {
<<<<<<< HEAD
=======
      "text/html": [
       "<div>\n",
       "<style scoped>\n",
       "    .dataframe tbody tr th:only-of-type {\n",
       "        vertical-align: middle;\n",
       "    }\n",
       "\n",
       "    .dataframe tbody tr th {\n",
       "        vertical-align: top;\n",
       "    }\n",
       "\n",
       "    .dataframe thead th {\n",
       "        text-align: right;\n",
       "    }\n",
       "</style>\n",
       "<table border=\"1\" class=\"dataframe\">\n",
       "  <thead>\n",
       "    <tr style=\"text-align: right;\">\n",
       "      <th></th>\n",
       "      <th>DataSource</th>\n",
       "      <th>Text</th>\n",
       "    </tr>\n",
       "  </thead>\n",
       "  <tbody>\n",
       "    <tr>\n",
       "      <th>0</th>\n",
       "      <td>Open Opp</td>\n",
       "      <td>Improving Quality and Safety of Care: &lt;p&gt;&lt;stro...</td>\n",
       "    </tr>\n",
       "    <tr>\n",
       "      <th>1</th>\n",
       "      <td>Open Opp</td>\n",
       "      <td>Emergency Relief, Education, Health, Infrastru...</td>\n",
       "    </tr>\n",
       "    <tr>\n",
       "      <th>2</th>\n",
       "      <td>Open Opp</td>\n",
       "      <td>Support for Philanthropy, Child Health, Empowe...</td>\n",
       "    </tr>\n",
       "    <tr>\n",
       "      <th>3</th>\n",
       "      <td>Open Opp</td>\n",
       "      <td>Provision of Clinical Trial to Reduce Health I...</td>\n",
       "    </tr>\n",
       "    <tr>\n",
       "      <th>4</th>\n",
       "      <td>Open Opp</td>\n",
       "      <td>Provision of Strategic Actions Supporting Larg...</td>\n",
       "    </tr>\n",
       "  </tbody>\n",
       "</table>\n",
       "</div>"
      ],
      "text/plain": [
       "  DataSource                                               Text\n",
       "0   Open Opp  Improving Quality and Safety of Care: <p><stro...\n",
       "1   Open Opp  Emergency Relief, Education, Health, Infrastru...\n",
       "2   Open Opp  Support for Philanthropy, Child Health, Empowe...\n",
       "3   Open Opp  Provision of Clinical Trial to Reduce Health I...\n",
       "4   Open Opp  Provision of Strategic Actions Supporting Larg..."
      ]
     },
     "execution_count": 3,
     "metadata": {},
     "output_type": "execute_result"
    }
   ],
   "source": [
    "dataset.head()"
   ]
  },
  {
   "cell_type": "code",
   "execution_count": 4,
   "metadata": {},
   "outputs": [
    {
     "data": {
>>>>>>> 8188c353e690963f3cdd7fb7aa27273a69813334
      "text/plain": [
       "DataSource    0\n",
       "Text          0\n",
       "dtype: int64"
      ]
     },
     "execution_count": 3,
     "execution_count": 4,
     "metadata": {},
     "output_type": "execute_result"
    }
   ],
   "source": [
    "dataset.isnull().sum()"
   ]
  },
  {
   "cell_type": "code",
   "execution_count": 5,
   "metadata": {},
   "outputs": [
    {
     "data": {
      "text/plain": [
       "46"
      ]
     },
     "execution_count": 5,
     "metadata": {},
     "output_type": "execute_result"
    }
   ],
   "source": [
    "dataset.duplicated().sum()"
   ]
<<<<<<< HEAD
  },
  {
   "cell_type": "code",
   "execution_count": 7,
   "metadata": {},
   "outputs": [
    {
     "name": "stderr",
     "output_type": "stream",
     "text": [
      "c:\\ProgramData\\anaconda3\\Lib\\site-packages\\seaborn\\_oldcore.py:1498: FutureWarning: is_categorical_dtype is deprecated and will be removed in a future version. Use isinstance(dtype, CategoricalDtype) instead\n",
      "  if pd.api.types.is_categorical_dtype(vector):\n",
      "c:\\ProgramData\\anaconda3\\Lib\\site-packages\\seaborn\\_oldcore.py:1498: FutureWarning: is_categorical_dtype is deprecated and will be removed in a future version. Use isinstance(dtype, CategoricalDtype) instead\n",
      "  if pd.api.types.is_categorical_dtype(vector):\n",
      "c:\\ProgramData\\anaconda3\\Lib\\site-packages\\seaborn\\_oldcore.py:1119: FutureWarning: use_inf_as_na option is deprecated and will be removed in a future version. Convert inf values to NaN before operating instead.\n",
      "  with pd.option_context('mode.use_inf_as_na', True):\n"
     ]
    },
    {
     "data": {
      "image/png": "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",
      "text/plain": [
       "<Figure size 1200x600 with 1 Axes>"
      ]
     },
     "metadata": {},
     "output_type": "display_data"
    }
   ],
   "source": [
    "group=dataset.groupby(['DataSource']).count()\n",
    "plt.figure(figsize=(12, 6))  \n",
    "sns.histplot(dataset['DataSource'])\n",
    "plt.title('Distribution of Species in the Cleaned Dataset')\n",
    "plt.show()"
   ]
=======
>>>>>>> 8188c353e690963f3cdd7fb7aa27273a69813334
  },
  {
   "cell_type": "markdown",
   "metadata": {},
   "source": [
    "## Data Cleaning\n",
    "Perform the necessary steps and explain the rationale taken here.\n",
    "\n"
   ]
  },
  {
   "cell_type": "code",
   "execution_count": null,
   "metadata": {},
   "outputs": [],
   "source": []
  },
  {
   "cell_type": "markdown",
   "metadata": {},
   "source": [
    "## Save Data"
   ]
  },
  {
   "cell_type": "code",
   "execution_count": null,
   "metadata": {},
   "outputs": [],
   "source": []
  },
  {
   "cell_type": "markdown",
   "metadata": {},
   "source": [
    "## Submission\n",
    "Export your completed work as HTML. Select **File** > **Download as** > **HTML (.html)**."
   ]
  }
 ],
 "metadata": {
  "kernelspec": {
   "display_name": "base",
   "language": "python",
   "name": "python3"
  },
  "language_info": {
   "codemirror_mode": {
    "name": "ipython",
    "version": 3
   },
   "file_extension": ".py",
   "mimetype": "text/x-python",
   "name": "python",
   "nbconvert_exporter": "python",
   "pygments_lexer": "ipython3",
   "version": "3.11.7"
  }
 },
 "nbformat": 4,
 "nbformat_minor": 4
}

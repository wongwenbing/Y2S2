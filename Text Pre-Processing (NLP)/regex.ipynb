{
  "cells": [
    {
      "cell_type": "markdown",
      "metadata": {
        "id": "m7_zOdoCkB-D"
      },
      "source": [
        "## Exercise 2"
      ]
    },
    {
      "cell_type": "code",
      "execution_count": 1,
      "metadata": {
        "id": "hJZAMm-ekA41"
      },
      "outputs": [],
      "source": [
        "text=\"A special dividend is a non-recurring distribution of company assets, usually in the form of cash, to shareholders. A special dividend is usually larger compared to normal dividends paid out by the company and often tied to a specific event like an asset sale or other windfall event.\""
      ]
    },
    {
      "cell_type": "code",
      "execution_count": 2,
      "metadata": {
        "id": "H5xksXXUkA43"
      },
      "outputs": [],
      "source": [
        "import re"
      ]
    },
    {
      "cell_type": "code",
      "execution_count": 3,
      "metadata": {
        "colab": {
          "base_uri": "https://localhost:8080/"
        },
        "id": "rjoSx9mhkA43",
        "outputId": "a0a1c1dc-ef55-463f-f971-eaa0948e0224"
      },
      "outputs": [
        {
          "name": "stdout",
          "output_type": "stream",
          "text": [
            "None\n"
          ]
        }
      ],
      "source": [
        "pattern=\"DIVIDEND\"\n",
        "result=re.search(pattern, text)\n",
        "print(result)"
      ]
    },
    {
      "cell_type": "markdown",
      "metadata": {
        "id": "FZ9HAjbtkNEA"
      },
      "source": [
        "## Exercise 3"
      ]
    },
    {
      "cell_type": "code",
      "execution_count": 4,
      "metadata": {
        "colab": {
          "base_uri": "https://localhost:8080/"
        },
        "id": "Gatu62GUkA44",
        "outputId": "809776a9-5699-42fb-a9f4-b8cd92ba002e"
      },
      "outputs": [
        {
          "name": "stdout",
          "output_type": "stream",
          "text": [
            "<re.Match object; span=(10, 18), match='dividend'>\n"
          ]
        }
      ],
      "source": [
        "result=re.search(pattern, text, flags=re.IGNORECASE)\n",
        "print(result)"
      ]
    },
    {
      "cell_type": "markdown",
      "metadata": {
        "id": "6O0kDRvOlQ6q"
      },
      "source": [
        "## Exercise 4"
      ]
    },
    {
      "cell_type": "code",
      "execution_count": 5,
      "metadata": {
        "id": "c1Dm9z-rkA44"
      },
      "outputs": [],
      "source": [
        "text=\"\"\"The advancements in biomarine studies franky@google.com, with the investments necessary and Davos sinatra123@yahoo.com Then The New Yorker article on wind\n",
        "farms...\"\"\"\n"
      ]
    },
    {
      "cell_type": "code",
      "execution_count": 6,
      "metadata": {
        "colab": {
          "base_uri": "https://localhost:8080/"
        },
        "id": "jDUXA05fkA45",
        "outputId": "54488dad-0c44-4882-afb0-5992634d5ec4"
      },
      "outputs": [
        {
          "name": "stdout",
          "output_type": "stream",
          "text": [
            "['franky@', 'sinatra123@']\n"
          ]
        }
      ],
      "source": [
        "pattern=\"\\S+@\"\n",
        "result=re.findall(pattern, text, flags=re.IGNORECASE)\n",
        "print(result)"
      ]
    },
    {
      "cell_type": "markdown",
      "metadata": {
        "id": "e0qoWLVGlt5i"
      },
      "source": [
        "## Exercise 5"
      ]
    },
    {
      "cell_type": "code",
      "execution_count": 7,
      "metadata": {
        "id": "fxT3j4BTkA45"
      },
      "outputs": [],
      "source": [
        "import pandas as pd"
      ]
    },
    {
      "cell_type": "code",
      "execution_count": 8,
      "metadata": {
        "colab": {
          "base_uri": "https://localhost:8080/"
        },
        "id": "GJeVl6YIcjdF",
        "outputId": "3126be0d-8caf-4192-c4aa-3be2f4a393cc"
      },
      "outputs": [],
      "source": [
        "# from google.colab import drive\n",
        "# drive.mount('/content/drive')"
      ]
    },
    {
      "cell_type": "code",
      "execution_count": 9,
      "metadata": {
        "id": "MiA__dwrc-fW"
      },
      "outputs": [],
      "source": [
        "#df=pd.read_csv('/content/drive/MyDrive/.../dividend_statements.csv', sep=',')"
      ]
    },
    {
      "cell_type": "code",
      "execution_count": 10,
      "metadata": {
        "id": "pRCmxWbskA45"
      },
      "outputs": [],
      "source": [
        "df=pd.read_csv('dividend_statements.csv', sep=',')"
      ]
    },
    {
      "cell_type": "code",
      "execution_count": 11,
      "metadata": {
        "colab": {
          "base_uri": "https://localhost:8080/",
          "height": 143
        },
        "id": "BTVwFSnTkA45",
        "outputId": "4c0494a6-0abe-4bcd-8ad9-d9523ed425eb"
      },
      "outputs": [
        {
          "data": {
            "text/html": [
              "<div>\n",
              "<style scoped>\n",
              "    .dataframe tbody tr th:only-of-type {\n",
              "        vertical-align: middle;\n",
              "    }\n",
              "\n",
              "    .dataframe tbody tr th {\n",
              "        vertical-align: top;\n",
              "    }\n",
              "\n",
              "    .dataframe thead th {\n",
              "        text-align: right;\n",
              "    }\n",
              "</style>\n",
              "<table border=\"1\" class=\"dataframe\">\n",
              "  <thead>\n",
              "    <tr style=\"text-align: right;\">\n",
              "      <th></th>\n",
              "      <th>company</th>\n",
              "      <th>dividend_text</th>\n",
              "    </tr>\n",
              "  </thead>\n",
              "  <tbody>\n",
              "    <tr>\n",
              "      <th>0</th>\n",
              "      <td>ABC</td>\n",
              "      <td>Including the interim dividend of 10 cents per...</td>\n",
              "    </tr>\n",
              "    <tr>\n",
              "      <th>1</th>\n",
              "      <td>XYZ</td>\n",
              "      <td>Together with the interim dividend of 12 cents...</td>\n",
              "    </tr>\n",
              "    <tr>\n",
              "      <th>2</th>\n",
              "      <td>PQR</td>\n",
              "      <td>Including the interim dividend of 34 cents per...</td>\n",
              "    </tr>\n",
              "  </tbody>\n",
              "</table>\n",
              "</div>"
            ],
            "text/plain": [
              "  company                                      dividend_text\n",
              "0     ABC  Including the interim dividend of 10 cents per...\n",
              "1     XYZ  Together with the interim dividend of 12 cents...\n",
              "2     PQR  Including the interim dividend of 34 cents per..."
            ]
          },
          "execution_count": 11,
          "metadata": {},
          "output_type": "execute_result"
        }
      ],
      "source": [
        "df.head()"
      ]
    },
    {
      "cell_type": "code",
      "execution_count": 12,
      "metadata": {
        "colab": {
          "base_uri": "https://localhost:8080/",
          "height": 195
        },
        "id": "iVs7iF44moui",
        "outputId": "14bd4db4-c2c1-4afd-de1e-6c8994495246"
      },
      "outputs": [],
      "source": [
        "# import re\n",
        "# pattern='\\d+ cents per share'\n",
        "\n",
        "# df[\"dividend\"]=\"empty\"\n",
        "\n",
        "# for ind in df.index:\n",
        "#     df.at[ind, \"dividend\"] = re.findall(pattern, df[\"dividend_text\"][ind])\n",
        "\n",
        "# df.head()\n"
      ]
    },
    {
      "cell_type": "code",
      "execution_count": 13,
      "metadata": {
        "colab": {
          "base_uri": "https://localhost:8080/",
          "height": 195
        },
        "id": "SM4LrriqkA46",
        "outputId": "d6fccdd9-9566-4a61-fff0-9597f3f0e2b7"
      },
      "outputs": [
        {
          "data": {
            "text/html": [
              "<div>\n",
              "<style scoped>\n",
              "    .dataframe tbody tr th:only-of-type {\n",
              "        vertical-align: middle;\n",
              "    }\n",
              "\n",
              "    .dataframe tbody tr th {\n",
              "        vertical-align: top;\n",
              "    }\n",
              "\n",
              "    .dataframe thead th {\n",
              "        text-align: right;\n",
              "    }\n",
              "</style>\n",
              "<table border=\"1\" class=\"dataframe\">\n",
              "  <thead>\n",
              "    <tr style=\"text-align: right;\">\n",
              "      <th></th>\n",
              "      <th>company</th>\n",
              "      <th>dividend_text</th>\n",
              "      <th>dividend</th>\n",
              "    </tr>\n",
              "  </thead>\n",
              "  <tbody>\n",
              "    <tr>\n",
              "      <th>0</th>\n",
              "      <td>ABC</td>\n",
              "      <td>Including the interim dividend of 10 cents per...</td>\n",
              "      <td>[10 cents per share, 11 cents per share, 25 ce...</td>\n",
              "    </tr>\n",
              "    <tr>\n",
              "      <th>1</th>\n",
              "      <td>XYZ</td>\n",
              "      <td>Together with the interim dividend of 12 cents...</td>\n",
              "      <td>[12 cents per share, 10 cents per share]</td>\n",
              "    </tr>\n",
              "    <tr>\n",
              "      <th>2</th>\n",
              "      <td>PQR</td>\n",
              "      <td>Including the interim dividend of 34 cents per...</td>\n",
              "      <td>[34 cents per share, 11 cents per share, 25 ce...</td>\n",
              "    </tr>\n",
              "  </tbody>\n",
              "</table>\n",
              "</div>"
            ],
            "text/plain": [
              "  company                                      dividend_text  \\\n",
              "0     ABC  Including the interim dividend of 10 cents per...   \n",
              "1     XYZ  Together with the interim dividend of 12 cents...   \n",
              "2     PQR  Including the interim dividend of 34 cents per...   \n",
              "\n",
              "                                            dividend  \n",
              "0  [10 cents per share, 11 cents per share, 25 ce...  \n",
              "1           [12 cents per share, 10 cents per share]  \n",
              "2  [34 cents per share, 11 cents per share, 25 ce...  "
            ]
          },
          "execution_count": 13,
          "metadata": {},
          "output_type": "execute_result"
        }
      ],
      "source": [
        "import re\n",
        "pattern='\\d+ cents per share'\n",
        "compiled_re = re.compile(pattern)\n",
        "df[\"dividend\"]=\"empty\"\n",
        "\n",
        "for ind in df.index:\n",
        "    df.at[ind, \"dividend\"] = compiled_re.findall(df[\"dividend_text\"][ind])\n",
        "\n",
        "df.head()\n",
        "\n"
      ]
    },
    {
      "cell_type": "markdown",
      "metadata": {
        "id": "LIEtu0tEm8yt"
      },
      "source": [
        "## Exercise 6"
      ]
    },
    {
      "cell_type": "code",
      "execution_count": 14,
      "metadata": {
        "id": "b4AamOMlkA46"
      },
      "outputs": [],
      "source": [
        "text='''This medical report for medical insurance claims for\n",
        "patient PETER HO with NRIC S6712098J. Please treat this report as confi\n",
        "dential.'''"
      ]
    },
    {
      "cell_type": "code",
      "execution_count": 15,
      "metadata": {
        "colab": {
          "base_uri": "https://localhost:8080/"
        },
        "id": "EUpNSZ1SkA46",
        "outputId": "96220737-8589-4306-e13a-4454d9da925e"
      },
      "outputs": [
        {
          "name": "stdout",
          "output_type": "stream",
          "text": [
            "This medical report for medical insurance claims for\n",
            "patient PETER HO with NRIC <SECRET>. Please treat this report as confi\n",
            "dential.\n"
          ]
        }
      ],
      "source": [
        "pattern=\"S\\d{7}[A-Z]\"\n",
        "new_text=re.sub(pattern, \"<SECRET>\", text)\n",
        "print(new_text)"
      ]
    },
    {
      "cell_type": "markdown",
      "metadata": {
        "id": "hom1LaiYn2_7"
      },
      "source": [
        "## Exercise 7"
      ]
    },
    {
      "cell_type": "code",
      "execution_count": 16,
      "metadata": {
        "id": "2t4xNnGdkA47"
      },
      "outputs": [],
      "source": [
        "text=\"My name is Mike and my lucky number numbers are 09 18 99\""
      ]
    },
    {
      "cell_type": "code",
      "execution_count": 17,
      "metadata": {
        "colab": {
          "base_uri": "https://localhost:8080/"
        },
        "id": "-EFm70QqkA47",
        "outputId": "bcc82ede-3587-4a2b-c238-13e9a301aba0"
      },
      "outputs": [
        {
          "name": "stdout",
          "output_type": "stream",
          "text": [
            "['My', 'name', 'is', 'Mike', 'and', 'my', 'lucky', 'number', 'numbers', 'are', '09', '18', '99']\n"
          ]
        }
      ],
      "source": [
        "pattern=\"\\s+\"\n",
        "result=re.split(pattern, text)\n",
        "print(result)"
      ]
    },
    {
      "cell_type": "code",
      "execution_count": null,
      "metadata": {
        "id": "MEXm2s7XkA47"
      },
      "outputs": [],
      "source": []
    }
  ],
  "metadata": {
    "colab": {
      "provenance": []
    },
    "kernelspec": {
      "display_name": "Python 3",
      "language": "python",
      "name": "python3"
    },
    "language_info": {
      "codemirror_mode": {
        "name": "ipython",
        "version": 3
      },
      "file_extension": ".py",
      "mimetype": "text/x-python",
      "name": "python",
      "nbconvert_exporter": "python",
      "pygments_lexer": "ipython3",
      "version": "3.11.4"
    }
  },
  "nbformat": 4,
  "nbformat_minor": 0
}

{
 "cells": [
  {
   "attachments": {
    "NYPLogo.png": {
     "image/png": "[encoded data removed]"
    }
   },
   "cell_type": "markdown",
   "metadata": {},
   "source": [
    "![NYPLogo.png](attachment:NYPLogo.png)\n",
    "\n",
    "# Practical 8b: Aspect Sentiment Classification\n",
    "\n",
    "\n",
    "## Objectives\n",
    "\n",
    "- Construct aspect-based sentiment classification models and evaluate using appropriate performance metrics.\n"
   ]
  },
  {
   "cell_type": "markdown",
   "metadata": {},
   "source": [
    "## Aspect-Based Sentiment Analysis\n",
    "**Aspect-Based Sentiment Analysis (ABSA)**, also known as fine-grained opinion mining, is the task of determining the sentiment of a text with respect to a specific aspect. \n",
    "\n",
    "Traditional sentiment analysis methods treat a text as a whole and assign it a single sentiment label (e.g., positive, negative, or neutral). This is adequate for many tasks, but there are also many situations where it would be useful to know the sentiment of a text with respect to a specific aspect. For example, consider a review of a restaurant. The reviewer might give the restaurant a positive overall rating, but mention that the service was poor. In this case, it would be useful to know that the sentiment towards the aspect “service” is negative, even though the overall sentiment is positive.\n",
    "\n",
    "ABSA is a difficult task because it requires the identification of “aspects” in text, as well as the assignment of sentiment labels to those aspects. There are a number of ways to approach ABSA, but one common approach is to first identify aspects in text, and then use an ABSA model to label the sentiment of each aspect.\n",
    "\n",
    "**Aspect Identification** is a task that can be approached in a number of ways, but one common approach is to use a rule-based method, like using a dictionary. For example, every time we find the words “iPhone X” or “MacBook Pro” we may consider them as aspects.\n",
    "\n",
    "Once aspects have been identified, we need to train an ABSA classifier to classify sentiment of an aspect relative to a sentence as context. There is a number of different approaches to building ABSA classifiers, but one common approach is to use a supervised machine learning method. In this case, we’d need a training dataset, i.e. a collection of texts that have been labeled with aspects and their sentiment. For example:\n",
    "* The sentence “We had a great experience at the restaurant, food was delicious, but the service was kinda bad”, with aspect “service” and label “negative”.\n",
    "* The sentence “We had a great experience at the restaurant, food was delicious, but the service was kinda bad”, with aspect “food” and label “positive”.\n",
    "\n",
    "In the first exercise, we will be using spacy, a natural language processing library in Python along with Textblob which offers simple tools for sentiment analysis and text processing. \n",
    "\n",
    "You will need the en_core_web_sm model under spacy, if you haven't already, you need download by executing the command below:\n",
    "> python -m spacy download en_core_web_sm"
   ]
  },
  {
   "cell_type": "markdown",
   "metadata": {},
   "source": [
    "\n",
    "## Import libraries and download the packages\n",
    "\n",
    "```Python\n",
    "import spacy\n",
    "\n",
    "nlp = spacy.load('en_core_web_sm')\n",
    "```"
   ]
  },
  {
   "cell_type": "code",
   "execution_count": null,
   "metadata": {},
   "outputs": [],
   "source": [
    "# Enter code here\n"
   ]
  },
  {
   "cell_type": "markdown",
   "metadata": {},
   "source": [
    "Let's define a few simple test sentences.\n",
    "```Python\n",
    "sentences = [\n",
    "  'The food we had yesterday was delicious',\n",
    "  'My time in Italy was very enjoyable',\n",
    "  'I found the meal to be tasty',\n",
    "  'The internet was slow.',\n",
    "  'Our experience was suboptimal'\n",
    "]\n",
    "```"
   ]
  },
  {
   "cell_type": "code",
   "execution_count": null,
   "metadata": {},
   "outputs": [],
   "source": [
    "# Enter code here\n"
   ]
  },
  {
   "cell_type": "markdown",
   "metadata": {},
   "source": [
    "First, we will split our sentences in a way so that we have the aspects (e.g. food) and their sentiment descriptions (e.g. delicious).\n",
    "```Python\n",
    "for sentence in sentences:\n",
    "    doc = nlp(sentence)\n",
    "    for token in doc:\n",
    "        print(token.text, token.dep_, token.head.text, token.head.pos_,\n",
    "              token.pos_,[child for child in token.children])\n",
    "    print(\"\\n\")\n",
    "```"
   ]
  },
  {
   "cell_type": "code",
   "execution_count": null,
   "metadata": {},
   "outputs": [],
   "source": [
    "# Enter code here\n"
   ]
  },
  {
   "cell_type": "markdown",
   "metadata": {},
   "source": [
    "From the spacy's dependency parsing, we can see for each token inside our sentence the POS (Part-of-Speech) tags. Noted the child token, we are able to pick up the intensifiers such as \"very\", \"quite\", etc. \n",
    "\n",
    "*Note: This is a simplistic algorithm hence it may not be able to pick up semantically important information such as \"not\" in \"not delicious\".*\n",
    "\n",
    "Next, let's see how to pick up the sentiment descriptions.\n",
    "```Python\n",
    "for sentence in sentences:\n",
    "    doc = nlp(sentence)\n",
    "    descriptive_term = ''\n",
    "    \n",
    "    for token in doc:\n",
    "        if token.pos_ == 'ADJ':\n",
    "            descriptive_term = token\n",
    "    \n",
    "    print(sentence)\n",
    "    print(descriptive_term)\n",
    "```"
   ]
  },
  {
   "cell_type": "code",
   "execution_count": null,
   "metadata": {},
   "outputs": [],
   "source": [
    "# Enter code here\n"
   ]
  },
  {
   "cell_type": "markdown",
   "metadata": {},
   "source": [
    "You can see that the algorithm picks up all the descriptive adjectives such as delicious, enjoyable, and tasty. But the intensifiers like \"very\" are missing.\n",
    "\n",
    "```Python\n",
    "for sentence in sentences:\n",
    "    doc = nlp(sentence)\n",
    "    descriptive_term = ''\n",
    "    \n",
    "    for token in doc:\n",
    "        if token.pos_ == 'ADJ':\n",
    "            prepend = ''\n",
    "            for child in token.children:\n",
    "                if child.pos_ != 'ADV':\n",
    "                    continue\n",
    "                prepend += child.text + ' '\n",
    "            descriptive_term = prepend + token.text\n",
    "    \n",
    "    print(sentence)\n",
    "    print(descriptive_term)\n",
    "```"
   ]
  },
  {
   "cell_type": "code",
   "execution_count": null,
   "metadata": {},
   "outputs": [],
   "source": [
    "# Enter code here\n"
   ]
  },
  {
   "cell_type": "markdown",
   "metadata": {},
   "source": [
    "In a regular scenario, we will need to catch negations such as \"not\" as well. In this practical we didn't cover, however using the concept above, you can modify the codes to handle the negation. \n",
    "\n",
    "Now we are ready to identify the targets that are being described.\n",
    "```Python\n",
    "from pprint import pprint\n",
    "\n",
    "aspects = []\n",
    "for sentence in sentences:\n",
    "    doc = nlp(sentence)\n",
    "    descriptive_term = ''\n",
    "    target = ''\n",
    "    \n",
    "    for token in doc:\n",
    "        if token.dep_ == 'nsubj' and token.pos_ == 'NOUN':\n",
    "            target = token.text\n",
    "        if token.pos_ == 'ADJ':\n",
    "            prepend = ''\n",
    "            for child in token.children:\n",
    "                if child.pos_ != 'ADV':\n",
    "                    continue\n",
    "                prepend += child.text + ' '\n",
    "            descriptive_term = prepend + token.text\n",
    "    \n",
    "    aspects.append({'aspect': target,\n",
    "                    'description': descriptive_term})\n",
    "\n",
    "pprint(aspects)\n",
    "```"
   ]
  },
  {
   "cell_type": "code",
   "execution_count": null,
   "metadata": {},
   "outputs": [],
   "source": [
    "# Enter code here\n"
   ]
  },
  {
   "cell_type": "markdown",
   "metadata": {},
   "source": [
    "Now that we successfully extracted the aspects and descriptions, it’s time to classify them as positive or negative. The goal here is to help the computer understand that tasty food is positive, while slow internet is negative. Computers don’t understand English, so we will need to try a few things before we have a working solution.\n",
    "\n",
    "TextBlob is a library that offers sentiment analysis out of the box. It has a bag-of-words approach, meaning that it has a list of words such as “good”, “bad”, and “great” that have a sentiment score attached to them. It is also able to pick up modifiers (such as “not”) and intensifiers (such as “very”) that affect the sentiment score.\n",
    "\n",
    "In this practical, we will be using the default sentiment analysis in the TextBlob package. To install the TextBlob package, execute the following command:\n",
    "> pip install textblob\n",
    "\n",
    "```Python\n",
    "from textblob import TextBlob\n",
    "\n",
    "for aspect in aspects:\n",
    "  aspect['sentiment'] = TextBlob(aspect['description']).sentiment\n",
    "\n",
    "pprint(aspects)\n",
    "```"
   ]
  },
  {
   "cell_type": "code",
   "execution_count": null,
   "metadata": {},
   "outputs": [],
   "source": [
    "# Enter code here\n"
   ]
  },
  {
   "cell_type": "markdown",
   "metadata": {},
   "source": [
    "Looking at the result, we can see that it works pretty well, except that the word \"tasty\" and \"suboptimal\" are considered neutral. It seems that they are not part of TextBlob's dictionary and as such, they are not picked up. \n",
    "\n",
    "Another potential issue is that some descriptive terms or adjectives can be positive in some cases and negative in others, depending on the word they’re describing. The default algorithm used by TextBlob is not able to know that cold weather can be neutral, cold food can be negative while a cold drink can be positive.\n",
    "\n",
    "TextBlob allow us to create a quick and initial analysis. To handle more complex and domain specify cases, you will need to train your own sentiment classifier.\n",
    "\n",
    "\n",
    "## Public Pre-Trained Model\n",
    "We can see from the above exercise that build a ABSA is time consuming. There are public pre-trained models that we can use for example **DeBERTa**. This aspect-based sentiment analysis model is trained with 30k+ ABSA sample datasets. \n",
    "https://huggingface.co/yangheng/deberta-v3-base-absa-v1.1\n",
    "\n",
    "First, let's install the transformers library along with the SentencePiece tokenizer (which is needed by some models of the library, such as DeBERTa).\n",
    "> pip install transformers[sentencepiece]\n",
    "\n",
    "You will need the PyTorch and Tensorflow library to be installed as well.\n",
    "> pip install torch\n",
    "\n",
    "> pip install tensorflow --user\n",
    "\n",
    "**Note you will need to restart your kernel after the installation before running the code below to load the two different models**\n",
    "\n",
    "Next, we will import the necessary libraries and load two different models:\n",
    "* The **absa_model** and **absa_tokenizer** to test the pre-trained ABSA model.\n",
    "* The **sentiment_model** to test a standard sentiment model. We’ll try the twitter-xlm-roberta-base-sentiment model, trained on ~198M tweets and finetuned for sentiment analysis.\n",
    "\n",
    "```Python\n",
    "from transformers import AutoTokenizer, AutoModelForSequenceClassification\n",
    "import torch.nn.functional as F\n",
    "from transformers import pipeline\n",
    "\n",
    "# Load Aspect-Based Sentiment Analysis model\n",
    "absa_tokenizer = AutoTokenizer.from_pretrained(\"yangheng/deberta-v3-base-absa-v1.1\")\n",
    "absa_model = AutoModelForSequenceClassification \\\n",
    "  .from_pretrained(\"yangheng/deberta-v3-base-absa-v1.1\")\n",
    "\n",
    "# Load a traditional Sentiment Analysis model\n",
    "sentiment_model_path = \"cardiffnlp/twitter-xlm-roberta-base-sentiment\"\n",
    "sentiment_model = pipeline(\"sentiment-analysis\", model=sentiment_model_path,\n",
    "                          tokenizer=sentiment_model_path)\n",
    "```"
   ]
  },
  {
   "cell_type": "code",
   "execution_count": null,
   "metadata": {},
   "outputs": [],
   "source": [
    "# Enter code here\n"
   ]
  },
  {
   "cell_type": "markdown",
   "metadata": {},
   "source": [
    "Given this sentence: **\"We had a great experience at the restaurant, food was delicious, but the service was kinda bad\"**\n",
    "\n",
    "Let's compute the sentiment toward the aspect **\"food\"**. \n",
    "```Python\n",
    "sentence = \"We had a great experience at the restaurant, food was delicious, but the service was kinda bad\"\n",
    "print(f\"Sentence: {sentence}\")\n",
    "print()\n",
    "\n",
    "# ABSA of \"food\"\n",
    "aspect = \"food\"\n",
    "inputs = absa_tokenizer(f\"[CLS] {sentence} [SEP] {aspect} [SEP]\", return_tensors=\"pt\")\n",
    "outputs = absa_model(**inputs)\n",
    "probs = F.softmax(outputs.logits, dim=1)\n",
    "probs = probs.detach().numpy()[0]\n",
    "\n",
    "print(f\"Sentiment of aspect '{aspect}' is:\")\n",
    "for prob, label in zip(probs, [\"negative\", \"neutral\", \"positive\"]):\n",
    "    print(f\"Label {label}: {prob}\")\n",
    "print()\n",
    "```"
   ]
  },
  {
   "cell_type": "code",
   "execution_count": null,
   "metadata": {},
   "outputs": [],
   "source": [
    "# Enter code here\n"
   ]
  },
  {
   "cell_type": "markdown",
   "metadata": {},
   "source": [
    "For the food aspect, it results as **\"positive\"** with score ~0.997.\n",
    "\n",
    "Next, let's compute the sentiment toward the aspect **\"service\"**."
   ]
  },
  {
   "cell_type": "code",
   "execution_count": null,
   "metadata": {},
   "outputs": [],
   "source": [
    "# Enter code here\n"
   ]
  },
  {
   "cell_type": "markdown",
   "metadata": {},
   "source": [
    "For the service aspect, it results as **\"negative\"** with score ~0.995.\n",
    "\n",
    "Next, let's compute the overall sentiment of the sentence. \n",
    "```Python\n",
    "# Overall sentiment of the sentence\n",
    "sentiment = sentiment_model([sentence])[0]\n",
    "print(f\"Overall sentiment: {sentiment['label']} with score {sentiment['score']}\")\n",
    "```"
   ]
  },
  {
   "cell_type": "code",
   "execution_count": null,
   "metadata": {},
   "outputs": [],
   "source": [
    "# Enter code here\n"
   ]
  },
  {
   "cell_type": "markdown",
   "metadata": {},
   "source": [
    "We can see that despite the overall sentiment of the sentence is negative, the ABSA model is able to correctly assign a positive sentiment to \"food\" and a negative sentiment to \"service\"."
   ]
  }
 ],
 "metadata": {
  "kernelspec": {
   "display_name": "Python 3 (ipykernel)",
   "language": "python",
   "name": "python3"
  },
  "language_info": {
   "codemirror_mode": {
    "name": "ipython",
    "version": 3
   },
   "file_extension": ".py",
   "mimetype": "text/x-python",
   "name": "python",
   "nbconvert_exporter": "python",
   "pygments_lexer": "ipython3",
   "version": "3.11.10"
  }
 },
 "nbformat": 4,
 "nbformat_minor": 4
}

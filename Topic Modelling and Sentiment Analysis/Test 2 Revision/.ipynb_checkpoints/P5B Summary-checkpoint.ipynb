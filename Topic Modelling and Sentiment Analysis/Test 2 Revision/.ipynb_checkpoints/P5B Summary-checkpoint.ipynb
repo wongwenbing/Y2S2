{
 "cells": [
  {
   "attachments": {},
   "cell_type": "markdown",
   "metadata": {},
   "source": [
    "# **Practical 5B: POS and NER**\n",
    "- Perform Part-of-Speech (POS) tagging\n",
    "- Identify entities with raw text using Name Entity Recognition (NER)"
   ]
  },
  {
   "attachments": {},
   "cell_type": "markdown",
   "metadata": {},
   "source": [
    "## Part of Spech (POS) Tagging"
   ]
  },
  {
   "attachments": {},
   "cell_type": "markdown",
   "metadata": {},
   "source": [
    "**Libraries and download packages**\n",
    "```python\n",
    "import pandas as pd\n",
    "\n",
    "import nltk\n",
    "nltk.download('averaged_perceptron_tagger')\n",
    "nltk.download('maxent_ne_chunker_tab')\n",
    "\n",
    "from nltk.corpus import stopwords \n",
    "from nltk.tokenize import word_tokenize, sent_tokenize \n",
    "stop_words = set(stopwords.words('english'))\n",
    "\n",
    "```\n",
    "In this practical, you are reading in SGNews.csv hence pandas is used for read_csv"
   ]
  },
  {
   "attachments": {},
   "cell_type": "markdown",
   "metadata": {},
   "source": [
    "**Using POS-tagger in NLTK library for word tags**  \n",
    "** tokenize then pos tagging \n",
    "```Python\n",
    "def tagPOS(text):\n",
    "    # Word tokenizers is used to find the words \n",
    "    wordsList = nltk.word_tokenize(text) \n",
    "    #  Using a Tagger. Which is part-of-speech tagger or POS-tagger.  \n",
    "    tagged = nltk.pos_tag(wordsList)  \n",
    "    return tagged\n",
    "#use lambda to apply tagPOS to each review\n",
    "df['POS_News'] = df['Text'].apply(lambda x: tagPOS(x))  \n",
    "df.head()\n",
    "```"
   ]
  },
  {
   "cell_type": "markdown",
   "metadata": {},
   "source": []
  },
  {
   "attachments": {},
   "cell_type": "markdown",
   "metadata": {},
   "source": [
    "**Finding specific tag from tag text**  \n",
    "```Python \n",
    "# find the top N words based on the POS tag\n",
    "def findtags(tag_prefix, tagged_text, n):\n",
    "    cfd = nltk.ConditionalFreqDist((tag, word) for (word, tag) in tagged_text\n",
    "                                  if tag.startswith(tag_prefix))\n",
    "    return dict((tag, cfd[tag].most_common(n)) for tag in cfd.conditions())\n",
    "\n",
    "# find the top 5 adjective in the first news\n",
    "tagged_text = df['POS_News'][0]\n",
    "tagdict = findtags('JJ', tagged_text, 5)\n",
    "for tag in sorted(tagdict):\n",
    "    print(tag, tagdict[tag])\n",
    "```"
   ]
  },
  {
   "attachments": {},
   "cell_type": "markdown",
   "metadata": {},
   "source": [
    "## Named Entity Recognition (NER)  \n",
    "- standard NLP Problem involving spotting name entities from chunk of text and classifying into predefined set of categories. \n",
    "\n",
    "Before POS is done, \n",
    "```Python\n",
    "from nltk import ne_chunk\n",
    "nltk.download('words')\n",
    "nltk.download('maxent_ne_chunker')\n",
    "\n",
    "res_chunk = ne_chunk(tagged_text)\n",
    "\n",
    "for x in str(res_chunk).split('\\n'):\n",
    "    if '/NN' in x:\n",
    "        print(x)\n",
    "```"
   ]
  },
  {
   "cell_type": "code",
   "execution_count": null,
   "metadata": {
    "vscode": {
     "languageId": "plaintext"
    }
   },
   "outputs": [],
   "source": []
  }
 ],
 "metadata": {
  "language_info": {
   "name": "python"
  },
  "orig_nbformat": 4
 },
 "nbformat": 4,
 "nbformat_minor": 2
}

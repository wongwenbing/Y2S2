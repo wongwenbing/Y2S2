{
 "cells": [
  {
   "attachments": {},
   "cell_type": "markdown",
   "id": "f29f7905-219d-48ae-8edd-e433a8a7dd2d",
   "metadata": {},
   "source": [
    "# **Practical 4B: Visualising Text Data**"
   ]
  },
  {
   "attachments": {},
   "cell_type": "markdown",
   "id": "2cb312b4-3031-47ad-bb57-02789fb10bc6",
   "metadata": {},
   "source": [
    "### Import Necessary Libraries for computing frequency \n",
    "```Python\n",
    "# Import libraries\n",
    "from nltk.probability import FreqDist\n",
    "from nltk.corpus import stopwords\n",
    "import string\n",
    "```"
   ]
  },
  {
   "attachments": {},
   "cell_type": "markdown",
   "id": "62b0020b-136e-4178-a238-f503ecd97a06",
   "metadata": {},
   "source": [
    "#### Checking number of words in data\n",
    "``` Python \n",
    "print(len(wt_sentences))\n",
    "print(len(wt_words))\n",
    "```"
   ]
  },
  {
   "attachments": {},
   "cell_type": "markdown",
   "id": "006851f5-99c5-4d06-98da-21fd0f4f738e",
   "metadata": {},
   "source": [
    "#### Compute frequency of all words\n",
    "```Python\n",
    "# generate frequency for all the words\n",
    "freq_dist = nltk.FreqDist(wt_words)\n",
    "\n",
    "# show the top few results\n",
    "freq_dist\n",
    "\n",
    "#sort in descending order \n",
    "sorted_freqdist = sorted(freq_dist, key=freq_dist.__getitem__, reverse=True)\n",
    "sorted_freqdist\n",
    "```"
   ]
  },
  {
   "attachments": {},
   "cell_type": "markdown",
   "id": "a1463d76-a45f-453f-9e61-7c51c08892cb",
   "metadata": {},
   "source": [
    "#### Consider words with length greater than 3\n",
    "```Python\n",
    "# create a dictionary of key and value\n",
    "# keep words only if their frequency is > 3\n",
    "filtered_words = dict([(k,v) for k,v in freq_dist.items() if len(k)>3])\n",
    "\n",
    "# create frequency distribution of the filtered words\n",
    "freq_dist = nltk.FreqDist(filtered_words)\n",
    "\n",
    "# plot the frequency distribution of the top 50 words\n",
    "freq_dist.plot(50, cumulative=False)\n",
    "```"
   ]
  },
  {
   "attachments": {},
   "cell_type": "markdown",
   "id": "ee0d0390",
   "metadata": {},
   "source": [
    "### Building wordcloud\n",
    "Word cloud: visually represent text data. use different font size and colours.\n",
    "\n",
    "> pip install wordcloud\n",
    "\n",
    "```Python\n",
    "# build wordcloud\n",
    "from wordcloud import WordCloud\n",
    "wcloud = WordCloud().generate_from_frequencies(freq_dist)\n",
    "\n",
    "# plot the wordcloud\n",
    "import matplotlib.pyplot as plt\n",
    "plt.imshow(wcloud, interpolation='bilinear')\n",
    "plt.axis('off')\n",
    "plt.show()\n",
    "```"
   ]
  }
 ],
 "metadata": {
  "kernelspec": {
   "display_name": "Python 3 (ipykernel)",
   "language": "python",
   "name": "python3"
  },
  "language_info": {
   "codemirror_mode": {
    "name": "ipython",
    "version": 3
   },
   "file_extension": ".py",
   "mimetype": "text/x-python",
   "name": "python",
   "nbconvert_exporter": "python",
   "pygments_lexer": "ipython3",
   "version": "3.11.10"
  }
 },
 "nbformat": 4,
 "nbformat_minor": 5
}

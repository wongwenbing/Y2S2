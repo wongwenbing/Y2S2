{
 "cells": [
  {
   "attachments": {
    "NYPLogo.png": {
     "image/png": "[encoded data removed]"
    }
   },
   "cell_type": "markdown",
   "metadata": {},
   "source": [
    "![NYPLogo.png](attachment:NYPLogo.png)\n",
    "\n",
    "# Practical 7b: Topic Modelling\n",
    "\n",
    "\n",
    "## Objectives\n",
    "\n",
    "- Construct topic modelling models and evaluate using appropriate performance metrics.\n"
   ]
  },
  {
   "cell_type": "markdown",
   "metadata": {},
   "source": [
    "## Topic Modelling\n",
    "With the vast amount of unstructured text data, it is essential to find a method to organise the data in to meaningful groups or topics for actionable insights. Topic modelling is a technique to extract the hidden topics from the unstructured text. One of the popular topic modelling algorithm is Latent Dirichlet Allocation (LDA). With many implementations available in the internet, the challenge is not about implementing a topic model but how to extract good quality of topics. This depends on the quality of text preprocessing and the strategy of finding the optimal number of topics.,\n",
    "\n",
    "In this practical, we will be looking at how we can use Python gensim and nltk packages to implement a LDA topic model. \n",
    "\n",
    "Before you can use the various packages in Python, we need to make sure the relevant packages are installed and imported. \n",
    "\n",
    "> pip install gensim\n"
   ]
  },
  {
   "cell_type": "markdown",
   "metadata": {},
   "source": [
    "\n",
    "## Import libraries and download the packages\n",
    "\n",
    "```Python\n",
    "import nltk\n",
    "nltk.download('stopwords')\n",
    "nltk.download('wordnet')\n",
    "\n",
    "from nltk.corpus import stopwords\n",
    "from nltk.stem.wordnet import WordNetLemmatizer\n",
    "\n",
    "import gensim\n",
    "from gensim import corpora\n",
    "\n",
    "import string\n",
    "from pathlib import Path\n",
    "from pprint import pprint\n",
    "\n",
    "```\n",
    "*NOTE: Ignore the warning*"
   ]
  },
  {
   "cell_type": "code",
   "execution_count": 2,
   "metadata": {},
   "outputs": [
    {
     "name": "stdout",
     "output_type": "stream",
     "text": [
      "Collecting gensim\n",
      "  Downloading gensim-4.3.3-cp38-cp38-win_amd64.whl.metadata (8.2 kB)\n",
      "Requirement already satisfied: numpy<2.0,>=1.18.5 in c:\\users\\wongw\\anaconda3\\lib\\site-packages (from gensim) (1.24.3)\n",
      "Collecting scipy<1.14.0,>=1.7.0 (from gensim)\n",
      "  Downloading scipy-1.10.1-cp38-cp38-win_amd64.whl.metadata (58 kB)\n",
      "Requirement already satisfied: smart-open>=1.8.1 in c:\\users\\wongw\\anaconda3\\lib\\site-packages (from gensim) (5.2.1)\n",
      "Downloading gensim-4.3.3-cp38-cp38-win_amd64.whl (24.0 MB)\n",
      "   ---------------------------------------- 0.0/24.0 MB ? eta -:--:--\n",
      "   ---------------------------------------- 0.3/24.0 MB ? eta -:--:--\n",
      "   ------ --------------------------------- 3.9/24.0 MB 12.4 MB/s eta 0:00:02\n",
      "   ----------- ---------------------------- 6.8/24.0 MB 13.1 MB/s eta 0:00:02\n",
      "   --------------- ------------------------ 9.4/24.0 MB 13.1 MB/s eta 0:00:02\n",
      "   -------------------- ------------------- 12.6/24.0 MB 13.1 MB/s eta 0:00:01\n",
      "   ----------------------------- ---------- 17.6/24.0 MB 15.0 MB/s eta 0:00:01\n",
      "   ---------------------------------- ----- 21.0/24.0 MB 15.2 MB/s eta 0:00:01\n",
      "   ---------------------------------------- 24.0/24.0 MB 15.2 MB/s eta 0:00:00\n",
      "Downloading scipy-1.10.1-cp38-cp38-win_amd64.whl (42.2 MB)\n",
      "   ---------------------------------------- 0.0/42.2 MB ? eta -:--:--\n",
      "   --- ------------------------------------ 4.2/42.2 MB 20.9 MB/s eta 0:00:02\n",
      "   ------- -------------------------------- 8.1/42.2 MB 20.1 MB/s eta 0:00:02\n",
      "   ------------ --------------------------- 13.1/42.2 MB 21.1 MB/s eta 0:00:02\n",
      "   ---------------- ----------------------- 17.6/42.2 MB 20.9 MB/s eta 0:00:02\n",
      "   -------------------- ------------------- 21.5/42.2 MB 20.3 MB/s eta 0:00:02\n",
      "   ------------------------ --------------- 25.4/42.2 MB 20.1 MB/s eta 0:00:01\n",
      "   --------------------------- ------------ 29.4/42.2 MB 20.0 MB/s eta 0:00:01\n",
      "   ------------------------------- -------- 33.3/42.2 MB 19.8 MB/s eta 0:00:01\n",
      "   ----------------------------------- ---- 37.5/42.2 MB 19.7 MB/s eta 0:00:01\n",
      "   ---------------------------------------  41.9/42.2 MB 19.8 MB/s eta 0:00:01\n",
      "   ---------------------------------------- 42.2/42.2 MB 18.9 MB/s eta 0:00:00\n",
      "Installing collected packages: scipy, gensim\n",
      "Successfully installed gensim-4.3.3 scipy-1.10.1\n",
      "Note: you may need to restart the kernel to use updated packages.\n"
     ]
    }
   ],
   "source": [
    "pip install gensim"
   ]
  },
  {
   "cell_type": "code",
   "execution_count": null,
   "metadata": {},
   "outputs": [],
   "source": []
  },
  {
   "cell_type": "code",
   "execution_count": 1,
   "metadata": {},
   "outputs": [
    {
     "name": "stderr",
     "output_type": "stream",
     "text": [
      "[nltk_data] Downloading package stopwords to\n",
      "[nltk_data]     C:\\Users\\wongw\\AppData\\Roaming\\nltk_data...\n",
      "[nltk_data]   Package stopwords is already up-to-date!\n",
      "[nltk_data] Downloading package wordnet to\n",
      "[nltk_data]     C:\\Users\\wongw\\AppData\\Roaming\\nltk_data...\n",
      "[nltk_data]   Package wordnet is already up-to-date!\n"
     ]
    },
    {
     "ename": "ModuleNotFoundError",
     "evalue": "No module named 'gensim'",
     "output_type": "error",
     "traceback": [
      "\u001b[1;31m---------------------------------------------------------------------------\u001b[0m",
      "\u001b[1;31mModuleNotFoundError\u001b[0m                       Traceback (most recent call last)",
      "Cell \u001b[1;32mIn[1], line 9\u001b[0m\n\u001b[0;32m      6\u001b[0m \u001b[38;5;28;01mfrom\u001b[39;00m \u001b[38;5;21;01mnltk\u001b[39;00m\u001b[38;5;21;01m.\u001b[39;00m\u001b[38;5;21;01mcorpus\u001b[39;00m \u001b[38;5;28;01mimport\u001b[39;00m stopwords\n\u001b[0;32m      7\u001b[0m \u001b[38;5;28;01mfrom\u001b[39;00m \u001b[38;5;21;01mnltk\u001b[39;00m\u001b[38;5;21;01m.\u001b[39;00m\u001b[38;5;21;01mstem\u001b[39;00m\u001b[38;5;21;01m.\u001b[39;00m\u001b[38;5;21;01mwordnet\u001b[39;00m \u001b[38;5;28;01mimport\u001b[39;00m WordNetLemmatizer\n\u001b[1;32m----> 9\u001b[0m \u001b[38;5;28;01mimport\u001b[39;00m \u001b[38;5;21;01mgensim\u001b[39;00m\n\u001b[0;32m     10\u001b[0m \u001b[38;5;28;01mfrom\u001b[39;00m \u001b[38;5;21;01mgensim\u001b[39;00m \u001b[38;5;28;01mimport\u001b[39;00m corpora\n\u001b[0;32m     12\u001b[0m \u001b[38;5;28;01mimport\u001b[39;00m \u001b[38;5;21;01mstring\u001b[39;00m\n",
      "\u001b[1;31mModuleNotFoundError\u001b[0m: No module named 'gensim'"
     ]
    }
   ],
   "source": [
    "# Enter code here\n",
    "import nltk\n",
    "nltk.download('stopwords')\n",
    "nltk.download('wordnet')\n",
    "\n",
    "from nltk.corpus import stopwords\n",
    "from nltk.stem.wordnet import WordNetLemmatizer\n",
    "\n",
    "import gensim\n",
    "from gensim import corpora\n",
    "\n",
    "import string\n",
    "from pathlib import Path\n",
    "from pprint import pprint"
   ]
  },
  {
   "cell_type": "markdown",
   "metadata": {},
   "source": [
    "## Read in source files from directory\n",
    "\n",
    "We need to extract the source files in to a data structure so that Python can process the data. The source files that we are using in this practical is extracted from sample BBC news with a total of 250 files from various categories. \n",
    "\n",
    "Make sure you have downloaded the data needed for the assignment. If not, please download the zipped file (**news.zip**) from Blackboard and unzip the contents. Ensure the news folder is in the same directory as your jupyter notebook.\n",
    "\n",
    "```Python\n",
    "#r is the raw string literals so that windows path slash won't create problem \n",
    "data_folder = Path(r'news')\n",
    "\n",
    "#read each file from the directory into an array and name it corpus\n",
    "corpus = []\n",
    "filenames = []\n",
    "\n",
    "for filename in data_folder.iterdir():\n",
    "   fp = open(str(filename), 'r', encoding='latin1')\n",
    "   corpus.append(fp.read())\n",
    "   #keep the filename for later use\n",
    "   filenames.append(filename.name)\n",
    "   fp.close()\n",
    "\n",
    "print(corpus.__len__())\n",
    "```"
   ]
  },
  {
   "cell_type": "code",
   "execution_count": null,
   "metadata": {
    "scrolled": true
   },
   "outputs": [],
   "source": [
    "# Enter code here\n",
    "#r is the raw string literals so that windows path slash won't create problem \n",
    "data_folder = Path(r'news')\n",
    "\n",
    "#read each file from the directory into an array and name it corpus\n",
    "corpus = []\n",
    "filenames = []\n",
    "\n",
    "for filename in data_folder.iterdir():\n",
    "   fp = open(str(filename), 'r', encoding='latin1')\n",
    "   corpus.append(fp.read())\n",
    "   #keep the filename for later use\n",
    "   filenames.append(filename.name)\n",
    "   fp.close()\n",
    "\n",
    "print(corpus.__len__())"
   ]
  },
  {
   "cell_type": "markdown",
   "metadata": {},
   "source": [
    "You should see ‘250’ being printed. It indicates content of 250 files has been stored in corpus.\n",
    "\n",
    "\n",
    "## Preprocessing\n",
    "As covered in previous lectures, there are many preprocessing steps. We will try three in this section. They are stop words removal; punctuation removal and lemmatization using WordNet.\n",
    "\n",
    "Setup the resources for the preprocessing steps\n",
    "```Python\n",
    "stop = set(stopwords.words('english'))\n",
    "exclude = set(string.punctuation)\n",
    "lemma = WordNetLemmatizer()\n",
    "```"
   ]
  },
  {
   "cell_type": "code",
   "execution_count": null,
   "metadata": {},
   "outputs": [],
   "source": [
    "# Enter codes here\n",
    "stop = set(stopwords.words('english'))\n",
    "exclude = set(string.punctuation)\n",
    "lemma = WordNetLemmatizer()"
   ]
  },
  {
   "cell_type": "markdown",
   "metadata": {},
   "source": [
    "Next, we will proceed to clean up the content and keep it in the doc_clean variable.\n",
    "```Python\n",
    "def clean(doc):\n",
    "    punc_free = ''.join([ch for ch in doc.lower() if ch not in exclude])\n",
    "    stop_free = ' '.join([i for i in punc_free.split() if i not in stop]) \n",
    "    normalized = ' '.join(lemma.lemmatize(word) for word in stop_free.split())\n",
    "    #stemmed = ' '.join(stemmer.stem(word) for word in normalized.split())\n",
    "    return normalized\n",
    "\n",
    "doc_clean = [clean(doc).split() for doc in corpus]\n",
    "```"
   ]
  },
  {
   "cell_type": "code",
   "execution_count": null,
   "metadata": {},
   "outputs": [],
   "source": [
    "# Enter codes here\n",
    "def clean(doc):\n",
    "    punc_free = ''.join([ch for ch in doc.lower() if ch not in exclude])\n",
    "    stop_free = ' '.join([i for i in punc_free.split() if i not in stop]) \n",
    "    normalized = ' '.join(lemma.lemmatize(word) for word in stop_free.split())\n",
    "    #stemmed = ' '.join(stemmer.stem(word) for word in normalized.split())\n",
    "    return normalized\n",
    "\n",
    "doc_clean = [clean(doc).split() for doc in corpus]"
   ]
  },
  {
   "cell_type": "code",
   "execution_count": null,
   "metadata": {
    "scrolled": true
   },
   "outputs": [],
   "source": [
    "doc_clean"
   ]
  },
  {
   "cell_type": "markdown",
   "metadata": {},
   "source": [
    "## Prepare word representation\n",
    "Term frequency word representation is used in this practical and gensim package has implementation for it, which requires only 2 lines of codes.\n",
    "\n",
    "```Python\n",
    "dictionary = corpora.Dictionary(doc_clean)\n",
    "doc_term_matrix = [dictionary.doc2bow(doc) for doc in doc_clean]\n",
    "```\n",
    "The first line is making use Dictionary function of gensim corpora package to create a data structure keeping all the unique words. \n",
    "\n",
    "The second line is using the dictionary to create a doc to term matrix for each of the doc (or file) using bag of words approach."
   ]
  },
  {
   "cell_type": "code",
   "execution_count": null,
   "metadata": {},
   "outputs": [],
   "source": [
    "# Enter codes here\n",
    "dictionary = corpora.Dictionary(doc_clean)\n",
    "doc_term_matrix = [dictionary.doc2bow(doc) for doc in doc_clean]"
   ]
  },
  {
   "cell_type": "markdown",
   "metadata": {},
   "source": [
    "## Create LDA Model\n",
    "We are ready to create our first LDA model. As mentioned in the lecture, there is a need to specify the number of topics in LDA. The following code uses a variable topic_num to set a value 5 for the first model: \n",
    "\n",
    "```Python\n",
    "topic_num = 5\n",
    "word_num = 5\n",
    "\n",
    "Lda = gensim.models.ldamodel.LdaModel\n",
    "ldamodel = Lda(doc_term_matrix, num_topics = topic_num, id2word = dictionary, passes=20)\n",
    "\n",
    "pprint(ldamodel.print_topics(num_topics=topic_num, num_words=word_num))\n",
    "```\n"
   ]
  },
  {
   "cell_type": "code",
   "execution_count": null,
   "metadata": {},
   "outputs": [],
   "source": [
    "# Enter code here\n",
    "topic_num = 5\n",
    "word_num = 5\n",
    "\n",
    "Lda = gensim.models.ldamodel.LdaModel\n",
    "ldamodel = Lda(doc_term_matrix, num_topics = topic_num, id2word = dictionary, passes=20)\n",
    "\n",
    "pprint(ldamodel.print_topics(num_topics=topic_num, num_words=word_num))"
   ]
  },
  {
   "cell_type": "markdown",
   "metadata": {},
   "source": [
    "You may notice that the results or the topics are not very meaningful, or it is hard to identify a category. \n",
    "\n",
    "The interpretation of the result is based on the topic id and its list of top keyword. For example, (0,\n",
    "  '0.011*\"said\" + 0.006*\"game\" + 0.005*\"would\" + 0.005*\"one\" + 0.004*\"people\"') means the top 5 keywords that contribute to Topic id 0 are ‘said’, ‘game’, ‘would’, ‘one’ and ‘people’ and the weight of ‘game’ is 0.006. The weights reflect how important a keyword is to that topic.\n",
    "\n",
    "*Note: For unsupervised learning, each time you run the step above, it will give you a different result. You can set the random_state parameter to fix the reproducibility. \n",
    "\n",
    "A lot of parameters can be tuned to optimize training. Find out more here: https://radimrehurek.com/gensim/models/ldamodel.html *\n",
    "\n",
    "\n",
    "## Topic Number\n",
    "\n",
    "As seen above, a topic number is needed to create the LDA topic model. However, how do we determine a suitable number to use? \n",
    "\n",
    "One option is to use the perplexity value. It is a statistical measure of how well a probability model predicts a sample. The value on its own is quite meaningless. Its benefit comes in when comparing different LDA model and model with the lower perplexity value is generally considered “better”.\n",
    "\n",
    "Add the following code:\n",
    "\n",
    "```Python\n",
    "# Compute Perplexity\n",
    "print('Perplexity: ', ldamodel.log_perplexity(doc_term_matrix))\n",
    "```"
   ]
  },
  {
   "cell_type": "code",
   "execution_count": null,
   "metadata": {},
   "outputs": [],
   "source": [
    "# Enter code here\n",
    "print('Perplexity: ', ldamodel.log_perplexity(doc_term_matrix))"
   ]
  },
  {
   "cell_type": "markdown",
   "metadata": {},
   "source": [
    "Try Change the value of topic_num and check if there is any impact on the perplexity.\n",
    "\n",
    "**Do take note that by increasing topic_num to a large number may not help in understanding the categories (unless there is prior knowledge of a possible large value) and hence may sacrifice clarity.**\n",
    "\n",
    "By now, you would have noticed that some words (e.g., said, mr) kept appearing in the list of topics generated. It seems that these words should be considered as stop words and the generic stop words file cannot handle such domain specific words. As a result, let add in a few of the domain specific words to improve the results. This task works on the preprocessing step to assess if there is any impact by changing the stop words list and stemming.\n",
    "\n",
    "### Try the following\n",
    "\n",
    "1. Add in the following after the reading of stop words file\n",
    "```Python\n",
    "#addon to stop words\n",
    "domain_stop = [\"said\", \"mr\"]\n",
    "stop.update(domain_stop)\n",
    "```\n",
    "Run the program and see if there's any improvement.\n",
    "\n",
    "\n",
    "2. Add stemming to the preprocessing step. The following code adds in stemming for the content. Do take note that stemming should be added after the lemmatization under step 3. Remember to change the return statement to return stemmed.\n",
    "```Python\n",
    "stemmed = ' '.join(stemmer.stem(word) for word in normalized.split())\n",
    "```\n",
    "However, before stemmer can be called, you need to include the relevant packages. Add the following codes under step 3.\n",
    "```Python\n",
    "#stemming - English\n",
    "from nltk.stem import PorterStemmer\n",
    "stemmer = PorterStemmer()\n",
    "```"
   ]
  },
  {
   "cell_type": "code",
   "execution_count": null,
   "metadata": {},
   "outputs": [],
   "source": [
    "from nltk.stem import PorterStemmer\n",
    "stemmer = PorterStemmer()\n",
    "\n",
    "domain_stop = [\"said\", \"mr\"]\n",
    "stop.update(domain_stop)\n",
    "\n",
    "# Enter codes here\n",
    "def clean(doc):\n",
    "    punc_free = ''.join([ch for ch in doc.lower() if ch not in exclude])\n",
    "    stop_free = ' '.join([i for i in punc_free.split() if i not in stop]) \n",
    "    normalized = ' '.join(lemma.lemmatize(word) for word in stop_free.split())\n",
    "    stemmed = ' '.join(stemmer.stem(word) for word in normalized.split())\n",
    "    return normalized\n",
    "\n",
    "doc_clean = [clean(doc).split() for doc in corpus]"
   ]
  },
  {
   "cell_type": "markdown",
   "metadata": {},
   "source": [
    "## Retrieving Topic Details\n",
    "It is of interest to retrieve more details on the assigned topics. For example, total number of files assigned to the topics; the list of file names so that further processing on the identified files can be done. \n",
    "\n",
    "There are two parts to achieve the task.\n",
    "\n",
    "The first part is to find out the file name and its corresponding topic id(s) with probability. Recall that LDA is a probabilistic approach in modelling mixture of topics on a given content. As a result, LDA will assign the topic id(s) with its probability to indicate the content can potentially has more than one topic.\n",
    "\n",
    "The following code snippet will list out the file name and its corresponding topic ids with probability: \n",
    "\n",
    "```Python\n",
    "print('\\nFile name and its corresponding topic id with probability:')\n",
    "dic_topic_doc = {}\n",
    "for index, doc in enumerate(doc_clean):\n",
    "    #for doc in doc_clean:\n",
    "    bow = dictionary.doc2bow(doc)\n",
    "    \n",
    "    #get topic distribution of the ldamodel\n",
    "    t = ldamodel.get_document_topics(bow)\n",
    "    \n",
    "    #sort the probability value in descending order to extract the top contributing topic id\n",
    "    sorted_t = sorted(t, key=lambda x: x[1], reverse=True)\n",
    "    \n",
    "    #print only the filename \n",
    "    print(filenames[index],sorted_t)\n",
    "    \n",
    "    #get the top scoring item\n",
    "    top_item = sorted_t.pop(0)\n",
    "    \n",
    "    #create dictionary and keep key as topic id and filename and probability in tuple as value\n",
    "    dic_topic_doc.setdefault(top_item[0],[]).append((filenames[index],top_item[1]))\n",
    "\n",
    "```"
   ]
  },
  {
   "cell_type": "code",
   "execution_count": null,
   "metadata": {},
   "outputs": [],
   "source": [
    "# Enter code here\n",
    "print('\\nFile name and its corresponding topic id with probability:')\n",
    "dic_topic_doc = {}\n",
    "for index, doc in enumerate(doc_clean):\n",
    "    #for doc in doc_clean:\n",
    "    bow = dictionary.doc2bow(doc)\n",
    "    \n",
    "    #get topic distribution of the ldamodel\n",
    "    t = ldamodel.get_document_topics(bow)\n",
    "    \n",
    "    #sort the probability value in descending order to extract the top contributing topic id\n",
    "    sorted_t = sorted(t, key=lambda x: x[1], reverse=True)\n",
    "    \n",
    "    #print only the filename \n",
    "    print(filenames[index],sorted_t)\n",
    "    \n",
    "    #get the top scoring item\n",
    "    top_item = sorted_t.pop(0)\n",
    "    \n",
    "    #create dictionary and keep key as topic id and filename and probability in tuple as value\n",
    "    dic_topic_doc.setdefault(top_item[0],[]).append((filenames[index],top_item[1]))"
   ]
  },
  {
   "cell_type": "markdown",
   "metadata": {},
   "source": [
    "The interpretation of the result is based on the set of topic id and probability. Some files only have one main topic assigned but other files have more than one. For example, 008.txt [(9, 0.82650626), (7, 0.1692603)] means that the file 008.txt is assigned with topic id 9 with probability of 0.82650626 and topic id 7 with probability of 0.1692603. In other words, topic id 9 is the main topic of 008.txt. \n",
    "\n",
    "The second part is to make use of the above information and transform it to extract the list of topic id, number of files (belong to this topic) and the list of file names with its probability (in descending order). \n",
    "\n",
    "The following code snippet prints out the identified topic id and its associated details, such as the number of files assigned to the topic and its corresponding probability value:\n",
    "\n",
    "```Python\n",
    "print('\\nTopic id, number of documents, list of documents with probability and represented topic words:')\n",
    "\n",
    "for key,value in dic_topic_doc.items():\n",
    "    sorted_value = sorted(value, key=lambda x: x[1], reverse=True)\n",
    "    print(key,len(value),sorted_value)\n",
    "    \n",
    "    #print the topic word and most represented doc\n",
    "    print(ldamodel.print_topic(key,word_num))\n",
    "```"
   ]
  },
  {
   "cell_type": "code",
   "execution_count": null,
   "metadata": {},
   "outputs": [],
   "source": [
    "# Enter code here\n",
    "print('\\nTopic id, number of documents, list of documents with probability and represented topic words:')\n",
    "\n",
    "for key,value in dic_topic_doc.items():\n",
    "    sorted_value = sorted(value, key=lambda x: x[1], reverse=True)\n",
    "    print(key,len(value),sorted_value)\n",
    "    \n",
    "    #print the topic word and most represented doc\n",
    "    print(ldamodel.print_topic(key,word_num))"
   ]
  },
  {
   "cell_type": "markdown",
   "metadata": {},
   "source": [
    "The interpretation of the result, based on the below output:\n",
    "\n",
    "0 13 [('206.txt', 0.99757373), ('112.txt', 0.99581325), ('221 .txt', 0.99573374) … <br />\n",
    "0.005*\"said\" + 0.005*\"network\" + 0.005*\"business\" + 0.004*\"uk\" + 0.004*\"could\"<br />\n",
    "1 28 [('111.txt', 0.9982385), ('245.txt', 0.9976861), ('127.txt', 0.9975066),….<br />\n",
    "0.007*\"people\" + 0.007*\"would\" + 0.006*\"said\" + 0.005*\"blair\" + 0.005*\"party\"\n",
    "\n",
    "means that topic id 0 has 13 files identified and 206.txt is assigned with the highest probability, followed by 112.txt and so on. Python starts its index with 0 but essentially, topic id 0 is the first topic identified.\n",
    "\n",
    "Similarly, the next is topic id 1 with 28 files identified and 111.txt is assigned with the highest probability, followed by 245.txt and so on.\n",
    "\n",
    "\n",
    "## Visualize Topics and Keywords\n",
    "\n",
    "Now, we are ready to visualize our LDA model.\n",
    "\n",
    "The following code uses the pyLDAvis tool to visualize the fit of your LDA model across topics and their top words.\n",
    "\n",
    "You will need to install the pyLDAvis package.\n",
    "> pip install pyLDAvis\n",
    "\n",
    "```Python\n",
    "# plotting tools\n",
    "import pyLDAvis\n",
    "import pyLDAvis.gensim_models\n",
    "import matplotlib.pyplot as plt\n",
    "%matplotlib inline\n",
    "\n",
    "# visualize the topics and keywords\n",
    "pyLDAvis.enable_notebook()\n",
    "vis = pyLDAvis.gensim_models.prepare(ldamodel, doc_term_matrix, dictionary)\n",
    "vis\n",
    "```"
   ]
  },
  {
   "cell_type": "code",
   "execution_count": null,
   "metadata": {},
   "outputs": [],
   "source": [
    "#pip install pyLDAvis"
   ]
  },
  {
   "cell_type": "code",
   "execution_count": null,
   "metadata": {},
   "outputs": [],
   "source": [
    "# Enter codes here\n",
    "# plotting tools\n",
    "import pyLDAvis\n",
    "import pyLDAvis.gensim_models\n",
    "import matplotlib.pyplot as plt\n",
    "%matplotlib inline\n",
    "\n",
    "# visualize the topics and keywords\n",
    "pyLDAvis.enable_notebook()\n",
    "vis = pyLDAvis.gensim_models.prepare(ldamodel, doc_term_matrix, dictionary)\n",
    "vis"
   ]
  },
  {
   "cell_type": "markdown",
   "metadata": {},
   "source": [
    "Each bubble on the left-hand side plot represents a topic. The larger the bubble, the more prevalent is that topic.\n",
    "\n",
    "A good topic model will have fairly big, non-overlapping bubbles scattered throughout the chart instead of being clustered in one quadrant. A model with too many topics, will typically have many overlaps, small sized bubbles clustered in one region of the chart. \n",
    "\n",
    "If you move the cursor over one of the bubbles, the words and bars on the right-hand side will update. These words are the salient keywords that form the selected topic.\n"
   ]
  },
  {
   "cell_type": "markdown",
   "metadata": {},
   "source": [
    "# Exercise\n",
    "Load the **tripadvisor_hotel_reviews.csv** dataset into panda dataframe. Perform the following tasks:\n",
    "\n",
    "1. Prepare the data for topic modelling\n",
    "2. Train a LDA model\n",
    "3. Identify the topic\n",
    "4. Visualise the topic"
   ]
  },
  {
   "cell_type": "code",
   "execution_count": null,
   "metadata": {},
   "outputs": [],
   "source": [
    "# Enter your codes here\n",
    "import pandas as pd\n",
    "\n",
    "df = pd.read_csv(\"tripadvisor_hotel_reviews.csv\")\n",
    "df.head()"
   ]
  },
  {
   "cell_type": "code",
   "execution_count": null,
   "metadata": {},
   "outputs": [],
   "source": [
    "# 1. Prepare the data for topic modelling\n",
    "from nltk.stem import PorterStemmer\n",
    "stemmer = PorterStemmer()\n",
    "\n",
    "stop = set(stopwords.words('english'))\n",
    "exclude = set(string.punctuation)\n",
    "lemma = WordNetLemmatizer()\n",
    "\n",
    "stop.update(domain_stop)\n",
    "\n",
    "# Enter codes here\n",
    "def clean(doc):\n",
    "    punc_free = ''.join([ch for ch in doc.lower() if ch not in exclude])\n",
    "    stop_free = ' '.join([i for i in punc_free.split() if i not in stop]) \n",
    "    normalized = ' '.join(lemma.lemmatize(word) for word in stop_free.split())\n",
    "    stemmed = ' '.join(stemmer.stem(word) for word in normalized.split())\n",
    "    return normalized\n",
    "\n",
    "df[\"preprocessed_review\"] = df['Review'].apply(lambda x : clean(x).split())"
   ]
  },
  {
   "cell_type": "code",
   "execution_count": null,
   "metadata": {},
   "outputs": [],
   "source": [
    "df.head()"
   ]
  },
  {
   "cell_type": "code",
   "execution_count": null,
   "metadata": {
    "scrolled": true
   },
   "outputs": [],
   "source": [
    "# 2. Train a LDA model\n",
    "\n",
    "corpus_text = df[\"preprocessed_review\"].values.tolist()\n",
    "corpus_text"
   ]
  },
  {
   "cell_type": "code",
   "execution_count": null,
   "metadata": {},
   "outputs": [],
   "source": [
    "dictionary = corpora.Dictionary(corpus_text)\n",
    "doc_term_matrix = [dictionary.doc2bow(doc) for doc in corpus_text]"
   ]
  },
  {
   "cell_type": "code",
   "execution_count": null,
   "metadata": {},
   "outputs": [],
   "source": [
    "# 3. Identify the topic\n",
    "topic_num = 5\n",
    "word_num = 5\n",
    "\n",
    "Lda = gensim.models.ldamodel.LdaModel\n",
    "ldamodel = Lda(doc_term_matrix, num_topics = topic_num, id2word = dictionary, passes=20)\n",
    "\n",
    "pprint(ldamodel.print_topics(num_topics=topic_num, num_words=word_num))"
   ]
  },
  {
   "cell_type": "code",
   "execution_count": null,
   "metadata": {
    "scrolled": true
   },
   "outputs": [],
   "source": [
    "# 4. Visualise the topic\n",
    "# plotting tools\n",
    "import pyLDAvis\n",
    "import pyLDAvis.gensim_models\n",
    "import matplotlib.pyplot as plt\n",
    "%matplotlib inline\n",
    "\n",
    "# visualize the topics and keywords\n",
    "pyLDAvis.enable_notebook()\n",
    "vis = pyLDAvis.gensim_models.prepare(ldamodel, doc_term_matrix, dictionary)\n",
    "vis"
   ]
  }
 ],
 "metadata": {
  "kernelspec": {
   "display_name": "Python 3 (ipykernel)",
   "language": "python",
   "name": "python3"
  },
  "language_info": {
   "codemirror_mode": {
    "name": "ipython",
    "version": 3
   },
   "file_extension": ".py",
   "mimetype": "text/x-python",
   "name": "python",
   "nbconvert_exporter": "python",
   "pygments_lexer": "ipython3",
   "version": "3.8.20"
  }
 },
 "nbformat": 4,
 "nbformat_minor": 4
}

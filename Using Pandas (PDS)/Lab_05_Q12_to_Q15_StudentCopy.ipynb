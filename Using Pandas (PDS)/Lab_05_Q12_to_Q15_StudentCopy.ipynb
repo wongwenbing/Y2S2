{
 "cells": [
  {
   "cell_type": "markdown",
   "id": "dd890a3f",
   "metadata": {},
   "source": [
    "## IT2313 - Programming for Data Science\n",
    "## Practical 5 - Question 12 to 15\n",
    "## Data Manipulation with Pandas (Part 1)"
   ]
  },
  {
   "cell_type": "markdown",
   "id": "9360a8f0",
   "metadata": {},
   "source": [
    "### In this lesson, we will continue to practise our Pandas knowledge. \n",
    "- Importing Data into Pandas\n",
    "- Changing the Values in DataFrame\n",
    "- DataFrameData Exploration, Sorting and Filtering\n",
    "- Slicing and Subsetting with .loc and .iloc\n",
    "- Aggregating Methods"
   ]
  },
  {
   "cell_type": "markdown",
   "id": "43852209",
   "metadata": {},
   "source": [
    "#### We need to import the neccessary libraries"
   ]
  },
  {
   "cell_type": "code",
   "execution_count": 1,
   "id": "84200a71",
   "metadata": {},
   "outputs": [],
   "source": [
    "import numpy as np\n",
    "import pandas as pd"
   ]
  },
  {
   "cell_type": "markdown",
   "id": "329d3b67",
   "metadata": {},
   "source": [
    "## **Q12 - Let import dataset from \"homelessness.csv\" into DataFrame known as homelessness**"
   ]
  },
  {
   "cell_type": "markdown",
   "id": "2f577691",
   "metadata": {},
   "source": [
    "**(a) Display the full DataFrame after importing from Dataset, do you think it is flessibe to display the full DataFrame?**"
   ]
  },
  {
   "cell_type": "code",
   "execution_count": 39,
   "id": "9c24448c",
   "metadata": {},
   "outputs": [
    {
     "data": {
      "text/html": [
       "<div>\n",
       "<style scoped>\n",
       "    .dataframe tbody tr th:only-of-type {\n",
       "        vertical-align: middle;\n",
       "    }\n",
       "\n",
       "    .dataframe tbody tr th {\n",
       "        vertical-align: top;\n",
       "    }\n",
       "\n",
       "    .dataframe thead th {\n",
       "        text-align: right;\n",
       "    }\n",
       "</style>\n",
       "<table border=\"1\" class=\"dataframe\">\n",
       "  <thead>\n",
       "    <tr style=\"text-align: right;\">\n",
       "      <th></th>\n",
       "      <th>Unnamed: 0</th>\n",
       "      <th>region</th>\n",
       "      <th>state</th>\n",
       "      <th>individuals</th>\n",
       "      <th>family_members</th>\n",
       "      <th>state_pop</th>\n",
       "    </tr>\n",
       "  </thead>\n",
       "  <tbody>\n",
       "    <tr>\n",
       "      <th>0</th>\n",
       "      <td>0</td>\n",
       "      <td>East South Central</td>\n",
       "      <td>Alabama</td>\n",
       "      <td>2570.0</td>\n",
       "      <td>864.0</td>\n",
       "      <td>4887681</td>\n",
       "    </tr>\n",
       "    <tr>\n",
       "      <th>1</th>\n",
       "      <td>1</td>\n",
       "      <td>Pacific</td>\n",
       "      <td>Alaska</td>\n",
       "      <td>1434.0</td>\n",
       "      <td>582.0</td>\n",
       "      <td>735139</td>\n",
       "    </tr>\n",
       "    <tr>\n",
       "      <th>2</th>\n",
       "      <td>2</td>\n",
       "      <td>Mountain</td>\n",
       "      <td>Arizona</td>\n",
       "      <td>7259.0</td>\n",
       "      <td>2606.0</td>\n",
       "      <td>7158024</td>\n",
       "    </tr>\n",
       "    <tr>\n",
       "      <th>3</th>\n",
       "      <td>3</td>\n",
       "      <td>West South Central</td>\n",
       "      <td>Arkansas</td>\n",
       "      <td>2280.0</td>\n",
       "      <td>432.0</td>\n",
       "      <td>3009733</td>\n",
       "    </tr>\n",
       "    <tr>\n",
       "      <th>4</th>\n",
       "      <td>4</td>\n",
       "      <td>Pacific</td>\n",
       "      <td>California</td>\n",
       "      <td>109008.0</td>\n",
       "      <td>20964.0</td>\n",
       "      <td>39461588</td>\n",
       "    </tr>\n",
       "  </tbody>\n",
       "</table>\n",
       "</div>"
      ],
      "text/plain": [
       "   Unnamed: 0              region       state  individuals  family_members  \\\n",
       "0           0  East South Central     Alabama       2570.0           864.0   \n",
       "1           1             Pacific      Alaska       1434.0           582.0   \n",
       "2           2            Mountain     Arizona       7259.0          2606.0   \n",
       "3           3  West South Central    Arkansas       2280.0           432.0   \n",
       "4           4             Pacific  California     109008.0         20964.0   \n",
       "\n",
       "   state_pop  \n",
       "0    4887681  \n",
       "1     735139  \n",
       "2    7158024  \n",
       "3    3009733  \n",
       "4   39461588  "
      ]
     },
     "execution_count": 39,
     "metadata": {},
     "output_type": "execute_result"
    }
   ],
   "source": [
    "# Type your Q12(a) answer here\n",
    "homelessness=pd.read_csv(\"homelessness.csv\")\n",
    "homelessness=pd.DataFrame(homelessness)\n",
    "homelessness.head()"
   ]
  },
  {
   "cell_type": "markdown",
   "id": "94220c54",
   "metadata": {},
   "source": [
    "**(b) Display the top 10 and bottom 10 rows of the DataFrame**"
   ]
  },
  {
   "cell_type": "code",
   "execution_count": 19,
   "id": "9aec2b38",
   "metadata": {},
   "outputs": [
    {
     "data": {
      "text/html": [
       "<div>\n",
       "<style scoped>\n",
       "    .dataframe tbody tr th:only-of-type {\n",
       "        vertical-align: middle;\n",
       "    }\n",
       "\n",
       "    .dataframe tbody tr th {\n",
       "        vertical-align: top;\n",
       "    }\n",
       "\n",
       "    .dataframe thead th {\n",
       "        text-align: right;\n",
       "    }\n",
       "</style>\n",
       "<table border=\"1\" class=\"dataframe\">\n",
       "  <thead>\n",
       "    <tr style=\"text-align: right;\">\n",
       "      <th></th>\n",
       "      <th>Unnamed: 0</th>\n",
       "      <th>region</th>\n",
       "      <th>state</th>\n",
       "      <th>individuals</th>\n",
       "      <th>family_members</th>\n",
       "      <th>state_pop</th>\n",
       "    </tr>\n",
       "  </thead>\n",
       "  <tbody>\n",
       "    <tr>\n",
       "      <th>0</th>\n",
       "      <td>0</td>\n",
       "      <td>East South Central</td>\n",
       "      <td>Alabama</td>\n",
       "      <td>2570.0</td>\n",
       "      <td>864.0</td>\n",
       "      <td>4887681</td>\n",
       "    </tr>\n",
       "    <tr>\n",
       "      <th>1</th>\n",
       "      <td>1</td>\n",
       "      <td>Pacific</td>\n",
       "      <td>Alaska</td>\n",
       "      <td>1434.0</td>\n",
       "      <td>582.0</td>\n",
       "      <td>735139</td>\n",
       "    </tr>\n",
       "    <tr>\n",
       "      <th>2</th>\n",
       "      <td>2</td>\n",
       "      <td>Mountain</td>\n",
       "      <td>Arizona</td>\n",
       "      <td>7259.0</td>\n",
       "      <td>2606.0</td>\n",
       "      <td>7158024</td>\n",
       "    </tr>\n",
       "    <tr>\n",
       "      <th>3</th>\n",
       "      <td>3</td>\n",
       "      <td>West South Central</td>\n",
       "      <td>Arkansas</td>\n",
       "      <td>2280.0</td>\n",
       "      <td>432.0</td>\n",
       "      <td>3009733</td>\n",
       "    </tr>\n",
       "    <tr>\n",
       "      <th>4</th>\n",
       "      <td>4</td>\n",
       "      <td>Pacific</td>\n",
       "      <td>California</td>\n",
       "      <td>109008.0</td>\n",
       "      <td>20964.0</td>\n",
       "      <td>39461588</td>\n",
       "    </tr>\n",
       "    <tr>\n",
       "      <th>5</th>\n",
       "      <td>5</td>\n",
       "      <td>Mountain</td>\n",
       "      <td>Colorado</td>\n",
       "      <td>7607.0</td>\n",
       "      <td>3250.0</td>\n",
       "      <td>5691287</td>\n",
       "    </tr>\n",
       "    <tr>\n",
       "      <th>6</th>\n",
       "      <td>6</td>\n",
       "      <td>New England</td>\n",
       "      <td>Connecticut</td>\n",
       "      <td>2280.0</td>\n",
       "      <td>1696.0</td>\n",
       "      <td>3571520</td>\n",
       "    </tr>\n",
       "    <tr>\n",
       "      <th>7</th>\n",
       "      <td>7</td>\n",
       "      <td>South Atlantic</td>\n",
       "      <td>Delaware</td>\n",
       "      <td>708.0</td>\n",
       "      <td>374.0</td>\n",
       "      <td>965479</td>\n",
       "    </tr>\n",
       "    <tr>\n",
       "      <th>8</th>\n",
       "      <td>8</td>\n",
       "      <td>South Atlantic</td>\n",
       "      <td>District of Columbia</td>\n",
       "      <td>3770.0</td>\n",
       "      <td>3134.0</td>\n",
       "      <td>701547</td>\n",
       "    </tr>\n",
       "    <tr>\n",
       "      <th>9</th>\n",
       "      <td>9</td>\n",
       "      <td>South Atlantic</td>\n",
       "      <td>Florida</td>\n",
       "      <td>21443.0</td>\n",
       "      <td>9587.0</td>\n",
       "      <td>21244317</td>\n",
       "    </tr>\n",
       "  </tbody>\n",
       "</table>\n",
       "</div>"
      ],
      "text/plain": [
       "   Unnamed: 0              region                 state  individuals  \\\n",
       "0           0  East South Central               Alabama       2570.0   \n",
       "1           1             Pacific                Alaska       1434.0   \n",
       "2           2            Mountain               Arizona       7259.0   \n",
       "3           3  West South Central              Arkansas       2280.0   \n",
       "4           4             Pacific            California     109008.0   \n",
       "5           5            Mountain              Colorado       7607.0   \n",
       "6           6         New England           Connecticut       2280.0   \n",
       "7           7      South Atlantic              Delaware        708.0   \n",
       "8           8      South Atlantic  District of Columbia       3770.0   \n",
       "9           9      South Atlantic               Florida      21443.0   \n",
       "\n",
       "   family_members  state_pop  \n",
       "0           864.0    4887681  \n",
       "1           582.0     735139  \n",
       "2          2606.0    7158024  \n",
       "3           432.0    3009733  \n",
       "4         20964.0   39461588  \n",
       "5          3250.0    5691287  \n",
       "6          1696.0    3571520  \n",
       "7           374.0     965479  \n",
       "8          3134.0     701547  \n",
       "9          9587.0   21244317  "
      ]
     },
     "execution_count": 19,
     "metadata": {},
     "output_type": "execute_result"
    }
   ],
   "source": [
    "# Type your Q12(b) answer here\n",
    "homelessness.head(10)\n"
   ]
  },
  {
   "cell_type": "code",
   "execution_count": 20,
   "id": "0f319d40",
   "metadata": {},
   "outputs": [
    {
     "data": {
      "text/html": [
       "<div>\n",
       "<style scoped>\n",
       "    .dataframe tbody tr th:only-of-type {\n",
       "        vertical-align: middle;\n",
       "    }\n",
       "\n",
       "    .dataframe tbody tr th {\n",
       "        vertical-align: top;\n",
       "    }\n",
       "\n",
       "    .dataframe thead th {\n",
       "        text-align: right;\n",
       "    }\n",
       "</style>\n",
       "<table border=\"1\" class=\"dataframe\">\n",
       "  <thead>\n",
       "    <tr style=\"text-align: right;\">\n",
       "      <th></th>\n",
       "      <th>Unnamed: 0</th>\n",
       "      <th>region</th>\n",
       "      <th>state</th>\n",
       "      <th>individuals</th>\n",
       "      <th>family_members</th>\n",
       "      <th>state_pop</th>\n",
       "    </tr>\n",
       "  </thead>\n",
       "  <tbody>\n",
       "    <tr>\n",
       "      <th>41</th>\n",
       "      <td>41</td>\n",
       "      <td>West North Central</td>\n",
       "      <td>South Dakota</td>\n",
       "      <td>836.0</td>\n",
       "      <td>323.0</td>\n",
       "      <td>878698</td>\n",
       "    </tr>\n",
       "    <tr>\n",
       "      <th>42</th>\n",
       "      <td>42</td>\n",
       "      <td>East South Central</td>\n",
       "      <td>Tennessee</td>\n",
       "      <td>6139.0</td>\n",
       "      <td>1744.0</td>\n",
       "      <td>6771631</td>\n",
       "    </tr>\n",
       "    <tr>\n",
       "      <th>43</th>\n",
       "      <td>43</td>\n",
       "      <td>West South Central</td>\n",
       "      <td>Texas</td>\n",
       "      <td>19199.0</td>\n",
       "      <td>6111.0</td>\n",
       "      <td>28628666</td>\n",
       "    </tr>\n",
       "    <tr>\n",
       "      <th>44</th>\n",
       "      <td>44</td>\n",
       "      <td>Mountain</td>\n",
       "      <td>Utah</td>\n",
       "      <td>1904.0</td>\n",
       "      <td>972.0</td>\n",
       "      <td>3153550</td>\n",
       "    </tr>\n",
       "    <tr>\n",
       "      <th>45</th>\n",
       "      <td>45</td>\n",
       "      <td>New England</td>\n",
       "      <td>Vermont</td>\n",
       "      <td>780.0</td>\n",
       "      <td>511.0</td>\n",
       "      <td>624358</td>\n",
       "    </tr>\n",
       "    <tr>\n",
       "      <th>46</th>\n",
       "      <td>46</td>\n",
       "      <td>South Atlantic</td>\n",
       "      <td>Virginia</td>\n",
       "      <td>3928.0</td>\n",
       "      <td>2047.0</td>\n",
       "      <td>8501286</td>\n",
       "    </tr>\n",
       "    <tr>\n",
       "      <th>47</th>\n",
       "      <td>47</td>\n",
       "      <td>Pacific</td>\n",
       "      <td>Washington</td>\n",
       "      <td>16424.0</td>\n",
       "      <td>5880.0</td>\n",
       "      <td>7523869</td>\n",
       "    </tr>\n",
       "    <tr>\n",
       "      <th>48</th>\n",
       "      <td>48</td>\n",
       "      <td>South Atlantic</td>\n",
       "      <td>West Virginia</td>\n",
       "      <td>1021.0</td>\n",
       "      <td>222.0</td>\n",
       "      <td>1804291</td>\n",
       "    </tr>\n",
       "    <tr>\n",
       "      <th>49</th>\n",
       "      <td>49</td>\n",
       "      <td>East North Central</td>\n",
       "      <td>Wisconsin</td>\n",
       "      <td>2740.0</td>\n",
       "      <td>2167.0</td>\n",
       "      <td>5807406</td>\n",
       "    </tr>\n",
       "    <tr>\n",
       "      <th>50</th>\n",
       "      <td>50</td>\n",
       "      <td>Mountain</td>\n",
       "      <td>Wyoming</td>\n",
       "      <td>434.0</td>\n",
       "      <td>205.0</td>\n",
       "      <td>577601</td>\n",
       "    </tr>\n",
       "  </tbody>\n",
       "</table>\n",
       "</div>"
      ],
      "text/plain": [
       "    Unnamed: 0              region          state  individuals  \\\n",
       "41          41  West North Central   South Dakota        836.0   \n",
       "42          42  East South Central      Tennessee       6139.0   \n",
       "43          43  West South Central          Texas      19199.0   \n",
       "44          44            Mountain           Utah       1904.0   \n",
       "45          45         New England        Vermont        780.0   \n",
       "46          46      South Atlantic       Virginia       3928.0   \n",
       "47          47             Pacific     Washington      16424.0   \n",
       "48          48      South Atlantic  West Virginia       1021.0   \n",
       "49          49  East North Central      Wisconsin       2740.0   \n",
       "50          50            Mountain        Wyoming        434.0   \n",
       "\n",
       "    family_members  state_pop  \n",
       "41           323.0     878698  \n",
       "42          1744.0    6771631  \n",
       "43          6111.0   28628666  \n",
       "44           972.0    3153550  \n",
       "45           511.0     624358  \n",
       "46          2047.0    8501286  \n",
       "47          5880.0    7523869  \n",
       "48           222.0    1804291  \n",
       "49          2167.0    5807406  \n",
       "50           205.0     577601  "
      ]
     },
     "execution_count": 20,
     "metadata": {},
     "output_type": "execute_result"
    }
   ],
   "source": [
    "# Type your Q12(b) answer here\n",
    "homelessness.tail(10)\n"
   ]
  },
  {
   "cell_type": "markdown",
   "id": "a7872623",
   "metadata": {},
   "source": [
    "**(c) Display the number of rows and columns in this DataFrame**"
   ]
  },
  {
   "cell_type": "code",
   "execution_count": 21,
   "id": "0652c9dc",
   "metadata": {},
   "outputs": [
    {
     "data": {
      "text/plain": [
       "(51, 6)"
      ]
     },
     "execution_count": 21,
     "metadata": {},
     "output_type": "execute_result"
    }
   ],
   "source": [
    "# Type your Q12(c) answer here\n",
    "homelessness.shape\n"
   ]
  },
  {
   "cell_type": "markdown",
   "id": "406d8f64",
   "metadata": {},
   "source": [
    "**(d) Generate descriptive statistics of the DataFrame's numerical columns**"
   ]
  },
  {
   "cell_type": "code",
   "execution_count": 22,
   "id": "2111ce2c",
   "metadata": {},
   "outputs": [
    {
     "data": {
      "text/plain": [
       "count        51.000000\n",
       "mean       7225.784314\n",
       "std       15991.025083\n",
       "min         434.000000\n",
       "25%        1446.500000\n",
       "50%        3082.000000\n",
       "75%        6781.500000\n",
       "max      109008.000000\n",
       "Name: individuals, dtype: float64"
      ]
     },
     "execution_count": 22,
     "metadata": {},
     "output_type": "execute_result"
    }
   ],
   "source": [
    "# Type your Q12(d) answer here\n",
    "homelessness[\"individuals\"].describe()"
   ]
  },
  {
   "cell_type": "code",
   "execution_count": 23,
   "id": "c098275e",
   "metadata": {},
   "outputs": [
    {
     "data": {
      "text/plain": [
       "count       51.000000\n",
       "mean      3504.882353\n",
       "std       7805.411811\n",
       "min         75.000000\n",
       "25%        592.000000\n",
       "50%       1482.000000\n",
       "75%       3196.000000\n",
       "max      52070.000000\n",
       "Name: family_members, dtype: float64"
      ]
     },
     "execution_count": 23,
     "metadata": {},
     "output_type": "execute_result"
    }
   ],
   "source": [
    "# Type your Q12(d) answer here\n",
    "homelessness[\"family_members\"].describe()\n"
   ]
  },
  {
   "cell_type": "code",
   "execution_count": 24,
   "id": "2a1cc023",
   "metadata": {},
   "outputs": [
    {
     "data": {
      "text/plain": [
       "count    5.100000e+01\n",
       "mean     6.405637e+06\n",
       "std      7.327258e+06\n",
       "min      5.776010e+05\n",
       "25%      1.777414e+06\n",
       "50%      4.461153e+06\n",
       "75%      7.340946e+06\n",
       "max      3.946159e+07\n",
       "Name: state_pop, dtype: float64"
      ]
     },
     "execution_count": 24,
     "metadata": {},
     "output_type": "execute_result"
    }
   ],
   "source": [
    "# Type your Q12(d) answer here\n",
    "homelessness[\"state_pop\"].describe()\n"
   ]
  },
  {
   "cell_type": "markdown",
   "id": "5e6a79ec",
   "metadata": {},
   "source": [
    "**(e) Sort the DataFrame based on the column \"individuals\" in _ascending_ order and display the Top 5 rows**"
   ]
  },
  {
   "cell_type": "code",
   "execution_count": 31,
   "id": "cc66434e",
   "metadata": {},
   "outputs": [
    {
     "data": {
      "text/html": [
       "<div>\n",
       "<style scoped>\n",
       "    .dataframe tbody tr th:only-of-type {\n",
       "        vertical-align: middle;\n",
       "    }\n",
       "\n",
       "    .dataframe tbody tr th {\n",
       "        vertical-align: top;\n",
       "    }\n",
       "\n",
       "    .dataframe thead th {\n",
       "        text-align: right;\n",
       "    }\n",
       "</style>\n",
       "<table border=\"1\" class=\"dataframe\">\n",
       "  <thead>\n",
       "    <tr style=\"text-align: right;\">\n",
       "      <th></th>\n",
       "      <th>Unnamed: 0</th>\n",
       "      <th>region</th>\n",
       "      <th>state</th>\n",
       "      <th>individuals</th>\n",
       "      <th>family_members</th>\n",
       "      <th>state_pop</th>\n",
       "    </tr>\n",
       "  </thead>\n",
       "  <tbody>\n",
       "    <tr>\n",
       "      <th>50</th>\n",
       "      <td>50</td>\n",
       "      <td>Mountain</td>\n",
       "      <td>Wyoming</td>\n",
       "      <td>434.0</td>\n",
       "      <td>205.0</td>\n",
       "      <td>577601</td>\n",
       "    </tr>\n",
       "    <tr>\n",
       "      <th>34</th>\n",
       "      <td>34</td>\n",
       "      <td>West North Central</td>\n",
       "      <td>North Dakota</td>\n",
       "      <td>467.0</td>\n",
       "      <td>75.0</td>\n",
       "      <td>758080</td>\n",
       "    </tr>\n",
       "    <tr>\n",
       "      <th>7</th>\n",
       "      <td>7</td>\n",
       "      <td>South Atlantic</td>\n",
       "      <td>Delaware</td>\n",
       "      <td>708.0</td>\n",
       "      <td>374.0</td>\n",
       "      <td>965479</td>\n",
       "    </tr>\n",
       "    <tr>\n",
       "      <th>39</th>\n",
       "      <td>39</td>\n",
       "      <td>New England</td>\n",
       "      <td>Rhode Island</td>\n",
       "      <td>747.0</td>\n",
       "      <td>354.0</td>\n",
       "      <td>1058287</td>\n",
       "    </tr>\n",
       "    <tr>\n",
       "      <th>45</th>\n",
       "      <td>45</td>\n",
       "      <td>New England</td>\n",
       "      <td>Vermont</td>\n",
       "      <td>780.0</td>\n",
       "      <td>511.0</td>\n",
       "      <td>624358</td>\n",
       "    </tr>\n",
       "  </tbody>\n",
       "</table>\n",
       "</div>"
      ],
      "text/plain": [
       "    Unnamed: 0              region         state  individuals  family_members  \\\n",
       "50          50            Mountain       Wyoming        434.0           205.0   \n",
       "34          34  West North Central  North Dakota        467.0            75.0   \n",
       "7            7      South Atlantic      Delaware        708.0           374.0   \n",
       "39          39         New England  Rhode Island        747.0           354.0   \n",
       "45          45         New England       Vermont        780.0           511.0   \n",
       "\n",
       "    state_pop  \n",
       "50     577601  \n",
       "34     758080  \n",
       "7      965479  \n",
       "39    1058287  \n",
       "45     624358  "
      ]
     },
     "execution_count": 31,
     "metadata": {},
     "output_type": "execute_result"
    }
   ],
   "source": [
    "# Type your Q12(e) answer here\n",
    "homelessness.sort_values(\"individuals\").head()\n"
   ]
  },
  {
   "cell_type": "markdown",
   "id": "d7981b53",
   "metadata": {},
   "source": [
    "**(f) Sort the DataFrame based on the column \"individuals\" in _descending_ order and display the Top 5 rows**"
   ]
  },
  {
   "cell_type": "code",
   "execution_count": 33,
   "id": "a4d996e4",
   "metadata": {},
   "outputs": [
    {
     "data": {
      "text/html": [
       "<div>\n",
       "<style scoped>\n",
       "    .dataframe tbody tr th:only-of-type {\n",
       "        vertical-align: middle;\n",
       "    }\n",
       "\n",
       "    .dataframe tbody tr th {\n",
       "        vertical-align: top;\n",
       "    }\n",
       "\n",
       "    .dataframe thead th {\n",
       "        text-align: right;\n",
       "    }\n",
       "</style>\n",
       "<table border=\"1\" class=\"dataframe\">\n",
       "  <thead>\n",
       "    <tr style=\"text-align: right;\">\n",
       "      <th></th>\n",
       "      <th>Unnamed: 0</th>\n",
       "      <th>region</th>\n",
       "      <th>state</th>\n",
       "      <th>individuals</th>\n",
       "      <th>family_members</th>\n",
       "      <th>state_pop</th>\n",
       "    </tr>\n",
       "  </thead>\n",
       "  <tbody>\n",
       "    <tr>\n",
       "      <th>4</th>\n",
       "      <td>4</td>\n",
       "      <td>Pacific</td>\n",
       "      <td>California</td>\n",
       "      <td>109008.0</td>\n",
       "      <td>20964.0</td>\n",
       "      <td>39461588</td>\n",
       "    </tr>\n",
       "    <tr>\n",
       "      <th>32</th>\n",
       "      <td>32</td>\n",
       "      <td>Mid-Atlantic</td>\n",
       "      <td>New York</td>\n",
       "      <td>39827.0</td>\n",
       "      <td>52070.0</td>\n",
       "      <td>19530351</td>\n",
       "    </tr>\n",
       "    <tr>\n",
       "      <th>9</th>\n",
       "      <td>9</td>\n",
       "      <td>South Atlantic</td>\n",
       "      <td>Florida</td>\n",
       "      <td>21443.0</td>\n",
       "      <td>9587.0</td>\n",
       "      <td>21244317</td>\n",
       "    </tr>\n",
       "    <tr>\n",
       "      <th>43</th>\n",
       "      <td>43</td>\n",
       "      <td>West South Central</td>\n",
       "      <td>Texas</td>\n",
       "      <td>19199.0</td>\n",
       "      <td>6111.0</td>\n",
       "      <td>28628666</td>\n",
       "    </tr>\n",
       "    <tr>\n",
       "      <th>47</th>\n",
       "      <td>47</td>\n",
       "      <td>Pacific</td>\n",
       "      <td>Washington</td>\n",
       "      <td>16424.0</td>\n",
       "      <td>5880.0</td>\n",
       "      <td>7523869</td>\n",
       "    </tr>\n",
       "  </tbody>\n",
       "</table>\n",
       "</div>"
      ],
      "text/plain": [
       "    Unnamed: 0              region       state  individuals  family_members  \\\n",
       "4            4             Pacific  California     109008.0         20964.0   \n",
       "32          32        Mid-Atlantic    New York      39827.0         52070.0   \n",
       "9            9      South Atlantic     Florida      21443.0          9587.0   \n",
       "43          43  West South Central       Texas      19199.0          6111.0   \n",
       "47          47             Pacific  Washington      16424.0          5880.0   \n",
       "\n",
       "    state_pop  \n",
       "4    39461588  \n",
       "32   19530351  \n",
       "9    21244317  \n",
       "43   28628666  \n",
       "47    7523869  "
      ]
     },
     "execution_count": 33,
     "metadata": {},
     "output_type": "execute_result"
    }
   ],
   "source": [
    "homelessness.sort_values(\"individuals\",ascending=False).head()"
   ]
  },
  {
   "cell_type": "markdown",
   "id": "315adcdf",
   "metadata": {},
   "source": [
    "**(g) Select only the columns \"region\" and \"family_members\" and display the top 5 rows**"
   ]
  },
  {
   "cell_type": "code",
   "execution_count": 36,
   "id": "6a7e14ca",
   "metadata": {},
   "outputs": [
    {
     "data": {
      "text/html": [
       "<div>\n",
       "<style scoped>\n",
       "    .dataframe tbody tr th:only-of-type {\n",
       "        vertical-align: middle;\n",
       "    }\n",
       "\n",
       "    .dataframe tbody tr th {\n",
       "        vertical-align: top;\n",
       "    }\n",
       "\n",
       "    .dataframe thead th {\n",
       "        text-align: right;\n",
       "    }\n",
       "</style>\n",
       "<table border=\"1\" class=\"dataframe\">\n",
       "  <thead>\n",
       "    <tr style=\"text-align: right;\">\n",
       "      <th></th>\n",
       "      <th>region</th>\n",
       "      <th>state</th>\n",
       "      <th>individuals</th>\n",
       "      <th>family_members</th>\n",
       "    </tr>\n",
       "  </thead>\n",
       "  <tbody>\n",
       "    <tr>\n",
       "      <th>0</th>\n",
       "      <td>East South Central</td>\n",
       "      <td>Alabama</td>\n",
       "      <td>2570.0</td>\n",
       "      <td>864.0</td>\n",
       "    </tr>\n",
       "    <tr>\n",
       "      <th>1</th>\n",
       "      <td>Pacific</td>\n",
       "      <td>Alaska</td>\n",
       "      <td>1434.0</td>\n",
       "      <td>582.0</td>\n",
       "    </tr>\n",
       "    <tr>\n",
       "      <th>2</th>\n",
       "      <td>Mountain</td>\n",
       "      <td>Arizona</td>\n",
       "      <td>7259.0</td>\n",
       "      <td>2606.0</td>\n",
       "    </tr>\n",
       "    <tr>\n",
       "      <th>3</th>\n",
       "      <td>West South Central</td>\n",
       "      <td>Arkansas</td>\n",
       "      <td>2280.0</td>\n",
       "      <td>432.0</td>\n",
       "    </tr>\n",
       "    <tr>\n",
       "      <th>4</th>\n",
       "      <td>Pacific</td>\n",
       "      <td>California</td>\n",
       "      <td>109008.0</td>\n",
       "      <td>20964.0</td>\n",
       "    </tr>\n",
       "  </tbody>\n",
       "</table>\n",
       "</div>"
      ],
      "text/plain": [
       "               region       state  individuals  family_members\n",
       "0  East South Central     Alabama       2570.0           864.0\n",
       "1             Pacific      Alaska       1434.0           582.0\n",
       "2            Mountain     Arizona       7259.0          2606.0\n",
       "3  West South Central    Arkansas       2280.0           432.0\n",
       "4             Pacific  California     109008.0         20964.0"
      ]
     },
     "execution_count": 36,
     "metadata": {},
     "output_type": "execute_result"
    }
   ],
   "source": [
    "# Type your Q12(g) answer here\n",
    "homelessness.loc[:,\"region\":\"family_members\"].head()\n"
   ]
  },
  {
   "cell_type": "markdown",
   "id": "4649f1a8",
   "metadata": {},
   "source": [
    "**(h) Select the rows which the \"region\" is \"Pacific\" and \"state\" is \"California\"**"
   ]
  },
  {
   "cell_type": "code",
   "execution_count": 40,
   "id": "51c17d82",
   "metadata": {},
   "outputs": [
    {
     "ename": "ValueError",
     "evalue": "The truth value of a Series is ambiguous. Use a.empty, a.bool(), a.item(), a.any() or a.all().",
     "output_type": "error",
     "traceback": [
      "\u001b[1;31m---------------------------------------------------------------------------\u001b[0m",
      "\u001b[1;31mValueError\u001b[0m                                Traceback (most recent call last)",
      "\u001b[1;32m~\\AppData\\Local\\Temp\\ipykernel_18412\\1200532138.py\u001b[0m in \u001b[0;36m?\u001b[1;34m()\u001b[0m\n\u001b[0;32m      1\u001b[0m \u001b[1;31m# Question Q12(h)\u001b[0m\u001b[1;33m\u001b[0m\u001b[1;33m\u001b[0m\u001b[0m\n\u001b[0;32m      2\u001b[0m \u001b[1;31m# Type your answer here\u001b[0m\u001b[1;33m\u001b[0m\u001b[1;33m\u001b[0m\u001b[0m\n\u001b[1;32m----> 3\u001b[1;33m \u001b[0mhomelessnesss\u001b[0m\u001b[1;33m=\u001b[0m\u001b[0mhomelessness\u001b[0m\u001b[1;33m[\u001b[0m\u001b[1;33m(\u001b[0m\u001b[0mhomelessness\u001b[0m\u001b[1;33m[\u001b[0m\u001b[1;34m'region'\u001b[0m\u001b[1;33m]\u001b[0m\u001b[1;33m==\u001b[0m\u001b[1;34m'Pacific'\u001b[0m\u001b[1;33m)\u001b[0m \u001b[1;32mand\u001b[0m \u001b[1;33m(\u001b[0m\u001b[0mhomelessness\u001b[0m\u001b[1;33m[\u001b[0m\u001b[1;34m'state'\u001b[0m\u001b[1;33m]\u001b[0m\u001b[1;33m==\u001b[0m\u001b[1;34m'California'\u001b[0m\u001b[1;33m)\u001b[0m\u001b[1;33m]\u001b[0m\u001b[1;33m\u001b[0m\u001b[1;33m\u001b[0m\u001b[0m\n\u001b[0m\u001b[0;32m      4\u001b[0m \u001b[0mhomelessnesss\u001b[0m\u001b[1;33m\u001b[0m\u001b[1;33m\u001b[0m\u001b[0m\n",
      "\u001b[1;32m~\\AppData\\Roaming\\Python\\Python311\\site-packages\\pandas\\core\\generic.py\u001b[0m in \u001b[0;36m?\u001b[1;34m(self)\u001b[0m\n\u001b[0;32m   1517\u001b[0m     \u001b[1;33m@\u001b[0m\u001b[0mfinal\u001b[0m\u001b[1;33m\u001b[0m\u001b[1;33m\u001b[0m\u001b[0m\n\u001b[0;32m   1518\u001b[0m     \u001b[1;32mdef\u001b[0m \u001b[0m__nonzero__\u001b[0m\u001b[1;33m(\u001b[0m\u001b[0mself\u001b[0m\u001b[1;33m)\u001b[0m \u001b[1;33m->\u001b[0m \u001b[0mNoReturn\u001b[0m\u001b[1;33m:\u001b[0m\u001b[1;33m\u001b[0m\u001b[1;33m\u001b[0m\u001b[0m\n\u001b[1;32m-> 1519\u001b[1;33m         raise ValueError(\n\u001b[0m\u001b[0;32m   1520\u001b[0m             \u001b[1;34mf\"The truth value of a {type(self).__name__} is ambiguous. \"\u001b[0m\u001b[1;33m\u001b[0m\u001b[1;33m\u001b[0m\u001b[0m\n\u001b[0;32m   1521\u001b[0m             \u001b[1;34m\"Use a.empty, a.bool(), a.item(), a.any() or a.all().\"\u001b[0m\u001b[1;33m\u001b[0m\u001b[1;33m\u001b[0m\u001b[0m\n\u001b[0;32m   1522\u001b[0m         )\n",
      "\u001b[1;31mValueError\u001b[0m: The truth value of a Series is ambiguous. Use a.empty, a.bool(), a.item(), a.any() or a.all()."
     ]
    }
   ],
   "source": [
    "# Question Q12(h)\n",
    "# Type your answer here\n",
    "homelessnesss=homelessness[(homelessness['region']=='Pacific') and (homelessness['state']=='California')]\n",
    "homelessnesss "
   ]
  },
  {
   "cell_type": "code",
   "execution_count": 13,
   "id": "2f6b4710",
   "metadata": {},
   "outputs": [],
   "source": [
    "# Question Q12(h)\n",
    "# Type your answer here\n",
    "\n"
   ]
  },
  {
   "cell_type": "markdown",
   "id": "2e8d65b0",
   "metadata": {},
   "source": [
    "**(i) Select only the rows where the region is \"Pacific\" or 'Mountain'.**"
   ]
  },
  {
   "cell_type": "code",
   "execution_count": 14,
   "id": "4bd81ae6",
   "metadata": {},
   "outputs": [],
   "source": [
    "# Question Q12(i)\n",
    "# Type your answer here\n",
    "\n"
   ]
  },
  {
   "cell_type": "markdown",
   "id": "48de0f35",
   "metadata": {},
   "source": [
    "**(j) Create a new column known as \"indiv_per_10k\" col to represent homeless individuals per 10k state pop**"
   ]
  },
  {
   "cell_type": "code",
   "execution_count": 15,
   "id": "49ffb77d",
   "metadata": {},
   "outputs": [],
   "source": [
    "# Question Q12(j)\n",
    "# Type your answer here\n",
    "\n"
   ]
  },
  {
   "cell_type": "markdown",
   "id": "f14e4538-fe46-458a-9f6f-9e19f3470ba9",
   "metadata": {},
   "source": [
    "### **Q13 - Aggregating Data with Pivot Tables: Total Sales Analysis by Year, Product, and Region**"
   ]
  },
  {
   "cell_type": "markdown",
   "id": "5ef1c447-5a9b-4e87-b794-b9a9caf9a09a",
   "metadata": {},
   "source": [
    "**Given a dataset of monthly sales, use pivot_table() to calculate the total annual sales for each product by region. Specifically, group by year, product_name, and region, and aggregate the sales column to obtain the total sales for each unique combination. Provide the Python code and display the resulting DataFrame.**"
   ]
  },
  {
   "cell_type": "code",
   "execution_count": 41,
   "id": "ac340aa4-09eb-4809-adea-70b30a0a866a",
   "metadata": {},
   "outputs": [
    {
     "data": {
      "text/html": [
       "<div>\n",
       "<style scoped>\n",
       "    .dataframe tbody tr th:only-of-type {\n",
       "        vertical-align: middle;\n",
       "    }\n",
       "\n",
       "    .dataframe tbody tr th {\n",
       "        vertical-align: top;\n",
       "    }\n",
       "\n",
       "    .dataframe thead th {\n",
       "        text-align: right;\n",
       "    }\n",
       "</style>\n",
       "<table border=\"1\" class=\"dataframe\">\n",
       "  <thead>\n",
       "    <tr style=\"text-align: right;\">\n",
       "      <th></th>\n",
       "      <th>year</th>\n",
       "      <th>month</th>\n",
       "      <th>product_name</th>\n",
       "      <th>region</th>\n",
       "      <th>sales</th>\n",
       "    </tr>\n",
       "  </thead>\n",
       "  <tbody>\n",
       "    <tr>\n",
       "      <th>0</th>\n",
       "      <td>2022</td>\n",
       "      <td>Jan</td>\n",
       "      <td>Widget A</td>\n",
       "      <td>North</td>\n",
       "      <td>120</td>\n",
       "    </tr>\n",
       "    <tr>\n",
       "      <th>1</th>\n",
       "      <td>2022</td>\n",
       "      <td>Feb</td>\n",
       "      <td>Widget A</td>\n",
       "      <td>North</td>\n",
       "      <td>150</td>\n",
       "    </tr>\n",
       "    <tr>\n",
       "      <th>2</th>\n",
       "      <td>2022</td>\n",
       "      <td>Jan</td>\n",
       "      <td>Widget B</td>\n",
       "      <td>South</td>\n",
       "      <td>200</td>\n",
       "    </tr>\n",
       "    <tr>\n",
       "      <th>3</th>\n",
       "      <td>2022</td>\n",
       "      <td>Feb</td>\n",
       "      <td>Widget B</td>\n",
       "      <td>South</td>\n",
       "      <td>220</td>\n",
       "    </tr>\n",
       "    <tr>\n",
       "      <th>4</th>\n",
       "      <td>2023</td>\n",
       "      <td>Jan</td>\n",
       "      <td>Widget A</td>\n",
       "      <td>North</td>\n",
       "      <td>130</td>\n",
       "    </tr>\n",
       "    <tr>\n",
       "      <th>5</th>\n",
       "      <td>2023</td>\n",
       "      <td>Feb</td>\n",
       "      <td>Widget A</td>\n",
       "      <td>North</td>\n",
       "      <td>160</td>\n",
       "    </tr>\n",
       "    <tr>\n",
       "      <th>6</th>\n",
       "      <td>2023</td>\n",
       "      <td>Jan</td>\n",
       "      <td>Widget B</td>\n",
       "      <td>South</td>\n",
       "      <td>210</td>\n",
       "    </tr>\n",
       "    <tr>\n",
       "      <th>7</th>\n",
       "      <td>2023</td>\n",
       "      <td>Feb</td>\n",
       "      <td>Widget B</td>\n",
       "      <td>South</td>\n",
       "      <td>230</td>\n",
       "    </tr>\n",
       "  </tbody>\n",
       "</table>\n",
       "</div>"
      ],
      "text/plain": [
       "   year month product_name region  sales\n",
       "0  2022   Jan     Widget A  North    120\n",
       "1  2022   Feb     Widget A  North    150\n",
       "2  2022   Jan     Widget B  South    200\n",
       "3  2022   Feb     Widget B  South    220\n",
       "4  2023   Jan     Widget A  North    130\n",
       "5  2023   Feb     Widget A  North    160\n",
       "6  2023   Jan     Widget B  South    210\n",
       "7  2023   Feb     Widget B  South    230"
      ]
     },
     "execution_count": 41,
     "metadata": {},
     "output_type": "execute_result"
    }
   ],
   "source": [
    "# Let use the following commannds to generate the Dataframe\n",
    "\n",
    "import pandas as pd\n",
    "\n",
    "# Create the sample DataFrame\n",
    "data = {\n",
    "    'year': [2022, 2022, 2022, 2022, 2023, 2023, 2023, 2023],\n",
    "    'month': ['Jan', 'Feb', 'Jan', 'Feb', 'Jan', 'Feb', 'Jan', 'Feb'],\n",
    "    'product_name': ['Widget A', 'Widget A', 'Widget B', 'Widget B', 'Widget A', 'Widget A', 'Widget B', 'Widget B'],\n",
    "    'region': ['North', 'North', 'South', 'South', 'North', 'North', 'South', 'South'],\n",
    "    'sales': [120, 150, 200, 220, 130, 160, 210, 230]\n",
    "}\n",
    "\n",
    "# Create DataFrame\n",
    "sales_df = pd.DataFrame(data)\n",
    "sales_df"
   ]
  },
  {
   "cell_type": "code",
   "execution_count": 16,
   "id": "33524d6b-e396-4967-9e29-616a01553707",
   "metadata": {},
   "outputs": [],
   "source": [
    "# Question 13 - Type your answers here\n",
    "\n",
    "# Use pivot_table to find total sales per product and region by year\n",
    "\n",
    "\n",
    "# Display the resulting DataFrame\n"
   ]
  },
  {
   "cell_type": "markdown",
   "id": "a3147f3b-8afe-4b13-b267-0176f3a23a25",
   "metadata": {},
   "source": [
    "### **Q14 - E-commerce Order Analysis Using Pandas**"
   ]
  },
  {
   "cell_type": "markdown",
   "id": "72067f6e-6b5d-4982-bddd-1edb59a27779",
   "metadata": {},
   "source": [
    "The dataset ecommerce_orders.csv contains daily transaction data for an e-commerce company over a month. Each record includes details of a single transaction. Your task is to analyze the data to help the company understand order patterns, popular products, and revenue trends.\n",
    "\n",
    "Dataset file: ecommerce_orders.csv\n",
    "\n",
    "**Dataset Structure:**\n",
    "\n",
    "- Order_ID: Unique identifier for each order.\n",
    "- Date: Date of the transaction.\n",
    "- Product: Product name.\n",
    "- Category: Category to which the product belongs.\n",
    "- Quantity: Number of units ordered.\n",
    "- Unit_Price: Price per unit of the product."
   ]
  },
  {
   "cell_type": "markdown",
   "id": "c3829032-b0d1-42fa-94ad-d75e116a3aa8",
   "metadata": {},
   "source": [
    "**(a) Load the dataset and display the first five rows. Display the total number of orders, unique products, and categories in the dataset.**"
   ]
  },
  {
   "cell_type": "code",
   "execution_count": 43,
   "id": "1cbe8714-5da6-4b85-8346-915b84c3eea8",
   "metadata": {},
   "outputs": [
    {
     "data": {
      "text/html": [
       "<div>\n",
       "<style scoped>\n",
       "    .dataframe tbody tr th:only-of-type {\n",
       "        vertical-align: middle;\n",
       "    }\n",
       "\n",
       "    .dataframe tbody tr th {\n",
       "        vertical-align: top;\n",
       "    }\n",
       "\n",
       "    .dataframe thead th {\n",
       "        text-align: right;\n",
       "    }\n",
       "</style>\n",
       "<table border=\"1\" class=\"dataframe\">\n",
       "  <thead>\n",
       "    <tr style=\"text-align: right;\">\n",
       "      <th></th>\n",
       "      <th>Order_ID</th>\n",
       "      <th>Date</th>\n",
       "      <th>Product</th>\n",
       "      <th>Category</th>\n",
       "      <th>Quantity</th>\n",
       "      <th>Unit_Price</th>\n",
       "    </tr>\n",
       "  </thead>\n",
       "  <tbody>\n",
       "    <tr>\n",
       "      <th>0</th>\n",
       "      <td>31</td>\n",
       "      <td>2023-06-01</td>\n",
       "      <td>Monitor</td>\n",
       "      <td>Electronics</td>\n",
       "      <td>4</td>\n",
       "      <td>459.46</td>\n",
       "    </tr>\n",
       "    <tr>\n",
       "      <th>1</th>\n",
       "      <td>100</td>\n",
       "      <td>2023-06-02</td>\n",
       "      <td>Keyboard</td>\n",
       "      <td>Electronics</td>\n",
       "      <td>1</td>\n",
       "      <td>888.88</td>\n",
       "    </tr>\n",
       "    <tr>\n",
       "      <th>2</th>\n",
       "      <td>28</td>\n",
       "      <td>2023-06-02</td>\n",
       "      <td>Laptop</td>\n",
       "      <td>Electronics</td>\n",
       "      <td>1</td>\n",
       "      <td>298.24</td>\n",
       "    </tr>\n",
       "    <tr>\n",
       "      <th>3</th>\n",
       "      <td>89</td>\n",
       "      <td>2023-06-02</td>\n",
       "      <td>Blender</td>\n",
       "      <td>Appliances</td>\n",
       "      <td>3</td>\n",
       "      <td>310.58</td>\n",
       "    </tr>\n",
       "    <tr>\n",
       "      <th>4</th>\n",
       "      <td>23</td>\n",
       "      <td>2023-06-02</td>\n",
       "      <td>Laptop</td>\n",
       "      <td>Electronics</td>\n",
       "      <td>2</td>\n",
       "      <td>675.61</td>\n",
       "    </tr>\n",
       "  </tbody>\n",
       "</table>\n",
       "</div>"
      ],
      "text/plain": [
       "   Order_ID        Date   Product     Category  Quantity  Unit_Price\n",
       "0        31  2023-06-01   Monitor  Electronics         4      459.46\n",
       "1       100  2023-06-02  Keyboard  Electronics         1      888.88\n",
       "2        28  2023-06-02    Laptop  Electronics         1      298.24\n",
       "3        89  2023-06-02   Blender   Appliances         3      310.58\n",
       "4        23  2023-06-02    Laptop  Electronics         2      675.61"
      ]
     },
     "execution_count": 43,
     "metadata": {},
     "output_type": "execute_result"
    }
   ],
   "source": [
    "# Question 14(a) - Type your answers here\n",
    "ecommerce=pd.read_csv('ecommerce_orders.csv')\n",
    "# Load the data\n",
    "ecommerce.head()"
   ]
  },
  {
   "cell_type": "code",
   "execution_count": 57,
   "id": "448fd72e-063b-4ec6-8196-90b7266a484e",
   "metadata": {},
   "outputs": [
    {
     "name": "stdout",
     "output_type": "stream",
     "text": [
      "\n",
      "total orders: 100,\n",
      "unique products: ['Monitor' 'Keyboard' 'Laptop' 'Blender' 'Headphones' 'Smartphone'\n",
      " 'Coffee Maker' 'Air Fryer'],\n",
      "category: ['Electronics' 'Appliances']\n",
      "\n"
     ]
    }
   ],
   "source": [
    "# Question 14(a) - Type your answers here\n",
    "\n",
    "# Display total number of orders, unique products, and categories\n",
    "total_orders=ecommerce['Order_ID'].count()\n",
    "unique_products=ecommerce['Product'].unique()\n",
    "category=ecommerce['Category'].unique()\n",
    "print(f'''\n",
    "total orders: {total_orders},\n",
    "unique products: {unique_products},\n",
    "category: {category}\n",
    "''')"
   ]
  },
  {
   "cell_type": "markdown",
   "id": "8ac493f9-1292-4635-8428-b290d9f67b85",
   "metadata": {},
   "source": [
    "**(b) Create a new column, \"Total_Revenue\", which is calculated as Quantity * Unit_Price. Display the first five rows of the modified DataFrame.**"
   ]
  },
  {
   "cell_type": "code",
   "execution_count": 52,
   "id": "8905a1f2-64ae-4f4c-b61c-06a6547d112d",
   "metadata": {},
   "outputs": [
    {
     "data": {
      "text/html": [
       "<div>\n",
       "<style scoped>\n",
       "    .dataframe tbody tr th:only-of-type {\n",
       "        vertical-align: middle;\n",
       "    }\n",
       "\n",
       "    .dataframe tbody tr th {\n",
       "        vertical-align: top;\n",
       "    }\n",
       "\n",
       "    .dataframe thead th {\n",
       "        text-align: right;\n",
       "    }\n",
       "</style>\n",
       "<table border=\"1\" class=\"dataframe\">\n",
       "  <thead>\n",
       "    <tr style=\"text-align: right;\">\n",
       "      <th></th>\n",
       "      <th>Order_ID</th>\n",
       "      <th>Date</th>\n",
       "      <th>Product</th>\n",
       "      <th>Category</th>\n",
       "      <th>Quantity</th>\n",
       "      <th>Unit_Price</th>\n",
       "      <th>Total Revenue</th>\n",
       "    </tr>\n",
       "  </thead>\n",
       "  <tbody>\n",
       "    <tr>\n",
       "      <th>0</th>\n",
       "      <td>31</td>\n",
       "      <td>2023-06-01</td>\n",
       "      <td>Monitor</td>\n",
       "      <td>Electronics</td>\n",
       "      <td>4</td>\n",
       "      <td>459.46</td>\n",
       "      <td>1837.84</td>\n",
       "    </tr>\n",
       "    <tr>\n",
       "      <th>1</th>\n",
       "      <td>100</td>\n",
       "      <td>2023-06-02</td>\n",
       "      <td>Keyboard</td>\n",
       "      <td>Electronics</td>\n",
       "      <td>1</td>\n",
       "      <td>888.88</td>\n",
       "      <td>888.88</td>\n",
       "    </tr>\n",
       "    <tr>\n",
       "      <th>2</th>\n",
       "      <td>28</td>\n",
       "      <td>2023-06-02</td>\n",
       "      <td>Laptop</td>\n",
       "      <td>Electronics</td>\n",
       "      <td>1</td>\n",
       "      <td>298.24</td>\n",
       "      <td>298.24</td>\n",
       "    </tr>\n",
       "    <tr>\n",
       "      <th>3</th>\n",
       "      <td>89</td>\n",
       "      <td>2023-06-02</td>\n",
       "      <td>Blender</td>\n",
       "      <td>Appliances</td>\n",
       "      <td>3</td>\n",
       "      <td>310.58</td>\n",
       "      <td>931.74</td>\n",
       "    </tr>\n",
       "    <tr>\n",
       "      <th>4</th>\n",
       "      <td>23</td>\n",
       "      <td>2023-06-02</td>\n",
       "      <td>Laptop</td>\n",
       "      <td>Electronics</td>\n",
       "      <td>2</td>\n",
       "      <td>675.61</td>\n",
       "      <td>1351.22</td>\n",
       "    </tr>\n",
       "  </tbody>\n",
       "</table>\n",
       "</div>"
      ],
      "text/plain": [
       "   Order_ID        Date   Product     Category  Quantity  Unit_Price  \\\n",
       "0        31  2023-06-01   Monitor  Electronics         4      459.46   \n",
       "1       100  2023-06-02  Keyboard  Electronics         1      888.88   \n",
       "2        28  2023-06-02    Laptop  Electronics         1      298.24   \n",
       "3        89  2023-06-02   Blender   Appliances         3      310.58   \n",
       "4        23  2023-06-02    Laptop  Electronics         2      675.61   \n",
       "\n",
       "   Total Revenue  \n",
       "0        1837.84  \n",
       "1         888.88  \n",
       "2         298.24  \n",
       "3         931.74  \n",
       "4        1351.22  "
      ]
     },
     "execution_count": 52,
     "metadata": {},
     "output_type": "execute_result"
    }
   ],
   "source": [
    "# Question 14(b) - Type your answers here\n",
    "\n",
    "# Create 'Total_Revenue' column\n",
    "ecommerce[\"Total Revenue\"]=ecommerce[\"Quantity\"]*ecommerce[\"Unit_Price\"]\n",
    "\n",
    "# Display the first five rows with the new column\n",
    "ecommerce.head()"
   ]
  },
  {
   "cell_type": "markdown",
   "id": "8c4b4ae6-7177-4d31-bfa5-213744bbfc7c",
   "metadata": {},
   "source": [
    "**(c) Find all orders where the \"Category\" is \"Electronics\" and the \"Total_Revenue\" is above $2000. Sort these results by \"Total_Revenue\" in descending order.**"
   ]
  },
  {
   "cell_type": "code",
   "execution_count": 20,
   "id": "b7428d2f-007b-4af5-8ea4-5564ac422eba",
   "metadata": {},
   "outputs": [],
   "source": [
    "# Question 14(c) - Type your answers here\n",
    "\n",
    "# Filter for Electronics category with Total_Revenue > $2000\n",
    "\n",
    "\n",
    "# Sort by 'Total_Revenue' in descending order\n"
   ]
  },
  {
   "cell_type": "markdown",
   "id": "db176b4f-d31d-427e-9ce6-0718ffa73889",
   "metadata": {},
   "source": [
    "**(d) Slice the DataFrame to select only the columns \"Date\", \"Product\", \"Quantity\", and \"Total_Revenue\" for the first 10 rows**"
   ]
  },
  {
   "cell_type": "code",
   "execution_count": 21,
   "id": "529ed6f9-71f5-477b-87d5-cae5613beac0",
   "metadata": {},
   "outputs": [],
   "source": [
    "# Question 14(d) - Type your answers here\n",
    "\n",
    "# Slice the DataFrame to select specific columns for the first 10 rows\n"
   ]
  },
  {
   "cell_type": "markdown",
   "id": "f8db2032-e510-4ed7-918b-551e798b2e5a",
   "metadata": {},
   "source": [
    "**(e) Using aggregation, calculate the total quantity sold for each product and display the top 5 products with the highest total quantity sold.**"
   ]
  },
  {
   "cell_type": "code",
   "execution_count": 22,
   "id": "e48c04ab-54e7-414f-9587-edc7984a3fc9",
   "metadata": {},
   "outputs": [],
   "source": [
    "# Question 14(e) - Type your answers here\n",
    "\n",
    "# Calculate total quantity sold for each product\n",
    "\n",
    "\n",
    "# Display the top 5 products by quantity sold\n"
   ]
  },
  {
   "cell_type": "markdown",
   "id": "8cdd0842-3da5-4f1b-b6e1-dc88ac396833",
   "metadata": {},
   "source": [
    "**(f) Aggregate the data to calculate the total revenue for each day. Display the results as a new DataFrame, with columns \"Date\" and \"Daily_Revenue\".**"
   ]
  },
  {
   "cell_type": "code",
   "execution_count": 24,
   "id": "9f80b479-1fc2-4568-882b-a27fa4f2cb3b",
   "metadata": {},
   "outputs": [],
   "source": [
    "# Question 14(f) - Type your answers here\n",
    "\n",
    "# Aggregate data to calculate total revenue for each day\n",
    "\n",
    "\n",
    "\n"
   ]
  },
  {
   "cell_type": "markdown",
   "id": "9033aa83-0297-4a5b-b1e9-774d61ddbdc3",
   "metadata": {},
   "source": [
    "**Note: This is a challenging question**\n",
    "\n",
    "**(g) Identify the product with the highest single transaction revenue (i.e., the highest \"Total_Revenue\" for any one order).**"
   ]
  },
  {
   "cell_type": "code",
   "execution_count": 25,
   "id": "0de36630-175d-49c5-a2f1-5c32b3c8f3dd",
   "metadata": {},
   "outputs": [],
   "source": [
    "# Question 14(g) - Type your answers here\n",
    "\n",
    "# Find the maximum value in 'Total_Revenue' and the corresponding product\n",
    "\n"
   ]
  },
  {
   "cell_type": "markdown",
   "id": "281a8d9c-ab7f-42b4-ac88-3ee3b560a7e4",
   "metadata": {},
   "source": [
    "### **Note: This is a Challenging Question**\n",
    "\n",
    "### **Q15 - Retail Sales Analysis Using Pandas Time Series**\n",
    "\n",
    "### **Use dataset file - retail_sales_june_2023.csv**"
   ]
  },
  {
   "cell_type": "markdown",
   "id": "3b6c00c8-3202-486d-b285-ce746b0cf0bf",
   "metadata": {},
   "source": [
    "**(a) Load the dataset and set the \"Date\" column as the index of the DataFrame, ensuring that it is in datetime format.**"
   ]
  },
  {
   "cell_type": "code",
   "execution_count": 51,
   "id": "8c3a8f49",
   "metadata": {},
   "outputs": [
    {
     "data": {
      "text/html": [
       "<div>\n",
       "<style scoped>\n",
       "    .dataframe tbody tr th:only-of-type {\n",
       "        vertical-align: middle;\n",
       "    }\n",
       "\n",
       "    .dataframe tbody tr th {\n",
       "        vertical-align: top;\n",
       "    }\n",
       "\n",
       "    .dataframe thead th {\n",
       "        text-align: right;\n",
       "    }\n",
       "</style>\n",
       "<table border=\"1\" class=\"dataframe\">\n",
       "  <thead>\n",
       "    <tr style=\"text-align: right;\">\n",
       "      <th></th>\n",
       "      <th>Date</th>\n",
       "      <th>Sales</th>\n",
       "    </tr>\n",
       "  </thead>\n",
       "  <tbody>\n",
       "    <tr>\n",
       "      <th>0</th>\n",
       "      <td>2023-06-01</td>\n",
       "      <td>437</td>\n",
       "    </tr>\n",
       "    <tr>\n",
       "      <th>1</th>\n",
       "      <td>2023-06-02</td>\n",
       "      <td>635</td>\n",
       "    </tr>\n",
       "    <tr>\n",
       "      <th>2</th>\n",
       "      <td>2023-06-03</td>\n",
       "      <td>796</td>\n",
       "    </tr>\n",
       "    <tr>\n",
       "      <th>3</th>\n",
       "      <td>2023-06-04</td>\n",
       "      <td>472</td>\n",
       "    </tr>\n",
       "    <tr>\n",
       "      <th>4</th>\n",
       "      <td>2023-06-05</td>\n",
       "      <td>655</td>\n",
       "    </tr>\n",
       "  </tbody>\n",
       "</table>\n",
       "</div>"
      ],
      "text/plain": [
       "         Date  Sales\n",
       "0  2023-06-01    437\n",
       "1  2023-06-02    635\n",
       "2  2023-06-03    796\n",
       "3  2023-06-04    472\n",
       "4  2023-06-05    655"
      ]
     },
     "execution_count": 51,
     "metadata": {},
     "output_type": "execute_result"
    }
   ],
   "source": [
    "# Question 15(a) - Type your answers here\n",
    "\n",
    "# Load the data\n",
    "retail=pd.read_csv('retail_sales_june_2023.csv')\n",
    "retail.head()\n",
    "# Convert 'Date' to datetime and set as index\n",
    "pd.to_datetime(retail['Date'])\n",
    "retail.set_index(retail['Date'])\n",
    "retail.head()"
   ]
  },
  {
   "cell_type": "markdown",
   "id": "5c064c27-21c3-4ed4-91ea-6fabdfefb893",
   "metadata": {},
   "source": [
    "**(b) Calculate the total and average daily sales for June. Display the average rounded to one decimal place.**"
   ]
  },
  {
   "cell_type": "code",
   "execution_count": 26,
   "id": "ca320abd",
   "metadata": {},
   "outputs": [],
   "source": [
    "# Question 15(b) - Type your answers here\n",
    "\n",
    "# Calculate total and average daily sales for June\n"
   ]
  },
  {
   "cell_type": "markdown",
   "id": "dc9b520c-bab1-460b-bbd6-4b9fd5595105",
   "metadata": {},
   "source": [
    "**(c) Identify the day with the highest sales and the day with the lowest sales. Also, calculate the difference in sales units between these two days.**"
   ]
  },
  {
   "cell_type": "code",
   "execution_count": 28,
   "id": "72e11fcb",
   "metadata": {},
   "outputs": [],
   "source": [
    "# Question 15(c) - Type your answers here\n",
    "\n",
    "# Find the days with highest and lowest sales\n"
   ]
  },
  {
   "cell_type": "markdown",
   "id": "232a4627-433b-4d29-9ee6-5ffd81130384",
   "metadata": {},
   "source": [
    "**(d) Compute a 7-day moving average for daily sales and add it as a new column, \"7_day_MA\"**"
   ]
  },
  {
   "cell_type": "code",
   "execution_count": 29,
   "id": "ecca82f7-5211-4bfb-8b9a-6228abfb7dd3",
   "metadata": {},
   "outputs": [],
   "source": [
    "# Question 15(d) - Type your answers here\n",
    "\n",
    "# Calculate 7-day moving average and add as a new column\n"
   ]
  },
  {
   "cell_type": "markdown",
   "id": "8e7151d6-dfe9-4883-a03b-24f788a8677a",
   "metadata": {},
   "source": [
    "**(e) Resample the data on a weekly basis, calculating the total sales for each week. Display the results in a table format**"
   ]
  },
  {
   "cell_type": "code",
   "execution_count": null,
   "id": "f9edb6e5-4e8c-4d01-95ee-f0b8b97f16f1",
   "metadata": {},
   "outputs": [],
   "source": [
    "# Question 15(e) - Type your answers here\n",
    "\n",
    "# Resample data weekly to get total sales for each week\n",
    "\n",
    "\n",
    "# Display the weekly totals in a table format\n",
    "\n"
   ]
  },
  {
   "cell_type": "markdown",
   "id": "3f9fd8aa-f139-4277-a5b4-96e926b03fd6",
   "metadata": {},
   "source": [
    "**(f) Identify any days where sales dropped by 20% or more compared to the previous day and list the dates and sales values for these occurrences**"
   ]
  },
  {
   "cell_type": "code",
   "execution_count": 31,
   "id": "34273cee-71a1-4127-995c-f701bddfd1ac",
   "metadata": {},
   "outputs": [],
   "source": [
    "# Question 15(f) - Type your answers here\n",
    "\n",
    "# Calculate the percentage change in sales from the previous day\n",
    "\n",
    "\n",
    "# Find days where sales dropped by 20% or more\n"
   ]
  }
 ],
 "metadata": {
  "kernelspec": {
   "display_name": "Python 3",
   "language": "python",
   "name": "python3"
  },
  "language_info": {
   "codemirror_mode": {
    "name": "ipython",
    "version": 3
   },
   "file_extension": ".py",
   "mimetype": "text/x-python",
   "name": "python",
   "nbconvert_exporter": "python",
   "pygments_lexer": "ipython3",
   "version": "3.11.7"
  }
 },
 "nbformat": 4,
 "nbformat_minor": 5
}

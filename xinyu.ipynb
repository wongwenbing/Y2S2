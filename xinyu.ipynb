{
 "cells": [
  {
   "cell_type": "code",
   "execution_count": 1,
   "metadata": {},
   "outputs": [],
   "source": [
    "import pandas as pd"
   ]
  },
  {
   "cell_type": "code",
   "execution_count": 3,
   "metadata": {},
   "outputs": [],
   "source": [
    "df = pd.read_excel('EzComs_CustomerEmployment.xlsx')"
   ]
  },
  {
   "cell_type": "code",
   "execution_count": 5,
   "metadata": {},
   "outputs": [],
   "source": [
    "a=df[\"JobTitle\"].unique()"
   ]
  },
  {
   "cell_type": "code",
   "execution_count": 6,
   "metadata": {},
   "outputs": [
    {
     "data": {
      "text/plain": [
       "array(['Data Analyst', 'Pilot', 'Web Designer', 'IT Consultant',\n",
       "       'Security Officer', 'Software Engineer', 'Legal Representative',\n",
       "       'Legal Consultant', 'President', 'Public Relations Officer',\n",
       "       'Clerk', 'Quality Assurance Manager', 'Operations Manager',\n",
       "       'Procurement Manager', 'Senior Technician', 'Admin Assistant',\n",
       "       'Manager', 'Technician', 'System Analyst', 'IT Specialist',\n",
       "       'Director', 'Director of Human Resource',\n",
       "       'Supply & Distribution Manager', 'Public Affairs Manager',\n",
       "       'Board of Chairman', 'Call Centre Manager',\n",
       "       'Chief Operations Manager', 'Investment Advisor', 'Medic',\n",
       "       'Economist', 'Cashier', 'Team Leader',\n",
       "       'Software Applicaions Manager', 'Financial Advisor',\n",
       "       'Public Relations Director', 'Systems Programmer', 'Editor',\n",
       "       'Technical Producer', 'Receptionist', 'Legal Advisor',\n",
       "       'IT Assistant', 'IT Support Specialist', 'Salesperson',\n",
       "       'Senior Data Analyst', 'Secretary', 'Social Welfare Officer',\n",
       "       'Database Administrator', 'Chairman', 'Driver',\n",
       "       'Marketing Manager', 'Senior Production Manager',\n",
       "       'Investment Strategist', 'Telecommunications Engineer',\n",
       "       'Supervisor', 'Quality Inspector', 'Head Cook',\n",
       "       'Public Relations Manager', 'Senior Database Administrator',\n",
       "       'Optician', 'Senior Clerk', 'Employment Officer',\n",
       "       'Applications Programmer', 'Production supervisor',\n",
       "       'Electrical Engineer', 'Physician', 'Human Resource Manager',\n",
       "       'Head Nurse', 'Public Relations', 'General Manager',\n",
       "       'Senior Engineer', 'Marketing Officer',\n",
       "       'Software & Applications Manager', 'Policy and Planning Manager',\n",
       "       'It Specialist', 'Market Research Analyst', 'Video Editor',\n",
       "       'Risk Manager', 'Senior Team Leader',\n",
       "       'Legal Associate Professional', 'Security Guard',\n",
       "       'Equipment Technician', 'Applications Specialist',\n",
       "       'Senior Marketing Manager', 'Senior Strategist', 'Legal Associate',\n",
       "       'Network Systems Administrator', 'Senior Web Developer',\n",
       "       'Sales Specialist', 'Brand Ambassador', 'Chief Analyst',\n",
       "       'Lohistics Manager', 'Production Supervisor',\n",
       "       'Mechanical Engineer', 'Logistics Manager', 'Product Specialist',\n",
       "       'Sales Manager', 'Project Manager', 'Engineering Assistant',\n",
       "       'Investment Consultant', 'Social Media Analyst', 'Web Developer',\n",
       "       'Forensic Specialist', 'Marine Engineer', 'System Programmer',\n",
       "       'Marketing Coordinator', 'Senior Finance Manager',\n",
       "       'Solutions Manager', 'Auxiliary Officer', 'Operations Executive',\n",
       "       'Advertising', 'Software Developer', 'IT Security Manager',\n",
       "       'Risk Analyst', 'Financial Manager', 'Senior Officer',\n",
       "       'Sales Executive', 'Equipment Inspector', 'Programme Manager',\n",
       "       'Education Specialist', 'Audit Assistant', 'Auditor',\n",
       "       'Warehouse Manager', 'Web Design & Analyst', 'Product Manager',\n",
       "       'Taxi Driver', 'Marine Consultant', 'Operations Director',\n",
       "       'Programmer', 'Risk Assessment Officer', 'System Security',\n",
       "       'Reporter', 'Cargo Operator', 'Quality Assurance Officer',\n",
       "       'IT Support Engineer', 'Dental Assistant', 'Doctor',\n",
       "       'Finance Manager', 'Property Agent', 'Investment Assistant',\n",
       "       'Assistant Manager', 'Senior IT Security Manager',\n",
       "       'Infrastructure Architect', 'Pharmacist',\n",
       "       'Computer Systems Manager', 'Vice President', 'Finance Executive',\n",
       "       'Senior Production Supervisor', 'Systems Analyst',\n",
       "       'Senior Physician', 'Senior Designer', 'Customer Service Manager',\n",
       "       'Customer Service Officer', 'Customer Service',\n",
       "       'Infrastructure Architect & Engineer', 'Engineer',\n",
       "       'Director of Public Relations', 'Kitchen Crew', 'Cleaner',\n",
       "       'Management and Business Consultant', 'Protection Officer',\n",
       "       'Senior Lecturer', 'Branch Manager', 'Customer Service Executive',\n",
       "       'Customer Relations Officer', 'Tax Accountant',\n",
       "       'Logistics Officer', 'Senior Manager', 'Clinical Research',\n",
       "       'Nurse', 'Investment Director', 'IT Support Technician',\n",
       "       'Head Surgeon', 'Director of Marketing & Sales',\n",
       "       'Marketing Executive', 'Senior Financial Advisor',\n",
       "       'Civil Engineering Technician', 'Wholesale Trade Manager',\n",
       "       'Storekeeper', 'Insurance Officer', 'Business Manager',\n",
       "       'Industrial Safety Engineer', 'Accountant', 'Flight Attendant',\n",
       "       'Project Leader', 'Cook', 'Manufacturing Engineer',\n",
       "       'Risk Assessment', 'Finance Director', 'Communications Officer',\n",
       "       'Administrative Officer', 'Hardware Engineer',\n",
       "       'Customer Relations Executive', 'Head of Logistics',\n",
       "       'Senior Technical Writer', 'Assistant General Manager',\n",
       "       'Chief Inspector', 'Funds Manager', 'Telesales Executive',\n",
       "       'Inventory Inspector', 'Research & Development', 'System Engineer',\n",
       "       'Senior Operations Manager', 'Systems Engineer',\n",
       "       'Financial Analsy', 'Production & Industrial Engineer', 'Surgeon',\n",
       "       'Materials Engineer', 'Executive Manager', 'Deputy Director',\n",
       "       'Social Media Specialist', 'Civil Engineer',\n",
       "       'Senior IT Specialist', 'Technical Writer', 'Bartender',\n",
       "       'Project Administrator', 'Medical Records Clerk',\n",
       "       'Biomedical Engineer', 'Assistant Designer', 'Marketing Director',\n",
       "       'Physical Therapist', 'Chief Executive Officer',\n",
       "       'Securities Manager', 'Service Crew', 'Policy & Planning Manager',\n",
       "       'Digital Artist', 'Senior Economist', 'Network Engineer',\n",
       "       'Web Development & Analyst', 'Deputy General Manager',\n",
       "       'Operations Officer', 'Chemical Engineering Technician',\n",
       "       'Director of Funds Management', 'Social Media Manager',\n",
       "       'Senior IT Analyst', 'Network Systems Engineer',\n",
       "       'Senior Quality Assurance Manager', 'Trade Broker', 'BodyGuard',\n",
       "       'Designer', 'Banker', 'IT Project Manager', 'Board of Directors',\n",
       "       'Senior Vice President', 'Land Resource Analyst',\n",
       "       'Administrative Manager', 'Senior Doctor',\n",
       "       'Marketing & Sales Representative',\n",
       "       'Marketing Research Specialist', 'Senior Specialist',\n",
       "       'Electrical Specialist', 'Lecturer', 'Executive Assistant',\n",
       "       'Sales & Marketing Manager', 'IT Spacialist', 'Production Manager',\n",
       "       'Chief Auditor', 'Hardware Design Manager', 'Private Driver',\n",
       "       'Marketing Communications Director',\n",
       "       'Information Technology Project Manager', 'Senior Nurse',\n",
       "       'Quality Assurance Specialist', 'Network & Communications Manager',\n",
       "       'IT Analyst', 'Head Chef', 'IT Executive', 'Technical Officer',\n",
       "       'Social Media AnalyticsMusician', 'Application Tester',\n",
       "       'Senior Quality Inspector', 'Head of Safety Team',\n",
       "       'Career Development Officer', 'Chief Data Analyst',\n",
       "       'Legal Officer', 'Software Development Engineer',\n",
       "       'Senior Legal Advisor', 'Electronics Engineer',\n",
       "       'Insurance Services Manager',\n",
       "       'Senior Corporate Communication Executive',\n",
       "       'Chief Forensic Specialist', 'Quantity Surveyor',\n",
       "       'Director of Strategic Communication', 'Chief Executive',\n",
       "       'Senior Business Manager', 'Policy Manager',\n",
       "       'Research & Development Team', 'Director of sales & Marketing',\n",
       "       'Network Manager', 'Branding Manager', 'Producer',\n",
       "       'Retail Manager', 'Senior Service Engineer', 'Musician, Composer',\n",
       "       'Senior Risk Manager', 'Financial Accounting Manager',\n",
       "       'Chief executive officer', 'Interior Designer',\n",
       "       'Director of Business Development', 'Senior Software Engineer',\n",
       "       'Systems analyst', 'Insurance Service Manager', 'General manager',\n",
       "       'Applications programmer', 'Security Manager',\n",
       "       'Technical Services', 'Systems programmer',\n",
       "       'Health Services Manager', 'Crane Operator',\n",
       "       'Senior Software Manager', 'Senior Superintendent',\n",
       "       'Deputy Chairman', 'Lawyer', 'Administration manager',\n",
       "       'Company Director', 'Creative Director',\n",
       "       'Chief Executive Officer of Communications', 'Senior Director',\n",
       "       'Deputy Director of Marketing', 'Senior General Manager',\n",
       "       'Recruitment Consultant', 'HR Assistant Manager',\n",
       "       'Manager / Senior Executive (Inventory Management)',\n",
       "       'Sales executive', 'HR cum  Admin Manager',\n",
       "       'Assistant HR Operations Manager', 'Sales Crew'], dtype=object)"
      ]
     },
     "execution_count": 6,
     "metadata": {},
     "output_type": "execute_result"
    }
   ],
   "source": [
    "a"
   ]
  },
  {
   "cell_type": "code",
   "execution_count": 7,
   "metadata": {},
   "outputs": [
    {
     "data": {
      "text/plain": [
       "(326,)"
      ]
     },
     "execution_count": 7,
     "metadata": {},
     "output_type": "execute_result"
    }
   ],
   "source": [
    "a.shape"
   ]
  },
  {
   "cell_type": "code",
   "execution_count": null,
   "metadata": {},
   "outputs": [],
   "source": []
  }
 ],
 "metadata": {
  "kernelspec": {
   "display_name": "base",
   "language": "python",
   "name": "python3"
  },
  "language_info": {
   "codemirror_mode": {
    "name": "ipython",
    "version": 3
   },
   "file_extension": ".py",
   "mimetype": "text/x-python",
   "name": "python",
   "nbconvert_exporter": "python",
   "pygments_lexer": "ipython3",
   "version": "3.11.0"
  },
  "orig_nbformat": 4
 },
 "nbformat": 4,
 "nbformat_minor": 2
}

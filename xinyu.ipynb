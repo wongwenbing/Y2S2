{
 "cells": [
  {
   "cell_type": "code",
   "execution_count": 33,
   "metadata": {},
   "outputs": [],
   "source": [
    "import pandas as pd"
   ]
  },
  {
   "cell_type": "code",
   "execution_count": null,
   "metadata": {},
   "outputs": [
    {
     "name": "stdout",
     "output_type": "stream",
     "text": [
      "Defaulting to user installation because normal site-packages is not writeable\n",
      "Requirement already satisfied: geopy in c:\\users\\wongw\\appdata\\roaming\\python\\python311\\site-packages (2.4.1)\n",
      "Requirement already satisfied: geographiclib<3,>=1.52 in c:\\users\\wongw\\appdata\\roaming\\python\\python311\\site-packages (from geopy) (2.0)\n",
      "Note: you may need to restart the kernel to use updated packages.\n"
     ]
    },
    {
     "name": "stderr",
     "output_type": "stream",
     "text": [
      "\n",
      "[notice] A new release of pip is available: 24.0 -> 24.3.1\n",
      "[notice] To update, run: python.exe -m pip install --upgrade pip\n"
     ]
    }
   ],
   "source": [
    "pip install geopy"
   ]
  },
  {
   "cell_type": "code",
   "execution_count": 35,
   "metadata": {},
   "outputs": [],
   "source": [
    "df = pd.read_excel('EzComs_CustomerMaster.xlsx')"
   ]
  },
  {
   "cell_type": "code",
   "execution_count": 36,
   "metadata": {},
   "outputs": [
    {
     "name": "stdout",
     "output_type": "stream",
     "text": [
      "<class 'pandas.core.frame.DataFrame'>\n",
      "RangeIndex: 8006 entries, 0 to 8005\n",
      "Data columns (total 19 columns):\n",
      " #   Column               Non-Null Count  Dtype         \n",
      "---  ------               --------------  -----         \n",
      " 0   ID                   8006 non-null   int64         \n",
      " 1   CustomerID           8006 non-null   int64         \n",
      " 2   Nationality          8006 non-null   object        \n",
      " 3   SASNationality       8006 non-null   object        \n",
      " 4   Name                 8006 non-null   object        \n",
      " 5   FamilyName           8006 non-null   object        \n",
      " 6   EducationLevel       8006 non-null   object        \n",
      " 7   Gender               8006 non-null   object        \n",
      " 8   BirthDate            8006 non-null   datetime64[ns]\n",
      " 9   MaritalStatus        8006 non-null   object        \n",
      " 10  NoOfDependents       8006 non-null   int64         \n",
      " 11  MobileContact        8006 non-null   int64         \n",
      " 12  HomeContact          8006 non-null   int64         \n",
      " 13  EmailAddress         8006 non-null   object        \n",
      " 14  ResidentialType      8005 non-null   object        \n",
      " 15  ResidentialAddress1  8006 non-null   object        \n",
      " 16  ResidentialAddress2  7623 non-null   object        \n",
      " 17  PostalCode           8006 non-null   int64         \n",
      " 18  CarOwner             8006 non-null   object        \n",
      "dtypes: datetime64[ns](1), int64(6), object(12)\n",
      "memory usage: 1.2+ MB\n"
     ]
    }
   ],
   "source": [
    "df.info()"
   ]
  },
  {
   "cell_type": "code",
   "execution_count": 37,
   "metadata": {},
   "outputs": [],
   "source": [
    "from geopy.geocoders import Nominatim\n",
    "\n",
    "geolocator = Nominatim(user_agent=\"Geopy Library\")"
   ]
  },
  {
   "cell_type": "code",
   "execution_count": 38,
   "metadata": {},
   "outputs": [],
   "source": [
    "# df[['location_lat', 'location_long']] = df['ResidentialAddress1'][1].apply(\n",
    "#     geolocator.geocode).apply(lambda x: pd.Series(\n",
    "#         [x.latitude, x.longitude], index=['location_lat', 'location_long']))"
   ]
  },
  {
   "cell_type": "code",
   "execution_count": 40,
   "metadata": {},
   "outputs": [
    {
     "name": "stdout",
     "output_type": "stream",
     "text": [
      "0                  90 Pipit Road\n",
      "1               Blk 13 Haig Road\n",
      "2          425 Pasir Ris Drive 6\n",
      "3           161A Punggol Central\n",
      "4               860 Yishun Ave 4\n",
      "                  ...           \n",
      "8001          170 Boon Lay Drive\n",
      "8002     105 Ang Mo Kio Avenue 4\n",
      "8003         427 East Coast Road\n",
      "8004    253 Ang Mo Kio Street 21\n",
      "8005        656 Hougang Avenue 8\n",
      "Name: ResidentialAddress1, Length: 8006, dtype: object\n"
     ]
    },
    {
     "ename": "AttributeError",
     "evalue": "'NoneType' object has no attribute 'latitude'",
     "output_type": "error",
     "traceback": [
      "\u001b[1;31m---------------------------------------------------------------------------\u001b[0m",
      "\u001b[1;31mAttributeError\u001b[0m                            Traceback (most recent call last)",
      "Cell \u001b[1;32mIn[40], line 4\u001b[0m\n\u001b[0;32m      2\u001b[0m \u001b[38;5;28mprint\u001b[39m(address)\n\u001b[0;32m      3\u001b[0m location \u001b[38;5;241m=\u001b[39m geolocator\u001b[38;5;241m.\u001b[39mgeocode(\u001b[38;5;124m\"\u001b[39m\u001b[38;5;124mBlk 13 Haig Road Singapore\u001b[39m\u001b[38;5;124m\"\u001b[39m)\n\u001b[1;32m----> 4\u001b[0m lat, lon \u001b[38;5;241m=\u001b[39m \u001b[43mlocation\u001b[49m\u001b[38;5;241;43m.\u001b[39;49m\u001b[43mlatitude\u001b[49m, location\u001b[38;5;241m.\u001b[39mlongitude\n",
      "\u001b[1;31mAttributeError\u001b[0m: 'NoneType' object has no attribute 'latitude'"
     ]
    }
   ],
   "source": [
    "address=df['ResidentialAddress1']\n",
    "print(address)\n",
    "location = geolocator.geocode(\"Blk 13 Haig Road Singapore\")\n",
    "lat, lon = location.latitude, location.longitude"
   ]
  },
  {
   "cell_type": "code",
   "execution_count": null,
   "metadata": {},
   "outputs": [
    {
     "data": {
      "text/plain": [
       "(326,)"
      ]
     },
     "execution_count": 7,
     "metadata": {},
     "output_type": "execute_result"
    }
   ],
   "source": [
    "a.shape"
   ]
  },
  {
   "cell_type": "code",
   "execution_count": null,
   "metadata": {},
   "outputs": [
    {
     "data": {
      "text/html": [
       "<div>\n",
       "<style scoped>\n",
       "    .dataframe tbody tr th:only-of-type {\n",
       "        vertical-align: middle;\n",
       "    }\n",
       "\n",
       "    .dataframe tbody tr th {\n",
       "        vertical-align: top;\n",
       "    }\n",
       "\n",
       "    .dataframe thead th {\n",
       "        text-align: right;\n",
       "    }\n",
       "</style>\n",
       "<table border=\"1\" class=\"dataframe\">\n",
       "  <thead>\n",
       "    <tr style=\"text-align: right;\">\n",
       "      <th></th>\n",
       "      <th>ResidentialAddress1</th>\n",
       "    </tr>\n",
       "  </thead>\n",
       "  <tbody>\n",
       "    <tr>\n",
       "      <th>0</th>\n",
       "      <td>90 Pipit Road</td>\n",
       "    </tr>\n",
       "    <tr>\n",
       "      <th>1</th>\n",
       "      <td>Blk 13 Haig Road</td>\n",
       "    </tr>\n",
       "    <tr>\n",
       "      <th>2</th>\n",
       "      <td>425 Pasir Ris Drive 6</td>\n",
       "    </tr>\n",
       "    <tr>\n",
       "      <th>3</th>\n",
       "      <td>161A Punggol Central</td>\n",
       "    </tr>\n",
       "    <tr>\n",
       "      <th>4</th>\n",
       "      <td>860 Yishun Ave 4</td>\n",
       "    </tr>\n",
       "    <tr>\n",
       "      <th>...</th>\n",
       "      <td>...</td>\n",
       "    </tr>\n",
       "    <tr>\n",
       "      <th>8001</th>\n",
       "      <td>170 Boon Lay Drive</td>\n",
       "    </tr>\n",
       "    <tr>\n",
       "      <th>8002</th>\n",
       "      <td>105 Ang Mo Kio Avenue 4</td>\n",
       "    </tr>\n",
       "    <tr>\n",
       "      <th>8003</th>\n",
       "      <td>427 East Coast Road</td>\n",
       "    </tr>\n",
       "    <tr>\n",
       "      <th>8004</th>\n",
       "      <td>253 Ang Mo Kio Street 21</td>\n",
       "    </tr>\n",
       "    <tr>\n",
       "      <th>8005</th>\n",
       "      <td>656 Hougang Avenue 8</td>\n",
       "    </tr>\n",
       "  </tbody>\n",
       "</table>\n",
       "<p>8006 rows × 1 columns</p>\n",
       "</div>"
      ],
      "text/plain": [
       "           ResidentialAddress1\n",
       "0                90 Pipit Road\n",
       "1             Blk 13 Haig Road\n",
       "2        425 Pasir Ris Drive 6\n",
       "3         161A Punggol Central\n",
       "4             860 Yishun Ave 4\n",
       "...                        ...\n",
       "8001        170 Boon Lay Drive\n",
       "8002   105 Ang Mo Kio Avenue 4\n",
       "8003       427 East Coast Road\n",
       "8004  253 Ang Mo Kio Street 21\n",
       "8005      656 Hougang Avenue 8\n",
       "\n",
       "[8006 rows x 1 columns]"
      ]
     },
     "execution_count": 23,
     "metadata": {},
     "output_type": "execute_result"
    }
   ],
   "source": [
    "df[['ResidentialAddress1']]"
   ]
  },
  {
   "cell_type": "code",
   "execution_count": null,
   "metadata": {},
   "outputs": [
    {
     "data": {
      "text/plain": [
       "0       None\n",
       "1       None\n",
       "2       None\n",
       "3       None\n",
       "4       None\n",
       "        ... \n",
       "8001    None\n",
       "8002    None\n",
       "8003    None\n",
       "8004    None\n",
       "8005    None\n",
       "Name: ResidentialAddress1, Length: 8006, dtype: object"
      ]
     },
     "execution_count": 32,
     "metadata": {},
     "output_type": "execute_result"
    }
   ],
   "source": [
    "import re\n",
    "def preprocess(address):\n",
    "    address=re.sub('\\d*\\w*', '', address)\n",
    "df['ResidentialAddress1']=df['ResidentialAddress1'].apply(preprocess)\n",
    "df['ResidentialAddress1']"
   ]
  },
  {
   "cell_type": "code",
   "execution_count": null,
   "metadata": {},
   "outputs": [],
   "source": []
  }
 ],
 "metadata": {
  "kernelspec": {
   "display_name": "Python 3",
   "language": "python",
   "name": "python3"
  },
  "language_info": {
   "codemirror_mode": {
    "name": "ipython",
    "version": 3
   },
   "file_extension": ".py",
   "mimetype": "text/x-python",
   "name": "python",
   "nbconvert_exporter": "python",
   "pygments_lexer": "ipython3",
   "version": "3.11.7"
  },
  "orig_nbformat": 4
 },
 "nbformat": 4,
 "nbformat_minor": 2
}
